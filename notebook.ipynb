{
 "cells": [
  {
   "cell_type": "code",
   "execution_count": 2,
   "metadata": {
    "cell_id": "00000-34540bc5-f5dc-47c1-bca7-9240c8967f07",
    "deepnote_cell_type": "code",
    "deepnote_to_be_reexecuted": false,
    "execution_millis": 357,
    "execution_start": 1618902836245,
    "output_cleared": false,
    "source_hash": "8ca6a091",
    "tags": []
   },
   "outputs": [],
   "source": [
    "import pandas as pd\n",
    "import numpy as np\n",
    "import matplotlib.pyplot as plt"
   ]
  },
  {
   "cell_type": "code",
   "execution_count": null,
   "metadata": {
    "cell_id": "00002-b7386dfb-3b53-4240-a336-1238e653725d",
    "deepnote_cell_type": "code",
    "deepnote_to_be_reexecuted": false,
    "execution_millis": 4332,
    "execution_start": 1618902836604,
    "output_cleared": false,
    "source_hash": "e02faa76",
    "tags": []
   },
   "outputs": [
    {
     "name": "stdout",
     "output_type": "stream",
     "text": [
      "Defaulting to user installation because normal site-packages is not writeable\n",
      "Collecting tensorflow\n",
      "  Downloading tensorflow-2.5.0-cp37-cp37m-manylinux2010_x86_64.whl (454.3 MB)\n",
      "\u001b[K     |▍                               | 5.7 MB 173 kB/s eta 0:43:07     |▏                               | 2.3 MB 41 kB/s eta 3:01:09"
     ]
    }
   ],
   "source": [
    "#installiamo tensorflow!\n",
    "!pip install tensorflow"
   ]
  },
  {
   "cell_type": "code",
   "execution_count": null,
   "metadata": {
    "cell_id": "00002-bd46b60e-40b5-44e4-a86c-4e72e8190189",
    "deepnote_cell_type": "code",
    "deepnote_to_be_reexecuted": false,
    "execution_millis": 2994,
    "execution_start": 1618902840942,
    "output_cleared": false,
    "source_hash": "7da596a2",
    "tags": []
   },
   "outputs": [],
   "source": [
    "#installo saeborn (può servire per grafici)\n",
    "!pip install seaborn"
   ]
  },
  {
   "cell_type": "code",
   "execution_count": null,
   "metadata": {
    "cell_id": "00003-038184e9-79d9-4a93-945c-0b7ac836dfac",
    "deepnote_cell_type": "code",
    "deepnote_to_be_reexecuted": false,
    "execution_millis": 5701,
    "execution_start": 1618902843940,
    "output_cleared": false,
    "source_hash": "18a3986d",
    "tags": []
   },
   "outputs": [],
   "source": [
    "#importo tensorflow (e seaborn) e check della version di tf\n",
    "import tensorflow as tf\n",
    "print(tf.__version__)\n",
    "import seaborn as sns"
   ]
  },
  {
   "cell_type": "code",
   "execution_count": null,
   "metadata": {
    "cell_id": "00004-496f306b-c1c8-400c-bd41-202cf3f56daa",
    "deepnote_cell_type": "code",
    "deepnote_to_be_reexecuted": false,
    "execution_millis": 244,
    "execution_start": 1618902849647,
    "output_cleared": false,
    "source_hash": "86ed261b",
    "tags": []
   },
   "outputs": [],
   "source": [
    "dataset=pd.read_csv(\"patient-20201204-172212.csv\")\n",
    "dataset\n"
   ]
  },
  {
   "cell_type": "code",
   "execution_count": null,
   "metadata": {
    "cell_id": "00005-91da4cc3-4532-48d9-924f-ef485181ed79",
    "deepnote_cell_type": "code",
    "deepnote_to_be_reexecuted": false,
    "execution_millis": 75,
    "execution_start": 1618902849885,
    "output_cleared": false,
    "source_hash": "283e2aef",
    "tags": []
   },
   "outputs": [],
   "source": [
    "#eliminiamo output != da 1 \n",
    "dt = dataset[dataset[\"outcome\"] == 1]\n",
    "dt[\"outcome\"].unique()\n",
    "dt"
   ]
  },
  {
   "cell_type": "code",
   "execution_count": null,
   "metadata": {
    "cell_id": "00006-d9fc955b-7009-4866-b9bc-a2828981c736",
    "deepnote_cell_type": "code",
    "deepnote_to_be_reexecuted": false,
    "execution_millis": 71,
    "execution_start": 1618902849953,
    "output_cleared": false,
    "source_hash": "b02f1685",
    "tags": []
   },
   "outputs": [],
   "source": [
    "#creato una nuova colonna dummy: morto =1 non morto=0\n",
    "dt[\"isdeath\"]=dt[\"death_date\"].map({'9999-99-99': 0})\n",
    "dt[\"isdeath\"] = dt[\"isdeath\"].replace(np.nan, 1)\n",
    "dt['isdeath'].dtype\n",
    "dt"
   ]
  },
  {
   "cell_type": "code",
   "execution_count": null,
   "metadata": {
    "cell_id": "00007-bf56c50e-9fa3-4851-94a4-708d60d0e946",
    "deepnote_cell_type": "code",
    "deepnote_to_be_reexecuted": false,
    "execution_millis": 17,
    "execution_start": 1618902850020,
    "output_cleared": false,
    "source_hash": "d94990a9",
    "tags": []
   },
   "outputs": [],
   "source": [
    "#lavoro con variabile intubated, trasformo i dati ed elimino i dati non  disponibili\n",
    "#frequency of variable.value_count 1 intubeted yes, 2 no\n",
    "dt['intubated'].value_counts()\n",
    "dt.loc[dt['intubated']>2,'intubated']=2 #tutti i numeri maggiori di 3 ora sono 2 quindi hannovalore no\n",
    "#cambio valpori dummy-- 0 non intubato, 1 intubato\n",
    "dt['intubated']=dt['intubated'].map({2: 0,1: 1})\n",
    "dt['intubated'].value_counts()"
   ]
  },
  {
   "cell_type": "code",
   "execution_count": null,
   "metadata": {
    "cell_id": "00008-90848d6d-96f4-43e3-95a2-1672569d1cd8",
    "deepnote_cell_type": "code",
    "deepnote_to_be_reexecuted": false,
    "execution_millis": 26,
    "execution_start": 1618902850039,
    "output_cleared": false,
    "source_hash": "760c825e",
    "tags": []
   },
   "outputs": [],
   "source": [
    "#lavoro con variabile copd, trasformo i dati ed elimino i dati non  disponibili\n",
    "#frequency of variable.value_count 1 yes copd problems, 2 no problems\n",
    "dt['copd'].value_counts()\n",
    "dt.loc[dt['copd']>2,'copd']=2 #tutti i numeri maggiori di 3 ora sono 2 quindi hannovalore no\n",
    "#cambio valpori dummy-- 0 non intubato, 1 intubato\n",
    "dt['copd']=dt['copd'].map({2: 0,1: 1})\n",
    "dt['copd'].value_counts()"
   ]
  },
  {
   "cell_type": "code",
   "execution_count": null,
   "metadata": {
    "cell_id": "00009-1fd0a883-0803-4d7a-bd9c-cea13271c5f0",
    "deepnote_cell_type": "code",
    "deepnote_to_be_reexecuted": false,
    "execution_millis": 55,
    "execution_start": 1618902850053,
    "output_cleared": false,
    "source_hash": "a19065dc",
    "tags": []
   },
   "outputs": [],
   "source": [
    "#lavoro con variabile diabetes. \n",
    "#Ci sono dei valori non disponibili, li trasformo in non diabetici\n",
    "#frequency of variable.value_count 1 diabeteici yes, 2 non diabetici\n",
    "dt['diabetes'].value_counts()\n",
    "dt.loc[dt['diabetes']>2,'diabetes']=2\n",
    "#trasformo i dati dei diabetici in variabile dummy 1=diabetico, 0 non diabetico\n",
    "dt['diabetes']= dt['diabetes'].map({2:0,1:1})\n",
    "dt['diabetes'].value_counts()"
   ]
  },
  {
   "cell_type": "code",
   "execution_count": null,
   "metadata": {
    "cell_id": "00011-cbcee0cd-4b70-44d7-9e96-903bdcb9bbe0",
    "deepnote_cell_type": "code",
    "deepnote_to_be_reexecuted": false,
    "execution_millis": 41,
    "execution_start": 1618902850068,
    "output_cleared": false,
    "source_hash": "f9382a91",
    "tags": []
   },
   "outputs": [],
   "source": [
    "#lavoro con variabile pnumonia e la rendo dummy.Prima 1 yes pneuomnia , 2 pneuomnia\n",
    "dt.loc[dt['pneumonia']>2,'pneumonia']=2\n",
    "#trasforma la variabile in modo che abbia valori 1 se c'è polmonite, 0 se non c'è\n",
    "dt['pneumonia']=dt['pneumonia'].map({2: 0,1: 1})\n",
    "dt['pneumonia'].value_counts()\n"
   ]
  },
  {
   "cell_type": "code",
   "execution_count": null,
   "metadata": {
    "cell_id": "00007-67237665-fb07-42fe-8d25-9d9fea171233",
    "deepnote_cell_type": "code",
    "deepnote_to_be_reexecuted": false,
    "execution_millis": 27,
    "execution_start": 1618902850082,
    "output_cleared": false,
    "source_hash": "9c953cce",
    "tags": []
   },
   "outputs": [],
   "source": [
    "#lavoro con variabile pnasthma: la rendo dummy ed modifico i dati not avialple\n",
    "#Prima 1 yes astmha , 2 non astmga\n",
    "dt.loc[dt['asthma']>2,'asthma']=2\n",
    "#trasforma la variabile in modo che abbia valori 1 se c'è asma, 0 se non c'è asma\n",
    "dt['asthma']=dt['asthma'].map({2: 0,1: 1})\n",
    "dt['asthma'].value_counts()\n"
   ]
  },
  {
   "cell_type": "code",
   "execution_count": null,
   "metadata": {
    "cell_id": "00007-4be98ee5-c34f-4d63-a102-77ba42a5c208",
    "deepnote_cell_type": "code",
    "deepnote_to_be_reexecuted": false,
    "execution_millis": 26,
    "execution_start": 1618902850088,
    "output_cleared": false,
    "source_hash": "afd10388",
    "tags": []
   },
   "outputs": [],
   "source": [
    "#lavoro con variabile obesity: la rendo dummy ed modifico i dati not avialple\n",
    "#Prima 1 yes obesity , 2 non obesity\n",
    "dt.loc[dt['obesity']>2,'obesity']=2\n",
    "#trasforma la variabile in modo che abbia valori 1 se c'è obesity, 0 se non c'è obesity\n",
    "dt['obesity']=dt['obesity'].map({2: 0,1: 1})\n",
    "dt['obesity'].value_counts()"
   ]
  },
  {
   "cell_type": "code",
   "execution_count": null,
   "metadata": {
    "cell_id": "00013-6a3e9235-18f7-4d7b-aada-206c594854cf",
    "deepnote_cell_type": "code",
    "deepnote_to_be_reexecuted": false,
    "execution_millis": 42,
    "execution_start": 1618902850101,
    "output_cleared": false,
    "source_hash": "e226d46e",
    "tags": []
   },
   "outputs": [],
   "source": [
    "#lavoro con variabile smoker: la rendo dummy ed modifico i dati not avialple\n",
    "#Prima 1 yes smoker , 2 non smoker\n",
    "dt.loc[dt['smoker']>2,'smoker']=2\n",
    "#trasforma la variabile in modo che abbia valori 1 se il paziene è smoker\n",
    "# 0 se non smoker \n",
    "dt['smoker']=dt['smoker'].map({2: 0,1: 1})"
   ]
  },
  {
   "cell_type": "code",
   "execution_count": null,
   "metadata": {
    "cell_id": "00014-e6b8cd6c-9a21-45a2-aecb-407e89cf9216",
    "deepnote_cell_type": "code",
    "deepnote_to_be_reexecuted": false,
    "execution_millis": 27,
    "execution_start": 1618902850116,
    "output_cleared": false,
    "source_hash": "55aa2fd8",
    "tags": []
   },
   "outputs": [],
   "source": [
    "#lavoro con variabile sex la rendo dummy(0,1) ed modifico i dati not avialple\n",
    "#Prima 1 donna, 2 man\n",
    "#rendo la variabile dummy 0 donna, 1 uomo\n",
    "dt['sex']=dt['sex'].map({2:1,1:0})"
   ]
  },
  {
   "cell_type": "code",
   "execution_count": null,
   "metadata": {
    "cell_id": "00014-efe72cd7-ffbd-41b0-b4fe-791b6c903593",
    "deepnote_cell_type": "code",
    "deepnote_to_be_reexecuted": false,
    "execution_millis": 27,
    "execution_start": 1618902850116,
    "output_cleared": false,
    "source_hash": "186c0e30",
    "tags": []
   },
   "outputs": [],
   "source": [
    "#lavoro con variabile immunosuppression: la rendo dummy ed modifico i dati not avialple\n",
    "#Prima 1 yes immunosuppression , 2 non immunosuppression\n",
    "dt['immunosuppression'].value_counts()\n",
    "dt.loc[dt['immunosuppression']>2, 'immunosuppression']=2\n",
    "#rendo la variabile dummy 0 non immunosuppression, 1 immunosuppression\n",
    "dt['immunosuppression']=dt['immunosuppression'].map({2:0,1:1})"
   ]
  },
  {
   "cell_type": "code",
   "execution_count": null,
   "metadata": {
    "cell_id": "00015-3aed7452-7dd1-43d3-bd83-edc823b9c7ba",
    "deepnote_cell_type": "code",
    "deepnote_to_be_reexecuted": false,
    "execution_millis": 19,
    "execution_start": 1618902850124,
    "output_cleared": false,
    "source_hash": "70d79e4e",
    "tags": []
   },
   "outputs": [],
   "source": [
    "#lavoro con variabile hypertension: la rendo dummy ed modifico i dati not avialple\n",
    "#Prima 1 yes hypertension , 2 non hypertension\n",
    "dt['hypertension'].value_counts()\n",
    "dt.loc[dt['hypertension']>2, 'hypertension']=2\n",
    "#rendo la variabile dummy 0 non immunosuppression, 1 immunosuppression\n",
    "dt['hypertension']=dt['hypertension'].map({2:0,1:1})"
   ]
  },
  {
   "cell_type": "code",
   "execution_count": null,
   "metadata": {
    "cell_id": "00017-9e559aa9-91a1-48d3-b79d-5c91d883bb0e",
    "deepnote_cell_type": "code",
    "deepnote_to_be_reexecuted": false,
    "execution_millis": 13,
    "execution_start": 1618902850130,
    "output_cleared": false,
    "source_hash": "1b6aca1e",
    "tags": []
   },
   "outputs": [],
   "source": [
    "#lavoro con variabile cardiovascular: la rendo dummy ed modifico i dati not avialple\n",
    "#Prima 1 yes cardiovascular , 2 non cardiovascular\n",
    "dt['cardiovascular'].value_counts()\n",
    "dt.loc[dt['cardiovascular']>2, 'cardiovascular']=2\n",
    "#rendo la variabile dummy 0 non cardiovascular, 1 cardiovascular\n",
    "dt['cardiovascular']=dt['cardiovascular'].map({2:0,1:1})"
   ]
  },
  {
   "cell_type": "code",
   "execution_count": null,
   "metadata": {
    "cell_id": "00018-3e513cd3-11b3-44d0-94f0-1f4634775a8e",
    "deepnote_cell_type": "code",
    "deepnote_to_be_reexecuted": false,
    "execution_millis": 10,
    "execution_start": 1618902850169,
    "output_cleared": false,
    "source_hash": "e6f61202",
    "tags": []
   },
   "outputs": [],
   "source": [
    "#lavoro con variabile icu (terapia intensiva): la rendo dummy ed modifico i dati not avialple\n",
    "#Prima 1 yes icu , 2 non icu\n",
    "dt['icu'].value_counts()\n",
    "dt.loc[dt['icu']>2, 'icu']=2\n",
    "#rendo la variabile dummy 0 non icu, 1 icu\n",
    "dt['icu']=dt['icu'].map({2:0,1:1})"
   ]
  },
  {
   "cell_type": "code",
   "execution_count": null,
   "metadata": {
    "cell_id": "00019-794fc481-1a10-4e62-ac54-be962cf296b6",
    "deepnote_cell_type": "code",
    "deepnote_to_be_reexecuted": false,
    "execution_millis": 8,
    "execution_start": 1618902850171,
    "output_cleared": false,
    "source_hash": "27b7c58e",
    "tags": []
   },
   "outputs": [],
   "source": [
    "#variabile chronic_kidney_failure: trasformo in dummy ed modifico i dati not available\n",
    "#Prima 1 = yes , 2 = no, 98/97 = not applicable\n",
    "dt['chronic_kidney_failure'].value_counts()\n",
    "dt.loc[dt['chronic_kidney_failure']>2, 'chronic_kidney_failure']=2\n",
    "#rendo la variabile dummy 0 = no, 1 = yes\n",
    "dt['chronic_kidney_failure']=dt['chronic_kidney_failure'].map({2:0,1:1})"
   ]
  },
  {
   "cell_type": "code",
   "execution_count": null,
   "metadata": {
    "cell_id": "00020-37da6d78-f810-48d0-b002-1e3582728a85",
    "deepnote_cell_type": "code",
    "deepnote_to_be_reexecuted": false,
    "execution_millis": 83,
    "execution_start": 1618902850172,
    "output_cleared": false,
    "source_hash": "18eca211",
    "tags": []
   },
   "outputs": [],
   "source": [
    "#resetto l'indice del dataframe in quanto abbiamo eliminato delle righe e l'indice non era aggioranto.\n",
    "#adesso l'indice è aggiornato e le righe sono ordinate\n",
    "dt.reset_index(drop=True)\n"
   ]
  },
  {
   "cell_type": "code",
   "execution_count": null,
   "metadata": {
    "cell_id": "00021-1333e93b-158f-4527-aa08-0e10e30f9f97",
    "deepnote_cell_type": "code",
    "deepnote_to_be_reexecuted": false,
    "execution_millis": 25,
    "execution_start": 1618902850303,
    "output_cleared": false,
    "source_hash": "6840498c",
    "tags": []
   },
   "outputs": [],
   "source": [
    "dt1=dt\n",
    "dt1=dt1.drop(\"pregnant\",axis=1)\n",
    "dt1=dt1.drop(\"outcome\",axis=1)\n",
    "dt1=dt1.drop(\"death_date\",axis=1)\n",
    "dt1=dt1.drop(\"patient_type\",axis=1)\n",
    "dt1=dt1.drop(\"other_diseases\",axis=1)\n",
    "dt1=dt1.drop(\"another_case\",axis=1)\n",
    "dt1"
   ]
  },
  {
   "cell_type": "code",
   "execution_count": null,
   "metadata": {
    "cell_id": "00022-b630f2d8-4586-47e3-b8a2-25a1f7da58c8",
    "deepnote_cell_type": "code",
    "deepnote_to_be_reexecuted": false,
    "execution_millis": 0,
    "execution_start": 1618902850363,
    "output_cleared": false,
    "source_hash": "b623e53d",
    "tags": []
   },
   "outputs": [],
   "source": []
  },
  {
   "cell_type": "code",
   "execution_count": null,
   "metadata": {
    "cell_id": "00007-5ae5f0d6-e5e7-425e-8656-c2ad8b6d5825",
    "deepnote_cell_type": "code",
    "deepnote_to_be_reexecuted": false,
    "execution_millis": 302,
    "execution_start": 1618902850364,
    "output_cleared": false,
    "source_hash": "a43ae4d5",
    "tags": []
   },
   "outputs": [],
   "source": [
    "fig=sns.catplot(x=\"isdeath\", hue=\"isdeath\", kind=\"count\", data=dt)"
   ]
  },
  {
   "cell_type": "code",
   "execution_count": null,
   "metadata": {
    "cell_id": "00008-305992c0-0b65-4b37-8fbe-7ce0003cc12c",
    "deepnote_cell_type": "code",
    "deepnote_to_be_reexecuted": false,
    "execution_millis": 1,
    "execution_start": 1618902850672,
    "output_cleared": false,
    "source_hash": "38b733b3",
    "tags": []
   },
   "outputs": [],
   "source": [
    "dtcot=pd.DataFrame(dt)\n",
    "dtcot=dtcot.drop(\"outcome\",axis=1)\n",
    "dtcot=dtcot.drop(\"death_date\",axis=1)\n",
    "dtcot=dtcot.drop(\"patient_type\",axis=1)\n",
    "dtcot=dtcot.drop(\"other_diseases\",axis=1)\n",
    "dtcot=dtcot.drop(\"another_case\",axis=1)\n",
    "dtcot=dtcot.drop(\"pregnant\",axis=1)\n",
    "#dtcot=dtcot.drop(\"age\",axis=1)\n",
    "dtcot.astype('int64').dtypes"
   ]
  },
  {
   "cell_type": "code",
   "execution_count": null,
   "metadata": {
    "cell_id": "00009-14981153-59f8-40f1-9288-ce29cf94f9de",
    "deepnote_cell_type": "code",
    "deepnote_to_be_reexecuted": false,
    "execution_millis": 623,
    "execution_start": 1618902850682,
    "output_cleared": false,
    "source_hash": "291eacd7",
    "tags": []
   },
   "outputs": [],
   "source": [
    "corrMatrix = pd.DataFrame.corr(dtcot)\n",
    "sns.heatmap(corrMatrix,square=True,linewidths=.5)\n",
    "plt.rcParams[\"figure.figsize\"] = (80,80)\n",
    "plt.xticks(fontsize = 40,rotation=50)\n",
    "plt.yticks(fontsize = 40,rotation=50)\n",
    "sns.set(font_scale=10)\n",
    "plt.show()"
   ]
  },
  {
   "cell_type": "code",
   "execution_count": null,
   "metadata": {
    "cell_id": "00005-24957d0b-2c8b-4529-bbe7-1754fc01efa7",
    "deepnote_cell_type": "code",
    "deepnote_to_be_reexecuted": false,
    "execution_millis": 19,
    "execution_start": 1618902851291,
    "output_cleared": false,
    "source_hash": "50a9fe01",
    "tags": []
   },
   "outputs": [],
   "source": [
    "#controllo: ci sono valori na nel dataset? \n",
    "dtcot.isna()\n",
    "dtcot.isna().sum()\n",
    "#non ci sono valori na!"
   ]
  },
  {
   "cell_type": "code",
   "execution_count": null,
   "metadata": {
    "cell_id": "00026-b3875f17-bf38-43e1-880e-8fc6d29ec195",
    "deepnote_cell_type": "code",
    "deepnote_to_be_reexecuted": false,
    "execution_millis": 509,
    "execution_start": 1618902851299,
    "output_cleared": false,
    "source_hash": "6b5e8105",
    "tags": []
   },
   "outputs": [],
   "source": [
    "#preprocessing\n",
    "from sklearn import preprocessing\n",
    "labe = preprocessing.LabelEncoder()\n",
    "dtcot['isdeath'] = labe.fit_transform(dtcot['isdeath'])"
   ]
  },
  {
   "cell_type": "code",
   "execution_count": null,
   "metadata": {
    "cell_id": "00027-c0772edd-2554-4b1b-81e0-a0f985428a30",
    "deepnote_cell_type": "code",
    "deepnote_to_be_reexecuted": false,
    "execution_millis": 89,
    "execution_start": 1618902851819,
    "output_cleared": false,
    "source_hash": "2ff210f5",
    "tags": []
   },
   "outputs": [],
   "source": [
    "dtcot['sex'].unique()\n",
    "dtcot['intubated'].unique()\n",
    "dtcot['pneumonia'].unique()\n",
    "dtcot['diabetes'].unique()\n",
    "dtcot['copd'].unique()\n",
    "dtcot['asthma'].unique()\n",
    "dtcot['immunosuppression'].unique()\n",
    "dtcot['hypertension'].unique()\n",
    "dtcot['cardiovascular'].unique()\n",
    "dtcot['obesity'].unique()\n",
    "dtcot['chronic_kidney_failure'].unique()\n",
    "dtcot['smoker'].unique()\n",
    "dtcot['icu'].unique()\n",
    "dtcot['isdeath'].unique()\n",
    "dtcot"
   ]
  },
  {
   "cell_type": "code",
   "execution_count": null,
   "metadata": {
    "cell_id": "00004-55a57ef9-020c-47b3-971b-bea141e77950",
    "deepnote_cell_type": "code",
    "deepnote_to_be_reexecuted": false,
    "execution_millis": 86,
    "execution_start": 1618902851903,
    "output_cleared": false,
    "source_hash": "6c29bd9b",
    "tags": []
   },
   "outputs": [],
   "source": [
    "#costruiamo la popolazione del training e del test (PER NICO:ho cambiato dataset per includere l'eta)\n",
    "x = dt1.drop(['isdeath'],axis=1)\n",
    "y = dt1['isdeath']\n",
    "\n",
    "from sklearn.model_selection import train_test_split\n",
    "xtrain, xtest,ytrain,ytest = train_test_split(x, y, test_size = 0.20, random_state = 50)"
   ]
  },
  {
   "cell_type": "code",
   "execution_count": null,
   "metadata": {
    "cell_id": "00031-1b4c60f6-aeac-4801-a01e-cd2ab8bc2fdc",
    "deepnote_cell_type": "code",
    "deepnote_to_be_reexecuted": false,
    "execution_millis": 15,
    "execution_start": 1618902851992,
    "output_cleared": false,
    "source_hash": "784aa182",
    "tags": []
   },
   "outputs": [],
   "source": [
    "xtrain=xtrain.reset_index(drop=True)\n",
    "ytrain=ytrain.reset_index(drop=True)\n",
    "ytrain.shape[0]"
   ]
  },
  {
   "cell_type": "code",
   "execution_count": null,
   "metadata": {
    "cell_id": "00031-6ba298cc-48c0-4567-8f97-69599e075464",
    "deepnote_cell_type": "code",
    "deepnote_to_be_reexecuted": false,
    "execution_millis": 69,
    "execution_start": 1618902852010,
    "output_cleared": false,
    "source_hash": "c7da224b",
    "tags": []
   },
   "outputs": [],
   "source": [
    "#balancing the dataset, eliminando un po' di variabili con  target 0, in modo da avere uniforme distribuzione tra le variabili target \n",
    "#creaiamo un loop che elimini tutte le righe del dataset, che superando il numero di target1\n",
    "\n",
    "num_one_target= int(np.sum(ytrain))\n",
    "zero_target_count=0\n",
    "indicies_toremove=[] #iniziamo il loop\n",
    "\n",
    "for i in range (ytrain.shape[0]): \n",
    "   if ytrain[i]== 0:\n",
    "       zero_target_count+= 1\n",
    "       if zero_target_count>num_one_target:\n",
    "          indicies_toremove.append(i)\n",
    "\n",
    "indicies_toremove=np.array(indicies_toremove)"
   ]
  },
  {
   "cell_type": "code",
   "execution_count": null,
   "metadata": {
    "cell_id": "00033-80588cd7-54c6-42b6-8062-db678d423f4e",
    "deepnote_cell_type": "code",
    "deepnote_to_be_reexecuted": false,
    "execution_millis": 3,
    "execution_start": 1618902852085,
    "output_cleared": false,
    "source_hash": "40a685c0",
    "tags": []
   },
   "outputs": [],
   "source": [
    "xtrain=xtrain.drop(indicies_toremove,axis=0)\n",
    "ytrain=ytrain.drop(indicies_toremove, axis=0)"
   ]
  },
  {
   "cell_type": "code",
   "execution_count": null,
   "metadata": {
    "cell_id": "00033-7b58b912-a551-4f9f-ba79-ef2dd305fb42",
    "deepnote_cell_type": "code",
    "deepnote_to_be_reexecuted": false,
    "execution_millis": 2,
    "execution_start": 1618902852089,
    "output_cleared": false,
    "source_hash": "b623e53d",
    "tags": []
   },
   "outputs": [],
   "source": []
  },
  {
   "cell_type": "code",
   "execution_count": null,
   "metadata": {
    "cell_id": "00034-e320b6bc-0007-49aa-851f-8612525e4500",
    "deepnote_cell_type": "code",
    "deepnote_to_be_reexecuted": false,
    "execution_millis": 8,
    "execution_start": 1618902852135,
    "output_cleared": false,
    "source_hash": "a20863bf",
    "tags": []
   },
   "outputs": [],
   "source": [
    "ytrain\n"
   ]
  },
  {
   "cell_type": "code",
   "execution_count": null,
   "metadata": {
    "cell_id": "00032-24739fe1-e669-4467-ad93-73abd30220ba",
    "deepnote_cell_type": "code",
    "deepnote_to_be_reexecuted": false,
    "execution_millis": 21,
    "execution_start": 1618902852137,
    "output_cleared": false,
    "source_hash": "bdacea7c",
    "tags": []
   },
   "outputs": [],
   "source": [
    "xtrain"
   ]
  },
  {
   "cell_type": "code",
   "execution_count": null,
   "metadata": {
    "cell_id": "00031-0b7a0d4f-518b-4371-8d5b-766626740371",
    "deepnote_cell_type": "code",
    "deepnote_to_be_reexecuted": false,
    "execution_millis": 18,
    "execution_start": 1618902852153,
    "output_cleared": false,
    "source_hash": "b5c7238d",
    "tags": []
   },
   "outputs": [],
   "source": [
    "#scaling dell'età\n",
    "from sklearn.preprocessing import StandardScaler\n",
    "sc= StandardScaler()\n",
    "xtrain.iloc[:,3]=sc.fit_transform(np.reshape(np.array(xtrain.iloc[:,3]),(-1,1)))\n",
    "xtest.iloc[:,3]=sc.transform(np.reshape(np.array(xtest.iloc[:,3]),(-1,1)))\n",
    "xtest.iloc[:,3]"
   ]
  },
  {
   "cell_type": "code",
   "execution_count": null,
   "metadata": {
    "cell_id": "00036-2fe4069d-bbe0-4ecc-9f9d-3a2304fa0d1f",
    "deepnote_cell_type": "code",
    "deepnote_to_be_reexecuted": false,
    "execution_millis": 1,
    "execution_start": 1618902852207,
    "output_cleared": false,
    "source_hash": "60940c7c",
    "tags": []
   },
   "outputs": [],
   "source": [
    "from sklearn.model_selection import cross_val_score"
   ]
  },
  {
   "cell_type": "code",
   "execution_count": null,
   "metadata": {
    "cell_id": "00026-ae7c9a7a-8f36-458c-b644-ddff4066ec19",
    "deepnote_cell_type": "code",
    "deepnote_to_be_reexecuted": false,
    "execution_millis": 2194,
    "execution_start": 1618902852209,
    "output_cleared": false,
    "source_hash": "9e9a715c",
    "tags": []
   },
   "outputs": [],
   "source": [
    "#n1\n",
    "#definiamo il classificatore random forest\n",
    "\n",
    "from sklearn.ensemble import RandomForestClassifier\n",
    "rfc = RandomForestClassifier(criterion='gini', max_depth=4, max_features='sqrt', n_estimators=100)\n",
    "\n",
    "#facciamo il training\n",
    "rfc.fit(xtrain, ytrain)\n",
    "ypred=rfc.predict(xtest)\n",
    "\n",
    "#matrice di confusione e accuratezza\n",
    "from sklearn.metrics import confusion_matrix, accuracy_score\n",
    "print(confusion_matrix(ytest, ypred))\n",
    "acc_rmfor=accuracy_score(ytest, ypred)\n",
    "print(acc_rmfor)\n",
    "\n",
    "#cross validation per random Forest\n",
    "accuracies_rmf=cross_val_score(estimator=rfc, X=xtrain, y=ytrain, cv=10)\n",
    "accuracies_cross_val_randomforest=accuracies_rmf.mean()*100\n",
    "print(\"Accuracy rmf: {:2f} %\".format(accuracies_rmf.mean()*100)) #fa la media delle accuacies calcolate prima\n",
    "print(\"Standard deviation: {:2f} %\".format(accuracies_rmf.std()*100)) #fa la media delle accuacies calcolate prima\n",
    "\n",
    "\n"
   ]
  },
  {
   "cell_type": "code",
   "execution_count": null,
   "metadata": {
    "cell_id": "00040-2ff44211-0f9f-4e31-833e-6f51d036144f",
    "deepnote_cell_type": "code",
    "deepnote_to_be_reexecuted": false,
    "execution_millis": 86,
    "execution_start": 1618902854408,
    "output_cleared": false,
    "source_hash": "64a1d284",
    "tags": []
   },
   "outputs": [],
   "source": [
    "#2naive_bayes\n",
    "from sklearn.naive_bayes import GaussianNB\n",
    "classifier=GaussianNB()\n",
    "classifier.fit(xtrain,ytrain)\n",
    "y_predby=classifier.predict(xtest)\n",
    "cm = confusion_matrix(ytest, y_predby)\n",
    "acc_naive=accuracy_score(ytest, y_predby)\n",
    "acc_naive\n",
    "print(cm)\n",
    "print(accuracy_score(ytest, y_predby))\n",
    "accuracies=cross_val_score(estimator=classifier, X=xtrain, y=ytrain, cv=10)\n",
    "accuracies_cross_val_naive=accuracies.mean()*100\n",
    "print(\"Accuracy: {:2f} %\".format(accuracies.mean()*100)) #fa la media delle accuacies calcolate prima\n",
    "print(\"Standard deviation: {:2f} %\".format(accuracies.std()*100)) #fa la media delle accuacies calcolate prima\n",
    "\n"
   ]
  },
  {
   "cell_type": "code",
   "execution_count": null,
   "metadata": {
    "cell_id": "00042-bb0ddbfe-d024-4f69-90ab-10d3658c7c6a",
    "deepnote_cell_type": "code",
    "deepnote_to_be_reexecuted": false,
    "execution_millis": 0,
    "execution_start": 1618902854484,
    "output_cleared": false,
    "source_hash": "40dd1a3a",
    "tags": []
   },
   "outputs": [],
   "source": [
    "xtrainsize=xtrain.shape[0]\n",
    "xtrainsize=int(xtrainsize*0.8)\n",
    "xtrainann=xtrain.iloc[:xtrainsize]\n",
    "ytrainann=xtrain[:xtrainsize]\n",
    "validationtrain=xtrain[xtrainsize:]\n",
    "validationtargets=ytrain[xtrainsize:]"
   ]
  },
  {
   "cell_type": "code",
   "execution_count": null,
   "metadata": {
    "cell_id": "00042-db7154ca-7a98-4beb-a5cf-f10b193113cb",
    "deepnote_cell_type": "code",
    "deepnote_to_be_reexecuted": false,
    "execution_millis": 127,
    "execution_start": 1618902854489,
    "output_cleared": false,
    "source_hash": "4df875a4",
    "tags": []
   },
   "outputs": [],
   "source": [
    "#importiamo funzione per early stopping utile a prevenire l'overfitting dell'ann\n",
    "from keras.callbacks import ModelCheckpoint, EarlyStopping"
   ]
  },
  {
   "cell_type": "code",
   "execution_count": null,
   "metadata": {
    "cell_id": "00041-65a115f5-9262-4c8e-9fa1-8567d7be1ef0",
    "deepnote_cell_type": "code",
    "deepnote_to_be_reexecuted": false,
    "execution_millis": 7320,
    "execution_start": 1618902854623,
    "output_cleared": false,
    "source_hash": "62bd3095",
    "tags": []
   },
   "outputs": [],
   "source": [
    "#iniziamo con una  rete neurale\n",
    "\n",
    "num_units=xtrain.shape[0]\n",
    "hidden_layer_size=6\n",
    "output_size=2\n",
    "ann=tf.keras.models.Sequential([\n",
    "                            tf.keras.layers.Dense(hidden_layer_size, activation='relu'),\n",
    "                            tf.keras.layers.Dense(hidden_layer_size, activation='relu'),\n",
    "                            tf.keras.layers.Dense(output_size,activation='softmax')\n",
    "])\n",
    "ann.compile(optimizer='adam', loss='sparse_categorical_crossentropy', metrics=['accuracy'])\n",
    "#sparse_categorical_crossentropy applica il one hot ecnoding ai dati\n",
    "\n",
    "early_stopping = tf.keras.callbacks.EarlyStopping(patience=3)\n",
    "batch_size=10\n",
    "numepoch=150\n",
    "ann.fit(xtrain,ytrain,\n",
    "        batch_size=batch_size,\n",
    "        epochs=numepoch,\n",
    "        callbacks=[early_stopping],\n",
    "        validation_data=(validationtrain,validationtargets),verbose=2\n",
    "        )\n"
   ]
  },
  {
   "cell_type": "code",
   "execution_count": null,
   "metadata": {
    "cell_id": "00044-6f53ea68-4397-4f75-89f2-40d5364a4e4e",
    "deepnote_cell_type": "code",
    "deepnote_to_be_reexecuted": false,
    "execution_millis": 167,
    "execution_start": 1618902861944,
    "output_cleared": false,
    "source_hash": "dec75923",
    "tags": []
   },
   "outputs": [],
   "source": [
    "test_model,test_accuracy=ann.evaluate(xtest,ytest)\n",
    "#solitmaent l'accuratezza del modello non è molto lontana dalla validation_accuracy, e solitamente è inferiroe"
   ]
  },
  {
   "cell_type": "code",
   "execution_count": null,
   "metadata": {
    "cell_id": "00045-556fa058-1c05-430c-ad79-c2a42e41cc90",
    "deepnote_cell_type": "code",
    "deepnote_to_be_reexecuted": false,
    "execution_millis": 150,
    "execution_start": 1618902862151,
    "output_cleared": false,
    "source_hash": "287ea528",
    "tags": []
   },
   "outputs": [],
   "source": [
    "y_pred_ann= ann.predict(xtest) #le predizioni sono array con due elementi a rig, ogni elemento ha la probabilità di una delle due classe\n",
    "rounded_predictions=np.argmax(y_pred_ann, axis=-1) #arrotondiamo le predizioni facendo si che abbiano un solo valore per irga e non due , cos' sono confrontabili con il target\n",
    "print(confusion_matrix(ytest, rounded_predictions))\n",
    "acc_ann=accuracy_score(ytest, rounded_predictions)\n",
    "acc_ann"
   ]
  },
  {
   "cell_type": "code",
   "execution_count": null,
   "metadata": {
    "cell_id": "00044-3954509c-0a6e-4c48-8adf-cd0da4dbe385",
    "deepnote_cell_type": "code",
    "deepnote_to_be_reexecuted": false,
    "execution_millis": 82,
    "execution_start": 1618902862336,
    "output_cleared": false,
    "source_hash": "8a9fd67",
    "tags": []
   },
   "outputs": [],
   "source": [
    "y_pred_ann= ann.predict_proba(xtest)\n",
    "y_pred_ann\n"
   ]
  },
  {
   "cell_type": "code",
   "execution_count": null,
   "metadata": {
    "cell_id": "00044-9e79d38c-bfbf-4857-8916-613f4bf2970d",
    "deepnote_cell_type": "code",
    "deepnote_to_be_reexecuted": false,
    "execution_millis": 238,
    "execution_start": 1618902862455,
    "output_cleared": false,
    "source_hash": "afa4b614",
    "tags": []
   },
   "outputs": [],
   "source": [
    "#metodo del KNeighborsClassifier\n",
    "from sklearn.neighbors import KNeighborsClassifier\n",
    "knn = KNeighborsClassifier(n_neighbors=18)\n",
    "knn.fit(xtrain, ytrain)\n",
    "ypred_knn = knn.predict(xtest)\n",
    "print(confusion_matrix(ytest, ypred_knn))\n",
    "acc_knn=accuracy_score(ytest, ypred_knn)\n",
    "acc_knn"
   ]
  },
  {
   "cell_type": "code",
   "execution_count": null,
   "metadata": {
    "cell_id": "00045-0bb393b9-2fc5-4a89-86aa-d537670dcffb",
    "deepnote_cell_type": "code",
    "deepnote_to_be_reexecuted": false,
    "execution_millis": 2,
    "execution_start": 1618902862678,
    "output_cleared": false,
    "source_hash": "b623e53d",
    "tags": []
   },
   "outputs": [],
   "source": []
  },
  {
   "cell_type": "code",
   "execution_count": null,
   "metadata": {
    "cell_id": "00047-6c9b2adf-3f42-4691-9cdd-3ca34286e600",
    "deepnote_cell_type": "code",
    "deepnote_to_be_reexecuted": false,
    "execution_millis": 1804,
    "execution_start": 1618902862682,
    "output_cleared": false,
    "source_hash": "42e1db96",
    "tags": []
   },
   "outputs": [],
   "source": [
    "#metodo del Support Vector Machine\n",
    "from sklearn.svm import SVC\n",
    "svm = SVC(kernel='rbf', C=0.025)\n",
    "svm.fit(xtrain, ytrain)\n",
    "#supp vetro machine\n",
    "\n",
    "ypred_svm = svm.predict(xtest)\n",
    "ypred_svm\n",
    "ypred_svm = svm.predict(xtest)\n",
    "print(confusion_matrix(ytest, ypred_svm))\n",
    "accsvm=accuracy_score(ytest, ypred_svm)\n",
    "accsvm"
   ]
  },
  {
   "cell_type": "code",
   "execution_count": null,
   "metadata": {
    "cell_id": "00051-59535b8b-47a3-42f7-9a4f-d2fb570be9bf",
    "deepnote_cell_type": "code",
    "deepnote_to_be_reexecuted": false,
    "execution_millis": 35,
    "execution_start": 1618902864478,
    "output_cleared": false,
    "source_hash": "3abaf2bc",
    "tags": []
   },
   "outputs": [],
   "source": [
    "#Decision Tree\n",
    "from sklearn import tree\n",
    "clf = tree.DecisionTreeClassifier()\n",
    "clf.fit(xtrain, ytrain)\n",
    "ypred_clf = clf.predict(xtest)\n",
    "print(confusion_matrix(ytest, ypred_clf))\n",
    "accdectree=accuracy_score(ytest, ypred_clf)\n",
    "accdectree"
   ]
  },
  {
   "cell_type": "code",
   "execution_count": null,
   "metadata": {
    "cell_id": "00054-38d564c4-a058-4e4e-b86f-cc7e51ee5117",
    "deepnote_cell_type": "code",
    "deepnote_to_be_reexecuted": false,
    "execution_millis": 316,
    "execution_start": 1618902864508,
    "output_cleared": false,
    "source_hash": "683c9355",
    "tags": []
   },
   "outputs": [],
   "source": [
    "#Proviamo AdaBoost\n",
    "from sklearn.ensemble import AdaBoostClassifier\n",
    "ada = AdaBoostClassifier(n_estimators=100)\n",
    "ada.fit(xtrain, ytrain)\n",
    "ypred_ada = ada.predict(xtest)\n",
    "print(confusion_matrix(ytest, ypred_ada))\n",
    "acc_adaboost=accuracy_score(ytest, ypred_ada)\n",
    "acc_adaboost"
   ]
  },
  {
   "cell_type": "code",
   "execution_count": null,
   "metadata": {
    "cell_id": "00051-51bc413d-b533-4ad5-9a80-a168d6f0e1b7",
    "deepnote_cell_type": "code",
    "deepnote_to_be_reexecuted": false,
    "execution_millis": 295,
    "execution_start": 1618902864827,
    "output_cleared": false,
    "source_hash": "56db953d",
    "tags": []
   },
   "outputs": [],
   "source": [
    "models=['Decision Tree','Random Forest','Random Forest Cross Validated','N Bayes', 'N Bayes Cross Validated', 'K-Nearest Neighbors','Support Vectro Machine', 'AdaBoost', 'ANN']\n",
    "accuracy=[accdectree,acc_rmfor,accuracies_cross_val_randomforest,acc_naive,accuracies_cross_val_naive, acc_knn, accsvm,acc_adaboost,acc_ann]\n",
    "accuracy\n",
    "d = {'Models': models, 'accuracy': accuracy}\n",
    "acc_frame = pd.DataFrame(data=d)\n",
    "# boxplot algorithm comparison\n",
    "fig = plt.figure()\n",
    "ax = fig.add_axes([0,0,1,1])\n",
    "acc_frame.loc[acc_frame['accuracy']<1,'accuracy']=acc_frame['accuracy']*100\n",
    "acc_frame=acc_frame.sort_values(by=['accuracy'])\n",
    "\n",
    "#drow bar plot\n",
    "ax.bar(acc_frame['Models'],acc_frame['accuracy'],color=['C0', 'C1', 'C2', 'C3', 'C4','C5','C6','C7','C8'])\n",
    "plt.gcf().set_size_inches(20, 5)\n",
    "plt.xticks(fontsize = 15,rotation=50)\n",
    "plt.yticks(fontsize = 15,rotation=50)#acc_frame\n",
    "\n",
    "for index, value in enumerate(acc_frame['accuracy']):\n",
    "    plt.text(index -0.3,value, str(round(value,5)),fontsize=20)\n",
    "plt.show()"
   ]
  },
  {
   "cell_type": "code",
   "execution_count": null,
   "metadata": {
    "cell_id": "00052-e0ce69c5-285c-4230-87e5-6e49f022b7e6",
    "deepnote_cell_type": "code",
    "deepnote_to_be_reexecuted": false,
    "execution_millis": 2,
    "execution_start": 1618902865106,
    "output_cleared": false,
    "source_hash": "b623e53d",
    "tags": []
   },
   "outputs": [],
   "source": []
  },
  {
   "cell_type": "code",
   "execution_count": null,
   "metadata": {
    "cell_id": "00055-c618bdad-bced-4244-84a9-0fbd7fba5baf",
    "deepnote_cell_type": "code",
    "deepnote_to_be_reexecuted": false,
    "execution_millis": 0,
    "execution_start": 1618902865112,
    "output_cleared": false,
    "source_hash": "60940c7c",
    "tags": []
   },
   "outputs": [],
   "source": [
    "from sklearn.model_selection import cross_val_score"
   ]
  },
  {
   "cell_type": "code",
   "execution_count": null,
   "metadata": {
    "cell_id": "00056-701fe2ef-4502-41d6-ad08-9c5dc2436da8",
    "deepnote_cell_type": "code",
    "deepnote_to_be_reexecuted": false,
    "execution_millis": 340,
    "execution_start": 1618902865116,
    "output_cleared": false,
    "source_hash": "d1618162",
    "tags": []
   },
   "outputs": [],
   "source": [
    "accuracies=cross_val_score(estimator=knn, X=xtrain, y=ytrain, cv=10)\n",
    "print(accuracies)\n",
    "print(\"Accuracy: {:2f} %\".format(accuracies.mean()*100)) #fa la media delle accuacies calcolate prima\n",
    "print(\"Standard deviation: {:2f} %\".format(accuracies.std()*100)) #fa la media delle accuacies calcolate prima\n"
   ]
  },
  {
   "cell_type": "code",
   "execution_count": null,
   "metadata": {
    "cell_id": "00058-3a992741-14ae-4914-bc48-2b1fc8193661",
    "deepnote_cell_type": "code",
    "deepnote_to_be_reexecuted": false,
    "execution_millis": 3399,
    "execution_start": 1618902865445,
    "output_cleared": false,
    "source_hash": "d3f2c8b0",
    "tags": []
   },
   "outputs": [],
   "source": [
    "pip install scikit-plot\n"
   ]
  },
  {
   "cell_type": "code",
   "execution_count": null,
   "metadata": {
    "cell_id": "00059-a03cad4d-b4fc-43f4-af07-720171071343",
    "deepnote_cell_type": "code",
    "deepnote_to_be_reexecuted": false,
    "execution_millis": 16,
    "execution_start": 1618902868849,
    "output_cleared": false,
    "source_hash": "e7241813",
    "tags": []
   },
   "outputs": [],
   "source": [
    "y_probas = np.array(classifier.predict_proba(xtest))\n",
    "print(y_probas[::,0])"
   ]
  },
  {
   "cell_type": "code",
   "execution_count": null,
   "metadata": {
    "cell_id": "00057-50d0abd9-496d-4e0e-b87c-d4a5a4e768f2",
    "deepnote_cell_type": "code",
    "deepnote_to_be_reexecuted": false,
    "execution_millis": 6332,
    "execution_start": 1618902868866,
    "output_cleared": false,
    "source_hash": "d7b91368",
    "tags": []
   },
   "outputs": [],
   "source": [
    "pip install metrics"
   ]
  },
  {
   "cell_type": "code",
   "execution_count": null,
   "metadata": {
    "cell_id": "00058-9d7bae2e-1a21-4ba8-9dde-d039900d4641",
    "deepnote_cell_type": "code",
    "deepnote_to_be_reexecuted": false,
    "execution_millis": 0,
    "execution_start": 1618902875205,
    "output_cleared": false,
    "source_hash": "a3bcaf87",
    "tags": []
   },
   "outputs": [],
   "source": [
    "from sklearn.metrics import roc_auc_score\n",
    "from sklearn import metrics"
   ]
  },
  {
   "cell_type": "code",
   "execution_count": null,
   "metadata": {
    "cell_id": "00061-a0f6f495-e8e3-4aa9-9f6b-f91995bb74c9",
    "deepnote_cell_type": "code",
    "deepnote_to_be_reexecuted": false,
    "execution_millis": 410,
    "execution_start": 1618902875217,
    "output_cleared": false,
    "source_hash": "5f44320c",
    "tags": []
   },
   "outputs": [],
   "source": [
    "#y_true = # ground truth labels\n",
    "#ypred_clf = # predicted probabilities generated by sklearn classifier\n",
    "\n",
    "\n",
    "y_probas_nb= np.array(classifier.predict_proba(xtest))\n",
    "fpr, tpr, thresholds = metrics.roc_curve(np.array(ytest), y_probas_nb[::,0], pos_label=0)\n",
    "\n",
    "y_probasknn = np.array(knn.predict_proba(xtest))\n",
    "fpr_knn, tpr_knn, thresholds_knn = metrics.roc_curve(np.array(ytest), y_probasknn[::,0], pos_label=0)\n",
    "\n",
    "y_pred_ann\n",
    "fpr_ann, tpr_ann, thresholds_ann = metrics.roc_curve(np.array(ytest), y_pred_ann[::,0], pos_label=0)\n",
    "\n",
    "y_proba_clf=clf.predict_proba(xtest)\n",
    "fpr_clf, tpr_clf, thresholds_clf = metrics.roc_curve(np.array(ytest), y_proba_clf[::,0], pos_label=0)\n",
    "\n",
    "#y_proba_svm=svm.predict_proba(xtest)\n",
    "#fpr_svm, tpr_svm, thresholds_svm = metrics.roc_curve(np.array(ytest), y_proba_svm[::,0], pos_label=0)\n",
    "\n",
    "\n",
    "auc_nb= metrics.roc_auc_score(ytest, y_probas[::,1])\n",
    "auc_knn = metrics.roc_auc_score(ytest, y_probasknn[::,1])\n",
    "auc_ann = metrics.roc_auc_score(ytest, y_pred_ann[::,1])\n",
    "auc_clf=  metrics.roc_auc_score(ytest, y_proba_clf[::,1])\n",
    "#auc_svm=  metrics.roc_auc_score(ytest, y_proba_svm[::,1])\n",
    "\n",
    "plt.plot(fpr,tpr,label=\"Auc Naive Bayes=\"+str(auc_nb),linewidth=5)\n",
    "plt.plot(fpr_knn,tpr_knn,label=\"Auc Knn=\"+str(auc_knn), linewidth=5)\n",
    "plt.plot(fpr_ann,tpr_ann,label=\"Auc Ann=\"+str(auc_ann), linewidth=5)\n",
    "plt.plot(fpr_clf, tpr_clf,label=\"Auc Decision tree classifier=\"+str(auc_clf), linewidth=5)\n",
    "#plt.plot(fpr_svm, tpr_svm,label=\"Auc SVM=\"+str(auc_svm), linewidth=10)\n",
    "\n",
    "\n",
    "plt.xlabel('1-Specificity(False Positive Rate)',fontsize=15)\n",
    "plt.ylabel('Sensitivity(True Positive Rate)', fontsize=15)\n",
    "plt.title('Receiver Operating Characteristic - ROC',fontsize=15)\n",
    "plt.legend(loc=\"lower right\", fontsize=10)\n",
    "plt.gcf().set_size_inches(10, 10)\n",
    "plt.xticks(fontsize = 15,rotation=50)\n",
    "plt.yticks(fontsize = 15,rotation=50)#acc_frame\n",
    "plt.show()\n"
   ]
  },
  {
   "cell_type": "code",
   "execution_count": null,
   "metadata": {
    "cell_id": "00061-ca811ced-24d2-40ab-8d19-348acda4d39c",
    "deepnote_cell_type": "code",
    "deepnote_to_be_reexecuted": false,
    "execution_millis": 0,
    "execution_start": 1618902875606,
    "output_cleared": false,
    "source_hash": "b623e53d",
    "tags": []
   },
   "outputs": [],
   "source": []
  },
  {
   "cell_type": "code",
   "execution_count": null,
   "metadata": {
    "cell_id": "00060-42381db5-d366-4e71-8e43-18c18e237bb2",
    "deepnote_cell_type": "code",
    "deepnote_to_be_reexecuted": false,
    "execution_millis": 5,
    "execution_start": 1618902875607,
    "output_cleared": false,
    "source_hash": "b623e53d",
    "tags": []
   },
   "outputs": [],
   "source": []
  },
  {
   "cell_type": "code",
   "execution_count": null,
   "metadata": {
    "cell_id": "00061-d5b91814-553f-4319-8b8f-0ec01850ccd0",
    "deepnote_cell_type": "code",
    "deepnote_to_be_reexecuted": false,
    "execution_millis": 3,
    "execution_start": 1618902875616,
    "output_cleared": false,
    "source_hash": "b623e53d",
    "tags": []
   },
   "outputs": [],
   "source": []
  },
  {
   "cell_type": "markdown",
   "metadata": {
    "created_in_deepnote_cell": true,
    "deepnote_cell_type": "markdown",
    "tags": []
   },
   "source": [
    "<a style='text-decoration:none;line-height:16px;display:flex;color:#5B5B62;padding:10px;justify-content:end;' href='https://deepnote.com?utm_source=created-in-deepnote-cell&projectId=0dc3793f-35f9-4859-a7e1-3ba4252e3bfe' target=\"_blank\">\n",
    "<img alt='Created in deepnote.com' style='display:inline;max-height:16px;margin:0px;margin-right:7.5px;' src='data:image/svg+xml;base64,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' > </img>\n",
    "Created in <span style='font-weight:600;margin-left:4px;'>Deepnote</span></a>"
   ]
  }
 ],
 "metadata": {
  "deepnote": {},
  "deepnote_execution_queue": [],
  "deepnote_notebook_id": "421c3c0d-0e01-42f8-8e7d-7eb2e085ed57",
  "kernelspec": {
   "display_name": "Python 3 (ipykernel)",
   "language": "python",
   "name": "python3"
  },
  "language_info": {
   "codemirror_mode": {
    "name": "ipython",
    "version": 3
   },
   "file_extension": ".py",
   "mimetype": "text/x-python",
   "name": "python",
   "nbconvert_exporter": "python",
   "pygments_lexer": "ipython3",
   "version": "3.6.5"
  }
 },
 "nbformat": 4,
 "nbformat_minor": 2
}
