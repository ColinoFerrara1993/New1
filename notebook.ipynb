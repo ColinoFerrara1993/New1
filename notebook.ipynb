{
  "cells": [
    {
      "cell_type": "code",
      "metadata": {
        "tags": [],
        "cell_id": "00000-34540bc5-f5dc-47c1-bca7-9240c8967f07",
        "output_cleared": false,
        "source_hash": "8ca6a091",
        "execution_millis": 357,
        "deepnote_to_be_reexecuted": false,
        "execution_start": 1618902836245,
        "deepnote_cell_type": "code"
      },
      "source": "import pandas as pd\nimport numpy as np\nimport matplotlib.pyplot as plt",
      "outputs": [],
      "execution_count": null
    },
    {
      "cell_type": "code",
      "metadata": {
        "tags": [],
        "cell_id": "00002-b7386dfb-3b53-4240-a336-1238e653725d",
        "output_cleared": false,
        "source_hash": "e02faa76",
        "execution_millis": 4332,
        "deepnote_to_be_reexecuted": false,
        "execution_start": 1618902836604,
        "deepnote_cell_type": "code"
      },
      "source": "#installiamo tensorflow!\n!pip install tensorflow",
      "outputs": [
        {
          "name": "stdout",
          "text": "Requirement already satisfied: tensorflow in /shared-libs/python3.7/py/lib/python3.7/site-packages (2.4.1)\nRequirement already satisfied: flatbuffers~=1.12.0 in /shared-libs/python3.7/py/lib/python3.7/site-packages (from tensorflow) (1.12)\nRequirement already satisfied: protobuf>=3.9.2 in /shared-libs/python3.7/py/lib/python3.7/site-packages (from tensorflow) (3.15.8)\nRequirement already satisfied: wrapt~=1.12.1 in /shared-libs/python3.7/py/lib/python3.7/site-packages (from tensorflow) (1.12.1)\nRequirement already satisfied: tensorflow-estimator<2.5.0,>=2.4.0 in /shared-libs/python3.7/py/lib/python3.7/site-packages (from tensorflow) (2.4.0)\nRequirement already satisfied: absl-py~=0.10 in /shared-libs/python3.7/py/lib/python3.7/site-packages (from tensorflow) (0.12.0)\nRequirement already satisfied: tensorboard~=2.4 in /shared-libs/python3.7/py/lib/python3.7/site-packages (from tensorflow) (2.4.1)\nRequirement already satisfied: astunparse~=1.6.3 in /shared-libs/python3.7/py/lib/python3.7/site-packages (from tensorflow) (1.6.3)\nRequirement already satisfied: opt-einsum~=3.3.0 in /shared-libs/python3.7/py/lib/python3.7/site-packages (from tensorflow) (3.3.0)\nRequirement already satisfied: h5py~=2.10.0 in /shared-libs/python3.7/py/lib/python3.7/site-packages (from tensorflow) (2.10.0)\nRequirement already satisfied: numpy~=1.19.2 in /shared-libs/python3.7/py/lib/python3.7/site-packages (from tensorflow) (1.19.5)\nRequirement already satisfied: grpcio~=1.32.0 in /shared-libs/python3.7/py/lib/python3.7/site-packages (from tensorflow) (1.32.0)\nRequirement already satisfied: keras-preprocessing~=1.1.2 in /shared-libs/python3.7/py/lib/python3.7/site-packages (from tensorflow) (1.1.2)\nRequirement already satisfied: wheel~=0.35 in /root/venv/lib/python3.7/site-packages (from tensorflow) (0.36.2)\nRequirement already satisfied: six~=1.15.0 in /shared-libs/python3.7/py-core/lib/python3.7/site-packages (from tensorflow) (1.15.0)\nRequirement already satisfied: termcolor~=1.1.0 in /shared-libs/python3.7/py/lib/python3.7/site-packages (from tensorflow) (1.1.0)\nRequirement already satisfied: typing-extensions~=3.7.4 in /shared-libs/python3.7/py-core/lib/python3.7/site-packages (from tensorflow) (3.7.4.3)\nRequirement already satisfied: google-pasta~=0.2 in /shared-libs/python3.7/py/lib/python3.7/site-packages (from tensorflow) (0.2.0)\nRequirement already satisfied: gast==0.3.3 in /shared-libs/python3.7/py/lib/python3.7/site-packages (from tensorflow) (0.3.3)\nRequirement already satisfied: setuptools>=41.0.0 in /root/venv/lib/python3.7/site-packages (from tensorboard~=2.4->tensorflow) (54.1.2)\nRequirement already satisfied: markdown>=2.6.8 in /shared-libs/python3.7/py/lib/python3.7/site-packages (from tensorboard~=2.4->tensorflow) (3.3.4)\nRequirement already satisfied: google-auth<2,>=1.6.3 in /shared-libs/python3.7/py/lib/python3.7/site-packages (from tensorboard~=2.4->tensorflow) (1.28.1)\nRequirement already satisfied: google-auth-oauthlib<0.5,>=0.4.1 in /shared-libs/python3.7/py/lib/python3.7/site-packages (from tensorboard~=2.4->tensorflow) (0.4.4)\nRequirement already satisfied: tensorboard-plugin-wit>=1.6.0 in /shared-libs/python3.7/py/lib/python3.7/site-packages (from tensorboard~=2.4->tensorflow) (1.8.0)\nRequirement already satisfied: werkzeug>=0.11.15 in /shared-libs/python3.7/py/lib/python3.7/site-packages (from tensorboard~=2.4->tensorflow) (1.0.1)\nRequirement already satisfied: requests<3,>=2.21.0 in /shared-libs/python3.7/py/lib/python3.7/site-packages (from tensorboard~=2.4->tensorflow) (2.25.1)\nRequirement already satisfied: cachetools<5.0,>=2.0.0 in /shared-libs/python3.7/py/lib/python3.7/site-packages (from google-auth<2,>=1.6.3->tensorboard~=2.4->tensorflow) (4.2.1)\nRequirement already satisfied: rsa<5,>=3.1.4 in /shared-libs/python3.7/py/lib/python3.7/site-packages (from google-auth<2,>=1.6.3->tensorboard~=2.4->tensorflow) (4.7.2)\nRequirement already satisfied: pyasn1-modules>=0.2.1 in /shared-libs/python3.7/py/lib/python3.7/site-packages (from google-auth<2,>=1.6.3->tensorboard~=2.4->tensorflow) (0.2.8)\nRequirement already satisfied: requests-oauthlib>=0.7.0 in /shared-libs/python3.7/py/lib/python3.7/site-packages (from google-auth-oauthlib<0.5,>=0.4.1->tensorboard~=2.4->tensorflow) (1.3.0)\nRequirement already satisfied: importlib-metadata in /shared-libs/python3.7/py-core/lib/python3.7/site-packages (from markdown>=2.6.8->tensorboard~=2.4->tensorflow) (3.10.1)\nRequirement already satisfied: pyasn1<0.5.0,>=0.4.6 in /shared-libs/python3.7/py/lib/python3.7/site-packages (from pyasn1-modules>=0.2.1->google-auth<2,>=1.6.3->tensorboard~=2.4->tensorflow) (0.4.8)\nRequirement already satisfied: urllib3<1.27,>=1.21.1 in /shared-libs/python3.7/py/lib/python3.7/site-packages (from requests<3,>=2.21.0->tensorboard~=2.4->tensorflow) (1.26.4)\nRequirement already satisfied: certifi>=2017.4.17 in /shared-libs/python3.7/py/lib/python3.7/site-packages (from requests<3,>=2.21.0->tensorboard~=2.4->tensorflow) (2020.12.5)\nRequirement already satisfied: idna<3,>=2.5 in /shared-libs/python3.7/py/lib/python3.7/site-packages (from requests<3,>=2.21.0->tensorboard~=2.4->tensorflow) (2.10)\nRequirement already satisfied: chardet<5,>=3.0.2 in /shared-libs/python3.7/py/lib/python3.7/site-packages (from requests<3,>=2.21.0->tensorboard~=2.4->tensorflow) (3.0.4)\nRequirement already satisfied: oauthlib>=3.0.0 in /shared-libs/python3.7/py/lib/python3.7/site-packages (from requests-oauthlib>=0.7.0->google-auth-oauthlib<0.5,>=0.4.1->tensorboard~=2.4->tensorflow) (3.1.0)\nRequirement already satisfied: zipp>=0.5 in /shared-libs/python3.7/py-core/lib/python3.7/site-packages (from importlib-metadata->markdown>=2.6.8->tensorboard~=2.4->tensorflow) (3.4.1)\n",
          "output_type": "stream"
        }
      ],
      "execution_count": null
    },
    {
      "cell_type": "code",
      "metadata": {
        "tags": [],
        "cell_id": "00002-bd46b60e-40b5-44e4-a86c-4e72e8190189",
        "output_cleared": false,
        "source_hash": "7da596a2",
        "execution_millis": 2994,
        "deepnote_to_be_reexecuted": false,
        "execution_start": 1618902840942,
        "deepnote_cell_type": "code"
      },
      "source": "#installo saeborn (può servire per grafici)\n!pip install seaborn",
      "outputs": [
        {
          "name": "stdout",
          "text": "Requirement already satisfied: seaborn in /shared-libs/python3.7/py/lib/python3.7/site-packages (0.11.1)\nRequirement already satisfied: scipy>=1.0 in /shared-libs/python3.7/py/lib/python3.7/site-packages (from seaborn) (1.6.2)\nRequirement already satisfied: numpy>=1.15 in /shared-libs/python3.7/py/lib/python3.7/site-packages (from seaborn) (1.19.5)\nRequirement already satisfied: pandas>=0.23 in /shared-libs/python3.7/py/lib/python3.7/site-packages (from seaborn) (1.2.4)\nRequirement already satisfied: matplotlib>=2.2 in /shared-libs/python3.7/py/lib/python3.7/site-packages (from seaborn) (3.4.1)\nRequirement already satisfied: pyparsing>=2.2.1 in /shared-libs/python3.7/py-core/lib/python3.7/site-packages (from matplotlib>=2.2->seaborn) (2.4.7)\nRequirement already satisfied: pillow>=6.2.0 in /shared-libs/python3.7/py/lib/python3.7/site-packages (from matplotlib>=2.2->seaborn) (8.2.0)\nRequirement already satisfied: kiwisolver>=1.0.1 in /shared-libs/python3.7/py/lib/python3.7/site-packages (from matplotlib>=2.2->seaborn) (1.3.1)\nRequirement already satisfied: python-dateutil>=2.7 in /shared-libs/python3.7/py-core/lib/python3.7/site-packages (from matplotlib>=2.2->seaborn) (2.8.1)\nRequirement already satisfied: cycler>=0.10 in /shared-libs/python3.7/py/lib/python3.7/site-packages (from matplotlib>=2.2->seaborn) (0.10.0)\nRequirement already satisfied: six in /shared-libs/python3.7/py-core/lib/python3.7/site-packages (from cycler>=0.10->matplotlib>=2.2->seaborn) (1.15.0)\nRequirement already satisfied: pytz>=2017.3 in /shared-libs/python3.7/py/lib/python3.7/site-packages (from pandas>=0.23->seaborn) (2021.1)\n",
          "output_type": "stream"
        }
      ],
      "execution_count": null
    },
    {
      "cell_type": "code",
      "metadata": {
        "tags": [],
        "cell_id": "00003-038184e9-79d9-4a93-945c-0b7ac836dfac",
        "output_cleared": false,
        "source_hash": "18a3986d",
        "execution_millis": 5701,
        "deepnote_to_be_reexecuted": false,
        "execution_start": 1618902843940,
        "deepnote_cell_type": "code"
      },
      "source": "#importo tensorflow (e seaborn) e check della version di tf\nimport tensorflow as tf\nprint(tf.__version__)\nimport seaborn as sns",
      "outputs": [
        {
          "name": "stdout",
          "text": "2.4.1\n",
          "output_type": "stream"
        }
      ],
      "execution_count": null
    },
    {
      "cell_type": "code",
      "metadata": {
        "tags": [],
        "cell_id": "00004-496f306b-c1c8-400c-bd41-202cf3f56daa",
        "output_cleared": false,
        "source_hash": "86ed261b",
        "execution_millis": 244,
        "deepnote_to_be_reexecuted": false,
        "execution_start": 1618902849647,
        "deepnote_cell_type": "code"
      },
      "source": "dataset=pd.read_csv(\"patient-20201204-172212.csv\")\ndataset\n",
      "outputs": [
        {
          "output_type": "execute_result",
          "execution_count": 5,
          "data": {
            "application/vnd.deepnote.dataframe.v2+json": {
              "row_count": 95839,
              "column_count": 20,
              "columns": [
                {
                  "name": "sex",
                  "dtype": "int64",
                  "stats": {
                    "unique_count": 2,
                    "nan_count": 0,
                    "min": "1",
                    "max": "2",
                    "histogram": [
                      {
                        "bin_start": 1,
                        "bin_end": 1.1,
                        "count": 47119
                      },
                      {
                        "bin_start": 1.1,
                        "bin_end": 1.2,
                        "count": 0
                      },
                      {
                        "bin_start": 1.2,
                        "bin_end": 1.3,
                        "count": 0
                      },
                      {
                        "bin_start": 1.3,
                        "bin_end": 1.4,
                        "count": 0
                      },
                      {
                        "bin_start": 1.4,
                        "bin_end": 1.5,
                        "count": 0
                      },
                      {
                        "bin_start": 1.5,
                        "bin_end": 1.6,
                        "count": 0
                      },
                      {
                        "bin_start": 1.6,
                        "bin_end": 1.7000000000000002,
                        "count": 0
                      },
                      {
                        "bin_start": 1.7000000000000002,
                        "bin_end": 1.8,
                        "count": 0
                      },
                      {
                        "bin_start": 1.8,
                        "bin_end": 1.9,
                        "count": 0
                      },
                      {
                        "bin_start": 1.9,
                        "bin_end": 2,
                        "count": 48720
                      }
                    ]
                  }
                },
                {
                  "name": "patient_type",
                  "dtype": "int64"
                },
                {
                  "name": "intubated",
                  "dtype": "int64"
                },
                {
                  "name": "pneumonia",
                  "dtype": "int64"
                },
                {
                  "name": "age",
                  "dtype": "int64"
                },
                {
                  "name": "pregnant",
                  "dtype": "int64"
                },
                {
                  "name": "diabetes",
                  "dtype": "int64"
                },
                {
                  "name": "copd",
                  "dtype": "int64"
                },
                {
                  "name": "asthma",
                  "dtype": "int64"
                },
                {
                  "name": "immunosuppression",
                  "dtype": "int64"
                },
                {
                  "name": "hypertension",
                  "dtype": "int64"
                },
                {
                  "name": "other_diseases",
                  "dtype": "int64"
                },
                {
                  "name": "cardiovascular",
                  "dtype": "int64"
                },
                {
                  "name": "obesity",
                  "dtype": "int64"
                },
                {
                  "name": "chronic_kidney_failure",
                  "dtype": "int64"
                },
                {
                  "name": "smoker",
                  "dtype": "int64"
                },
                {
                  "name": "another_case",
                  "dtype": "int64"
                },
                {
                  "name": "outcome",
                  "dtype": "int64"
                },
                {
                  "name": "icu",
                  "dtype": "int64"
                },
                {
                  "name": "death_date",
                  "dtype": "object"
                },
                {
                  "name": "_deepnote_index_column",
                  "dtype": "int64"
                }
              ],
              "rows_top": [
                {
                  "sex": 2,
                  "patient_type": 1,
                  "intubated": 97,
                  "pneumonia": 2,
                  "age": 42,
                  "pregnant": 97,
                  "diabetes": 2,
                  "copd": 2,
                  "asthma": 1,
                  "immunosuppression": 2,
                  "hypertension": 2,
                  "other_diseases": 2,
                  "cardiovascular": 2,
                  "obesity": 2,
                  "chronic_kidney_failure": 2,
                  "smoker": 2,
                  "another_case": 99,
                  "outcome": 1,
                  "icu": 97,
                  "death_date": "9999-99-99",
                  "_deepnote_index_column": 0
                },
                {
                  "sex": 1,
                  "patient_type": 1,
                  "intubated": 97,
                  "pneumonia": 2,
                  "age": 51,
                  "pregnant": 2,
                  "diabetes": 2,
                  "copd": 2,
                  "asthma": 2,
                  "immunosuppression": 2,
                  "hypertension": 2,
                  "other_diseases": 2,
                  "cardiovascular": 2,
                  "obesity": 2,
                  "chronic_kidney_failure": 2,
                  "smoker": 2,
                  "another_case": 99,
                  "outcome": 1,
                  "icu": 97,
                  "death_date": "9999-99-99",
                  "_deepnote_index_column": 1
                },
                {
                  "sex": 2,
                  "patient_type": 2,
                  "intubated": 2,
                  "pneumonia": 2,
                  "age": 51,
                  "pregnant": 97,
                  "diabetes": 1,
                  "copd": 2,
                  "asthma": 2,
                  "immunosuppression": 2,
                  "hypertension": 1,
                  "other_diseases": 2,
                  "cardiovascular": 2,
                  "obesity": 1,
                  "chronic_kidney_failure": 2,
                  "smoker": 2,
                  "another_case": 99,
                  "outcome": 1,
                  "icu": 2,
                  "death_date": "9999-99-99",
                  "_deepnote_index_column": 2
                },
                {
                  "sex": 2,
                  "patient_type": 2,
                  "intubated": 2,
                  "pneumonia": 2,
                  "age": 57,
                  "pregnant": 97,
                  "diabetes": 1,
                  "copd": 2,
                  "asthma": 2,
                  "immunosuppression": 2,
                  "hypertension": 2,
                  "other_diseases": 2,
                  "cardiovascular": 2,
                  "obesity": 2,
                  "chronic_kidney_failure": 2,
                  "smoker": 2,
                  "another_case": 99,
                  "outcome": 1,
                  "icu": 2,
                  "death_date": "2020-04-01",
                  "_deepnote_index_column": 3
                },
                {
                  "sex": 1,
                  "patient_type": 2,
                  "intubated": 2,
                  "pneumonia": 2,
                  "age": 44,
                  "pregnant": 2,
                  "diabetes": 1,
                  "copd": 2,
                  "asthma": 2,
                  "immunosuppression": 2,
                  "hypertension": 2,
                  "other_diseases": 2,
                  "cardiovascular": 2,
                  "obesity": 2,
                  "chronic_kidney_failure": 2,
                  "smoker": 2,
                  "another_case": 2,
                  "outcome": 2,
                  "icu": 2,
                  "death_date": "9999-99-99",
                  "_deepnote_index_column": 4
                },
                {
                  "sex": 2,
                  "patient_type": 2,
                  "intubated": 2,
                  "pneumonia": 1,
                  "age": 40,
                  "pregnant": 97,
                  "diabetes": 2,
                  "copd": 2,
                  "asthma": 2,
                  "immunosuppression": 2,
                  "hypertension": 2,
                  "other_diseases": 98,
                  "cardiovascular": 2,
                  "obesity": 2,
                  "chronic_kidney_failure": 2,
                  "smoker": 2,
                  "another_case": 99,
                  "outcome": 2,
                  "icu": 2,
                  "death_date": "9999-99-99",
                  "_deepnote_index_column": 5
                },
                {
                  "sex": 1,
                  "patient_type": 1,
                  "intubated": 97,
                  "pneumonia": 2,
                  "age": 40,
                  "pregnant": 2,
                  "diabetes": 2,
                  "copd": 2,
                  "asthma": 2,
                  "immunosuppression": 2,
                  "hypertension": 2,
                  "other_diseases": 2,
                  "cardiovascular": 2,
                  "obesity": 2,
                  "chronic_kidney_failure": 2,
                  "smoker": 2,
                  "another_case": 2,
                  "outcome": 2,
                  "icu": 97,
                  "death_date": "9999-99-99",
                  "_deepnote_index_column": 6
                },
                {
                  "sex": 2,
                  "patient_type": 2,
                  "intubated": 2,
                  "pneumonia": 1,
                  "age": 89,
                  "pregnant": 97,
                  "diabetes": 2,
                  "copd": 1,
                  "asthma": 2,
                  "immunosuppression": 2,
                  "hypertension": 2,
                  "other_diseases": 2,
                  "cardiovascular": 2,
                  "obesity": 2,
                  "chronic_kidney_failure": 2,
                  "smoker": 2,
                  "another_case": 2,
                  "outcome": 2,
                  "icu": 2,
                  "death_date": "9999-99-99",
                  "_deepnote_index_column": 7
                },
                {
                  "sex": 1,
                  "patient_type": 2,
                  "intubated": 2,
                  "pneumonia": 1,
                  "age": 34,
                  "pregnant": 2,
                  "diabetes": 2,
                  "copd": 2,
                  "asthma": 2,
                  "immunosuppression": 2,
                  "hypertension": 2,
                  "other_diseases": 2,
                  "cardiovascular": 2,
                  "obesity": 2,
                  "chronic_kidney_failure": 2,
                  "smoker": 2,
                  "another_case": 2,
                  "outcome": 3,
                  "icu": 2,
                  "death_date": "9999-99-99",
                  "_deepnote_index_column": 8
                },
                {
                  "sex": 2,
                  "patient_type": 1,
                  "intubated": 97,
                  "pneumonia": 2,
                  "age": 55,
                  "pregnant": 97,
                  "diabetes": 1,
                  "copd": 2,
                  "asthma": 1,
                  "immunosuppression": 2,
                  "hypertension": 1,
                  "other_diseases": 2,
                  "cardiovascular": 2,
                  "obesity": 1,
                  "chronic_kidney_failure": 2,
                  "smoker": 2,
                  "another_case": 99,
                  "outcome": 1,
                  "icu": 97,
                  "death_date": "9999-99-99",
                  "_deepnote_index_column": 9
                },
                {
                  "sex": 1,
                  "patient_type": 1,
                  "intubated": 97,
                  "pneumonia": 2,
                  "age": 66,
                  "pregnant": 2,
                  "diabetes": 2,
                  "copd": 2,
                  "asthma": 2,
                  "immunosuppression": 2,
                  "hypertension": 2,
                  "other_diseases": 2,
                  "cardiovascular": 2,
                  "obesity": 2,
                  "chronic_kidney_failure": 2,
                  "smoker": 2,
                  "another_case": 99,
                  "outcome": 2,
                  "icu": 97,
                  "death_date": "9999-99-99",
                  "_deepnote_index_column": 10
                },
                {
                  "sex": 1,
                  "patient_type": 2,
                  "intubated": 2,
                  "pneumonia": 1,
                  "age": 7,
                  "pregnant": 2,
                  "diabetes": 2,
                  "copd": 2,
                  "asthma": 1,
                  "immunosuppression": 2,
                  "hypertension": 2,
                  "other_diseases": 2,
                  "cardiovascular": 2,
                  "obesity": 2,
                  "chronic_kidney_failure": 2,
                  "smoker": 2,
                  "another_case": 2,
                  "outcome": 2,
                  "icu": 2,
                  "death_date": "9999-99-99",
                  "_deepnote_index_column": 11
                },
                {
                  "sex": 2,
                  "patient_type": 1,
                  "intubated": 97,
                  "pneumonia": 2,
                  "age": 33,
                  "pregnant": 97,
                  "diabetes": 2,
                  "copd": 2,
                  "asthma": 2,
                  "immunosuppression": 2,
                  "hypertension": 2,
                  "other_diseases": 2,
                  "cardiovascular": 2,
                  "obesity": 2,
                  "chronic_kidney_failure": 2,
                  "smoker": 2,
                  "another_case": 99,
                  "outcome": 2,
                  "icu": 97,
                  "death_date": "9999-99-99",
                  "_deepnote_index_column": 12
                },
                {
                  "sex": 1,
                  "patient_type": 1,
                  "intubated": 97,
                  "pneumonia": 2,
                  "age": 20,
                  "pregnant": 2,
                  "diabetes": 2,
                  "copd": 2,
                  "asthma": 2,
                  "immunosuppression": 2,
                  "hypertension": 2,
                  "other_diseases": 2,
                  "cardiovascular": 2,
                  "obesity": 2,
                  "chronic_kidney_failure": 2,
                  "smoker": 2,
                  "another_case": 2,
                  "outcome": 2,
                  "icu": 97,
                  "death_date": "9999-99-99",
                  "_deepnote_index_column": 13
                },
                {
                  "sex": 2,
                  "patient_type": 2,
                  "intubated": 2,
                  "pneumonia": 1,
                  "age": 40,
                  "pregnant": 97,
                  "diabetes": 1,
                  "copd": 2,
                  "asthma": 2,
                  "immunosuppression": 2,
                  "hypertension": 1,
                  "other_diseases": 2,
                  "cardiovascular": 2,
                  "obesity": 1,
                  "chronic_kidney_failure": 1,
                  "smoker": 2,
                  "another_case": 99,
                  "outcome": 2,
                  "icu": 2,
                  "death_date": "9999-99-99",
                  "_deepnote_index_column": 14
                },
                {
                  "sex": 1,
                  "patient_type": 1,
                  "intubated": 97,
                  "pneumonia": 2,
                  "age": 40,
                  "pregnant": 2,
                  "diabetes": 2,
                  "copd": 2,
                  "asthma": 1,
                  "immunosuppression": 2,
                  "hypertension": 2,
                  "other_diseases": 2,
                  "cardiovascular": 2,
                  "obesity": 2,
                  "chronic_kidney_failure": 2,
                  "smoker": 2,
                  "another_case": 99,
                  "outcome": 2,
                  "icu": 97,
                  "death_date": "9999-99-99",
                  "_deepnote_index_column": 15
                },
                {
                  "sex": 2,
                  "patient_type": 2,
                  "intubated": 2,
                  "pneumonia": 1,
                  "age": 45,
                  "pregnant": 97,
                  "diabetes": 1,
                  "copd": 1,
                  "asthma": 2,
                  "immunosuppression": 1,
                  "hypertension": 1,
                  "other_diseases": 2,
                  "cardiovascular": 1,
                  "obesity": 2,
                  "chronic_kidney_failure": 1,
                  "smoker": 2,
                  "another_case": 99,
                  "outcome": 2,
                  "icu": 2,
                  "death_date": "9999-99-99",
                  "_deepnote_index_column": 16
                },
                {
                  "sex": 1,
                  "patient_type": 2,
                  "intubated": 2,
                  "pneumonia": 1,
                  "age": 32,
                  "pregnant": 2,
                  "diabetes": 1,
                  "copd": 2,
                  "asthma": 1,
                  "immunosuppression": 1,
                  "hypertension": 2,
                  "other_diseases": 1,
                  "cardiovascular": 2,
                  "obesity": 2,
                  "chronic_kidney_failure": 2,
                  "smoker": 2,
                  "another_case": 99,
                  "outcome": 2,
                  "icu": 2,
                  "death_date": "9999-99-99",
                  "_deepnote_index_column": 17
                },
                {
                  "sex": 2,
                  "patient_type": 2,
                  "intubated": 2,
                  "pneumonia": 1,
                  "age": 60,
                  "pregnant": 97,
                  "diabetes": 2,
                  "copd": 2,
                  "asthma": 2,
                  "immunosuppression": 2,
                  "hypertension": 1,
                  "other_diseases": 2,
                  "cardiovascular": 2,
                  "obesity": 2,
                  "chronic_kidney_failure": 2,
                  "smoker": 2,
                  "another_case": 99,
                  "outcome": 1,
                  "icu": 1,
                  "death_date": "9999-99-99",
                  "_deepnote_index_column": 18
                },
                {
                  "sex": 2,
                  "patient_type": 2,
                  "intubated": 2,
                  "pneumonia": 2,
                  "age": 70,
                  "pregnant": 97,
                  "diabetes": 2,
                  "copd": 2,
                  "asthma": 2,
                  "immunosuppression": 2,
                  "hypertension": 2,
                  "other_diseases": 2,
                  "cardiovascular": 2,
                  "obesity": 2,
                  "chronic_kidney_failure": 2,
                  "smoker": 2,
                  "another_case": 99,
                  "outcome": 1,
                  "icu": 2,
                  "death_date": "2020-04-10",
                  "_deepnote_index_column": 19
                },
                {
                  "sex": 1,
                  "patient_type": 2,
                  "intubated": 1,
                  "pneumonia": 1,
                  "age": 22,
                  "pregnant": 1,
                  "diabetes": 2,
                  "copd": 2,
                  "asthma": 1,
                  "immunosuppression": 2,
                  "hypertension": 2,
                  "other_diseases": 2,
                  "cardiovascular": 2,
                  "obesity": 2,
                  "chronic_kidney_failure": 2,
                  "smoker": 2,
                  "another_case": 2,
                  "outcome": 2,
                  "icu": 2,
                  "death_date": "9999-99-99",
                  "_deepnote_index_column": 20
                },
                {
                  "sex": 1,
                  "patient_type": 2,
                  "intubated": 2,
                  "pneumonia": 2,
                  "age": 76,
                  "pregnant": 2,
                  "diabetes": 1,
                  "copd": 2,
                  "asthma": 2,
                  "immunosuppression": 2,
                  "hypertension": 1,
                  "other_diseases": 2,
                  "cardiovascular": 2,
                  "obesity": 2,
                  "chronic_kidney_failure": 2,
                  "smoker": 2,
                  "another_case": 99,
                  "outcome": 2,
                  "icu": 2,
                  "death_date": "9999-99-99",
                  "_deepnote_index_column": 21
                },
                {
                  "sex": 2,
                  "patient_type": 1,
                  "intubated": 97,
                  "pneumonia": 2,
                  "age": 25,
                  "pregnant": 97,
                  "diabetes": 2,
                  "copd": 2,
                  "asthma": 1,
                  "immunosuppression": 2,
                  "hypertension": 2,
                  "other_diseases": 2,
                  "cardiovascular": 2,
                  "obesity": 2,
                  "chronic_kidney_failure": 2,
                  "smoker": 2,
                  "another_case": 99,
                  "outcome": 2,
                  "icu": 97,
                  "death_date": "9999-99-99",
                  "_deepnote_index_column": 22
                },
                {
                  "sex": 1,
                  "patient_type": 2,
                  "intubated": 2,
                  "pneumonia": 1,
                  "age": 24,
                  "pregnant": 2,
                  "diabetes": 2,
                  "copd": 2,
                  "asthma": 2,
                  "immunosuppression": 2,
                  "hypertension": 2,
                  "other_diseases": 2,
                  "cardiovascular": 2,
                  "obesity": 2,
                  "chronic_kidney_failure": 2,
                  "smoker": 2,
                  "another_case": 2,
                  "outcome": 2,
                  "icu": 2,
                  "death_date": "9999-99-99",
                  "_deepnote_index_column": 23
                },
                {
                  "sex": 2,
                  "patient_type": 1,
                  "intubated": 97,
                  "pneumonia": 2,
                  "age": 56,
                  "pregnant": 97,
                  "diabetes": 2,
                  "copd": 2,
                  "asthma": 2,
                  "immunosuppression": 2,
                  "hypertension": 2,
                  "other_diseases": 2,
                  "cardiovascular": 2,
                  "obesity": 2,
                  "chronic_kidney_failure": 2,
                  "smoker": 2,
                  "another_case": 99,
                  "outcome": 2,
                  "icu": 97,
                  "death_date": "9999-99-99",
                  "_deepnote_index_column": 24
                }
              ],
              "rows_bottom": [
                {
                  "sex": 2,
                  "patient_type": 1,
                  "intubated": 97,
                  "pneumonia": 2,
                  "age": 58,
                  "pregnant": 97,
                  "diabetes": 2,
                  "copd": 2,
                  "asthma": 2,
                  "immunosuppression": 2,
                  "hypertension": 2,
                  "other_diseases": 2,
                  "cardiovascular": 2,
                  "obesity": 2,
                  "chronic_kidney_failure": 2,
                  "smoker": 2,
                  "another_case": 1,
                  "outcome": 3,
                  "icu": 97,
                  "death_date": "9999-99-99",
                  "_deepnote_index_column": 95814
                },
                {
                  "sex": 2,
                  "patient_type": 1,
                  "intubated": 97,
                  "pneumonia": 2,
                  "age": 46,
                  "pregnant": 97,
                  "diabetes": 2,
                  "copd": 2,
                  "asthma": 2,
                  "immunosuppression": 2,
                  "hypertension": 2,
                  "other_diseases": 2,
                  "cardiovascular": 2,
                  "obesity": 2,
                  "chronic_kidney_failure": 2,
                  "smoker": 2,
                  "another_case": 99,
                  "outcome": 3,
                  "icu": 97,
                  "death_date": "9999-99-99",
                  "_deepnote_index_column": 95815
                },
                {
                  "sex": 1,
                  "patient_type": 1,
                  "intubated": 97,
                  "pneumonia": 2,
                  "age": 46,
                  "pregnant": 2,
                  "diabetes": 2,
                  "copd": 2,
                  "asthma": 2,
                  "immunosuppression": 2,
                  "hypertension": 2,
                  "other_diseases": 2,
                  "cardiovascular": 2,
                  "obesity": 2,
                  "chronic_kidney_failure": 2,
                  "smoker": 2,
                  "another_case": 1,
                  "outcome": 3,
                  "icu": 97,
                  "death_date": "9999-99-99",
                  "_deepnote_index_column": 95816
                },
                {
                  "sex": 1,
                  "patient_type": 1,
                  "intubated": 97,
                  "pneumonia": 2,
                  "age": 43,
                  "pregnant": 2,
                  "diabetes": 1,
                  "copd": 2,
                  "asthma": 2,
                  "immunosuppression": 2,
                  "hypertension": 1,
                  "other_diseases": 2,
                  "cardiovascular": 2,
                  "obesity": 2,
                  "chronic_kidney_failure": 2,
                  "smoker": 2,
                  "another_case": 1,
                  "outcome": 3,
                  "icu": 97,
                  "death_date": "9999-99-99",
                  "_deepnote_index_column": 95817
                },
                {
                  "sex": 1,
                  "patient_type": 1,
                  "intubated": 97,
                  "pneumonia": 2,
                  "age": 35,
                  "pregnant": 2,
                  "diabetes": 2,
                  "copd": 2,
                  "asthma": 2,
                  "immunosuppression": 2,
                  "hypertension": 2,
                  "other_diseases": 2,
                  "cardiovascular": 2,
                  "obesity": 2,
                  "chronic_kidney_failure": 2,
                  "smoker": 1,
                  "another_case": 2,
                  "outcome": 3,
                  "icu": 97,
                  "death_date": "9999-99-99",
                  "_deepnote_index_column": 95818
                },
                {
                  "sex": 1,
                  "patient_type": 2,
                  "intubated": 2,
                  "pneumonia": 1,
                  "age": 66,
                  "pregnant": 2,
                  "diabetes": 2,
                  "copd": 2,
                  "asthma": 2,
                  "immunosuppression": 2,
                  "hypertension": 1,
                  "other_diseases": 2,
                  "cardiovascular": 2,
                  "obesity": 1,
                  "chronic_kidney_failure": 2,
                  "smoker": 2,
                  "another_case": 2,
                  "outcome": 3,
                  "icu": 2,
                  "death_date": "9999-99-99",
                  "_deepnote_index_column": 95819
                },
                {
                  "sex": 2,
                  "patient_type": 2,
                  "intubated": 2,
                  "pneumonia": 1,
                  "age": 46,
                  "pregnant": 97,
                  "diabetes": 1,
                  "copd": 2,
                  "asthma": 2,
                  "immunosuppression": 2,
                  "hypertension": 1,
                  "other_diseases": 2,
                  "cardiovascular": 2,
                  "obesity": 2,
                  "chronic_kidney_failure": 2,
                  "smoker": 2,
                  "another_case": 2,
                  "outcome": 3,
                  "icu": 2,
                  "death_date": "9999-99-99",
                  "_deepnote_index_column": 95820
                },
                {
                  "sex": 1,
                  "patient_type": 1,
                  "intubated": 97,
                  "pneumonia": 2,
                  "age": 35,
                  "pregnant": 2,
                  "diabetes": 2,
                  "copd": 2,
                  "asthma": 2,
                  "immunosuppression": 2,
                  "hypertension": 2,
                  "other_diseases": 2,
                  "cardiovascular": 2,
                  "obesity": 2,
                  "chronic_kidney_failure": 2,
                  "smoker": 2,
                  "another_case": 2,
                  "outcome": 3,
                  "icu": 97,
                  "death_date": "9999-99-99",
                  "_deepnote_index_column": 95821
                },
                {
                  "sex": 1,
                  "patient_type": 2,
                  "intubated": 2,
                  "pneumonia": 1,
                  "age": 87,
                  "pregnant": 2,
                  "diabetes": 2,
                  "copd": 2,
                  "asthma": 2,
                  "immunosuppression": 2,
                  "hypertension": 1,
                  "other_diseases": 2,
                  "cardiovascular": 2,
                  "obesity": 1,
                  "chronic_kidney_failure": 1,
                  "smoker": 2,
                  "another_case": 99,
                  "outcome": 3,
                  "icu": 2,
                  "death_date": "9999-99-99",
                  "_deepnote_index_column": 95822
                },
                {
                  "sex": 1,
                  "patient_type": 1,
                  "intubated": 97,
                  "pneumonia": 2,
                  "age": 21,
                  "pregnant": 2,
                  "diabetes": 2,
                  "copd": 2,
                  "asthma": 2,
                  "immunosuppression": 2,
                  "hypertension": 2,
                  "other_diseases": 2,
                  "cardiovascular": 2,
                  "obesity": 2,
                  "chronic_kidney_failure": 2,
                  "smoker": 2,
                  "another_case": 1,
                  "outcome": 3,
                  "icu": 97,
                  "death_date": "9999-99-99",
                  "_deepnote_index_column": 95823
                },
                {
                  "sex": 2,
                  "patient_type": 2,
                  "intubated": 1,
                  "pneumonia": 1,
                  "age": 52,
                  "pregnant": 97,
                  "diabetes": 2,
                  "copd": 2,
                  "asthma": 2,
                  "immunosuppression": 1,
                  "hypertension": 1,
                  "other_diseases": 2,
                  "cardiovascular": 2,
                  "obesity": 2,
                  "chronic_kidney_failure": 2,
                  "smoker": 2,
                  "another_case": 99,
                  "outcome": 3,
                  "icu": 1,
                  "death_date": "9999-99-99",
                  "_deepnote_index_column": 95824
                },
                {
                  "sex": 1,
                  "patient_type": 1,
                  "intubated": 97,
                  "pneumonia": 2,
                  "age": 35,
                  "pregnant": 2,
                  "diabetes": 2,
                  "copd": 2,
                  "asthma": 2,
                  "immunosuppression": 2,
                  "hypertension": 2,
                  "other_diseases": 2,
                  "cardiovascular": 2,
                  "obesity": 2,
                  "chronic_kidney_failure": 2,
                  "smoker": 2,
                  "another_case": 99,
                  "outcome": 3,
                  "icu": 97,
                  "death_date": "9999-99-99",
                  "_deepnote_index_column": 95825
                },
                {
                  "sex": 1,
                  "patient_type": 1,
                  "intubated": 97,
                  "pneumonia": 2,
                  "age": 44,
                  "pregnant": 2,
                  "diabetes": 2,
                  "copd": 2,
                  "asthma": 2,
                  "immunosuppression": 2,
                  "hypertension": 2,
                  "other_diseases": 2,
                  "cardiovascular": 2,
                  "obesity": 2,
                  "chronic_kidney_failure": 2,
                  "smoker": 1,
                  "another_case": 1,
                  "outcome": 3,
                  "icu": 97,
                  "death_date": "9999-99-99",
                  "_deepnote_index_column": 95826
                },
                {
                  "sex": 1,
                  "patient_type": 2,
                  "intubated": 2,
                  "pneumonia": 2,
                  "age": 74,
                  "pregnant": 2,
                  "diabetes": 2,
                  "copd": 2,
                  "asthma": 2,
                  "immunosuppression": 2,
                  "hypertension": 2,
                  "other_diseases": 2,
                  "cardiovascular": 2,
                  "obesity": 2,
                  "chronic_kidney_failure": 2,
                  "smoker": 2,
                  "another_case": 99,
                  "outcome": 3,
                  "icu": 2,
                  "death_date": "9999-99-99",
                  "_deepnote_index_column": 95827
                },
                {
                  "sex": 2,
                  "patient_type": 1,
                  "intubated": 97,
                  "pneumonia": 2,
                  "age": 33,
                  "pregnant": 97,
                  "diabetes": 2,
                  "copd": 2,
                  "asthma": 2,
                  "immunosuppression": 2,
                  "hypertension": 2,
                  "other_diseases": 2,
                  "cardiovascular": 2,
                  "obesity": 2,
                  "chronic_kidney_failure": 2,
                  "smoker": 2,
                  "another_case": 99,
                  "outcome": 3,
                  "icu": 97,
                  "death_date": "9999-99-99",
                  "_deepnote_index_column": 95828
                },
                {
                  "sex": 1,
                  "patient_type": 1,
                  "intubated": 97,
                  "pneumonia": 2,
                  "age": 47,
                  "pregnant": 2,
                  "diabetes": 2,
                  "copd": 2,
                  "asthma": 1,
                  "immunosuppression": 2,
                  "hypertension": 2,
                  "other_diseases": 2,
                  "cardiovascular": 2,
                  "obesity": 2,
                  "chronic_kidney_failure": 2,
                  "smoker": 2,
                  "another_case": 1,
                  "outcome": 3,
                  "icu": 97,
                  "death_date": "9999-99-99",
                  "_deepnote_index_column": 95829
                },
                {
                  "sex": 2,
                  "patient_type": 1,
                  "intubated": 97,
                  "pneumonia": 2,
                  "age": 52,
                  "pregnant": 97,
                  "diabetes": 2,
                  "copd": 2,
                  "asthma": 2,
                  "immunosuppression": 2,
                  "hypertension": 2,
                  "other_diseases": 2,
                  "cardiovascular": 2,
                  "obesity": 2,
                  "chronic_kidney_failure": 2,
                  "smoker": 2,
                  "another_case": 2,
                  "outcome": 3,
                  "icu": 97,
                  "death_date": "9999-99-99",
                  "_deepnote_index_column": 95830
                },
                {
                  "sex": 2,
                  "patient_type": 2,
                  "intubated": 2,
                  "pneumonia": 1,
                  "age": 44,
                  "pregnant": 97,
                  "diabetes": 2,
                  "copd": 2,
                  "asthma": 2,
                  "immunosuppression": 2,
                  "hypertension": 2,
                  "other_diseases": 2,
                  "cardiovascular": 2,
                  "obesity": 1,
                  "chronic_kidney_failure": 2,
                  "smoker": 2,
                  "another_case": 1,
                  "outcome": 3,
                  "icu": 2,
                  "death_date": "9999-99-99",
                  "_deepnote_index_column": 95831
                },
                {
                  "sex": 2,
                  "patient_type": 2,
                  "intubated": 2,
                  "pneumonia": 1,
                  "age": 54,
                  "pregnant": 97,
                  "diabetes": 2,
                  "copd": 2,
                  "asthma": 2,
                  "immunosuppression": 2,
                  "hypertension": 2,
                  "other_diseases": 2,
                  "cardiovascular": 2,
                  "obesity": 2,
                  "chronic_kidney_failure": 2,
                  "smoker": 2,
                  "another_case": 2,
                  "outcome": 3,
                  "icu": 2,
                  "death_date": "9999-99-99",
                  "_deepnote_index_column": 95832
                },
                {
                  "sex": 2,
                  "patient_type": 2,
                  "intubated": 2,
                  "pneumonia": 1,
                  "age": 45,
                  "pregnant": 97,
                  "diabetes": 1,
                  "copd": 2,
                  "asthma": 2,
                  "immunosuppression": 2,
                  "hypertension": 1,
                  "other_diseases": 2,
                  "cardiovascular": 2,
                  "obesity": 2,
                  "chronic_kidney_failure": 1,
                  "smoker": 2,
                  "another_case": 99,
                  "outcome": 3,
                  "icu": 2,
                  "death_date": "9999-99-99",
                  "_deepnote_index_column": 95833
                },
                {
                  "sex": 2,
                  "patient_type": 2,
                  "intubated": 2,
                  "pneumonia": 2,
                  "age": 59,
                  "pregnant": 97,
                  "diabetes": 2,
                  "copd": 2,
                  "asthma": 2,
                  "immunosuppression": 2,
                  "hypertension": 2,
                  "other_diseases": 2,
                  "cardiovascular": 2,
                  "obesity": 2,
                  "chronic_kidney_failure": 2,
                  "smoker": 2,
                  "another_case": 99,
                  "outcome": 3,
                  "icu": 2,
                  "death_date": "9999-99-99",
                  "_deepnote_index_column": 95834
                },
                {
                  "sex": 2,
                  "patient_type": 2,
                  "intubated": 2,
                  "pneumonia": 2,
                  "age": 50,
                  "pregnant": 97,
                  "diabetes": 1,
                  "copd": 2,
                  "asthma": 2,
                  "immunosuppression": 1,
                  "hypertension": 1,
                  "other_diseases": 2,
                  "cardiovascular": 2,
                  "obesity": 2,
                  "chronic_kidney_failure": 1,
                  "smoker": 2,
                  "another_case": 99,
                  "outcome": 3,
                  "icu": 2,
                  "death_date": "9999-99-99",
                  "_deepnote_index_column": 95835
                },
                {
                  "sex": 1,
                  "patient_type": 2,
                  "intubated": 2,
                  "pneumonia": 2,
                  "age": 65,
                  "pregnant": 2,
                  "diabetes": 2,
                  "copd": 2,
                  "asthma": 2,
                  "immunosuppression": 2,
                  "hypertension": 1,
                  "other_diseases": 2,
                  "cardiovascular": 2,
                  "obesity": 2,
                  "chronic_kidney_failure": 2,
                  "smoker": 2,
                  "another_case": 99,
                  "outcome": 3,
                  "icu": 2,
                  "death_date": "9999-99-99",
                  "_deepnote_index_column": 95836
                },
                {
                  "sex": 1,
                  "patient_type": 1,
                  "intubated": 97,
                  "pneumonia": 2,
                  "age": 48,
                  "pregnant": 2,
                  "diabetes": 2,
                  "copd": 2,
                  "asthma": 2,
                  "immunosuppression": 2,
                  "hypertension": 2,
                  "other_diseases": 2,
                  "cardiovascular": 2,
                  "obesity": 2,
                  "chronic_kidney_failure": 2,
                  "smoker": 2,
                  "another_case": 1,
                  "outcome": 3,
                  "icu": 97,
                  "death_date": "9999-99-99",
                  "_deepnote_index_column": 95837
                },
                {
                  "sex": 2,
                  "patient_type": 1,
                  "intubated": 97,
                  "pneumonia": 2,
                  "age": 23,
                  "pregnant": 97,
                  "diabetes": 2,
                  "copd": 2,
                  "asthma": 2,
                  "immunosuppression": 2,
                  "hypertension": 2,
                  "other_diseases": 2,
                  "cardiovascular": 2,
                  "obesity": 2,
                  "chronic_kidney_failure": 2,
                  "smoker": 2,
                  "another_case": 1,
                  "outcome": 3,
                  "icu": 97,
                  "death_date": "9999-99-99",
                  "_deepnote_index_column": 95838
                }
              ]
            },
            "text/plain": "       sex  patient_type  intubated  pneumonia  age  pregnant  diabetes  copd  \\\n0        2             1         97          2   42        97         2     2   \n1        1             1         97          2   51         2         2     2   \n2        2             2          2          2   51        97         1     2   \n3        2             2          2          2   57        97         1     2   \n4        1             2          2          2   44         2         1     2   \n...    ...           ...        ...        ...  ...       ...       ...   ...   \n95834    2             2          2          2   59        97         2     2   \n95835    2             2          2          2   50        97         1     2   \n95836    1             2          2          2   65         2         2     2   \n95837    1             1         97          2   48         2         2     2   \n95838    2             1         97          2   23        97         2     2   \n\n       asthma  immunosuppression  hypertension  other_diseases  \\\n0           1                  2             2               2   \n1           2                  2             2               2   \n2           2                  2             1               2   \n3           2                  2             2               2   \n4           2                  2             2               2   \n...       ...                ...           ...             ...   \n95834       2                  2             2               2   \n95835       2                  1             1               2   \n95836       2                  2             1               2   \n95837       2                  2             2               2   \n95838       2                  2             2               2   \n\n       cardiovascular  obesity  chronic_kidney_failure  smoker  another_case  \\\n0                   2        2                       2       2            99   \n1                   2        2                       2       2            99   \n2                   2        1                       2       2            99   \n3                   2        2                       2       2            99   \n4                   2        2                       2       2             2   \n...               ...      ...                     ...     ...           ...   \n95834               2        2                       2       2            99   \n95835               2        2                       1       2            99   \n95836               2        2                       2       2            99   \n95837               2        2                       2       2             1   \n95838               2        2                       2       2             1   \n\n       outcome  icu  death_date  \n0            1   97  9999-99-99  \n1            1   97  9999-99-99  \n2            1    2  9999-99-99  \n3            1    2  2020-04-01  \n4            2    2  9999-99-99  \n...        ...  ...         ...  \n95834        3    2  9999-99-99  \n95835        3    2  9999-99-99  \n95836        3    2  9999-99-99  \n95837        3   97  9999-99-99  \n95838        3   97  9999-99-99  \n\n[95839 rows x 20 columns]",
            "text/html": "<div>\n<style scoped>\n    .dataframe tbody tr th:only-of-type {\n        vertical-align: middle;\n    }\n\n    .dataframe tbody tr th {\n        vertical-align: top;\n    }\n\n    .dataframe thead th {\n        text-align: right;\n    }\n</style>\n<table border=\"1\" class=\"dataframe\">\n  <thead>\n    <tr style=\"text-align: right;\">\n      <th></th>\n      <th>sex</th>\n      <th>patient_type</th>\n      <th>intubated</th>\n      <th>pneumonia</th>\n      <th>age</th>\n      <th>pregnant</th>\n      <th>diabetes</th>\n      <th>copd</th>\n      <th>asthma</th>\n      <th>immunosuppression</th>\n      <th>hypertension</th>\n      <th>other_diseases</th>\n      <th>cardiovascular</th>\n      <th>obesity</th>\n      <th>chronic_kidney_failure</th>\n      <th>smoker</th>\n      <th>another_case</th>\n      <th>outcome</th>\n      <th>icu</th>\n      <th>death_date</th>\n    </tr>\n  </thead>\n  <tbody>\n    <tr>\n      <th>0</th>\n      <td>2</td>\n      <td>1</td>\n      <td>97</td>\n      <td>2</td>\n      <td>42</td>\n      <td>97</td>\n      <td>2</td>\n      <td>2</td>\n      <td>1</td>\n      <td>2</td>\n      <td>2</td>\n      <td>2</td>\n      <td>2</td>\n      <td>2</td>\n      <td>2</td>\n      <td>2</td>\n      <td>99</td>\n      <td>1</td>\n      <td>97</td>\n      <td>9999-99-99</td>\n    </tr>\n    <tr>\n      <th>1</th>\n      <td>1</td>\n      <td>1</td>\n      <td>97</td>\n      <td>2</td>\n      <td>51</td>\n      <td>2</td>\n      <td>2</td>\n      <td>2</td>\n      <td>2</td>\n      <td>2</td>\n      <td>2</td>\n      <td>2</td>\n      <td>2</td>\n      <td>2</td>\n      <td>2</td>\n      <td>2</td>\n      <td>99</td>\n      <td>1</td>\n      <td>97</td>\n      <td>9999-99-99</td>\n    </tr>\n    <tr>\n      <th>2</th>\n      <td>2</td>\n      <td>2</td>\n      <td>2</td>\n      <td>2</td>\n      <td>51</td>\n      <td>97</td>\n      <td>1</td>\n      <td>2</td>\n      <td>2</td>\n      <td>2</td>\n      <td>1</td>\n      <td>2</td>\n      <td>2</td>\n      <td>1</td>\n      <td>2</td>\n      <td>2</td>\n      <td>99</td>\n      <td>1</td>\n      <td>2</td>\n      <td>9999-99-99</td>\n    </tr>\n    <tr>\n      <th>3</th>\n      <td>2</td>\n      <td>2</td>\n      <td>2</td>\n      <td>2</td>\n      <td>57</td>\n      <td>97</td>\n      <td>1</td>\n      <td>2</td>\n      <td>2</td>\n      <td>2</td>\n      <td>2</td>\n      <td>2</td>\n      <td>2</td>\n      <td>2</td>\n      <td>2</td>\n      <td>2</td>\n      <td>99</td>\n      <td>1</td>\n      <td>2</td>\n      <td>2020-04-01</td>\n    </tr>\n    <tr>\n      <th>4</th>\n      <td>1</td>\n      <td>2</td>\n      <td>2</td>\n      <td>2</td>\n      <td>44</td>\n      <td>2</td>\n      <td>1</td>\n      <td>2</td>\n      <td>2</td>\n      <td>2</td>\n      <td>2</td>\n      <td>2</td>\n      <td>2</td>\n      <td>2</td>\n      <td>2</td>\n      <td>2</td>\n      <td>2</td>\n      <td>2</td>\n      <td>2</td>\n      <td>9999-99-99</td>\n    </tr>\n    <tr>\n      <th>...</th>\n      <td>...</td>\n      <td>...</td>\n      <td>...</td>\n      <td>...</td>\n      <td>...</td>\n      <td>...</td>\n      <td>...</td>\n      <td>...</td>\n      <td>...</td>\n      <td>...</td>\n      <td>...</td>\n      <td>...</td>\n      <td>...</td>\n      <td>...</td>\n      <td>...</td>\n      <td>...</td>\n      <td>...</td>\n      <td>...</td>\n      <td>...</td>\n      <td>...</td>\n    </tr>\n    <tr>\n      <th>95834</th>\n      <td>2</td>\n      <td>2</td>\n      <td>2</td>\n      <td>2</td>\n      <td>59</td>\n      <td>97</td>\n      <td>2</td>\n      <td>2</td>\n      <td>2</td>\n      <td>2</td>\n      <td>2</td>\n      <td>2</td>\n      <td>2</td>\n      <td>2</td>\n      <td>2</td>\n      <td>2</td>\n      <td>99</td>\n      <td>3</td>\n      <td>2</td>\n      <td>9999-99-99</td>\n    </tr>\n    <tr>\n      <th>95835</th>\n      <td>2</td>\n      <td>2</td>\n      <td>2</td>\n      <td>2</td>\n      <td>50</td>\n      <td>97</td>\n      <td>1</td>\n      <td>2</td>\n      <td>2</td>\n      <td>1</td>\n      <td>1</td>\n      <td>2</td>\n      <td>2</td>\n      <td>2</td>\n      <td>1</td>\n      <td>2</td>\n      <td>99</td>\n      <td>3</td>\n      <td>2</td>\n      <td>9999-99-99</td>\n    </tr>\n    <tr>\n      <th>95836</th>\n      <td>1</td>\n      <td>2</td>\n      <td>2</td>\n      <td>2</td>\n      <td>65</td>\n      <td>2</td>\n      <td>2</td>\n      <td>2</td>\n      <td>2</td>\n      <td>2</td>\n      <td>1</td>\n      <td>2</td>\n      <td>2</td>\n      <td>2</td>\n      <td>2</td>\n      <td>2</td>\n      <td>99</td>\n      <td>3</td>\n      <td>2</td>\n      <td>9999-99-99</td>\n    </tr>\n    <tr>\n      <th>95837</th>\n      <td>1</td>\n      <td>1</td>\n      <td>97</td>\n      <td>2</td>\n      <td>48</td>\n      <td>2</td>\n      <td>2</td>\n      <td>2</td>\n      <td>2</td>\n      <td>2</td>\n      <td>2</td>\n      <td>2</td>\n      <td>2</td>\n      <td>2</td>\n      <td>2</td>\n      <td>2</td>\n      <td>1</td>\n      <td>3</td>\n      <td>97</td>\n      <td>9999-99-99</td>\n    </tr>\n    <tr>\n      <th>95838</th>\n      <td>2</td>\n      <td>1</td>\n      <td>97</td>\n      <td>2</td>\n      <td>23</td>\n      <td>97</td>\n      <td>2</td>\n      <td>2</td>\n      <td>2</td>\n      <td>2</td>\n      <td>2</td>\n      <td>2</td>\n      <td>2</td>\n      <td>2</td>\n      <td>2</td>\n      <td>2</td>\n      <td>1</td>\n      <td>3</td>\n      <td>97</td>\n      <td>9999-99-99</td>\n    </tr>\n  </tbody>\n</table>\n<p>95839 rows × 20 columns</p>\n</div>"
          },
          "metadata": {}
        }
      ],
      "execution_count": null
    },
    {
      "cell_type": "code",
      "metadata": {
        "tags": [],
        "cell_id": "00005-91da4cc3-4532-48d9-924f-ef485181ed79",
        "output_cleared": false,
        "source_hash": "283e2aef",
        "execution_millis": 75,
        "deepnote_to_be_reexecuted": false,
        "execution_start": 1618902849885,
        "deepnote_cell_type": "code"
      },
      "source": "#eliminiamo output != da 1 \ndt = dataset[dataset[\"outcome\"] == 1]\ndt[\"outcome\"].unique()\ndt",
      "outputs": [
        {
          "output_type": "execute_result",
          "execution_count": 6,
          "data": {
            "application/vnd.deepnote.dataframe.v2+json": {
              "row_count": 23471,
              "column_count": 20,
              "columns": [
                {
                  "name": "sex",
                  "dtype": "int64",
                  "stats": {
                    "unique_count": 2,
                    "nan_count": 0,
                    "min": "1",
                    "max": "2",
                    "histogram": [
                      {
                        "bin_start": 1,
                        "bin_end": 1.1,
                        "count": 9811
                      },
                      {
                        "bin_start": 1.1,
                        "bin_end": 1.2,
                        "count": 0
                      },
                      {
                        "bin_start": 1.2,
                        "bin_end": 1.3,
                        "count": 0
                      },
                      {
                        "bin_start": 1.3,
                        "bin_end": 1.4,
                        "count": 0
                      },
                      {
                        "bin_start": 1.4,
                        "bin_end": 1.5,
                        "count": 0
                      },
                      {
                        "bin_start": 1.5,
                        "bin_end": 1.6,
                        "count": 0
                      },
                      {
                        "bin_start": 1.6,
                        "bin_end": 1.7000000000000002,
                        "count": 0
                      },
                      {
                        "bin_start": 1.7000000000000002,
                        "bin_end": 1.8,
                        "count": 0
                      },
                      {
                        "bin_start": 1.8,
                        "bin_end": 1.9,
                        "count": 0
                      },
                      {
                        "bin_start": 1.9,
                        "bin_end": 2,
                        "count": 13660
                      }
                    ]
                  }
                },
                {
                  "name": "patient_type",
                  "dtype": "int64",
                  "stats": {
                    "unique_count": 2,
                    "nan_count": 0,
                    "min": "1",
                    "max": "2",
                    "histogram": [
                      {
                        "bin_start": 1,
                        "bin_end": 1.1,
                        "count": 14201
                      },
                      {
                        "bin_start": 1.1,
                        "bin_end": 1.2,
                        "count": 0
                      },
                      {
                        "bin_start": 1.2,
                        "bin_end": 1.3,
                        "count": 0
                      },
                      {
                        "bin_start": 1.3,
                        "bin_end": 1.4,
                        "count": 0
                      },
                      {
                        "bin_start": 1.4,
                        "bin_end": 1.5,
                        "count": 0
                      },
                      {
                        "bin_start": 1.5,
                        "bin_end": 1.6,
                        "count": 0
                      },
                      {
                        "bin_start": 1.6,
                        "bin_end": 1.7000000000000002,
                        "count": 0
                      },
                      {
                        "bin_start": 1.7000000000000002,
                        "bin_end": 1.8,
                        "count": 0
                      },
                      {
                        "bin_start": 1.8,
                        "bin_end": 1.9,
                        "count": 0
                      },
                      {
                        "bin_start": 1.9,
                        "bin_end": 2,
                        "count": 9270
                      }
                    ]
                  }
                },
                {
                  "name": "intubated",
                  "dtype": "int64",
                  "stats": {
                    "unique_count": 4,
                    "nan_count": 0,
                    "min": "1",
                    "max": "99",
                    "histogram": [
                      {
                        "bin_start": 1,
                        "bin_end": 10.8,
                        "count": 9266
                      },
                      {
                        "bin_start": 10.8,
                        "bin_end": 20.6,
                        "count": 0
                      },
                      {
                        "bin_start": 20.6,
                        "bin_end": 30.400000000000002,
                        "count": 0
                      },
                      {
                        "bin_start": 30.400000000000002,
                        "bin_end": 40.2,
                        "count": 0
                      },
                      {
                        "bin_start": 40.2,
                        "bin_end": 50,
                        "count": 0
                      },
                      {
                        "bin_start": 50,
                        "bin_end": 59.800000000000004,
                        "count": 0
                      },
                      {
                        "bin_start": 59.800000000000004,
                        "bin_end": 69.60000000000001,
                        "count": 0
                      },
                      {
                        "bin_start": 69.60000000000001,
                        "bin_end": 79.4,
                        "count": 0
                      },
                      {
                        "bin_start": 79.4,
                        "bin_end": 89.2,
                        "count": 0
                      },
                      {
                        "bin_start": 89.2,
                        "bin_end": 99,
                        "count": 14205
                      }
                    ]
                  }
                },
                {
                  "name": "pneumonia",
                  "dtype": "int64",
                  "stats": {
                    "unique_count": 3,
                    "nan_count": 0,
                    "min": "1",
                    "max": "99",
                    "histogram": [
                      {
                        "bin_start": 1,
                        "bin_end": 10.8,
                        "count": 23470
                      },
                      {
                        "bin_start": 10.8,
                        "bin_end": 20.6,
                        "count": 0
                      },
                      {
                        "bin_start": 20.6,
                        "bin_end": 30.400000000000002,
                        "count": 0
                      },
                      {
                        "bin_start": 30.400000000000002,
                        "bin_end": 40.2,
                        "count": 0
                      },
                      {
                        "bin_start": 40.2,
                        "bin_end": 50,
                        "count": 0
                      },
                      {
                        "bin_start": 50,
                        "bin_end": 59.800000000000004,
                        "count": 0
                      },
                      {
                        "bin_start": 59.800000000000004,
                        "bin_end": 69.60000000000001,
                        "count": 0
                      },
                      {
                        "bin_start": 69.60000000000001,
                        "bin_end": 79.4,
                        "count": 0
                      },
                      {
                        "bin_start": 79.4,
                        "bin_end": 89.2,
                        "count": 0
                      },
                      {
                        "bin_start": 89.2,
                        "bin_end": 99,
                        "count": 1
                      }
                    ]
                  }
                },
                {
                  "name": "age",
                  "dtype": "int64"
                },
                {
                  "name": "pregnant",
                  "dtype": "int64"
                },
                {
                  "name": "diabetes",
                  "dtype": "int64"
                },
                {
                  "name": "copd",
                  "dtype": "int64"
                },
                {
                  "name": "asthma",
                  "dtype": "int64"
                },
                {
                  "name": "immunosuppression",
                  "dtype": "int64"
                },
                {
                  "name": "hypertension",
                  "dtype": "int64"
                },
                {
                  "name": "other_diseases",
                  "dtype": "int64"
                },
                {
                  "name": "cardiovascular",
                  "dtype": "int64"
                },
                {
                  "name": "obesity",
                  "dtype": "int64"
                },
                {
                  "name": "chronic_kidney_failure",
                  "dtype": "int64"
                },
                {
                  "name": "smoker",
                  "dtype": "int64"
                },
                {
                  "name": "another_case",
                  "dtype": "int64"
                },
                {
                  "name": "outcome",
                  "dtype": "int64"
                },
                {
                  "name": "icu",
                  "dtype": "int64"
                },
                {
                  "name": "death_date",
                  "dtype": "object"
                },
                {
                  "name": "_deepnote_index_column",
                  "dtype": "int64"
                }
              ],
              "rows_top": [
                {
                  "sex": 2,
                  "patient_type": 1,
                  "intubated": 97,
                  "pneumonia": 2,
                  "age": 42,
                  "pregnant": 97,
                  "diabetes": 2,
                  "copd": 2,
                  "asthma": 1,
                  "immunosuppression": 2,
                  "hypertension": 2,
                  "other_diseases": 2,
                  "cardiovascular": 2,
                  "obesity": 2,
                  "chronic_kidney_failure": 2,
                  "smoker": 2,
                  "another_case": 99,
                  "outcome": 1,
                  "icu": 97,
                  "death_date": "9999-99-99",
                  "_deepnote_index_column": 0
                },
                {
                  "sex": 1,
                  "patient_type": 1,
                  "intubated": 97,
                  "pneumonia": 2,
                  "age": 51,
                  "pregnant": 2,
                  "diabetes": 2,
                  "copd": 2,
                  "asthma": 2,
                  "immunosuppression": 2,
                  "hypertension": 2,
                  "other_diseases": 2,
                  "cardiovascular": 2,
                  "obesity": 2,
                  "chronic_kidney_failure": 2,
                  "smoker": 2,
                  "another_case": 99,
                  "outcome": 1,
                  "icu": 97,
                  "death_date": "9999-99-99",
                  "_deepnote_index_column": 1
                },
                {
                  "sex": 2,
                  "patient_type": 2,
                  "intubated": 2,
                  "pneumonia": 2,
                  "age": 51,
                  "pregnant": 97,
                  "diabetes": 1,
                  "copd": 2,
                  "asthma": 2,
                  "immunosuppression": 2,
                  "hypertension": 1,
                  "other_diseases": 2,
                  "cardiovascular": 2,
                  "obesity": 1,
                  "chronic_kidney_failure": 2,
                  "smoker": 2,
                  "another_case": 99,
                  "outcome": 1,
                  "icu": 2,
                  "death_date": "9999-99-99",
                  "_deepnote_index_column": 2
                },
                {
                  "sex": 2,
                  "patient_type": 2,
                  "intubated": 2,
                  "pneumonia": 2,
                  "age": 57,
                  "pregnant": 97,
                  "diabetes": 1,
                  "copd": 2,
                  "asthma": 2,
                  "immunosuppression": 2,
                  "hypertension": 2,
                  "other_diseases": 2,
                  "cardiovascular": 2,
                  "obesity": 2,
                  "chronic_kidney_failure": 2,
                  "smoker": 2,
                  "another_case": 99,
                  "outcome": 1,
                  "icu": 2,
                  "death_date": "2020-04-01",
                  "_deepnote_index_column": 3
                },
                {
                  "sex": 2,
                  "patient_type": 1,
                  "intubated": 97,
                  "pneumonia": 2,
                  "age": 55,
                  "pregnant": 97,
                  "diabetes": 1,
                  "copd": 2,
                  "asthma": 1,
                  "immunosuppression": 2,
                  "hypertension": 1,
                  "other_diseases": 2,
                  "cardiovascular": 2,
                  "obesity": 1,
                  "chronic_kidney_failure": 2,
                  "smoker": 2,
                  "another_case": 99,
                  "outcome": 1,
                  "icu": 97,
                  "death_date": "9999-99-99",
                  "_deepnote_index_column": 9
                },
                {
                  "sex": 2,
                  "patient_type": 2,
                  "intubated": 2,
                  "pneumonia": 1,
                  "age": 60,
                  "pregnant": 97,
                  "diabetes": 2,
                  "copd": 2,
                  "asthma": 2,
                  "immunosuppression": 2,
                  "hypertension": 1,
                  "other_diseases": 2,
                  "cardiovascular": 2,
                  "obesity": 2,
                  "chronic_kidney_failure": 2,
                  "smoker": 2,
                  "another_case": 99,
                  "outcome": 1,
                  "icu": 1,
                  "death_date": "9999-99-99",
                  "_deepnote_index_column": 18
                },
                {
                  "sex": 2,
                  "patient_type": 2,
                  "intubated": 2,
                  "pneumonia": 2,
                  "age": 70,
                  "pregnant": 97,
                  "diabetes": 2,
                  "copd": 2,
                  "asthma": 2,
                  "immunosuppression": 2,
                  "hypertension": 2,
                  "other_diseases": 2,
                  "cardiovascular": 2,
                  "obesity": 2,
                  "chronic_kidney_failure": 2,
                  "smoker": 2,
                  "another_case": 99,
                  "outcome": 1,
                  "icu": 2,
                  "death_date": "2020-04-10",
                  "_deepnote_index_column": 19
                },
                {
                  "sex": 1,
                  "patient_type": 1,
                  "intubated": 97,
                  "pneumonia": 2,
                  "age": 76,
                  "pregnant": 2,
                  "diabetes": 2,
                  "copd": 2,
                  "asthma": 2,
                  "immunosuppression": 2,
                  "hypertension": 2,
                  "other_diseases": 2,
                  "cardiovascular": 2,
                  "obesity": 2,
                  "chronic_kidney_failure": 2,
                  "smoker": 2,
                  "another_case": 1,
                  "outcome": 1,
                  "icu": 97,
                  "death_date": "9999-99-99",
                  "_deepnote_index_column": 26
                },
                {
                  "sex": 2,
                  "patient_type": 2,
                  "intubated": 2,
                  "pneumonia": 1,
                  "age": 57,
                  "pregnant": 97,
                  "diabetes": 1,
                  "copd": 2,
                  "asthma": 2,
                  "immunosuppression": 2,
                  "hypertension": 1,
                  "other_diseases": 2,
                  "cardiovascular": 2,
                  "obesity": 2,
                  "chronic_kidney_failure": 2,
                  "smoker": 1,
                  "another_case": 99,
                  "outcome": 1,
                  "icu": 2,
                  "death_date": "2020-03-24",
                  "_deepnote_index_column": 29
                },
                {
                  "sex": 2,
                  "patient_type": 1,
                  "intubated": 97,
                  "pneumonia": 2,
                  "age": 59,
                  "pregnant": 97,
                  "diabetes": 2,
                  "copd": 2,
                  "asthma": 2,
                  "immunosuppression": 2,
                  "hypertension": 2,
                  "other_diseases": 2,
                  "cardiovascular": 2,
                  "obesity": 1,
                  "chronic_kidney_failure": 2,
                  "smoker": 1,
                  "another_case": 99,
                  "outcome": 1,
                  "icu": 97,
                  "death_date": "9999-99-99",
                  "_deepnote_index_column": 30
                },
                {
                  "sex": 2,
                  "patient_type": 2,
                  "intubated": 2,
                  "pneumonia": 2,
                  "age": 31,
                  "pregnant": 97,
                  "diabetes": 2,
                  "copd": 2,
                  "asthma": 2,
                  "immunosuppression": 2,
                  "hypertension": 2,
                  "other_diseases": 2,
                  "cardiovascular": 2,
                  "obesity": 2,
                  "chronic_kidney_failure": 2,
                  "smoker": 2,
                  "another_case": 99,
                  "outcome": 1,
                  "icu": 2,
                  "death_date": "9999-99-99",
                  "_deepnote_index_column": 31
                },
                {
                  "sex": 1,
                  "patient_type": 1,
                  "intubated": 97,
                  "pneumonia": 2,
                  "age": 37,
                  "pregnant": 2,
                  "diabetes": 2,
                  "copd": 2,
                  "asthma": 1,
                  "immunosuppression": 2,
                  "hypertension": 2,
                  "other_diseases": 2,
                  "cardiovascular": 2,
                  "obesity": 2,
                  "chronic_kidney_failure": 2,
                  "smoker": 2,
                  "another_case": 99,
                  "outcome": 1,
                  "icu": 97,
                  "death_date": "9999-99-99",
                  "_deepnote_index_column": 36
                },
                {
                  "sex": 1,
                  "patient_type": 1,
                  "intubated": 97,
                  "pneumonia": 2,
                  "age": 19,
                  "pregnant": 2,
                  "diabetes": 2,
                  "copd": 2,
                  "asthma": 2,
                  "immunosuppression": 2,
                  "hypertension": 2,
                  "other_diseases": 2,
                  "cardiovascular": 2,
                  "obesity": 2,
                  "chronic_kidney_failure": 2,
                  "smoker": 2,
                  "another_case": 99,
                  "outcome": 1,
                  "icu": 97,
                  "death_date": "9999-99-99",
                  "_deepnote_index_column": 37
                },
                {
                  "sex": 2,
                  "patient_type": 1,
                  "intubated": 97,
                  "pneumonia": 2,
                  "age": 52,
                  "pregnant": 97,
                  "diabetes": 2,
                  "copd": 2,
                  "asthma": 2,
                  "immunosuppression": 2,
                  "hypertension": 1,
                  "other_diseases": 1,
                  "cardiovascular": 2,
                  "obesity": 2,
                  "chronic_kidney_failure": 2,
                  "smoker": 2,
                  "another_case": 99,
                  "outcome": 1,
                  "icu": 97,
                  "death_date": "9999-99-99",
                  "_deepnote_index_column": 43
                },
                {
                  "sex": 1,
                  "patient_type": 2,
                  "intubated": 2,
                  "pneumonia": 1,
                  "age": 51,
                  "pregnant": 2,
                  "diabetes": 2,
                  "copd": 2,
                  "asthma": 2,
                  "immunosuppression": 2,
                  "hypertension": 2,
                  "other_diseases": 2,
                  "cardiovascular": 2,
                  "obesity": 2,
                  "chronic_kidney_failure": 2,
                  "smoker": 2,
                  "another_case": 99,
                  "outcome": 1,
                  "icu": 2,
                  "death_date": "2020-04-11",
                  "_deepnote_index_column": 46
                },
                {
                  "sex": 1,
                  "patient_type": 1,
                  "intubated": 97,
                  "pneumonia": 2,
                  "age": 28,
                  "pregnant": 2,
                  "diabetes": 2,
                  "copd": 2,
                  "asthma": 2,
                  "immunosuppression": 2,
                  "hypertension": 2,
                  "other_diseases": 2,
                  "cardiovascular": 2,
                  "obesity": 2,
                  "chronic_kidney_failure": 2,
                  "smoker": 2,
                  "another_case": 99,
                  "outcome": 1,
                  "icu": 97,
                  "death_date": "9999-99-99",
                  "_deepnote_index_column": 58
                },
                {
                  "sex": 2,
                  "patient_type": 1,
                  "intubated": 97,
                  "pneumonia": 2,
                  "age": 23,
                  "pregnant": 97,
                  "diabetes": 2,
                  "copd": 2,
                  "asthma": 2,
                  "immunosuppression": 2,
                  "hypertension": 2,
                  "other_diseases": 2,
                  "cardiovascular": 2,
                  "obesity": 2,
                  "chronic_kidney_failure": 2,
                  "smoker": 2,
                  "another_case": 1,
                  "outcome": 1,
                  "icu": 97,
                  "death_date": "9999-99-99",
                  "_deepnote_index_column": 59
                },
                {
                  "sex": 2,
                  "patient_type": 1,
                  "intubated": 97,
                  "pneumonia": 2,
                  "age": 49,
                  "pregnant": 97,
                  "diabetes": 1,
                  "copd": 2,
                  "asthma": 2,
                  "immunosuppression": 2,
                  "hypertension": 1,
                  "other_diseases": 2,
                  "cardiovascular": 2,
                  "obesity": 2,
                  "chronic_kidney_failure": 2,
                  "smoker": 2,
                  "another_case": 99,
                  "outcome": 1,
                  "icu": 97,
                  "death_date": "9999-99-99",
                  "_deepnote_index_column": 60
                },
                {
                  "sex": 2,
                  "patient_type": 2,
                  "intubated": 2,
                  "pneumonia": 1,
                  "age": 28,
                  "pregnant": 97,
                  "diabetes": 2,
                  "copd": 2,
                  "asthma": 2,
                  "immunosuppression": 2,
                  "hypertension": 2,
                  "other_diseases": 2,
                  "cardiovascular": 2,
                  "obesity": 1,
                  "chronic_kidney_failure": 2,
                  "smoker": 2,
                  "another_case": 99,
                  "outcome": 1,
                  "icu": 2,
                  "death_date": "9999-99-99",
                  "_deepnote_index_column": 61
                },
                {
                  "sex": 1,
                  "patient_type": 1,
                  "intubated": 97,
                  "pneumonia": 2,
                  "age": 32,
                  "pregnant": 2,
                  "diabetes": 2,
                  "copd": 2,
                  "asthma": 2,
                  "immunosuppression": 2,
                  "hypertension": 2,
                  "other_diseases": 2,
                  "cardiovascular": 2,
                  "obesity": 2,
                  "chronic_kidney_failure": 2,
                  "smoker": 2,
                  "another_case": 99,
                  "outcome": 1,
                  "icu": 97,
                  "death_date": "9999-99-99",
                  "_deepnote_index_column": 63
                },
                {
                  "sex": 2,
                  "patient_type": 2,
                  "intubated": 2,
                  "pneumonia": 1,
                  "age": 67,
                  "pregnant": 97,
                  "diabetes": 2,
                  "copd": 2,
                  "asthma": 2,
                  "immunosuppression": 2,
                  "hypertension": 1,
                  "other_diseases": 2,
                  "cardiovascular": 2,
                  "obesity": 2,
                  "chronic_kidney_failure": 2,
                  "smoker": 2,
                  "another_case": 2,
                  "outcome": 1,
                  "icu": 2,
                  "death_date": "9999-99-99",
                  "_deepnote_index_column": 71
                },
                {
                  "sex": 2,
                  "patient_type": 1,
                  "intubated": 97,
                  "pneumonia": 2,
                  "age": 50,
                  "pregnant": 97,
                  "diabetes": 1,
                  "copd": 2,
                  "asthma": 2,
                  "immunosuppression": 2,
                  "hypertension": 1,
                  "other_diseases": 2,
                  "cardiovascular": 2,
                  "obesity": 2,
                  "chronic_kidney_failure": 2,
                  "smoker": 2,
                  "another_case": 99,
                  "outcome": 1,
                  "icu": 97,
                  "death_date": "9999-99-99",
                  "_deepnote_index_column": 78
                },
                {
                  "sex": 1,
                  "patient_type": 2,
                  "intubated": 2,
                  "pneumonia": 2,
                  "age": 30,
                  "pregnant": 2,
                  "diabetes": 2,
                  "copd": 2,
                  "asthma": 2,
                  "immunosuppression": 2,
                  "hypertension": 2,
                  "other_diseases": 2,
                  "cardiovascular": 2,
                  "obesity": 2,
                  "chronic_kidney_failure": 2,
                  "smoker": 2,
                  "another_case": 99,
                  "outcome": 1,
                  "icu": 2,
                  "death_date": "9999-99-99",
                  "_deepnote_index_column": 79
                },
                {
                  "sex": 2,
                  "patient_type": 2,
                  "intubated": 2,
                  "pneumonia": 1,
                  "age": 47,
                  "pregnant": 97,
                  "diabetes": 1,
                  "copd": 2,
                  "asthma": 2,
                  "immunosuppression": 2,
                  "hypertension": 1,
                  "other_diseases": 2,
                  "cardiovascular": 2,
                  "obesity": 1,
                  "chronic_kidney_failure": 2,
                  "smoker": 1,
                  "another_case": 99,
                  "outcome": 1,
                  "icu": 2,
                  "death_date": "9999-99-99",
                  "_deepnote_index_column": 82
                },
                {
                  "sex": 2,
                  "patient_type": 1,
                  "intubated": 97,
                  "pneumonia": 2,
                  "age": 49,
                  "pregnant": 97,
                  "diabetes": 2,
                  "copd": 2,
                  "asthma": 2,
                  "immunosuppression": 2,
                  "hypertension": 2,
                  "other_diseases": 2,
                  "cardiovascular": 2,
                  "obesity": 2,
                  "chronic_kidney_failure": 2,
                  "smoker": 2,
                  "another_case": 1,
                  "outcome": 1,
                  "icu": 97,
                  "death_date": "9999-99-99",
                  "_deepnote_index_column": 83
                }
              ],
              "rows_bottom": [
                {
                  "sex": 1,
                  "patient_type": 2,
                  "intubated": 2,
                  "pneumonia": 2,
                  "age": 72,
                  "pregnant": 2,
                  "diabetes": 2,
                  "copd": 2,
                  "asthma": 2,
                  "immunosuppression": 2,
                  "hypertension": 2,
                  "other_diseases": 2,
                  "cardiovascular": 2,
                  "obesity": 1,
                  "chronic_kidney_failure": 2,
                  "smoker": 2,
                  "another_case": 2,
                  "outcome": 1,
                  "icu": 2,
                  "death_date": "9999-99-99",
                  "_deepnote_index_column": 95058
                },
                {
                  "sex": 2,
                  "patient_type": 2,
                  "intubated": 2,
                  "pneumonia": 2,
                  "age": 41,
                  "pregnant": 97,
                  "diabetes": 1,
                  "copd": 2,
                  "asthma": 2,
                  "immunosuppression": 2,
                  "hypertension": 2,
                  "other_diseases": 2,
                  "cardiovascular": 2,
                  "obesity": 2,
                  "chronic_kidney_failure": 2,
                  "smoker": 2,
                  "another_case": 2,
                  "outcome": 1,
                  "icu": 2,
                  "death_date": "9999-99-99",
                  "_deepnote_index_column": 95074
                },
                {
                  "sex": 2,
                  "patient_type": 2,
                  "intubated": 2,
                  "pneumonia": 2,
                  "age": 76,
                  "pregnant": 97,
                  "diabetes": 1,
                  "copd": 2,
                  "asthma": 2,
                  "immunosuppression": 2,
                  "hypertension": 1,
                  "other_diseases": 2,
                  "cardiovascular": 2,
                  "obesity": 1,
                  "chronic_kidney_failure": 2,
                  "smoker": 2,
                  "another_case": 2,
                  "outcome": 1,
                  "icu": 2,
                  "death_date": "9999-99-99",
                  "_deepnote_index_column": 95101
                },
                {
                  "sex": 1,
                  "patient_type": 1,
                  "intubated": 97,
                  "pneumonia": 2,
                  "age": 47,
                  "pregnant": 2,
                  "diabetes": 2,
                  "copd": 2,
                  "asthma": 2,
                  "immunosuppression": 2,
                  "hypertension": 2,
                  "other_diseases": 2,
                  "cardiovascular": 2,
                  "obesity": 2,
                  "chronic_kidney_failure": 2,
                  "smoker": 2,
                  "another_case": 99,
                  "outcome": 1,
                  "icu": 97,
                  "death_date": "9999-99-99",
                  "_deepnote_index_column": 95110
                },
                {
                  "sex": 1,
                  "patient_type": 2,
                  "intubated": 1,
                  "pneumonia": 1,
                  "age": 48,
                  "pregnant": 2,
                  "diabetes": 2,
                  "copd": 2,
                  "asthma": 2,
                  "immunosuppression": 2,
                  "hypertension": 2,
                  "other_diseases": 2,
                  "cardiovascular": 2,
                  "obesity": 2,
                  "chronic_kidney_failure": 2,
                  "smoker": 2,
                  "another_case": 2,
                  "outcome": 1,
                  "icu": 2,
                  "death_date": "9999-99-99",
                  "_deepnote_index_column": 95128
                },
                {
                  "sex": 2,
                  "patient_type": 1,
                  "intubated": 97,
                  "pneumonia": 2,
                  "age": 75,
                  "pregnant": 97,
                  "diabetes": 2,
                  "copd": 2,
                  "asthma": 2,
                  "immunosuppression": 2,
                  "hypertension": 1,
                  "other_diseases": 2,
                  "cardiovascular": 2,
                  "obesity": 2,
                  "chronic_kidney_failure": 2,
                  "smoker": 2,
                  "another_case": 2,
                  "outcome": 1,
                  "icu": 97,
                  "death_date": "9999-99-99",
                  "_deepnote_index_column": 95174
                },
                {
                  "sex": 2,
                  "patient_type": 2,
                  "intubated": 2,
                  "pneumonia": 1,
                  "age": 66,
                  "pregnant": 97,
                  "diabetes": 1,
                  "copd": 2,
                  "asthma": 2,
                  "immunosuppression": 2,
                  "hypertension": 2,
                  "other_diseases": 2,
                  "cardiovascular": 2,
                  "obesity": 2,
                  "chronic_kidney_failure": 2,
                  "smoker": 2,
                  "another_case": 99,
                  "outcome": 1,
                  "icu": 2,
                  "death_date": "9999-99-99",
                  "_deepnote_index_column": 95180
                },
                {
                  "sex": 1,
                  "patient_type": 1,
                  "intubated": 97,
                  "pneumonia": 2,
                  "age": 28,
                  "pregnant": 2,
                  "diabetes": 2,
                  "copd": 2,
                  "asthma": 2,
                  "immunosuppression": 2,
                  "hypertension": 2,
                  "other_diseases": 2,
                  "cardiovascular": 2,
                  "obesity": 2,
                  "chronic_kidney_failure": 2,
                  "smoker": 2,
                  "another_case": 99,
                  "outcome": 1,
                  "icu": 97,
                  "death_date": "9999-99-99",
                  "_deepnote_index_column": 95326
                },
                {
                  "sex": 2,
                  "patient_type": 2,
                  "intubated": 2,
                  "pneumonia": 2,
                  "age": 47,
                  "pregnant": 97,
                  "diabetes": 1,
                  "copd": 2,
                  "asthma": 2,
                  "immunosuppression": 2,
                  "hypertension": 1,
                  "other_diseases": 2,
                  "cardiovascular": 2,
                  "obesity": 2,
                  "chronic_kidney_failure": 2,
                  "smoker": 2,
                  "another_case": 2,
                  "outcome": 1,
                  "icu": 2,
                  "death_date": "9999-99-99",
                  "_deepnote_index_column": 95329
                },
                {
                  "sex": 2,
                  "patient_type": 2,
                  "intubated": 2,
                  "pneumonia": 1,
                  "age": 43,
                  "pregnant": 97,
                  "diabetes": 1,
                  "copd": 2,
                  "asthma": 2,
                  "immunosuppression": 2,
                  "hypertension": 1,
                  "other_diseases": 2,
                  "cardiovascular": 2,
                  "obesity": 1,
                  "chronic_kidney_failure": 2,
                  "smoker": 2,
                  "another_case": 2,
                  "outcome": 1,
                  "icu": 2,
                  "death_date": "9999-99-99",
                  "_deepnote_index_column": 95402
                },
                {
                  "sex": 2,
                  "patient_type": 1,
                  "intubated": 97,
                  "pneumonia": 2,
                  "age": 18,
                  "pregnant": 97,
                  "diabetes": 2,
                  "copd": 2,
                  "asthma": 2,
                  "immunosuppression": 2,
                  "hypertension": 2,
                  "other_diseases": 2,
                  "cardiovascular": 2,
                  "obesity": 1,
                  "chronic_kidney_failure": 2,
                  "smoker": 2,
                  "another_case": 1,
                  "outcome": 1,
                  "icu": 97,
                  "death_date": "9999-99-99",
                  "_deepnote_index_column": 95405
                },
                {
                  "sex": 2,
                  "patient_type": 2,
                  "intubated": 2,
                  "pneumonia": 1,
                  "age": 63,
                  "pregnant": 97,
                  "diabetes": 2,
                  "copd": 2,
                  "asthma": 2,
                  "immunosuppression": 2,
                  "hypertension": 2,
                  "other_diseases": 2,
                  "cardiovascular": 2,
                  "obesity": 2,
                  "chronic_kidney_failure": 2,
                  "smoker": 1,
                  "another_case": 1,
                  "outcome": 1,
                  "icu": 2,
                  "death_date": "9999-99-99",
                  "_deepnote_index_column": 95406
                },
                {
                  "sex": 1,
                  "patient_type": 1,
                  "intubated": 97,
                  "pneumonia": 2,
                  "age": 56,
                  "pregnant": 2,
                  "diabetes": 2,
                  "copd": 2,
                  "asthma": 2,
                  "immunosuppression": 2,
                  "hypertension": 2,
                  "other_diseases": 2,
                  "cardiovascular": 2,
                  "obesity": 2,
                  "chronic_kidney_failure": 2,
                  "smoker": 2,
                  "another_case": 99,
                  "outcome": 1,
                  "icu": 97,
                  "death_date": "9999-99-99",
                  "_deepnote_index_column": 95421
                },
                {
                  "sex": 1,
                  "patient_type": 1,
                  "intubated": 97,
                  "pneumonia": 2,
                  "age": 28,
                  "pregnant": 2,
                  "diabetes": 2,
                  "copd": 2,
                  "asthma": 2,
                  "immunosuppression": 2,
                  "hypertension": 2,
                  "other_diseases": 2,
                  "cardiovascular": 2,
                  "obesity": 2,
                  "chronic_kidney_failure": 2,
                  "smoker": 2,
                  "another_case": 99,
                  "outcome": 1,
                  "icu": 97,
                  "death_date": "9999-99-99",
                  "_deepnote_index_column": 95423
                },
                {
                  "sex": 1,
                  "patient_type": 2,
                  "intubated": 2,
                  "pneumonia": 2,
                  "age": 61,
                  "pregnant": 2,
                  "diabetes": 2,
                  "copd": 2,
                  "asthma": 2,
                  "immunosuppression": 2,
                  "hypertension": 2,
                  "other_diseases": 2,
                  "cardiovascular": 2,
                  "obesity": 2,
                  "chronic_kidney_failure": 2,
                  "smoker": 2,
                  "another_case": 2,
                  "outcome": 1,
                  "icu": 2,
                  "death_date": "9999-99-99",
                  "_deepnote_index_column": 95429
                },
                {
                  "sex": 2,
                  "patient_type": 2,
                  "intubated": 1,
                  "pneumonia": 1,
                  "age": 65,
                  "pregnant": 97,
                  "diabetes": 2,
                  "copd": 2,
                  "asthma": 2,
                  "immunosuppression": 2,
                  "hypertension": 1,
                  "other_diseases": 2,
                  "cardiovascular": 2,
                  "obesity": 2,
                  "chronic_kidney_failure": 2,
                  "smoker": 2,
                  "another_case": 2,
                  "outcome": 1,
                  "icu": 1,
                  "death_date": "9999-99-99",
                  "_deepnote_index_column": 95574
                },
                {
                  "sex": 2,
                  "patient_type": 2,
                  "intubated": 1,
                  "pneumonia": 1,
                  "age": 58,
                  "pregnant": 97,
                  "diabetes": 1,
                  "copd": 2,
                  "asthma": 2,
                  "immunosuppression": 2,
                  "hypertension": 2,
                  "other_diseases": 2,
                  "cardiovascular": 2,
                  "obesity": 2,
                  "chronic_kidney_failure": 2,
                  "smoker": 2,
                  "another_case": 2,
                  "outcome": 1,
                  "icu": 1,
                  "death_date": "9999-99-99",
                  "_deepnote_index_column": 95583
                },
                {
                  "sex": 2,
                  "patient_type": 1,
                  "intubated": 97,
                  "pneumonia": 2,
                  "age": 26,
                  "pregnant": 97,
                  "diabetes": 2,
                  "copd": 2,
                  "asthma": 2,
                  "immunosuppression": 2,
                  "hypertension": 2,
                  "other_diseases": 2,
                  "cardiovascular": 2,
                  "obesity": 2,
                  "chronic_kidney_failure": 2,
                  "smoker": 2,
                  "another_case": 1,
                  "outcome": 1,
                  "icu": 97,
                  "death_date": "9999-99-99",
                  "_deepnote_index_column": 95585
                },
                {
                  "sex": 2,
                  "patient_type": 1,
                  "intubated": 97,
                  "pneumonia": 2,
                  "age": 54,
                  "pregnant": 97,
                  "diabetes": 2,
                  "copd": 2,
                  "asthma": 2,
                  "immunosuppression": 2,
                  "hypertension": 2,
                  "other_diseases": 2,
                  "cardiovascular": 2,
                  "obesity": 2,
                  "chronic_kidney_failure": 2,
                  "smoker": 2,
                  "another_case": 1,
                  "outcome": 1,
                  "icu": 97,
                  "death_date": "9999-99-99",
                  "_deepnote_index_column": 95590
                },
                {
                  "sex": 2,
                  "patient_type": 2,
                  "intubated": 2,
                  "pneumonia": 1,
                  "age": 41,
                  "pregnant": 97,
                  "diabetes": 2,
                  "copd": 2,
                  "asthma": 2,
                  "immunosuppression": 2,
                  "hypertension": 2,
                  "other_diseases": 2,
                  "cardiovascular": 2,
                  "obesity": 2,
                  "chronic_kidney_failure": 2,
                  "smoker": 2,
                  "another_case": 2,
                  "outcome": 1,
                  "icu": 2,
                  "death_date": "9999-99-99",
                  "_deepnote_index_column": 95594
                },
                {
                  "sex": 2,
                  "patient_type": 2,
                  "intubated": 2,
                  "pneumonia": 1,
                  "age": 66,
                  "pregnant": 97,
                  "diabetes": 2,
                  "copd": 2,
                  "asthma": 2,
                  "immunosuppression": 2,
                  "hypertension": 2,
                  "other_diseases": 2,
                  "cardiovascular": 2,
                  "obesity": 2,
                  "chronic_kidney_failure": 2,
                  "smoker": 2,
                  "another_case": 2,
                  "outcome": 1,
                  "icu": 1,
                  "death_date": "9999-99-99",
                  "_deepnote_index_column": 95599
                },
                {
                  "sex": 1,
                  "patient_type": 2,
                  "intubated": 2,
                  "pneumonia": 2,
                  "age": 60,
                  "pregnant": 2,
                  "diabetes": 2,
                  "copd": 2,
                  "asthma": 2,
                  "immunosuppression": 2,
                  "hypertension": 1,
                  "other_diseases": 2,
                  "cardiovascular": 2,
                  "obesity": 2,
                  "chronic_kidney_failure": 2,
                  "smoker": 2,
                  "another_case": 1,
                  "outcome": 1,
                  "icu": 2,
                  "death_date": "9999-99-99",
                  "_deepnote_index_column": 95645
                },
                {
                  "sex": 2,
                  "patient_type": 2,
                  "intubated": 2,
                  "pneumonia": 2,
                  "age": 56,
                  "pregnant": 97,
                  "diabetes": 1,
                  "copd": 2,
                  "asthma": 2,
                  "immunosuppression": 2,
                  "hypertension": 1,
                  "other_diseases": 2,
                  "cardiovascular": 2,
                  "obesity": 2,
                  "chronic_kidney_failure": 2,
                  "smoker": 2,
                  "another_case": 1,
                  "outcome": 1,
                  "icu": 2,
                  "death_date": "9999-99-99",
                  "_deepnote_index_column": 95657
                },
                {
                  "sex": 1,
                  "patient_type": 1,
                  "intubated": 97,
                  "pneumonia": 2,
                  "age": 48,
                  "pregnant": 2,
                  "diabetes": 2,
                  "copd": 2,
                  "asthma": 2,
                  "immunosuppression": 2,
                  "hypertension": 2,
                  "other_diseases": 2,
                  "cardiovascular": 2,
                  "obesity": 2,
                  "chronic_kidney_failure": 2,
                  "smoker": 2,
                  "another_case": 99,
                  "outcome": 1,
                  "icu": 97,
                  "death_date": "9999-99-99",
                  "_deepnote_index_column": 95693
                },
                {
                  "sex": 2,
                  "patient_type": 2,
                  "intubated": 1,
                  "pneumonia": 1,
                  "age": 62,
                  "pregnant": 97,
                  "diabetes": 2,
                  "copd": 2,
                  "asthma": 2,
                  "immunosuppression": 2,
                  "hypertension": 2,
                  "other_diseases": 2,
                  "cardiovascular": 2,
                  "obesity": 1,
                  "chronic_kidney_failure": 2,
                  "smoker": 2,
                  "another_case": 1,
                  "outcome": 1,
                  "icu": 1,
                  "death_date": "9999-99-99",
                  "_deepnote_index_column": 95779
                }
              ]
            },
            "text/plain": "       sex  patient_type  intubated  pneumonia  age  pregnant  diabetes  copd  \\\n0        2             1         97          2   42        97         2     2   \n1        1             1         97          2   51         2         2     2   \n2        2             2          2          2   51        97         1     2   \n3        2             2          2          2   57        97         1     2   \n9        2             1         97          2   55        97         1     2   \n...    ...           ...        ...        ...  ...       ...       ...   ...   \n95599    2             2          2          1   66        97         2     2   \n95645    1             2          2          2   60         2         2     2   \n95657    2             2          2          2   56        97         1     2   \n95693    1             1         97          2   48         2         2     2   \n95779    2             2          1          1   62        97         2     2   \n\n       asthma  immunosuppression  hypertension  other_diseases  \\\n0           1                  2             2               2   \n1           2                  2             2               2   \n2           2                  2             1               2   \n3           2                  2             2               2   \n9           1                  2             1               2   \n...       ...                ...           ...             ...   \n95599       2                  2             2               2   \n95645       2                  2             1               2   \n95657       2                  2             1               2   \n95693       2                  2             2               2   \n95779       2                  2             2               2   \n\n       cardiovascular  obesity  chronic_kidney_failure  smoker  another_case  \\\n0                   2        2                       2       2            99   \n1                   2        2                       2       2            99   \n2                   2        1                       2       2            99   \n3                   2        2                       2       2            99   \n9                   2        1                       2       2            99   \n...               ...      ...                     ...     ...           ...   \n95599               2        2                       2       2             2   \n95645               2        2                       2       2             1   \n95657               2        2                       2       2             1   \n95693               2        2                       2       2            99   \n95779               2        1                       2       2             1   \n\n       outcome  icu  death_date  \n0            1   97  9999-99-99  \n1            1   97  9999-99-99  \n2            1    2  9999-99-99  \n3            1    2  2020-04-01  \n9            1   97  9999-99-99  \n...        ...  ...         ...  \n95599        1    1  9999-99-99  \n95645        1    2  9999-99-99  \n95657        1    2  9999-99-99  \n95693        1   97  9999-99-99  \n95779        1    1  9999-99-99  \n\n[23471 rows x 20 columns]",
            "text/html": "<div>\n<style scoped>\n    .dataframe tbody tr th:only-of-type {\n        vertical-align: middle;\n    }\n\n    .dataframe tbody tr th {\n        vertical-align: top;\n    }\n\n    .dataframe thead th {\n        text-align: right;\n    }\n</style>\n<table border=\"1\" class=\"dataframe\">\n  <thead>\n    <tr style=\"text-align: right;\">\n      <th></th>\n      <th>sex</th>\n      <th>patient_type</th>\n      <th>intubated</th>\n      <th>pneumonia</th>\n      <th>age</th>\n      <th>pregnant</th>\n      <th>diabetes</th>\n      <th>copd</th>\n      <th>asthma</th>\n      <th>immunosuppression</th>\n      <th>hypertension</th>\n      <th>other_diseases</th>\n      <th>cardiovascular</th>\n      <th>obesity</th>\n      <th>chronic_kidney_failure</th>\n      <th>smoker</th>\n      <th>another_case</th>\n      <th>outcome</th>\n      <th>icu</th>\n      <th>death_date</th>\n    </tr>\n  </thead>\n  <tbody>\n    <tr>\n      <th>0</th>\n      <td>2</td>\n      <td>1</td>\n      <td>97</td>\n      <td>2</td>\n      <td>42</td>\n      <td>97</td>\n      <td>2</td>\n      <td>2</td>\n      <td>1</td>\n      <td>2</td>\n      <td>2</td>\n      <td>2</td>\n      <td>2</td>\n      <td>2</td>\n      <td>2</td>\n      <td>2</td>\n      <td>99</td>\n      <td>1</td>\n      <td>97</td>\n      <td>9999-99-99</td>\n    </tr>\n    <tr>\n      <th>1</th>\n      <td>1</td>\n      <td>1</td>\n      <td>97</td>\n      <td>2</td>\n      <td>51</td>\n      <td>2</td>\n      <td>2</td>\n      <td>2</td>\n      <td>2</td>\n      <td>2</td>\n      <td>2</td>\n      <td>2</td>\n      <td>2</td>\n      <td>2</td>\n      <td>2</td>\n      <td>2</td>\n      <td>99</td>\n      <td>1</td>\n      <td>97</td>\n      <td>9999-99-99</td>\n    </tr>\n    <tr>\n      <th>2</th>\n      <td>2</td>\n      <td>2</td>\n      <td>2</td>\n      <td>2</td>\n      <td>51</td>\n      <td>97</td>\n      <td>1</td>\n      <td>2</td>\n      <td>2</td>\n      <td>2</td>\n      <td>1</td>\n      <td>2</td>\n      <td>2</td>\n      <td>1</td>\n      <td>2</td>\n      <td>2</td>\n      <td>99</td>\n      <td>1</td>\n      <td>2</td>\n      <td>9999-99-99</td>\n    </tr>\n    <tr>\n      <th>3</th>\n      <td>2</td>\n      <td>2</td>\n      <td>2</td>\n      <td>2</td>\n      <td>57</td>\n      <td>97</td>\n      <td>1</td>\n      <td>2</td>\n      <td>2</td>\n      <td>2</td>\n      <td>2</td>\n      <td>2</td>\n      <td>2</td>\n      <td>2</td>\n      <td>2</td>\n      <td>2</td>\n      <td>99</td>\n      <td>1</td>\n      <td>2</td>\n      <td>2020-04-01</td>\n    </tr>\n    <tr>\n      <th>9</th>\n      <td>2</td>\n      <td>1</td>\n      <td>97</td>\n      <td>2</td>\n      <td>55</td>\n      <td>97</td>\n      <td>1</td>\n      <td>2</td>\n      <td>1</td>\n      <td>2</td>\n      <td>1</td>\n      <td>2</td>\n      <td>2</td>\n      <td>1</td>\n      <td>2</td>\n      <td>2</td>\n      <td>99</td>\n      <td>1</td>\n      <td>97</td>\n      <td>9999-99-99</td>\n    </tr>\n    <tr>\n      <th>...</th>\n      <td>...</td>\n      <td>...</td>\n      <td>...</td>\n      <td>...</td>\n      <td>...</td>\n      <td>...</td>\n      <td>...</td>\n      <td>...</td>\n      <td>...</td>\n      <td>...</td>\n      <td>...</td>\n      <td>...</td>\n      <td>...</td>\n      <td>...</td>\n      <td>...</td>\n      <td>...</td>\n      <td>...</td>\n      <td>...</td>\n      <td>...</td>\n      <td>...</td>\n    </tr>\n    <tr>\n      <th>95599</th>\n      <td>2</td>\n      <td>2</td>\n      <td>2</td>\n      <td>1</td>\n      <td>66</td>\n      <td>97</td>\n      <td>2</td>\n      <td>2</td>\n      <td>2</td>\n      <td>2</td>\n      <td>2</td>\n      <td>2</td>\n      <td>2</td>\n      <td>2</td>\n      <td>2</td>\n      <td>2</td>\n      <td>2</td>\n      <td>1</td>\n      <td>1</td>\n      <td>9999-99-99</td>\n    </tr>\n    <tr>\n      <th>95645</th>\n      <td>1</td>\n      <td>2</td>\n      <td>2</td>\n      <td>2</td>\n      <td>60</td>\n      <td>2</td>\n      <td>2</td>\n      <td>2</td>\n      <td>2</td>\n      <td>2</td>\n      <td>1</td>\n      <td>2</td>\n      <td>2</td>\n      <td>2</td>\n      <td>2</td>\n      <td>2</td>\n      <td>1</td>\n      <td>1</td>\n      <td>2</td>\n      <td>9999-99-99</td>\n    </tr>\n    <tr>\n      <th>95657</th>\n      <td>2</td>\n      <td>2</td>\n      <td>2</td>\n      <td>2</td>\n      <td>56</td>\n      <td>97</td>\n      <td>1</td>\n      <td>2</td>\n      <td>2</td>\n      <td>2</td>\n      <td>1</td>\n      <td>2</td>\n      <td>2</td>\n      <td>2</td>\n      <td>2</td>\n      <td>2</td>\n      <td>1</td>\n      <td>1</td>\n      <td>2</td>\n      <td>9999-99-99</td>\n    </tr>\n    <tr>\n      <th>95693</th>\n      <td>1</td>\n      <td>1</td>\n      <td>97</td>\n      <td>2</td>\n      <td>48</td>\n      <td>2</td>\n      <td>2</td>\n      <td>2</td>\n      <td>2</td>\n      <td>2</td>\n      <td>2</td>\n      <td>2</td>\n      <td>2</td>\n      <td>2</td>\n      <td>2</td>\n      <td>2</td>\n      <td>99</td>\n      <td>1</td>\n      <td>97</td>\n      <td>9999-99-99</td>\n    </tr>\n    <tr>\n      <th>95779</th>\n      <td>2</td>\n      <td>2</td>\n      <td>1</td>\n      <td>1</td>\n      <td>62</td>\n      <td>97</td>\n      <td>2</td>\n      <td>2</td>\n      <td>2</td>\n      <td>2</td>\n      <td>2</td>\n      <td>2</td>\n      <td>2</td>\n      <td>1</td>\n      <td>2</td>\n      <td>2</td>\n      <td>1</td>\n      <td>1</td>\n      <td>1</td>\n      <td>9999-99-99</td>\n    </tr>\n  </tbody>\n</table>\n<p>23471 rows × 20 columns</p>\n</div>"
          },
          "metadata": {}
        }
      ],
      "execution_count": null
    },
    {
      "cell_type": "code",
      "metadata": {
        "tags": [],
        "cell_id": "00006-d9fc955b-7009-4866-b9bc-a2828981c736",
        "output_cleared": false,
        "source_hash": "b02f1685",
        "execution_millis": 71,
        "deepnote_to_be_reexecuted": false,
        "execution_start": 1618902849953,
        "deepnote_cell_type": "code"
      },
      "source": "#creato una nuova colonna dummy: morto =1 non morto=0\ndt[\"isdeath\"]=dt[\"death_date\"].map({'9999-99-99': 0})\ndt[\"isdeath\"] = dt[\"isdeath\"].replace(np.nan, 1)\ndt['isdeath'].dtype\ndt",
      "outputs": [
        {
          "name": "stderr",
          "text": "/shared-libs/python3.7/py-core/lib/python3.7/site-packages/ipykernel_launcher.py:2: SettingWithCopyWarning: \nA value is trying to be set on a copy of a slice from a DataFrame.\nTry using .loc[row_indexer,col_indexer] = value instead\n\nSee the caveats in the documentation: https://pandas.pydata.org/pandas-docs/stable/user_guide/indexing.html#returning-a-view-versus-a-copy\n  \n/shared-libs/python3.7/py-core/lib/python3.7/site-packages/ipykernel_launcher.py:3: SettingWithCopyWarning: \nA value is trying to be set on a copy of a slice from a DataFrame.\nTry using .loc[row_indexer,col_indexer] = value instead\n\nSee the caveats in the documentation: https://pandas.pydata.org/pandas-docs/stable/user_guide/indexing.html#returning-a-view-versus-a-copy\n  This is separate from the ipykernel package so we can avoid doing imports until\n",
          "output_type": "stream"
        },
        {
          "output_type": "execute_result",
          "execution_count": 7,
          "data": {
            "application/vnd.deepnote.dataframe.v2+json": {
              "row_count": 23471,
              "column_count": 21,
              "columns": [
                {
                  "name": "sex",
                  "dtype": "int64",
                  "stats": {
                    "unique_count": 2,
                    "nan_count": 0,
                    "min": "1",
                    "max": "2",
                    "histogram": [
                      {
                        "bin_start": 1,
                        "bin_end": 1.1,
                        "count": 9811
                      },
                      {
                        "bin_start": 1.1,
                        "bin_end": 1.2,
                        "count": 0
                      },
                      {
                        "bin_start": 1.2,
                        "bin_end": 1.3,
                        "count": 0
                      },
                      {
                        "bin_start": 1.3,
                        "bin_end": 1.4,
                        "count": 0
                      },
                      {
                        "bin_start": 1.4,
                        "bin_end": 1.5,
                        "count": 0
                      },
                      {
                        "bin_start": 1.5,
                        "bin_end": 1.6,
                        "count": 0
                      },
                      {
                        "bin_start": 1.6,
                        "bin_end": 1.7000000000000002,
                        "count": 0
                      },
                      {
                        "bin_start": 1.7000000000000002,
                        "bin_end": 1.8,
                        "count": 0
                      },
                      {
                        "bin_start": 1.8,
                        "bin_end": 1.9,
                        "count": 0
                      },
                      {
                        "bin_start": 1.9,
                        "bin_end": 2,
                        "count": 13660
                      }
                    ]
                  }
                },
                {
                  "name": "patient_type",
                  "dtype": "int64",
                  "stats": {
                    "unique_count": 2,
                    "nan_count": 0,
                    "min": "1",
                    "max": "2",
                    "histogram": [
                      {
                        "bin_start": 1,
                        "bin_end": 1.1,
                        "count": 14201
                      },
                      {
                        "bin_start": 1.1,
                        "bin_end": 1.2,
                        "count": 0
                      },
                      {
                        "bin_start": 1.2,
                        "bin_end": 1.3,
                        "count": 0
                      },
                      {
                        "bin_start": 1.3,
                        "bin_end": 1.4,
                        "count": 0
                      },
                      {
                        "bin_start": 1.4,
                        "bin_end": 1.5,
                        "count": 0
                      },
                      {
                        "bin_start": 1.5,
                        "bin_end": 1.6,
                        "count": 0
                      },
                      {
                        "bin_start": 1.6,
                        "bin_end": 1.7000000000000002,
                        "count": 0
                      },
                      {
                        "bin_start": 1.7000000000000002,
                        "bin_end": 1.8,
                        "count": 0
                      },
                      {
                        "bin_start": 1.8,
                        "bin_end": 1.9,
                        "count": 0
                      },
                      {
                        "bin_start": 1.9,
                        "bin_end": 2,
                        "count": 9270
                      }
                    ]
                  }
                },
                {
                  "name": "intubated",
                  "dtype": "int64",
                  "stats": {
                    "unique_count": 4,
                    "nan_count": 0,
                    "min": "1",
                    "max": "99",
                    "histogram": [
                      {
                        "bin_start": 1,
                        "bin_end": 10.8,
                        "count": 9266
                      },
                      {
                        "bin_start": 10.8,
                        "bin_end": 20.6,
                        "count": 0
                      },
                      {
                        "bin_start": 20.6,
                        "bin_end": 30.400000000000002,
                        "count": 0
                      },
                      {
                        "bin_start": 30.400000000000002,
                        "bin_end": 40.2,
                        "count": 0
                      },
                      {
                        "bin_start": 40.2,
                        "bin_end": 50,
                        "count": 0
                      },
                      {
                        "bin_start": 50,
                        "bin_end": 59.800000000000004,
                        "count": 0
                      },
                      {
                        "bin_start": 59.800000000000004,
                        "bin_end": 69.60000000000001,
                        "count": 0
                      },
                      {
                        "bin_start": 69.60000000000001,
                        "bin_end": 79.4,
                        "count": 0
                      },
                      {
                        "bin_start": 79.4,
                        "bin_end": 89.2,
                        "count": 0
                      },
                      {
                        "bin_start": 89.2,
                        "bin_end": 99,
                        "count": 14205
                      }
                    ]
                  }
                },
                {
                  "name": "pneumonia",
                  "dtype": "int64",
                  "stats": {
                    "unique_count": 3,
                    "nan_count": 0,
                    "min": "1",
                    "max": "99",
                    "histogram": [
                      {
                        "bin_start": 1,
                        "bin_end": 10.8,
                        "count": 23470
                      },
                      {
                        "bin_start": 10.8,
                        "bin_end": 20.6,
                        "count": 0
                      },
                      {
                        "bin_start": 20.6,
                        "bin_end": 30.400000000000002,
                        "count": 0
                      },
                      {
                        "bin_start": 30.400000000000002,
                        "bin_end": 40.2,
                        "count": 0
                      },
                      {
                        "bin_start": 40.2,
                        "bin_end": 50,
                        "count": 0
                      },
                      {
                        "bin_start": 50,
                        "bin_end": 59.800000000000004,
                        "count": 0
                      },
                      {
                        "bin_start": 59.800000000000004,
                        "bin_end": 69.60000000000001,
                        "count": 0
                      },
                      {
                        "bin_start": 69.60000000000001,
                        "bin_end": 79.4,
                        "count": 0
                      },
                      {
                        "bin_start": 79.4,
                        "bin_end": 89.2,
                        "count": 0
                      },
                      {
                        "bin_start": 89.2,
                        "bin_end": 99,
                        "count": 1
                      }
                    ]
                  }
                },
                {
                  "name": "age",
                  "dtype": "int64"
                },
                {
                  "name": "pregnant",
                  "dtype": "int64"
                },
                {
                  "name": "diabetes",
                  "dtype": "int64"
                },
                {
                  "name": "copd",
                  "dtype": "int64"
                },
                {
                  "name": "asthma",
                  "dtype": "int64"
                },
                {
                  "name": "immunosuppression",
                  "dtype": "int64"
                },
                {
                  "name": "hypertension",
                  "dtype": "int64"
                },
                {
                  "name": "other_diseases",
                  "dtype": "int64"
                },
                {
                  "name": "cardiovascular",
                  "dtype": "int64"
                },
                {
                  "name": "obesity",
                  "dtype": "int64"
                },
                {
                  "name": "chronic_kidney_failure",
                  "dtype": "int64"
                },
                {
                  "name": "smoker",
                  "dtype": "int64"
                },
                {
                  "name": "another_case",
                  "dtype": "int64"
                },
                {
                  "name": "outcome",
                  "dtype": "int64"
                },
                {
                  "name": "icu",
                  "dtype": "int64"
                },
                {
                  "name": "death_date",
                  "dtype": "object"
                },
                {
                  "name": "isdeath",
                  "dtype": "float64"
                },
                {
                  "name": "_deepnote_index_column",
                  "dtype": "int64"
                }
              ],
              "rows_top": [
                {
                  "sex": 2,
                  "patient_type": 1,
                  "intubated": 97,
                  "pneumonia": 2,
                  "age": 42,
                  "pregnant": 97,
                  "diabetes": 2,
                  "copd": 2,
                  "asthma": 1,
                  "immunosuppression": 2,
                  "hypertension": 2,
                  "other_diseases": 2,
                  "cardiovascular": 2,
                  "obesity": 2,
                  "chronic_kidney_failure": 2,
                  "smoker": 2,
                  "another_case": 99,
                  "outcome": 1,
                  "icu": 97,
                  "death_date": "9999-99-99",
                  "isdeath": 0,
                  "_deepnote_index_column": 0
                },
                {
                  "sex": 1,
                  "patient_type": 1,
                  "intubated": 97,
                  "pneumonia": 2,
                  "age": 51,
                  "pregnant": 2,
                  "diabetes": 2,
                  "copd": 2,
                  "asthma": 2,
                  "immunosuppression": 2,
                  "hypertension": 2,
                  "other_diseases": 2,
                  "cardiovascular": 2,
                  "obesity": 2,
                  "chronic_kidney_failure": 2,
                  "smoker": 2,
                  "another_case": 99,
                  "outcome": 1,
                  "icu": 97,
                  "death_date": "9999-99-99",
                  "isdeath": 0,
                  "_deepnote_index_column": 1
                },
                {
                  "sex": 2,
                  "patient_type": 2,
                  "intubated": 2,
                  "pneumonia": 2,
                  "age": 51,
                  "pregnant": 97,
                  "diabetes": 1,
                  "copd": 2,
                  "asthma": 2,
                  "immunosuppression": 2,
                  "hypertension": 1,
                  "other_diseases": 2,
                  "cardiovascular": 2,
                  "obesity": 1,
                  "chronic_kidney_failure": 2,
                  "smoker": 2,
                  "another_case": 99,
                  "outcome": 1,
                  "icu": 2,
                  "death_date": "9999-99-99",
                  "isdeath": 0,
                  "_deepnote_index_column": 2
                },
                {
                  "sex": 2,
                  "patient_type": 2,
                  "intubated": 2,
                  "pneumonia": 2,
                  "age": 57,
                  "pregnant": 97,
                  "diabetes": 1,
                  "copd": 2,
                  "asthma": 2,
                  "immunosuppression": 2,
                  "hypertension": 2,
                  "other_diseases": 2,
                  "cardiovascular": 2,
                  "obesity": 2,
                  "chronic_kidney_failure": 2,
                  "smoker": 2,
                  "another_case": 99,
                  "outcome": 1,
                  "icu": 2,
                  "death_date": "2020-04-01",
                  "isdeath": 1,
                  "_deepnote_index_column": 3
                },
                {
                  "sex": 2,
                  "patient_type": 1,
                  "intubated": 97,
                  "pneumonia": 2,
                  "age": 55,
                  "pregnant": 97,
                  "diabetes": 1,
                  "copd": 2,
                  "asthma": 1,
                  "immunosuppression": 2,
                  "hypertension": 1,
                  "other_diseases": 2,
                  "cardiovascular": 2,
                  "obesity": 1,
                  "chronic_kidney_failure": 2,
                  "smoker": 2,
                  "another_case": 99,
                  "outcome": 1,
                  "icu": 97,
                  "death_date": "9999-99-99",
                  "isdeath": 0,
                  "_deepnote_index_column": 9
                },
                {
                  "sex": 2,
                  "patient_type": 2,
                  "intubated": 2,
                  "pneumonia": 1,
                  "age": 60,
                  "pregnant": 97,
                  "diabetes": 2,
                  "copd": 2,
                  "asthma": 2,
                  "immunosuppression": 2,
                  "hypertension": 1,
                  "other_diseases": 2,
                  "cardiovascular": 2,
                  "obesity": 2,
                  "chronic_kidney_failure": 2,
                  "smoker": 2,
                  "another_case": 99,
                  "outcome": 1,
                  "icu": 1,
                  "death_date": "9999-99-99",
                  "isdeath": 0,
                  "_deepnote_index_column": 18
                },
                {
                  "sex": 2,
                  "patient_type": 2,
                  "intubated": 2,
                  "pneumonia": 2,
                  "age": 70,
                  "pregnant": 97,
                  "diabetes": 2,
                  "copd": 2,
                  "asthma": 2,
                  "immunosuppression": 2,
                  "hypertension": 2,
                  "other_diseases": 2,
                  "cardiovascular": 2,
                  "obesity": 2,
                  "chronic_kidney_failure": 2,
                  "smoker": 2,
                  "another_case": 99,
                  "outcome": 1,
                  "icu": 2,
                  "death_date": "2020-04-10",
                  "isdeath": 1,
                  "_deepnote_index_column": 19
                },
                {
                  "sex": 1,
                  "patient_type": 1,
                  "intubated": 97,
                  "pneumonia": 2,
                  "age": 76,
                  "pregnant": 2,
                  "diabetes": 2,
                  "copd": 2,
                  "asthma": 2,
                  "immunosuppression": 2,
                  "hypertension": 2,
                  "other_diseases": 2,
                  "cardiovascular": 2,
                  "obesity": 2,
                  "chronic_kidney_failure": 2,
                  "smoker": 2,
                  "another_case": 1,
                  "outcome": 1,
                  "icu": 97,
                  "death_date": "9999-99-99",
                  "isdeath": 0,
                  "_deepnote_index_column": 26
                },
                {
                  "sex": 2,
                  "patient_type": 2,
                  "intubated": 2,
                  "pneumonia": 1,
                  "age": 57,
                  "pregnant": 97,
                  "diabetes": 1,
                  "copd": 2,
                  "asthma": 2,
                  "immunosuppression": 2,
                  "hypertension": 1,
                  "other_diseases": 2,
                  "cardiovascular": 2,
                  "obesity": 2,
                  "chronic_kidney_failure": 2,
                  "smoker": 1,
                  "another_case": 99,
                  "outcome": 1,
                  "icu": 2,
                  "death_date": "2020-03-24",
                  "isdeath": 1,
                  "_deepnote_index_column": 29
                },
                {
                  "sex": 2,
                  "patient_type": 1,
                  "intubated": 97,
                  "pneumonia": 2,
                  "age": 59,
                  "pregnant": 97,
                  "diabetes": 2,
                  "copd": 2,
                  "asthma": 2,
                  "immunosuppression": 2,
                  "hypertension": 2,
                  "other_diseases": 2,
                  "cardiovascular": 2,
                  "obesity": 1,
                  "chronic_kidney_failure": 2,
                  "smoker": 1,
                  "another_case": 99,
                  "outcome": 1,
                  "icu": 97,
                  "death_date": "9999-99-99",
                  "isdeath": 0,
                  "_deepnote_index_column": 30
                },
                {
                  "sex": 2,
                  "patient_type": 2,
                  "intubated": 2,
                  "pneumonia": 2,
                  "age": 31,
                  "pregnant": 97,
                  "diabetes": 2,
                  "copd": 2,
                  "asthma": 2,
                  "immunosuppression": 2,
                  "hypertension": 2,
                  "other_diseases": 2,
                  "cardiovascular": 2,
                  "obesity": 2,
                  "chronic_kidney_failure": 2,
                  "smoker": 2,
                  "another_case": 99,
                  "outcome": 1,
                  "icu": 2,
                  "death_date": "9999-99-99",
                  "isdeath": 0,
                  "_deepnote_index_column": 31
                },
                {
                  "sex": 1,
                  "patient_type": 1,
                  "intubated": 97,
                  "pneumonia": 2,
                  "age": 37,
                  "pregnant": 2,
                  "diabetes": 2,
                  "copd": 2,
                  "asthma": 1,
                  "immunosuppression": 2,
                  "hypertension": 2,
                  "other_diseases": 2,
                  "cardiovascular": 2,
                  "obesity": 2,
                  "chronic_kidney_failure": 2,
                  "smoker": 2,
                  "another_case": 99,
                  "outcome": 1,
                  "icu": 97,
                  "death_date": "9999-99-99",
                  "isdeath": 0,
                  "_deepnote_index_column": 36
                },
                {
                  "sex": 1,
                  "patient_type": 1,
                  "intubated": 97,
                  "pneumonia": 2,
                  "age": 19,
                  "pregnant": 2,
                  "diabetes": 2,
                  "copd": 2,
                  "asthma": 2,
                  "immunosuppression": 2,
                  "hypertension": 2,
                  "other_diseases": 2,
                  "cardiovascular": 2,
                  "obesity": 2,
                  "chronic_kidney_failure": 2,
                  "smoker": 2,
                  "another_case": 99,
                  "outcome": 1,
                  "icu": 97,
                  "death_date": "9999-99-99",
                  "isdeath": 0,
                  "_deepnote_index_column": 37
                },
                {
                  "sex": 2,
                  "patient_type": 1,
                  "intubated": 97,
                  "pneumonia": 2,
                  "age": 52,
                  "pregnant": 97,
                  "diabetes": 2,
                  "copd": 2,
                  "asthma": 2,
                  "immunosuppression": 2,
                  "hypertension": 1,
                  "other_diseases": 1,
                  "cardiovascular": 2,
                  "obesity": 2,
                  "chronic_kidney_failure": 2,
                  "smoker": 2,
                  "another_case": 99,
                  "outcome": 1,
                  "icu": 97,
                  "death_date": "9999-99-99",
                  "isdeath": 0,
                  "_deepnote_index_column": 43
                },
                {
                  "sex": 1,
                  "patient_type": 2,
                  "intubated": 2,
                  "pneumonia": 1,
                  "age": 51,
                  "pregnant": 2,
                  "diabetes": 2,
                  "copd": 2,
                  "asthma": 2,
                  "immunosuppression": 2,
                  "hypertension": 2,
                  "other_diseases": 2,
                  "cardiovascular": 2,
                  "obesity": 2,
                  "chronic_kidney_failure": 2,
                  "smoker": 2,
                  "another_case": 99,
                  "outcome": 1,
                  "icu": 2,
                  "death_date": "2020-04-11",
                  "isdeath": 1,
                  "_deepnote_index_column": 46
                },
                {
                  "sex": 1,
                  "patient_type": 1,
                  "intubated": 97,
                  "pneumonia": 2,
                  "age": 28,
                  "pregnant": 2,
                  "diabetes": 2,
                  "copd": 2,
                  "asthma": 2,
                  "immunosuppression": 2,
                  "hypertension": 2,
                  "other_diseases": 2,
                  "cardiovascular": 2,
                  "obesity": 2,
                  "chronic_kidney_failure": 2,
                  "smoker": 2,
                  "another_case": 99,
                  "outcome": 1,
                  "icu": 97,
                  "death_date": "9999-99-99",
                  "isdeath": 0,
                  "_deepnote_index_column": 58
                },
                {
                  "sex": 2,
                  "patient_type": 1,
                  "intubated": 97,
                  "pneumonia": 2,
                  "age": 23,
                  "pregnant": 97,
                  "diabetes": 2,
                  "copd": 2,
                  "asthma": 2,
                  "immunosuppression": 2,
                  "hypertension": 2,
                  "other_diseases": 2,
                  "cardiovascular": 2,
                  "obesity": 2,
                  "chronic_kidney_failure": 2,
                  "smoker": 2,
                  "another_case": 1,
                  "outcome": 1,
                  "icu": 97,
                  "death_date": "9999-99-99",
                  "isdeath": 0,
                  "_deepnote_index_column": 59
                },
                {
                  "sex": 2,
                  "patient_type": 1,
                  "intubated": 97,
                  "pneumonia": 2,
                  "age": 49,
                  "pregnant": 97,
                  "diabetes": 1,
                  "copd": 2,
                  "asthma": 2,
                  "immunosuppression": 2,
                  "hypertension": 1,
                  "other_diseases": 2,
                  "cardiovascular": 2,
                  "obesity": 2,
                  "chronic_kidney_failure": 2,
                  "smoker": 2,
                  "another_case": 99,
                  "outcome": 1,
                  "icu": 97,
                  "death_date": "9999-99-99",
                  "isdeath": 0,
                  "_deepnote_index_column": 60
                },
                {
                  "sex": 2,
                  "patient_type": 2,
                  "intubated": 2,
                  "pneumonia": 1,
                  "age": 28,
                  "pregnant": 97,
                  "diabetes": 2,
                  "copd": 2,
                  "asthma": 2,
                  "immunosuppression": 2,
                  "hypertension": 2,
                  "other_diseases": 2,
                  "cardiovascular": 2,
                  "obesity": 1,
                  "chronic_kidney_failure": 2,
                  "smoker": 2,
                  "another_case": 99,
                  "outcome": 1,
                  "icu": 2,
                  "death_date": "9999-99-99",
                  "isdeath": 0,
                  "_deepnote_index_column": 61
                },
                {
                  "sex": 1,
                  "patient_type": 1,
                  "intubated": 97,
                  "pneumonia": 2,
                  "age": 32,
                  "pregnant": 2,
                  "diabetes": 2,
                  "copd": 2,
                  "asthma": 2,
                  "immunosuppression": 2,
                  "hypertension": 2,
                  "other_diseases": 2,
                  "cardiovascular": 2,
                  "obesity": 2,
                  "chronic_kidney_failure": 2,
                  "smoker": 2,
                  "another_case": 99,
                  "outcome": 1,
                  "icu": 97,
                  "death_date": "9999-99-99",
                  "isdeath": 0,
                  "_deepnote_index_column": 63
                },
                {
                  "sex": 2,
                  "patient_type": 2,
                  "intubated": 2,
                  "pneumonia": 1,
                  "age": 67,
                  "pregnant": 97,
                  "diabetes": 2,
                  "copd": 2,
                  "asthma": 2,
                  "immunosuppression": 2,
                  "hypertension": 1,
                  "other_diseases": 2,
                  "cardiovascular": 2,
                  "obesity": 2,
                  "chronic_kidney_failure": 2,
                  "smoker": 2,
                  "another_case": 2,
                  "outcome": 1,
                  "icu": 2,
                  "death_date": "9999-99-99",
                  "isdeath": 0,
                  "_deepnote_index_column": 71
                },
                {
                  "sex": 2,
                  "patient_type": 1,
                  "intubated": 97,
                  "pneumonia": 2,
                  "age": 50,
                  "pregnant": 97,
                  "diabetes": 1,
                  "copd": 2,
                  "asthma": 2,
                  "immunosuppression": 2,
                  "hypertension": 1,
                  "other_diseases": 2,
                  "cardiovascular": 2,
                  "obesity": 2,
                  "chronic_kidney_failure": 2,
                  "smoker": 2,
                  "another_case": 99,
                  "outcome": 1,
                  "icu": 97,
                  "death_date": "9999-99-99",
                  "isdeath": 0,
                  "_deepnote_index_column": 78
                },
                {
                  "sex": 1,
                  "patient_type": 2,
                  "intubated": 2,
                  "pneumonia": 2,
                  "age": 30,
                  "pregnant": 2,
                  "diabetes": 2,
                  "copd": 2,
                  "asthma": 2,
                  "immunosuppression": 2,
                  "hypertension": 2,
                  "other_diseases": 2,
                  "cardiovascular": 2,
                  "obesity": 2,
                  "chronic_kidney_failure": 2,
                  "smoker": 2,
                  "another_case": 99,
                  "outcome": 1,
                  "icu": 2,
                  "death_date": "9999-99-99",
                  "isdeath": 0,
                  "_deepnote_index_column": 79
                }
              ],
              "rows_bottom": [
                {
                  "sex": 2,
                  "patient_type": 2,
                  "intubated": 2,
                  "pneumonia": 2,
                  "age": 41,
                  "pregnant": 97,
                  "diabetes": 1,
                  "copd": 2,
                  "asthma": 2,
                  "immunosuppression": 2,
                  "hypertension": 2,
                  "other_diseases": 2,
                  "cardiovascular": 2,
                  "obesity": 2,
                  "chronic_kidney_failure": 2,
                  "smoker": 2,
                  "another_case": 2,
                  "outcome": 1,
                  "icu": 2,
                  "death_date": "9999-99-99",
                  "isdeath": 0,
                  "_deepnote_index_column": 95074
                },
                {
                  "sex": 2,
                  "patient_type": 2,
                  "intubated": 2,
                  "pneumonia": 2,
                  "age": 76,
                  "pregnant": 97,
                  "diabetes": 1,
                  "copd": 2,
                  "asthma": 2,
                  "immunosuppression": 2,
                  "hypertension": 1,
                  "other_diseases": 2,
                  "cardiovascular": 2,
                  "obesity": 1,
                  "chronic_kidney_failure": 2,
                  "smoker": 2,
                  "another_case": 2,
                  "outcome": 1,
                  "icu": 2,
                  "death_date": "9999-99-99",
                  "isdeath": 0,
                  "_deepnote_index_column": 95101
                },
                {
                  "sex": 1,
                  "patient_type": 1,
                  "intubated": 97,
                  "pneumonia": 2,
                  "age": 47,
                  "pregnant": 2,
                  "diabetes": 2,
                  "copd": 2,
                  "asthma": 2,
                  "immunosuppression": 2,
                  "hypertension": 2,
                  "other_diseases": 2,
                  "cardiovascular": 2,
                  "obesity": 2,
                  "chronic_kidney_failure": 2,
                  "smoker": 2,
                  "another_case": 99,
                  "outcome": 1,
                  "icu": 97,
                  "death_date": "9999-99-99",
                  "isdeath": 0,
                  "_deepnote_index_column": 95110
                },
                {
                  "sex": 1,
                  "patient_type": 2,
                  "intubated": 1,
                  "pneumonia": 1,
                  "age": 48,
                  "pregnant": 2,
                  "diabetes": 2,
                  "copd": 2,
                  "asthma": 2,
                  "immunosuppression": 2,
                  "hypertension": 2,
                  "other_diseases": 2,
                  "cardiovascular": 2,
                  "obesity": 2,
                  "chronic_kidney_failure": 2,
                  "smoker": 2,
                  "another_case": 2,
                  "outcome": 1,
                  "icu": 2,
                  "death_date": "9999-99-99",
                  "isdeath": 0,
                  "_deepnote_index_column": 95128
                },
                {
                  "sex": 2,
                  "patient_type": 1,
                  "intubated": 97,
                  "pneumonia": 2,
                  "age": 75,
                  "pregnant": 97,
                  "diabetes": 2,
                  "copd": 2,
                  "asthma": 2,
                  "immunosuppression": 2,
                  "hypertension": 1,
                  "other_diseases": 2,
                  "cardiovascular": 2,
                  "obesity": 2,
                  "chronic_kidney_failure": 2,
                  "smoker": 2,
                  "another_case": 2,
                  "outcome": 1,
                  "icu": 97,
                  "death_date": "9999-99-99",
                  "isdeath": 0,
                  "_deepnote_index_column": 95174
                },
                {
                  "sex": 2,
                  "patient_type": 2,
                  "intubated": 2,
                  "pneumonia": 1,
                  "age": 66,
                  "pregnant": 97,
                  "diabetes": 1,
                  "copd": 2,
                  "asthma": 2,
                  "immunosuppression": 2,
                  "hypertension": 2,
                  "other_diseases": 2,
                  "cardiovascular": 2,
                  "obesity": 2,
                  "chronic_kidney_failure": 2,
                  "smoker": 2,
                  "another_case": 99,
                  "outcome": 1,
                  "icu": 2,
                  "death_date": "9999-99-99",
                  "isdeath": 0,
                  "_deepnote_index_column": 95180
                },
                {
                  "sex": 1,
                  "patient_type": 1,
                  "intubated": 97,
                  "pneumonia": 2,
                  "age": 28,
                  "pregnant": 2,
                  "diabetes": 2,
                  "copd": 2,
                  "asthma": 2,
                  "immunosuppression": 2,
                  "hypertension": 2,
                  "other_diseases": 2,
                  "cardiovascular": 2,
                  "obesity": 2,
                  "chronic_kidney_failure": 2,
                  "smoker": 2,
                  "another_case": 99,
                  "outcome": 1,
                  "icu": 97,
                  "death_date": "9999-99-99",
                  "isdeath": 0,
                  "_deepnote_index_column": 95326
                },
                {
                  "sex": 2,
                  "patient_type": 2,
                  "intubated": 2,
                  "pneumonia": 2,
                  "age": 47,
                  "pregnant": 97,
                  "diabetes": 1,
                  "copd": 2,
                  "asthma": 2,
                  "immunosuppression": 2,
                  "hypertension": 1,
                  "other_diseases": 2,
                  "cardiovascular": 2,
                  "obesity": 2,
                  "chronic_kidney_failure": 2,
                  "smoker": 2,
                  "another_case": 2,
                  "outcome": 1,
                  "icu": 2,
                  "death_date": "9999-99-99",
                  "isdeath": 0,
                  "_deepnote_index_column": 95329
                },
                {
                  "sex": 2,
                  "patient_type": 2,
                  "intubated": 2,
                  "pneumonia": 1,
                  "age": 43,
                  "pregnant": 97,
                  "diabetes": 1,
                  "copd": 2,
                  "asthma": 2,
                  "immunosuppression": 2,
                  "hypertension": 1,
                  "other_diseases": 2,
                  "cardiovascular": 2,
                  "obesity": 1,
                  "chronic_kidney_failure": 2,
                  "smoker": 2,
                  "another_case": 2,
                  "outcome": 1,
                  "icu": 2,
                  "death_date": "9999-99-99",
                  "isdeath": 0,
                  "_deepnote_index_column": 95402
                },
                {
                  "sex": 2,
                  "patient_type": 1,
                  "intubated": 97,
                  "pneumonia": 2,
                  "age": 18,
                  "pregnant": 97,
                  "diabetes": 2,
                  "copd": 2,
                  "asthma": 2,
                  "immunosuppression": 2,
                  "hypertension": 2,
                  "other_diseases": 2,
                  "cardiovascular": 2,
                  "obesity": 1,
                  "chronic_kidney_failure": 2,
                  "smoker": 2,
                  "another_case": 1,
                  "outcome": 1,
                  "icu": 97,
                  "death_date": "9999-99-99",
                  "isdeath": 0,
                  "_deepnote_index_column": 95405
                },
                {
                  "sex": 2,
                  "patient_type": 2,
                  "intubated": 2,
                  "pneumonia": 1,
                  "age": 63,
                  "pregnant": 97,
                  "diabetes": 2,
                  "copd": 2,
                  "asthma": 2,
                  "immunosuppression": 2,
                  "hypertension": 2,
                  "other_diseases": 2,
                  "cardiovascular": 2,
                  "obesity": 2,
                  "chronic_kidney_failure": 2,
                  "smoker": 1,
                  "another_case": 1,
                  "outcome": 1,
                  "icu": 2,
                  "death_date": "9999-99-99",
                  "isdeath": 0,
                  "_deepnote_index_column": 95406
                },
                {
                  "sex": 1,
                  "patient_type": 1,
                  "intubated": 97,
                  "pneumonia": 2,
                  "age": 56,
                  "pregnant": 2,
                  "diabetes": 2,
                  "copd": 2,
                  "asthma": 2,
                  "immunosuppression": 2,
                  "hypertension": 2,
                  "other_diseases": 2,
                  "cardiovascular": 2,
                  "obesity": 2,
                  "chronic_kidney_failure": 2,
                  "smoker": 2,
                  "another_case": 99,
                  "outcome": 1,
                  "icu": 97,
                  "death_date": "9999-99-99",
                  "isdeath": 0,
                  "_deepnote_index_column": 95421
                },
                {
                  "sex": 1,
                  "patient_type": 1,
                  "intubated": 97,
                  "pneumonia": 2,
                  "age": 28,
                  "pregnant": 2,
                  "diabetes": 2,
                  "copd": 2,
                  "asthma": 2,
                  "immunosuppression": 2,
                  "hypertension": 2,
                  "other_diseases": 2,
                  "cardiovascular": 2,
                  "obesity": 2,
                  "chronic_kidney_failure": 2,
                  "smoker": 2,
                  "another_case": 99,
                  "outcome": 1,
                  "icu": 97,
                  "death_date": "9999-99-99",
                  "isdeath": 0,
                  "_deepnote_index_column": 95423
                },
                {
                  "sex": 1,
                  "patient_type": 2,
                  "intubated": 2,
                  "pneumonia": 2,
                  "age": 61,
                  "pregnant": 2,
                  "diabetes": 2,
                  "copd": 2,
                  "asthma": 2,
                  "immunosuppression": 2,
                  "hypertension": 2,
                  "other_diseases": 2,
                  "cardiovascular": 2,
                  "obesity": 2,
                  "chronic_kidney_failure": 2,
                  "smoker": 2,
                  "another_case": 2,
                  "outcome": 1,
                  "icu": 2,
                  "death_date": "9999-99-99",
                  "isdeath": 0,
                  "_deepnote_index_column": 95429
                },
                {
                  "sex": 2,
                  "patient_type": 2,
                  "intubated": 1,
                  "pneumonia": 1,
                  "age": 65,
                  "pregnant": 97,
                  "diabetes": 2,
                  "copd": 2,
                  "asthma": 2,
                  "immunosuppression": 2,
                  "hypertension": 1,
                  "other_diseases": 2,
                  "cardiovascular": 2,
                  "obesity": 2,
                  "chronic_kidney_failure": 2,
                  "smoker": 2,
                  "another_case": 2,
                  "outcome": 1,
                  "icu": 1,
                  "death_date": "9999-99-99",
                  "isdeath": 0,
                  "_deepnote_index_column": 95574
                },
                {
                  "sex": 2,
                  "patient_type": 2,
                  "intubated": 1,
                  "pneumonia": 1,
                  "age": 58,
                  "pregnant": 97,
                  "diabetes": 1,
                  "copd": 2,
                  "asthma": 2,
                  "immunosuppression": 2,
                  "hypertension": 2,
                  "other_diseases": 2,
                  "cardiovascular": 2,
                  "obesity": 2,
                  "chronic_kidney_failure": 2,
                  "smoker": 2,
                  "another_case": 2,
                  "outcome": 1,
                  "icu": 1,
                  "death_date": "9999-99-99",
                  "isdeath": 0,
                  "_deepnote_index_column": 95583
                },
                {
                  "sex": 2,
                  "patient_type": 1,
                  "intubated": 97,
                  "pneumonia": 2,
                  "age": 26,
                  "pregnant": 97,
                  "diabetes": 2,
                  "copd": 2,
                  "asthma": 2,
                  "immunosuppression": 2,
                  "hypertension": 2,
                  "other_diseases": 2,
                  "cardiovascular": 2,
                  "obesity": 2,
                  "chronic_kidney_failure": 2,
                  "smoker": 2,
                  "another_case": 1,
                  "outcome": 1,
                  "icu": 97,
                  "death_date": "9999-99-99",
                  "isdeath": 0,
                  "_deepnote_index_column": 95585
                },
                {
                  "sex": 2,
                  "patient_type": 1,
                  "intubated": 97,
                  "pneumonia": 2,
                  "age": 54,
                  "pregnant": 97,
                  "diabetes": 2,
                  "copd": 2,
                  "asthma": 2,
                  "immunosuppression": 2,
                  "hypertension": 2,
                  "other_diseases": 2,
                  "cardiovascular": 2,
                  "obesity": 2,
                  "chronic_kidney_failure": 2,
                  "smoker": 2,
                  "another_case": 1,
                  "outcome": 1,
                  "icu": 97,
                  "death_date": "9999-99-99",
                  "isdeath": 0,
                  "_deepnote_index_column": 95590
                },
                {
                  "sex": 2,
                  "patient_type": 2,
                  "intubated": 2,
                  "pneumonia": 1,
                  "age": 41,
                  "pregnant": 97,
                  "diabetes": 2,
                  "copd": 2,
                  "asthma": 2,
                  "immunosuppression": 2,
                  "hypertension": 2,
                  "other_diseases": 2,
                  "cardiovascular": 2,
                  "obesity": 2,
                  "chronic_kidney_failure": 2,
                  "smoker": 2,
                  "another_case": 2,
                  "outcome": 1,
                  "icu": 2,
                  "death_date": "9999-99-99",
                  "isdeath": 0,
                  "_deepnote_index_column": 95594
                },
                {
                  "sex": 2,
                  "patient_type": 2,
                  "intubated": 2,
                  "pneumonia": 1,
                  "age": 66,
                  "pregnant": 97,
                  "diabetes": 2,
                  "copd": 2,
                  "asthma": 2,
                  "immunosuppression": 2,
                  "hypertension": 2,
                  "other_diseases": 2,
                  "cardiovascular": 2,
                  "obesity": 2,
                  "chronic_kidney_failure": 2,
                  "smoker": 2,
                  "another_case": 2,
                  "outcome": 1,
                  "icu": 1,
                  "death_date": "9999-99-99",
                  "isdeath": 0,
                  "_deepnote_index_column": 95599
                },
                {
                  "sex": 1,
                  "patient_type": 2,
                  "intubated": 2,
                  "pneumonia": 2,
                  "age": 60,
                  "pregnant": 2,
                  "diabetes": 2,
                  "copd": 2,
                  "asthma": 2,
                  "immunosuppression": 2,
                  "hypertension": 1,
                  "other_diseases": 2,
                  "cardiovascular": 2,
                  "obesity": 2,
                  "chronic_kidney_failure": 2,
                  "smoker": 2,
                  "another_case": 1,
                  "outcome": 1,
                  "icu": 2,
                  "death_date": "9999-99-99",
                  "isdeath": 0,
                  "_deepnote_index_column": 95645
                },
                {
                  "sex": 2,
                  "patient_type": 2,
                  "intubated": 2,
                  "pneumonia": 2,
                  "age": 56,
                  "pregnant": 97,
                  "diabetes": 1,
                  "copd": 2,
                  "asthma": 2,
                  "immunosuppression": 2,
                  "hypertension": 1,
                  "other_diseases": 2,
                  "cardiovascular": 2,
                  "obesity": 2,
                  "chronic_kidney_failure": 2,
                  "smoker": 2,
                  "another_case": 1,
                  "outcome": 1,
                  "icu": 2,
                  "death_date": "9999-99-99",
                  "isdeath": 0,
                  "_deepnote_index_column": 95657
                },
                {
                  "sex": 1,
                  "patient_type": 1,
                  "intubated": 97,
                  "pneumonia": 2,
                  "age": 48,
                  "pregnant": 2,
                  "diabetes": 2,
                  "copd": 2,
                  "asthma": 2,
                  "immunosuppression": 2,
                  "hypertension": 2,
                  "other_diseases": 2,
                  "cardiovascular": 2,
                  "obesity": 2,
                  "chronic_kidney_failure": 2,
                  "smoker": 2,
                  "another_case": 99,
                  "outcome": 1,
                  "icu": 97,
                  "death_date": "9999-99-99",
                  "isdeath": 0,
                  "_deepnote_index_column": 95693
                },
                {
                  "sex": 2,
                  "patient_type": 2,
                  "intubated": 1,
                  "pneumonia": 1,
                  "age": 62,
                  "pregnant": 97,
                  "diabetes": 2,
                  "copd": 2,
                  "asthma": 2,
                  "immunosuppression": 2,
                  "hypertension": 2,
                  "other_diseases": 2,
                  "cardiovascular": 2,
                  "obesity": 1,
                  "chronic_kidney_failure": 2,
                  "smoker": 2,
                  "another_case": 1,
                  "outcome": 1,
                  "icu": 1,
                  "death_date": "9999-99-99",
                  "isdeath": 0,
                  "_deepnote_index_column": 95779
                }
              ]
            },
            "text/plain": "       sex  patient_type  intubated  pneumonia  age  pregnant  diabetes  copd  \\\n0        2             1         97          2   42        97         2     2   \n1        1             1         97          2   51         2         2     2   \n2        2             2          2          2   51        97         1     2   \n3        2             2          2          2   57        97         1     2   \n9        2             1         97          2   55        97         1     2   \n...    ...           ...        ...        ...  ...       ...       ...   ...   \n95599    2             2          2          1   66        97         2     2   \n95645    1             2          2          2   60         2         2     2   \n95657    2             2          2          2   56        97         1     2   \n95693    1             1         97          2   48         2         2     2   \n95779    2             2          1          1   62        97         2     2   \n\n       asthma  immunosuppression  ...  other_diseases  cardiovascular  \\\n0           1                  2  ...               2               2   \n1           2                  2  ...               2               2   \n2           2                  2  ...               2               2   \n3           2                  2  ...               2               2   \n9           1                  2  ...               2               2   \n...       ...                ...  ...             ...             ...   \n95599       2                  2  ...               2               2   \n95645       2                  2  ...               2               2   \n95657       2                  2  ...               2               2   \n95693       2                  2  ...               2               2   \n95779       2                  2  ...               2               2   \n\n       obesity  chronic_kidney_failure  smoker  another_case  outcome  icu  \\\n0            2                       2       2            99        1   97   \n1            2                       2       2            99        1   97   \n2            1                       2       2            99        1    2   \n3            2                       2       2            99        1    2   \n9            1                       2       2            99        1   97   \n...        ...                     ...     ...           ...      ...  ...   \n95599        2                       2       2             2        1    1   \n95645        2                       2       2             1        1    2   \n95657        2                       2       2             1        1    2   \n95693        2                       2       2            99        1   97   \n95779        1                       2       2             1        1    1   \n\n       death_date isdeath  \n0      9999-99-99     0.0  \n1      9999-99-99     0.0  \n2      9999-99-99     0.0  \n3      2020-04-01     1.0  \n9      9999-99-99     0.0  \n...           ...     ...  \n95599  9999-99-99     0.0  \n95645  9999-99-99     0.0  \n95657  9999-99-99     0.0  \n95693  9999-99-99     0.0  \n95779  9999-99-99     0.0  \n\n[23471 rows x 21 columns]",
            "text/html": "<div>\n<style scoped>\n    .dataframe tbody tr th:only-of-type {\n        vertical-align: middle;\n    }\n\n    .dataframe tbody tr th {\n        vertical-align: top;\n    }\n\n    .dataframe thead th {\n        text-align: right;\n    }\n</style>\n<table border=\"1\" class=\"dataframe\">\n  <thead>\n    <tr style=\"text-align: right;\">\n      <th></th>\n      <th>sex</th>\n      <th>patient_type</th>\n      <th>intubated</th>\n      <th>pneumonia</th>\n      <th>age</th>\n      <th>pregnant</th>\n      <th>diabetes</th>\n      <th>copd</th>\n      <th>asthma</th>\n      <th>immunosuppression</th>\n      <th>...</th>\n      <th>other_diseases</th>\n      <th>cardiovascular</th>\n      <th>obesity</th>\n      <th>chronic_kidney_failure</th>\n      <th>smoker</th>\n      <th>another_case</th>\n      <th>outcome</th>\n      <th>icu</th>\n      <th>death_date</th>\n      <th>isdeath</th>\n    </tr>\n  </thead>\n  <tbody>\n    <tr>\n      <th>0</th>\n      <td>2</td>\n      <td>1</td>\n      <td>97</td>\n      <td>2</td>\n      <td>42</td>\n      <td>97</td>\n      <td>2</td>\n      <td>2</td>\n      <td>1</td>\n      <td>2</td>\n      <td>...</td>\n      <td>2</td>\n      <td>2</td>\n      <td>2</td>\n      <td>2</td>\n      <td>2</td>\n      <td>99</td>\n      <td>1</td>\n      <td>97</td>\n      <td>9999-99-99</td>\n      <td>0.0</td>\n    </tr>\n    <tr>\n      <th>1</th>\n      <td>1</td>\n      <td>1</td>\n      <td>97</td>\n      <td>2</td>\n      <td>51</td>\n      <td>2</td>\n      <td>2</td>\n      <td>2</td>\n      <td>2</td>\n      <td>2</td>\n      <td>...</td>\n      <td>2</td>\n      <td>2</td>\n      <td>2</td>\n      <td>2</td>\n      <td>2</td>\n      <td>99</td>\n      <td>1</td>\n      <td>97</td>\n      <td>9999-99-99</td>\n      <td>0.0</td>\n    </tr>\n    <tr>\n      <th>2</th>\n      <td>2</td>\n      <td>2</td>\n      <td>2</td>\n      <td>2</td>\n      <td>51</td>\n      <td>97</td>\n      <td>1</td>\n      <td>2</td>\n      <td>2</td>\n      <td>2</td>\n      <td>...</td>\n      <td>2</td>\n      <td>2</td>\n      <td>1</td>\n      <td>2</td>\n      <td>2</td>\n      <td>99</td>\n      <td>1</td>\n      <td>2</td>\n      <td>9999-99-99</td>\n      <td>0.0</td>\n    </tr>\n    <tr>\n      <th>3</th>\n      <td>2</td>\n      <td>2</td>\n      <td>2</td>\n      <td>2</td>\n      <td>57</td>\n      <td>97</td>\n      <td>1</td>\n      <td>2</td>\n      <td>2</td>\n      <td>2</td>\n      <td>...</td>\n      <td>2</td>\n      <td>2</td>\n      <td>2</td>\n      <td>2</td>\n      <td>2</td>\n      <td>99</td>\n      <td>1</td>\n      <td>2</td>\n      <td>2020-04-01</td>\n      <td>1.0</td>\n    </tr>\n    <tr>\n      <th>9</th>\n      <td>2</td>\n      <td>1</td>\n      <td>97</td>\n      <td>2</td>\n      <td>55</td>\n      <td>97</td>\n      <td>1</td>\n      <td>2</td>\n      <td>1</td>\n      <td>2</td>\n      <td>...</td>\n      <td>2</td>\n      <td>2</td>\n      <td>1</td>\n      <td>2</td>\n      <td>2</td>\n      <td>99</td>\n      <td>1</td>\n      <td>97</td>\n      <td>9999-99-99</td>\n      <td>0.0</td>\n    </tr>\n    <tr>\n      <th>...</th>\n      <td>...</td>\n      <td>...</td>\n      <td>...</td>\n      <td>...</td>\n      <td>...</td>\n      <td>...</td>\n      <td>...</td>\n      <td>...</td>\n      <td>...</td>\n      <td>...</td>\n      <td>...</td>\n      <td>...</td>\n      <td>...</td>\n      <td>...</td>\n      <td>...</td>\n      <td>...</td>\n      <td>...</td>\n      <td>...</td>\n      <td>...</td>\n      <td>...</td>\n      <td>...</td>\n    </tr>\n    <tr>\n      <th>95599</th>\n      <td>2</td>\n      <td>2</td>\n      <td>2</td>\n      <td>1</td>\n      <td>66</td>\n      <td>97</td>\n      <td>2</td>\n      <td>2</td>\n      <td>2</td>\n      <td>2</td>\n      <td>...</td>\n      <td>2</td>\n      <td>2</td>\n      <td>2</td>\n      <td>2</td>\n      <td>2</td>\n      <td>2</td>\n      <td>1</td>\n      <td>1</td>\n      <td>9999-99-99</td>\n      <td>0.0</td>\n    </tr>\n    <tr>\n      <th>95645</th>\n      <td>1</td>\n      <td>2</td>\n      <td>2</td>\n      <td>2</td>\n      <td>60</td>\n      <td>2</td>\n      <td>2</td>\n      <td>2</td>\n      <td>2</td>\n      <td>2</td>\n      <td>...</td>\n      <td>2</td>\n      <td>2</td>\n      <td>2</td>\n      <td>2</td>\n      <td>2</td>\n      <td>1</td>\n      <td>1</td>\n      <td>2</td>\n      <td>9999-99-99</td>\n      <td>0.0</td>\n    </tr>\n    <tr>\n      <th>95657</th>\n      <td>2</td>\n      <td>2</td>\n      <td>2</td>\n      <td>2</td>\n      <td>56</td>\n      <td>97</td>\n      <td>1</td>\n      <td>2</td>\n      <td>2</td>\n      <td>2</td>\n      <td>...</td>\n      <td>2</td>\n      <td>2</td>\n      <td>2</td>\n      <td>2</td>\n      <td>2</td>\n      <td>1</td>\n      <td>1</td>\n      <td>2</td>\n      <td>9999-99-99</td>\n      <td>0.0</td>\n    </tr>\n    <tr>\n      <th>95693</th>\n      <td>1</td>\n      <td>1</td>\n      <td>97</td>\n      <td>2</td>\n      <td>48</td>\n      <td>2</td>\n      <td>2</td>\n      <td>2</td>\n      <td>2</td>\n      <td>2</td>\n      <td>...</td>\n      <td>2</td>\n      <td>2</td>\n      <td>2</td>\n      <td>2</td>\n      <td>2</td>\n      <td>99</td>\n      <td>1</td>\n      <td>97</td>\n      <td>9999-99-99</td>\n      <td>0.0</td>\n    </tr>\n    <tr>\n      <th>95779</th>\n      <td>2</td>\n      <td>2</td>\n      <td>1</td>\n      <td>1</td>\n      <td>62</td>\n      <td>97</td>\n      <td>2</td>\n      <td>2</td>\n      <td>2</td>\n      <td>2</td>\n      <td>...</td>\n      <td>2</td>\n      <td>2</td>\n      <td>1</td>\n      <td>2</td>\n      <td>2</td>\n      <td>1</td>\n      <td>1</td>\n      <td>1</td>\n      <td>9999-99-99</td>\n      <td>0.0</td>\n    </tr>\n  </tbody>\n</table>\n<p>23471 rows × 21 columns</p>\n</div>"
          },
          "metadata": {}
        }
      ],
      "execution_count": null
    },
    {
      "cell_type": "code",
      "metadata": {
        "tags": [],
        "cell_id": "00007-bf56c50e-9fa3-4851-94a4-708d60d0e946",
        "output_cleared": false,
        "source_hash": "d94990a9",
        "execution_millis": 17,
        "deepnote_to_be_reexecuted": false,
        "execution_start": 1618902850020,
        "deepnote_cell_type": "code"
      },
      "source": "#lavoro con variabile intubated, trasformo i dati ed elimino i dati non  disponibili\n#frequency of variable.value_count 1 intubeted yes, 2 no\ndt['intubated'].value_counts()\ndt.loc[dt['intubated']>2,'intubated']=2 #tutti i numeri maggiori di 3 ora sono 2 quindi hannovalore no\n#cambio valpori dummy-- 0 non intubato, 1 intubato\ndt['intubated']=dt['intubated'].map({2: 0,1: 1})\ndt['intubated'].value_counts()",
      "outputs": [
        {
          "name": "stderr",
          "text": "/shared-libs/python3.7/py/lib/python3.7/site-packages/pandas/core/indexing.py:1720: SettingWithCopyWarning: \nA value is trying to be set on a copy of a slice from a DataFrame.\nTry using .loc[row_indexer,col_indexer] = value instead\n\nSee the caveats in the documentation: https://pandas.pydata.org/pandas-docs/stable/user_guide/indexing.html#returning-a-view-versus-a-copy\n  self._setitem_single_column(loc, value, pi)\n/shared-libs/python3.7/py-core/lib/python3.7/site-packages/ipykernel_launcher.py:6: SettingWithCopyWarning: \nA value is trying to be set on a copy of a slice from a DataFrame.\nTry using .loc[row_indexer,col_indexer] = value instead\n\nSee the caveats in the documentation: https://pandas.pydata.org/pandas-docs/stable/user_guide/indexing.html#returning-a-view-versus-a-copy\n  \n",
          "output_type": "stream"
        },
        {
          "output_type": "execute_result",
          "execution_count": 8,
          "data": {
            "text/plain": "0    22480\n1      991\nName: intubated, dtype: int64"
          },
          "metadata": {}
        }
      ],
      "execution_count": null
    },
    {
      "cell_type": "code",
      "metadata": {
        "tags": [],
        "cell_id": "00008-90848d6d-96f4-43e3-95a2-1672569d1cd8",
        "output_cleared": false,
        "source_hash": "760c825e",
        "execution_millis": 26,
        "deepnote_to_be_reexecuted": false,
        "execution_start": 1618902850039,
        "deepnote_cell_type": "code"
      },
      "source": "#lavoro con variabile copd, trasformo i dati ed elimino i dati non  disponibili\n#frequency of variable.value_count 1 yes copd problems, 2 no problems\ndt['copd'].value_counts()\ndt.loc[dt['copd']>2,'copd']=2 #tutti i numeri maggiori di 3 ora sono 2 quindi hannovalore no\n#cambio valpori dummy-- 0 non intubato, 1 intubato\ndt['copd']=dt['copd'].map({2: 0,1: 1})\ndt['copd'].value_counts()",
      "outputs": [
        {
          "name": "stderr",
          "text": "/shared-libs/python3.7/py/lib/python3.7/site-packages/pandas/core/indexing.py:1720: SettingWithCopyWarning: \nA value is trying to be set on a copy of a slice from a DataFrame.\nTry using .loc[row_indexer,col_indexer] = value instead\n\nSee the caveats in the documentation: https://pandas.pydata.org/pandas-docs/stable/user_guide/indexing.html#returning-a-view-versus-a-copy\n  self._setitem_single_column(loc, value, pi)\n/shared-libs/python3.7/py-core/lib/python3.7/site-packages/ipykernel_launcher.py:6: SettingWithCopyWarning: \nA value is trying to be set on a copy of a slice from a DataFrame.\nTry using .loc[row_indexer,col_indexer] = value instead\n\nSee the caveats in the documentation: https://pandas.pydata.org/pandas-docs/stable/user_guide/indexing.html#returning-a-view-versus-a-copy\n  \n",
          "output_type": "stream"
        },
        {
          "output_type": "execute_result",
          "execution_count": 9,
          "data": {
            "text/plain": "0    22893\n1      578\nName: copd, dtype: int64"
          },
          "metadata": {}
        }
      ],
      "execution_count": null
    },
    {
      "cell_type": "code",
      "metadata": {
        "tags": [],
        "cell_id": "00009-1fd0a883-0803-4d7a-bd9c-cea13271c5f0",
        "output_cleared": false,
        "source_hash": "a19065dc",
        "execution_millis": 55,
        "deepnote_to_be_reexecuted": false,
        "execution_start": 1618902850053,
        "deepnote_cell_type": "code"
      },
      "source": "#lavoro con variabile diabetes. \n#Ci sono dei valori non disponibili, li trasformo in non diabetici\n#frequency of variable.value_count 1 diabeteici yes, 2 non diabetici\ndt['diabetes'].value_counts()\ndt.loc[dt['diabetes']>2,'diabetes']=2\n#trasformo i dati dei diabetici in variabile dummy 1=diabetico, 0 non diabetico\ndt['diabetes']= dt['diabetes'].map({2:0,1:1})\ndt['diabetes'].value_counts()",
      "outputs": [
        {
          "name": "stderr",
          "text": "/shared-libs/python3.7/py/lib/python3.7/site-packages/pandas/core/indexing.py:1720: SettingWithCopyWarning: \nA value is trying to be set on a copy of a slice from a DataFrame.\nTry using .loc[row_indexer,col_indexer] = value instead\n\nSee the caveats in the documentation: https://pandas.pydata.org/pandas-docs/stable/user_guide/indexing.html#returning-a-view-versus-a-copy\n  self._setitem_single_column(loc, value, pi)\n/shared-libs/python3.7/py-core/lib/python3.7/site-packages/ipykernel_launcher.py:7: SettingWithCopyWarning: \nA value is trying to be set on a copy of a slice from a DataFrame.\nTry using .loc[row_indexer,col_indexer] = value instead\n\nSee the caveats in the documentation: https://pandas.pydata.org/pandas-docs/stable/user_guide/indexing.html#returning-a-view-versus-a-copy\n  import sys\n",
          "output_type": "stream"
        },
        {
          "output_type": "execute_result",
          "execution_count": 10,
          "data": {
            "text/plain": "0    19123\n1     4348\nName: diabetes, dtype: int64"
          },
          "metadata": {}
        }
      ],
      "execution_count": null
    },
    {
      "cell_type": "code",
      "metadata": {
        "tags": [],
        "cell_id": "00011-cbcee0cd-4b70-44d7-9e96-903bdcb9bbe0",
        "output_cleared": false,
        "source_hash": "f9382a91",
        "execution_millis": 41,
        "deepnote_to_be_reexecuted": false,
        "execution_start": 1618902850068,
        "deepnote_cell_type": "code"
      },
      "source": "#lavoro con variabile pnumonia e la rendo dummy.Prima 1 yes pneuomnia , 2 pneuomnia\ndt.loc[dt['pneumonia']>2,'pneumonia']=2\n#trasforma la variabile in modo che abbia valori 1 se c'è polmonite, 0 se non c'è\ndt['pneumonia']=dt['pneumonia'].map({2: 0,1: 1})\ndt['pneumonia'].value_counts()\n",
      "outputs": [
        {
          "name": "stderr",
          "text": "/shared-libs/python3.7/py/lib/python3.7/site-packages/pandas/core/indexing.py:1720: SettingWithCopyWarning: \nA value is trying to be set on a copy of a slice from a DataFrame.\nTry using .loc[row_indexer,col_indexer] = value instead\n\nSee the caveats in the documentation: https://pandas.pydata.org/pandas-docs/stable/user_guide/indexing.html#returning-a-view-versus-a-copy\n  self._setitem_single_column(loc, value, pi)\n/shared-libs/python3.7/py-core/lib/python3.7/site-packages/ipykernel_launcher.py:4: SettingWithCopyWarning: \nA value is trying to be set on a copy of a slice from a DataFrame.\nTry using .loc[row_indexer,col_indexer] = value instead\n\nSee the caveats in the documentation: https://pandas.pydata.org/pandas-docs/stable/user_guide/indexing.html#returning-a-view-versus-a-copy\n  after removing the cwd from sys.path.\n",
          "output_type": "stream"
        },
        {
          "output_type": "execute_result",
          "execution_count": 11,
          "data": {
            "text/plain": "0    16590\n1     6881\nName: pneumonia, dtype: int64"
          },
          "metadata": {}
        }
      ],
      "execution_count": null
    },
    {
      "cell_type": "code",
      "metadata": {
        "tags": [],
        "cell_id": "00007-67237665-fb07-42fe-8d25-9d9fea171233",
        "output_cleared": false,
        "source_hash": "9c953cce",
        "execution_millis": 27,
        "deepnote_to_be_reexecuted": false,
        "execution_start": 1618902850082,
        "deepnote_cell_type": "code"
      },
      "source": "#lavoro con variabile pnasthma: la rendo dummy ed modifico i dati not avialple\n#Prima 1 yes astmha , 2 non astmga\ndt.loc[dt['asthma']>2,'asthma']=2\n#trasforma la variabile in modo che abbia valori 1 se c'è asma, 0 se non c'è asma\ndt['asthma']=dt['asthma'].map({2: 0,1: 1})\ndt['asthma'].value_counts()\n",
      "outputs": [
        {
          "name": "stderr",
          "text": "/shared-libs/python3.7/py/lib/python3.7/site-packages/pandas/core/indexing.py:1720: SettingWithCopyWarning: \nA value is trying to be set on a copy of a slice from a DataFrame.\nTry using .loc[row_indexer,col_indexer] = value instead\n\nSee the caveats in the documentation: https://pandas.pydata.org/pandas-docs/stable/user_guide/indexing.html#returning-a-view-versus-a-copy\n  self._setitem_single_column(loc, value, pi)\n/shared-libs/python3.7/py-core/lib/python3.7/site-packages/ipykernel_launcher.py:5: SettingWithCopyWarning: \nA value is trying to be set on a copy of a slice from a DataFrame.\nTry using .loc[row_indexer,col_indexer] = value instead\n\nSee the caveats in the documentation: https://pandas.pydata.org/pandas-docs/stable/user_guide/indexing.html#returning-a-view-versus-a-copy\n  \"\"\"\n",
          "output_type": "stream"
        },
        {
          "output_type": "execute_result",
          "execution_count": 12,
          "data": {
            "text/plain": "0    22690\n1      781\nName: asthma, dtype: int64"
          },
          "metadata": {}
        }
      ],
      "execution_count": null
    },
    {
      "cell_type": "code",
      "metadata": {
        "tags": [],
        "cell_id": "00007-4be98ee5-c34f-4d63-a102-77ba42a5c208",
        "output_cleared": false,
        "source_hash": "afd10388",
        "execution_millis": 26,
        "deepnote_to_be_reexecuted": false,
        "execution_start": 1618902850088,
        "deepnote_cell_type": "code"
      },
      "source": "#lavoro con variabile obesity: la rendo dummy ed modifico i dati not avialple\n#Prima 1 yes obesity , 2 non obesity\ndt.loc[dt['obesity']>2,'obesity']=2\n#trasforma la variabile in modo che abbia valori 1 se c'è obesity, 0 se non c'è obesity\ndt['obesity']=dt['obesity'].map({2: 0,1: 1})\ndt['obesity'].value_counts()",
      "outputs": [
        {
          "name": "stderr",
          "text": "/shared-libs/python3.7/py/lib/python3.7/site-packages/pandas/core/indexing.py:1720: SettingWithCopyWarning: \nA value is trying to be set on a copy of a slice from a DataFrame.\nTry using .loc[row_indexer,col_indexer] = value instead\n\nSee the caveats in the documentation: https://pandas.pydata.org/pandas-docs/stable/user_guide/indexing.html#returning-a-view-versus-a-copy\n  self._setitem_single_column(loc, value, pi)\n/shared-libs/python3.7/py-core/lib/python3.7/site-packages/ipykernel_launcher.py:5: SettingWithCopyWarning: \nA value is trying to be set on a copy of a slice from a DataFrame.\nTry using .loc[row_indexer,col_indexer] = value instead\n\nSee the caveats in the documentation: https://pandas.pydata.org/pandas-docs/stable/user_guide/indexing.html#returning-a-view-versus-a-copy\n  \"\"\"\n",
          "output_type": "stream"
        },
        {
          "output_type": "execute_result",
          "execution_count": 13,
          "data": {
            "text/plain": "0    18531\n1     4940\nName: obesity, dtype: int64"
          },
          "metadata": {}
        }
      ],
      "execution_count": null
    },
    {
      "cell_type": "code",
      "metadata": {
        "tags": [],
        "cell_id": "00013-6a3e9235-18f7-4d7b-aada-206c594854cf",
        "output_cleared": false,
        "source_hash": "e226d46e",
        "execution_millis": 42,
        "deepnote_to_be_reexecuted": false,
        "execution_start": 1618902850101,
        "deepnote_cell_type": "code"
      },
      "source": "#lavoro con variabile smoker: la rendo dummy ed modifico i dati not avialple\n#Prima 1 yes smoker , 2 non smoker\ndt.loc[dt['smoker']>2,'smoker']=2\n#trasforma la variabile in modo che abbia valori 1 se il paziene è smoker\n# 0 se non smoker \ndt['smoker']=dt['smoker'].map({2: 0,1: 1})",
      "outputs": [
        {
          "name": "stderr",
          "text": "/shared-libs/python3.7/py/lib/python3.7/site-packages/pandas/core/indexing.py:1720: SettingWithCopyWarning: \nA value is trying to be set on a copy of a slice from a DataFrame.\nTry using .loc[row_indexer,col_indexer] = value instead\n\nSee the caveats in the documentation: https://pandas.pydata.org/pandas-docs/stable/user_guide/indexing.html#returning-a-view-versus-a-copy\n  self._setitem_single_column(loc, value, pi)\n/shared-libs/python3.7/py-core/lib/python3.7/site-packages/ipykernel_launcher.py:6: SettingWithCopyWarning: \nA value is trying to be set on a copy of a slice from a DataFrame.\nTry using .loc[row_indexer,col_indexer] = value instead\n\nSee the caveats in the documentation: https://pandas.pydata.org/pandas-docs/stable/user_guide/indexing.html#returning-a-view-versus-a-copy\n  \n",
          "output_type": "stream"
        }
      ],
      "execution_count": null
    },
    {
      "cell_type": "code",
      "metadata": {
        "tags": [],
        "cell_id": "00014-e6b8cd6c-9a21-45a2-aecb-407e89cf9216",
        "output_cleared": false,
        "source_hash": "55aa2fd8",
        "execution_millis": 27,
        "deepnote_to_be_reexecuted": false,
        "execution_start": 1618902850116,
        "deepnote_cell_type": "code"
      },
      "source": "#lavoro con variabile sex la rendo dummy(0,1) ed modifico i dati not avialple\n#Prima 1 donna, 2 man\n#rendo la variabile dummy 0 donna, 1 uomo\ndt['sex']=dt['sex'].map({2:1,1:0})",
      "outputs": [
        {
          "name": "stderr",
          "text": "/shared-libs/python3.7/py-core/lib/python3.7/site-packages/ipykernel_launcher.py:4: SettingWithCopyWarning: \nA value is trying to be set on a copy of a slice from a DataFrame.\nTry using .loc[row_indexer,col_indexer] = value instead\n\nSee the caveats in the documentation: https://pandas.pydata.org/pandas-docs/stable/user_guide/indexing.html#returning-a-view-versus-a-copy\n  after removing the cwd from sys.path.\n",
          "output_type": "stream"
        }
      ],
      "execution_count": null
    },
    {
      "cell_type": "code",
      "metadata": {
        "tags": [],
        "cell_id": "00014-efe72cd7-ffbd-41b0-b4fe-791b6c903593",
        "output_cleared": false,
        "source_hash": "186c0e30",
        "execution_millis": 27,
        "deepnote_to_be_reexecuted": false,
        "execution_start": 1618902850116,
        "deepnote_cell_type": "code"
      },
      "source": "#lavoro con variabile immunosuppression: la rendo dummy ed modifico i dati not avialple\n#Prima 1 yes immunosuppression , 2 non immunosuppression\ndt['immunosuppression'].value_counts()\ndt.loc[dt['immunosuppression']>2, 'immunosuppression']=2\n#rendo la variabile dummy 0 non immunosuppression, 1 immunosuppression\ndt['immunosuppression']=dt['immunosuppression'].map({2:0,1:1})",
      "outputs": [
        {
          "name": "stderr",
          "text": "/shared-libs/python3.7/py/lib/python3.7/site-packages/pandas/core/indexing.py:1720: SettingWithCopyWarning: \nA value is trying to be set on a copy of a slice from a DataFrame.\nTry using .loc[row_indexer,col_indexer] = value instead\n\nSee the caveats in the documentation: https://pandas.pydata.org/pandas-docs/stable/user_guide/indexing.html#returning-a-view-versus-a-copy\n  self._setitem_single_column(loc, value, pi)\n/shared-libs/python3.7/py-core/lib/python3.7/site-packages/ipykernel_launcher.py:6: SettingWithCopyWarning: \nA value is trying to be set on a copy of a slice from a DataFrame.\nTry using .loc[row_indexer,col_indexer] = value instead\n\nSee the caveats in the documentation: https://pandas.pydata.org/pandas-docs/stable/user_guide/indexing.html#returning-a-view-versus-a-copy\n  \n",
          "output_type": "stream"
        }
      ],
      "execution_count": null
    },
    {
      "cell_type": "code",
      "metadata": {
        "tags": [],
        "cell_id": "00015-3aed7452-7dd1-43d3-bd83-edc823b9c7ba",
        "output_cleared": false,
        "source_hash": "70d79e4e",
        "execution_millis": 19,
        "deepnote_to_be_reexecuted": false,
        "execution_start": 1618902850124,
        "deepnote_cell_type": "code"
      },
      "source": "#lavoro con variabile hypertension: la rendo dummy ed modifico i dati not avialple\n#Prima 1 yes hypertension , 2 non hypertension\ndt['hypertension'].value_counts()\ndt.loc[dt['hypertension']>2, 'hypertension']=2\n#rendo la variabile dummy 0 non immunosuppression, 1 immunosuppression\ndt['hypertension']=dt['hypertension'].map({2:0,1:1})",
      "outputs": [
        {
          "name": "stderr",
          "text": "/shared-libs/python3.7/py/lib/python3.7/site-packages/pandas/core/indexing.py:1720: SettingWithCopyWarning: \nA value is trying to be set on a copy of a slice from a DataFrame.\nTry using .loc[row_indexer,col_indexer] = value instead\n\nSee the caveats in the documentation: https://pandas.pydata.org/pandas-docs/stable/user_guide/indexing.html#returning-a-view-versus-a-copy\n  self._setitem_single_column(loc, value, pi)\n/shared-libs/python3.7/py-core/lib/python3.7/site-packages/ipykernel_launcher.py:6: SettingWithCopyWarning: \nA value is trying to be set on a copy of a slice from a DataFrame.\nTry using .loc[row_indexer,col_indexer] = value instead\n\nSee the caveats in the documentation: https://pandas.pydata.org/pandas-docs/stable/user_guide/indexing.html#returning-a-view-versus-a-copy\n  \n",
          "output_type": "stream"
        }
      ],
      "execution_count": null
    },
    {
      "cell_type": "code",
      "metadata": {
        "tags": [],
        "cell_id": "00017-9e559aa9-91a1-48d3-b79d-5c91d883bb0e",
        "output_cleared": false,
        "source_hash": "1b6aca1e",
        "execution_millis": 13,
        "deepnote_to_be_reexecuted": false,
        "execution_start": 1618902850130,
        "deepnote_cell_type": "code"
      },
      "source": "#lavoro con variabile cardiovascular: la rendo dummy ed modifico i dati not avialple\n#Prima 1 yes cardiovascular , 2 non cardiovascular\ndt['cardiovascular'].value_counts()\ndt.loc[dt['cardiovascular']>2, 'cardiovascular']=2\n#rendo la variabile dummy 0 non cardiovascular, 1 cardiovascular\ndt['cardiovascular']=dt['cardiovascular'].map({2:0,1:1})",
      "outputs": [
        {
          "name": "stderr",
          "text": "/shared-libs/python3.7/py/lib/python3.7/site-packages/pandas/core/indexing.py:1720: SettingWithCopyWarning: \nA value is trying to be set on a copy of a slice from a DataFrame.\nTry using .loc[row_indexer,col_indexer] = value instead\n\nSee the caveats in the documentation: https://pandas.pydata.org/pandas-docs/stable/user_guide/indexing.html#returning-a-view-versus-a-copy\n  self._setitem_single_column(loc, value, pi)\n/shared-libs/python3.7/py-core/lib/python3.7/site-packages/ipykernel_launcher.py:6: SettingWithCopyWarning: \nA value is trying to be set on a copy of a slice from a DataFrame.\nTry using .loc[row_indexer,col_indexer] = value instead\n\nSee the caveats in the documentation: https://pandas.pydata.org/pandas-docs/stable/user_guide/indexing.html#returning-a-view-versus-a-copy\n  \n",
          "output_type": "stream"
        }
      ],
      "execution_count": null
    },
    {
      "cell_type": "code",
      "metadata": {
        "tags": [],
        "cell_id": "00018-3e513cd3-11b3-44d0-94f0-1f4634775a8e",
        "output_cleared": false,
        "source_hash": "e6f61202",
        "execution_millis": 10,
        "deepnote_to_be_reexecuted": false,
        "execution_start": 1618902850169,
        "deepnote_cell_type": "code"
      },
      "source": "#lavoro con variabile icu (terapia intensiva): la rendo dummy ed modifico i dati not avialple\n#Prima 1 yes icu , 2 non icu\ndt['icu'].value_counts()\ndt.loc[dt['icu']>2, 'icu']=2\n#rendo la variabile dummy 0 non icu, 1 icu\ndt['icu']=dt['icu'].map({2:0,1:1})",
      "outputs": [
        {
          "name": "stderr",
          "text": "/shared-libs/python3.7/py/lib/python3.7/site-packages/pandas/core/indexing.py:1720: SettingWithCopyWarning: \nA value is trying to be set on a copy of a slice from a DataFrame.\nTry using .loc[row_indexer,col_indexer] = value instead\n\nSee the caveats in the documentation: https://pandas.pydata.org/pandas-docs/stable/user_guide/indexing.html#returning-a-view-versus-a-copy\n  self._setitem_single_column(loc, value, pi)\n/shared-libs/python3.7/py-core/lib/python3.7/site-packages/ipykernel_launcher.py:6: SettingWithCopyWarning: \nA value is trying to be set on a copy of a slice from a DataFrame.\nTry using .loc[row_indexer,col_indexer] = value instead\n\nSee the caveats in the documentation: https://pandas.pydata.org/pandas-docs/stable/user_guide/indexing.html#returning-a-view-versus-a-copy\n  \n",
          "output_type": "stream"
        }
      ],
      "execution_count": null
    },
    {
      "cell_type": "code",
      "metadata": {
        "tags": [],
        "cell_id": "00019-794fc481-1a10-4e62-ac54-be962cf296b6",
        "output_cleared": false,
        "source_hash": "27b7c58e",
        "execution_millis": 8,
        "deepnote_to_be_reexecuted": false,
        "execution_start": 1618902850171,
        "deepnote_cell_type": "code"
      },
      "source": "#variabile chronic_kidney_failure: trasformo in dummy ed modifico i dati not available\n#Prima 1 = yes , 2 = no, 98/97 = not applicable\ndt['chronic_kidney_failure'].value_counts()\ndt.loc[dt['chronic_kidney_failure']>2, 'chronic_kidney_failure']=2\n#rendo la variabile dummy 0 = no, 1 = yes\ndt['chronic_kidney_failure']=dt['chronic_kidney_failure'].map({2:0,1:1})",
      "outputs": [
        {
          "name": "stderr",
          "text": "/shared-libs/python3.7/py/lib/python3.7/site-packages/pandas/core/indexing.py:1720: SettingWithCopyWarning: \nA value is trying to be set on a copy of a slice from a DataFrame.\nTry using .loc[row_indexer,col_indexer] = value instead\n\nSee the caveats in the documentation: https://pandas.pydata.org/pandas-docs/stable/user_guide/indexing.html#returning-a-view-versus-a-copy\n  self._setitem_single_column(loc, value, pi)\n/shared-libs/python3.7/py-core/lib/python3.7/site-packages/ipykernel_launcher.py:6: SettingWithCopyWarning: \nA value is trying to be set on a copy of a slice from a DataFrame.\nTry using .loc[row_indexer,col_indexer] = value instead\n\nSee the caveats in the documentation: https://pandas.pydata.org/pandas-docs/stable/user_guide/indexing.html#returning-a-view-versus-a-copy\n  \n",
          "output_type": "stream"
        }
      ],
      "execution_count": null
    },
    {
      "cell_type": "code",
      "metadata": {
        "tags": [],
        "cell_id": "00020-37da6d78-f810-48d0-b002-1e3582728a85",
        "output_cleared": false,
        "source_hash": "18eca211",
        "execution_millis": 83,
        "deepnote_to_be_reexecuted": false,
        "execution_start": 1618902850172,
        "deepnote_cell_type": "code"
      },
      "source": "#resetto l'indice del dataframe in quanto abbiamo eliminato delle righe e l'indice non era aggioranto.\n#adesso l'indice è aggiornato e le righe sono ordinate\ndt.reset_index(drop=True)\n",
      "outputs": [
        {
          "output_type": "execute_result",
          "execution_count": 21,
          "data": {
            "application/vnd.deepnote.dataframe.v2+json": {
              "row_count": 23471,
              "column_count": 21,
              "columns": [
                {
                  "name": "sex",
                  "dtype": "int64",
                  "stats": {
                    "unique_count": 2,
                    "nan_count": 0,
                    "min": "0",
                    "max": "1",
                    "histogram": [
                      {
                        "bin_start": 0,
                        "bin_end": 0.1,
                        "count": 9811
                      },
                      {
                        "bin_start": 0.1,
                        "bin_end": 0.2,
                        "count": 0
                      },
                      {
                        "bin_start": 0.2,
                        "bin_end": 0.30000000000000004,
                        "count": 0
                      },
                      {
                        "bin_start": 0.30000000000000004,
                        "bin_end": 0.4,
                        "count": 0
                      },
                      {
                        "bin_start": 0.4,
                        "bin_end": 0.5,
                        "count": 0
                      },
                      {
                        "bin_start": 0.5,
                        "bin_end": 0.6000000000000001,
                        "count": 0
                      },
                      {
                        "bin_start": 0.6000000000000001,
                        "bin_end": 0.7000000000000001,
                        "count": 0
                      },
                      {
                        "bin_start": 0.7000000000000001,
                        "bin_end": 0.8,
                        "count": 0
                      },
                      {
                        "bin_start": 0.8,
                        "bin_end": 0.9,
                        "count": 0
                      },
                      {
                        "bin_start": 0.9,
                        "bin_end": 1,
                        "count": 13660
                      }
                    ]
                  }
                },
                {
                  "name": "patient_type",
                  "dtype": "int64",
                  "stats": {
                    "unique_count": 2,
                    "nan_count": 0,
                    "min": "1",
                    "max": "2",
                    "histogram": [
                      {
                        "bin_start": 1,
                        "bin_end": 1.1,
                        "count": 14201
                      },
                      {
                        "bin_start": 1.1,
                        "bin_end": 1.2,
                        "count": 0
                      },
                      {
                        "bin_start": 1.2,
                        "bin_end": 1.3,
                        "count": 0
                      },
                      {
                        "bin_start": 1.3,
                        "bin_end": 1.4,
                        "count": 0
                      },
                      {
                        "bin_start": 1.4,
                        "bin_end": 1.5,
                        "count": 0
                      },
                      {
                        "bin_start": 1.5,
                        "bin_end": 1.6,
                        "count": 0
                      },
                      {
                        "bin_start": 1.6,
                        "bin_end": 1.7000000000000002,
                        "count": 0
                      },
                      {
                        "bin_start": 1.7000000000000002,
                        "bin_end": 1.8,
                        "count": 0
                      },
                      {
                        "bin_start": 1.8,
                        "bin_end": 1.9,
                        "count": 0
                      },
                      {
                        "bin_start": 1.9,
                        "bin_end": 2,
                        "count": 9270
                      }
                    ]
                  }
                },
                {
                  "name": "intubated",
                  "dtype": "int64",
                  "stats": {
                    "unique_count": 2,
                    "nan_count": 0,
                    "min": "0",
                    "max": "1",
                    "histogram": [
                      {
                        "bin_start": 0,
                        "bin_end": 0.1,
                        "count": 22480
                      },
                      {
                        "bin_start": 0.1,
                        "bin_end": 0.2,
                        "count": 0
                      },
                      {
                        "bin_start": 0.2,
                        "bin_end": 0.30000000000000004,
                        "count": 0
                      },
                      {
                        "bin_start": 0.30000000000000004,
                        "bin_end": 0.4,
                        "count": 0
                      },
                      {
                        "bin_start": 0.4,
                        "bin_end": 0.5,
                        "count": 0
                      },
                      {
                        "bin_start": 0.5,
                        "bin_end": 0.6000000000000001,
                        "count": 0
                      },
                      {
                        "bin_start": 0.6000000000000001,
                        "bin_end": 0.7000000000000001,
                        "count": 0
                      },
                      {
                        "bin_start": 0.7000000000000001,
                        "bin_end": 0.8,
                        "count": 0
                      },
                      {
                        "bin_start": 0.8,
                        "bin_end": 0.9,
                        "count": 0
                      },
                      {
                        "bin_start": 0.9,
                        "bin_end": 1,
                        "count": 991
                      }
                    ]
                  }
                },
                {
                  "name": "pneumonia",
                  "dtype": "int64",
                  "stats": {
                    "unique_count": 2,
                    "nan_count": 0,
                    "min": "0",
                    "max": "1",
                    "histogram": [
                      {
                        "bin_start": 0,
                        "bin_end": 0.1,
                        "count": 16590
                      },
                      {
                        "bin_start": 0.1,
                        "bin_end": 0.2,
                        "count": 0
                      },
                      {
                        "bin_start": 0.2,
                        "bin_end": 0.30000000000000004,
                        "count": 0
                      },
                      {
                        "bin_start": 0.30000000000000004,
                        "bin_end": 0.4,
                        "count": 0
                      },
                      {
                        "bin_start": 0.4,
                        "bin_end": 0.5,
                        "count": 0
                      },
                      {
                        "bin_start": 0.5,
                        "bin_end": 0.6000000000000001,
                        "count": 0
                      },
                      {
                        "bin_start": 0.6000000000000001,
                        "bin_end": 0.7000000000000001,
                        "count": 0
                      },
                      {
                        "bin_start": 0.7000000000000001,
                        "bin_end": 0.8,
                        "count": 0
                      },
                      {
                        "bin_start": 0.8,
                        "bin_end": 0.9,
                        "count": 0
                      },
                      {
                        "bin_start": 0.9,
                        "bin_end": 1,
                        "count": 6881
                      }
                    ]
                  }
                },
                {
                  "name": "age",
                  "dtype": "int64"
                },
                {
                  "name": "pregnant",
                  "dtype": "int64"
                },
                {
                  "name": "diabetes",
                  "dtype": "int64"
                },
                {
                  "name": "copd",
                  "dtype": "int64"
                },
                {
                  "name": "asthma",
                  "dtype": "int64"
                },
                {
                  "name": "immunosuppression",
                  "dtype": "int64"
                },
                {
                  "name": "hypertension",
                  "dtype": "int64"
                },
                {
                  "name": "other_diseases",
                  "dtype": "int64"
                },
                {
                  "name": "cardiovascular",
                  "dtype": "int64"
                },
                {
                  "name": "obesity",
                  "dtype": "int64"
                },
                {
                  "name": "chronic_kidney_failure",
                  "dtype": "int64"
                },
                {
                  "name": "smoker",
                  "dtype": "int64"
                },
                {
                  "name": "another_case",
                  "dtype": "int64"
                },
                {
                  "name": "outcome",
                  "dtype": "int64"
                },
                {
                  "name": "icu",
                  "dtype": "int64"
                },
                {
                  "name": "death_date",
                  "dtype": "object"
                },
                {
                  "name": "isdeath",
                  "dtype": "float64"
                },
                {
                  "name": "_deepnote_index_column",
                  "dtype": "int64"
                }
              ],
              "rows_top": [
                {
                  "sex": 1,
                  "patient_type": 1,
                  "intubated": 0,
                  "pneumonia": 0,
                  "age": 42,
                  "pregnant": 97,
                  "diabetes": 0,
                  "copd": 0,
                  "asthma": 1,
                  "immunosuppression": 0,
                  "hypertension": 0,
                  "other_diseases": 2,
                  "cardiovascular": 0,
                  "obesity": 0,
                  "chronic_kidney_failure": 0,
                  "smoker": 0,
                  "another_case": 99,
                  "outcome": 1,
                  "icu": 0,
                  "death_date": "9999-99-99",
                  "isdeath": 0,
                  "_deepnote_index_column": 0
                },
                {
                  "sex": 0,
                  "patient_type": 1,
                  "intubated": 0,
                  "pneumonia": 0,
                  "age": 51,
                  "pregnant": 2,
                  "diabetes": 0,
                  "copd": 0,
                  "asthma": 0,
                  "immunosuppression": 0,
                  "hypertension": 0,
                  "other_diseases": 2,
                  "cardiovascular": 0,
                  "obesity": 0,
                  "chronic_kidney_failure": 0,
                  "smoker": 0,
                  "another_case": 99,
                  "outcome": 1,
                  "icu": 0,
                  "death_date": "9999-99-99",
                  "isdeath": 0,
                  "_deepnote_index_column": 1
                },
                {
                  "sex": 1,
                  "patient_type": 2,
                  "intubated": 0,
                  "pneumonia": 0,
                  "age": 51,
                  "pregnant": 97,
                  "diabetes": 1,
                  "copd": 0,
                  "asthma": 0,
                  "immunosuppression": 0,
                  "hypertension": 1,
                  "other_diseases": 2,
                  "cardiovascular": 0,
                  "obesity": 1,
                  "chronic_kidney_failure": 0,
                  "smoker": 0,
                  "another_case": 99,
                  "outcome": 1,
                  "icu": 0,
                  "death_date": "9999-99-99",
                  "isdeath": 0,
                  "_deepnote_index_column": 2
                },
                {
                  "sex": 1,
                  "patient_type": 2,
                  "intubated": 0,
                  "pneumonia": 0,
                  "age": 57,
                  "pregnant": 97,
                  "diabetes": 1,
                  "copd": 0,
                  "asthma": 0,
                  "immunosuppression": 0,
                  "hypertension": 0,
                  "other_diseases": 2,
                  "cardiovascular": 0,
                  "obesity": 0,
                  "chronic_kidney_failure": 0,
                  "smoker": 0,
                  "another_case": 99,
                  "outcome": 1,
                  "icu": 0,
                  "death_date": "2020-04-01",
                  "isdeath": 1,
                  "_deepnote_index_column": 3
                },
                {
                  "sex": 1,
                  "patient_type": 1,
                  "intubated": 0,
                  "pneumonia": 0,
                  "age": 55,
                  "pregnant": 97,
                  "diabetes": 1,
                  "copd": 0,
                  "asthma": 1,
                  "immunosuppression": 0,
                  "hypertension": 1,
                  "other_diseases": 2,
                  "cardiovascular": 0,
                  "obesity": 1,
                  "chronic_kidney_failure": 0,
                  "smoker": 0,
                  "another_case": 99,
                  "outcome": 1,
                  "icu": 0,
                  "death_date": "9999-99-99",
                  "isdeath": 0,
                  "_deepnote_index_column": 4
                },
                {
                  "sex": 1,
                  "patient_type": 2,
                  "intubated": 0,
                  "pneumonia": 1,
                  "age": 60,
                  "pregnant": 97,
                  "diabetes": 0,
                  "copd": 0,
                  "asthma": 0,
                  "immunosuppression": 0,
                  "hypertension": 1,
                  "other_diseases": 2,
                  "cardiovascular": 0,
                  "obesity": 0,
                  "chronic_kidney_failure": 0,
                  "smoker": 0,
                  "another_case": 99,
                  "outcome": 1,
                  "icu": 1,
                  "death_date": "9999-99-99",
                  "isdeath": 0,
                  "_deepnote_index_column": 5
                },
                {
                  "sex": 1,
                  "patient_type": 2,
                  "intubated": 0,
                  "pneumonia": 0,
                  "age": 70,
                  "pregnant": 97,
                  "diabetes": 0,
                  "copd": 0,
                  "asthma": 0,
                  "immunosuppression": 0,
                  "hypertension": 0,
                  "other_diseases": 2,
                  "cardiovascular": 0,
                  "obesity": 0,
                  "chronic_kidney_failure": 0,
                  "smoker": 0,
                  "another_case": 99,
                  "outcome": 1,
                  "icu": 0,
                  "death_date": "2020-04-10",
                  "isdeath": 1,
                  "_deepnote_index_column": 6
                },
                {
                  "sex": 0,
                  "patient_type": 1,
                  "intubated": 0,
                  "pneumonia": 0,
                  "age": 76,
                  "pregnant": 2,
                  "diabetes": 0,
                  "copd": 0,
                  "asthma": 0,
                  "immunosuppression": 0,
                  "hypertension": 0,
                  "other_diseases": 2,
                  "cardiovascular": 0,
                  "obesity": 0,
                  "chronic_kidney_failure": 0,
                  "smoker": 0,
                  "another_case": 1,
                  "outcome": 1,
                  "icu": 0,
                  "death_date": "9999-99-99",
                  "isdeath": 0,
                  "_deepnote_index_column": 7
                },
                {
                  "sex": 1,
                  "patient_type": 2,
                  "intubated": 0,
                  "pneumonia": 1,
                  "age": 57,
                  "pregnant": 97,
                  "diabetes": 1,
                  "copd": 0,
                  "asthma": 0,
                  "immunosuppression": 0,
                  "hypertension": 1,
                  "other_diseases": 2,
                  "cardiovascular": 0,
                  "obesity": 0,
                  "chronic_kidney_failure": 0,
                  "smoker": 1,
                  "another_case": 99,
                  "outcome": 1,
                  "icu": 0,
                  "death_date": "2020-03-24",
                  "isdeath": 1,
                  "_deepnote_index_column": 8
                },
                {
                  "sex": 1,
                  "patient_type": 1,
                  "intubated": 0,
                  "pneumonia": 0,
                  "age": 59,
                  "pregnant": 97,
                  "diabetes": 0,
                  "copd": 0,
                  "asthma": 0,
                  "immunosuppression": 0,
                  "hypertension": 0,
                  "other_diseases": 2,
                  "cardiovascular": 0,
                  "obesity": 1,
                  "chronic_kidney_failure": 0,
                  "smoker": 1,
                  "another_case": 99,
                  "outcome": 1,
                  "icu": 0,
                  "death_date": "9999-99-99",
                  "isdeath": 0,
                  "_deepnote_index_column": 9
                },
                {
                  "sex": 1,
                  "patient_type": 2,
                  "intubated": 0,
                  "pneumonia": 0,
                  "age": 31,
                  "pregnant": 97,
                  "diabetes": 0,
                  "copd": 0,
                  "asthma": 0,
                  "immunosuppression": 0,
                  "hypertension": 0,
                  "other_diseases": 2,
                  "cardiovascular": 0,
                  "obesity": 0,
                  "chronic_kidney_failure": 0,
                  "smoker": 0,
                  "another_case": 99,
                  "outcome": 1,
                  "icu": 0,
                  "death_date": "9999-99-99",
                  "isdeath": 0,
                  "_deepnote_index_column": 10
                },
                {
                  "sex": 0,
                  "patient_type": 1,
                  "intubated": 0,
                  "pneumonia": 0,
                  "age": 37,
                  "pregnant": 2,
                  "diabetes": 0,
                  "copd": 0,
                  "asthma": 1,
                  "immunosuppression": 0,
                  "hypertension": 0,
                  "other_diseases": 2,
                  "cardiovascular": 0,
                  "obesity": 0,
                  "chronic_kidney_failure": 0,
                  "smoker": 0,
                  "another_case": 99,
                  "outcome": 1,
                  "icu": 0,
                  "death_date": "9999-99-99",
                  "isdeath": 0,
                  "_deepnote_index_column": 11
                },
                {
                  "sex": 0,
                  "patient_type": 1,
                  "intubated": 0,
                  "pneumonia": 0,
                  "age": 19,
                  "pregnant": 2,
                  "diabetes": 0,
                  "copd": 0,
                  "asthma": 0,
                  "immunosuppression": 0,
                  "hypertension": 0,
                  "other_diseases": 2,
                  "cardiovascular": 0,
                  "obesity": 0,
                  "chronic_kidney_failure": 0,
                  "smoker": 0,
                  "another_case": 99,
                  "outcome": 1,
                  "icu": 0,
                  "death_date": "9999-99-99",
                  "isdeath": 0,
                  "_deepnote_index_column": 12
                },
                {
                  "sex": 1,
                  "patient_type": 1,
                  "intubated": 0,
                  "pneumonia": 0,
                  "age": 52,
                  "pregnant": 97,
                  "diabetes": 0,
                  "copd": 0,
                  "asthma": 0,
                  "immunosuppression": 0,
                  "hypertension": 1,
                  "other_diseases": 1,
                  "cardiovascular": 0,
                  "obesity": 0,
                  "chronic_kidney_failure": 0,
                  "smoker": 0,
                  "another_case": 99,
                  "outcome": 1,
                  "icu": 0,
                  "death_date": "9999-99-99",
                  "isdeath": 0,
                  "_deepnote_index_column": 13
                },
                {
                  "sex": 0,
                  "patient_type": 2,
                  "intubated": 0,
                  "pneumonia": 1,
                  "age": 51,
                  "pregnant": 2,
                  "diabetes": 0,
                  "copd": 0,
                  "asthma": 0,
                  "immunosuppression": 0,
                  "hypertension": 0,
                  "other_diseases": 2,
                  "cardiovascular": 0,
                  "obesity": 0,
                  "chronic_kidney_failure": 0,
                  "smoker": 0,
                  "another_case": 99,
                  "outcome": 1,
                  "icu": 0,
                  "death_date": "2020-04-11",
                  "isdeath": 1,
                  "_deepnote_index_column": 14
                },
                {
                  "sex": 0,
                  "patient_type": 1,
                  "intubated": 0,
                  "pneumonia": 0,
                  "age": 28,
                  "pregnant": 2,
                  "diabetes": 0,
                  "copd": 0,
                  "asthma": 0,
                  "immunosuppression": 0,
                  "hypertension": 0,
                  "other_diseases": 2,
                  "cardiovascular": 0,
                  "obesity": 0,
                  "chronic_kidney_failure": 0,
                  "smoker": 0,
                  "another_case": 99,
                  "outcome": 1,
                  "icu": 0,
                  "death_date": "9999-99-99",
                  "isdeath": 0,
                  "_deepnote_index_column": 15
                },
                {
                  "sex": 1,
                  "patient_type": 1,
                  "intubated": 0,
                  "pneumonia": 0,
                  "age": 23,
                  "pregnant": 97,
                  "diabetes": 0,
                  "copd": 0,
                  "asthma": 0,
                  "immunosuppression": 0,
                  "hypertension": 0,
                  "other_diseases": 2,
                  "cardiovascular": 0,
                  "obesity": 0,
                  "chronic_kidney_failure": 0,
                  "smoker": 0,
                  "another_case": 1,
                  "outcome": 1,
                  "icu": 0,
                  "death_date": "9999-99-99",
                  "isdeath": 0,
                  "_deepnote_index_column": 16
                },
                {
                  "sex": 1,
                  "patient_type": 1,
                  "intubated": 0,
                  "pneumonia": 0,
                  "age": 49,
                  "pregnant": 97,
                  "diabetes": 1,
                  "copd": 0,
                  "asthma": 0,
                  "immunosuppression": 0,
                  "hypertension": 1,
                  "other_diseases": 2,
                  "cardiovascular": 0,
                  "obesity": 0,
                  "chronic_kidney_failure": 0,
                  "smoker": 0,
                  "another_case": 99,
                  "outcome": 1,
                  "icu": 0,
                  "death_date": "9999-99-99",
                  "isdeath": 0,
                  "_deepnote_index_column": 17
                },
                {
                  "sex": 1,
                  "patient_type": 2,
                  "intubated": 0,
                  "pneumonia": 1,
                  "age": 28,
                  "pregnant": 97,
                  "diabetes": 0,
                  "copd": 0,
                  "asthma": 0,
                  "immunosuppression": 0,
                  "hypertension": 0,
                  "other_diseases": 2,
                  "cardiovascular": 0,
                  "obesity": 1,
                  "chronic_kidney_failure": 0,
                  "smoker": 0,
                  "another_case": 99,
                  "outcome": 1,
                  "icu": 0,
                  "death_date": "9999-99-99",
                  "isdeath": 0,
                  "_deepnote_index_column": 18
                },
                {
                  "sex": 0,
                  "patient_type": 1,
                  "intubated": 0,
                  "pneumonia": 0,
                  "age": 32,
                  "pregnant": 2,
                  "diabetes": 0,
                  "copd": 0,
                  "asthma": 0,
                  "immunosuppression": 0,
                  "hypertension": 0,
                  "other_diseases": 2,
                  "cardiovascular": 0,
                  "obesity": 0,
                  "chronic_kidney_failure": 0,
                  "smoker": 0,
                  "another_case": 99,
                  "outcome": 1,
                  "icu": 0,
                  "death_date": "9999-99-99",
                  "isdeath": 0,
                  "_deepnote_index_column": 19
                },
                {
                  "sex": 1,
                  "patient_type": 2,
                  "intubated": 0,
                  "pneumonia": 1,
                  "age": 67,
                  "pregnant": 97,
                  "diabetes": 0,
                  "copd": 0,
                  "asthma": 0,
                  "immunosuppression": 0,
                  "hypertension": 1,
                  "other_diseases": 2,
                  "cardiovascular": 0,
                  "obesity": 0,
                  "chronic_kidney_failure": 0,
                  "smoker": 0,
                  "another_case": 2,
                  "outcome": 1,
                  "icu": 0,
                  "death_date": "9999-99-99",
                  "isdeath": 0,
                  "_deepnote_index_column": 20
                },
                {
                  "sex": 1,
                  "patient_type": 1,
                  "intubated": 0,
                  "pneumonia": 0,
                  "age": 50,
                  "pregnant": 97,
                  "diabetes": 1,
                  "copd": 0,
                  "asthma": 0,
                  "immunosuppression": 0,
                  "hypertension": 1,
                  "other_diseases": 2,
                  "cardiovascular": 0,
                  "obesity": 0,
                  "chronic_kidney_failure": 0,
                  "smoker": 0,
                  "another_case": 99,
                  "outcome": 1,
                  "icu": 0,
                  "death_date": "9999-99-99",
                  "isdeath": 0,
                  "_deepnote_index_column": 21
                },
                {
                  "sex": 0,
                  "patient_type": 2,
                  "intubated": 0,
                  "pneumonia": 0,
                  "age": 30,
                  "pregnant": 2,
                  "diabetes": 0,
                  "copd": 0,
                  "asthma": 0,
                  "immunosuppression": 0,
                  "hypertension": 0,
                  "other_diseases": 2,
                  "cardiovascular": 0,
                  "obesity": 0,
                  "chronic_kidney_failure": 0,
                  "smoker": 0,
                  "another_case": 99,
                  "outcome": 1,
                  "icu": 0,
                  "death_date": "9999-99-99",
                  "isdeath": 0,
                  "_deepnote_index_column": 22
                }
              ],
              "rows_bottom": [
                {
                  "sex": 1,
                  "patient_type": 2,
                  "intubated": 0,
                  "pneumonia": 0,
                  "age": 41,
                  "pregnant": 97,
                  "diabetes": 1,
                  "copd": 0,
                  "asthma": 0,
                  "immunosuppression": 0,
                  "hypertension": 0,
                  "other_diseases": 2,
                  "cardiovascular": 0,
                  "obesity": 0,
                  "chronic_kidney_failure": 0,
                  "smoker": 0,
                  "another_case": 2,
                  "outcome": 1,
                  "icu": 0,
                  "death_date": "9999-99-99",
                  "isdeath": 0,
                  "_deepnote_index_column": 23447
                },
                {
                  "sex": 1,
                  "patient_type": 2,
                  "intubated": 0,
                  "pneumonia": 0,
                  "age": 76,
                  "pregnant": 97,
                  "diabetes": 1,
                  "copd": 0,
                  "asthma": 0,
                  "immunosuppression": 0,
                  "hypertension": 1,
                  "other_diseases": 2,
                  "cardiovascular": 0,
                  "obesity": 1,
                  "chronic_kidney_failure": 0,
                  "smoker": 0,
                  "another_case": 2,
                  "outcome": 1,
                  "icu": 0,
                  "death_date": "9999-99-99",
                  "isdeath": 0,
                  "_deepnote_index_column": 23448
                },
                {
                  "sex": 0,
                  "patient_type": 1,
                  "intubated": 0,
                  "pneumonia": 0,
                  "age": 47,
                  "pregnant": 2,
                  "diabetes": 0,
                  "copd": 0,
                  "asthma": 0,
                  "immunosuppression": 0,
                  "hypertension": 0,
                  "other_diseases": 2,
                  "cardiovascular": 0,
                  "obesity": 0,
                  "chronic_kidney_failure": 0,
                  "smoker": 0,
                  "another_case": 99,
                  "outcome": 1,
                  "icu": 0,
                  "death_date": "9999-99-99",
                  "isdeath": 0,
                  "_deepnote_index_column": 23449
                },
                {
                  "sex": 0,
                  "patient_type": 2,
                  "intubated": 1,
                  "pneumonia": 1,
                  "age": 48,
                  "pregnant": 2,
                  "diabetes": 0,
                  "copd": 0,
                  "asthma": 0,
                  "immunosuppression": 0,
                  "hypertension": 0,
                  "other_diseases": 2,
                  "cardiovascular": 0,
                  "obesity": 0,
                  "chronic_kidney_failure": 0,
                  "smoker": 0,
                  "another_case": 2,
                  "outcome": 1,
                  "icu": 0,
                  "death_date": "9999-99-99",
                  "isdeath": 0,
                  "_deepnote_index_column": 23450
                },
                {
                  "sex": 1,
                  "patient_type": 1,
                  "intubated": 0,
                  "pneumonia": 0,
                  "age": 75,
                  "pregnant": 97,
                  "diabetes": 0,
                  "copd": 0,
                  "asthma": 0,
                  "immunosuppression": 0,
                  "hypertension": 1,
                  "other_diseases": 2,
                  "cardiovascular": 0,
                  "obesity": 0,
                  "chronic_kidney_failure": 0,
                  "smoker": 0,
                  "another_case": 2,
                  "outcome": 1,
                  "icu": 0,
                  "death_date": "9999-99-99",
                  "isdeath": 0,
                  "_deepnote_index_column": 23451
                },
                {
                  "sex": 1,
                  "patient_type": 2,
                  "intubated": 0,
                  "pneumonia": 1,
                  "age": 66,
                  "pregnant": 97,
                  "diabetes": 1,
                  "copd": 0,
                  "asthma": 0,
                  "immunosuppression": 0,
                  "hypertension": 0,
                  "other_diseases": 2,
                  "cardiovascular": 0,
                  "obesity": 0,
                  "chronic_kidney_failure": 0,
                  "smoker": 0,
                  "another_case": 99,
                  "outcome": 1,
                  "icu": 0,
                  "death_date": "9999-99-99",
                  "isdeath": 0,
                  "_deepnote_index_column": 23452
                },
                {
                  "sex": 0,
                  "patient_type": 1,
                  "intubated": 0,
                  "pneumonia": 0,
                  "age": 28,
                  "pregnant": 2,
                  "diabetes": 0,
                  "copd": 0,
                  "asthma": 0,
                  "immunosuppression": 0,
                  "hypertension": 0,
                  "other_diseases": 2,
                  "cardiovascular": 0,
                  "obesity": 0,
                  "chronic_kidney_failure": 0,
                  "smoker": 0,
                  "another_case": 99,
                  "outcome": 1,
                  "icu": 0,
                  "death_date": "9999-99-99",
                  "isdeath": 0,
                  "_deepnote_index_column": 23453
                },
                {
                  "sex": 1,
                  "patient_type": 2,
                  "intubated": 0,
                  "pneumonia": 0,
                  "age": 47,
                  "pregnant": 97,
                  "diabetes": 1,
                  "copd": 0,
                  "asthma": 0,
                  "immunosuppression": 0,
                  "hypertension": 1,
                  "other_diseases": 2,
                  "cardiovascular": 0,
                  "obesity": 0,
                  "chronic_kidney_failure": 0,
                  "smoker": 0,
                  "another_case": 2,
                  "outcome": 1,
                  "icu": 0,
                  "death_date": "9999-99-99",
                  "isdeath": 0,
                  "_deepnote_index_column": 23454
                },
                {
                  "sex": 1,
                  "patient_type": 2,
                  "intubated": 0,
                  "pneumonia": 1,
                  "age": 43,
                  "pregnant": 97,
                  "diabetes": 1,
                  "copd": 0,
                  "asthma": 0,
                  "immunosuppression": 0,
                  "hypertension": 1,
                  "other_diseases": 2,
                  "cardiovascular": 0,
                  "obesity": 1,
                  "chronic_kidney_failure": 0,
                  "smoker": 0,
                  "another_case": 2,
                  "outcome": 1,
                  "icu": 0,
                  "death_date": "9999-99-99",
                  "isdeath": 0,
                  "_deepnote_index_column": 23455
                },
                {
                  "sex": 1,
                  "patient_type": 1,
                  "intubated": 0,
                  "pneumonia": 0,
                  "age": 18,
                  "pregnant": 97,
                  "diabetes": 0,
                  "copd": 0,
                  "asthma": 0,
                  "immunosuppression": 0,
                  "hypertension": 0,
                  "other_diseases": 2,
                  "cardiovascular": 0,
                  "obesity": 1,
                  "chronic_kidney_failure": 0,
                  "smoker": 0,
                  "another_case": 1,
                  "outcome": 1,
                  "icu": 0,
                  "death_date": "9999-99-99",
                  "isdeath": 0,
                  "_deepnote_index_column": 23456
                },
                {
                  "sex": 1,
                  "patient_type": 2,
                  "intubated": 0,
                  "pneumonia": 1,
                  "age": 63,
                  "pregnant": 97,
                  "diabetes": 0,
                  "copd": 0,
                  "asthma": 0,
                  "immunosuppression": 0,
                  "hypertension": 0,
                  "other_diseases": 2,
                  "cardiovascular": 0,
                  "obesity": 0,
                  "chronic_kidney_failure": 0,
                  "smoker": 1,
                  "another_case": 1,
                  "outcome": 1,
                  "icu": 0,
                  "death_date": "9999-99-99",
                  "isdeath": 0,
                  "_deepnote_index_column": 23457
                },
                {
                  "sex": 0,
                  "patient_type": 1,
                  "intubated": 0,
                  "pneumonia": 0,
                  "age": 56,
                  "pregnant": 2,
                  "diabetes": 0,
                  "copd": 0,
                  "asthma": 0,
                  "immunosuppression": 0,
                  "hypertension": 0,
                  "other_diseases": 2,
                  "cardiovascular": 0,
                  "obesity": 0,
                  "chronic_kidney_failure": 0,
                  "smoker": 0,
                  "another_case": 99,
                  "outcome": 1,
                  "icu": 0,
                  "death_date": "9999-99-99",
                  "isdeath": 0,
                  "_deepnote_index_column": 23458
                },
                {
                  "sex": 0,
                  "patient_type": 1,
                  "intubated": 0,
                  "pneumonia": 0,
                  "age": 28,
                  "pregnant": 2,
                  "diabetes": 0,
                  "copd": 0,
                  "asthma": 0,
                  "immunosuppression": 0,
                  "hypertension": 0,
                  "other_diseases": 2,
                  "cardiovascular": 0,
                  "obesity": 0,
                  "chronic_kidney_failure": 0,
                  "smoker": 0,
                  "another_case": 99,
                  "outcome": 1,
                  "icu": 0,
                  "death_date": "9999-99-99",
                  "isdeath": 0,
                  "_deepnote_index_column": 23459
                },
                {
                  "sex": 0,
                  "patient_type": 2,
                  "intubated": 0,
                  "pneumonia": 0,
                  "age": 61,
                  "pregnant": 2,
                  "diabetes": 0,
                  "copd": 0,
                  "asthma": 0,
                  "immunosuppression": 0,
                  "hypertension": 0,
                  "other_diseases": 2,
                  "cardiovascular": 0,
                  "obesity": 0,
                  "chronic_kidney_failure": 0,
                  "smoker": 0,
                  "another_case": 2,
                  "outcome": 1,
                  "icu": 0,
                  "death_date": "9999-99-99",
                  "isdeath": 0,
                  "_deepnote_index_column": 23460
                },
                {
                  "sex": 1,
                  "patient_type": 2,
                  "intubated": 1,
                  "pneumonia": 1,
                  "age": 65,
                  "pregnant": 97,
                  "diabetes": 0,
                  "copd": 0,
                  "asthma": 0,
                  "immunosuppression": 0,
                  "hypertension": 1,
                  "other_diseases": 2,
                  "cardiovascular": 0,
                  "obesity": 0,
                  "chronic_kidney_failure": 0,
                  "smoker": 0,
                  "another_case": 2,
                  "outcome": 1,
                  "icu": 1,
                  "death_date": "9999-99-99",
                  "isdeath": 0,
                  "_deepnote_index_column": 23461
                },
                {
                  "sex": 1,
                  "patient_type": 2,
                  "intubated": 1,
                  "pneumonia": 1,
                  "age": 58,
                  "pregnant": 97,
                  "diabetes": 1,
                  "copd": 0,
                  "asthma": 0,
                  "immunosuppression": 0,
                  "hypertension": 0,
                  "other_diseases": 2,
                  "cardiovascular": 0,
                  "obesity": 0,
                  "chronic_kidney_failure": 0,
                  "smoker": 0,
                  "another_case": 2,
                  "outcome": 1,
                  "icu": 1,
                  "death_date": "9999-99-99",
                  "isdeath": 0,
                  "_deepnote_index_column": 23462
                },
                {
                  "sex": 1,
                  "patient_type": 1,
                  "intubated": 0,
                  "pneumonia": 0,
                  "age": 26,
                  "pregnant": 97,
                  "diabetes": 0,
                  "copd": 0,
                  "asthma": 0,
                  "immunosuppression": 0,
                  "hypertension": 0,
                  "other_diseases": 2,
                  "cardiovascular": 0,
                  "obesity": 0,
                  "chronic_kidney_failure": 0,
                  "smoker": 0,
                  "another_case": 1,
                  "outcome": 1,
                  "icu": 0,
                  "death_date": "9999-99-99",
                  "isdeath": 0,
                  "_deepnote_index_column": 23463
                },
                {
                  "sex": 1,
                  "patient_type": 1,
                  "intubated": 0,
                  "pneumonia": 0,
                  "age": 54,
                  "pregnant": 97,
                  "diabetes": 0,
                  "copd": 0,
                  "asthma": 0,
                  "immunosuppression": 0,
                  "hypertension": 0,
                  "other_diseases": 2,
                  "cardiovascular": 0,
                  "obesity": 0,
                  "chronic_kidney_failure": 0,
                  "smoker": 0,
                  "another_case": 1,
                  "outcome": 1,
                  "icu": 0,
                  "death_date": "9999-99-99",
                  "isdeath": 0,
                  "_deepnote_index_column": 23464
                },
                {
                  "sex": 1,
                  "patient_type": 2,
                  "intubated": 0,
                  "pneumonia": 1,
                  "age": 41,
                  "pregnant": 97,
                  "diabetes": 0,
                  "copd": 0,
                  "asthma": 0,
                  "immunosuppression": 0,
                  "hypertension": 0,
                  "other_diseases": 2,
                  "cardiovascular": 0,
                  "obesity": 0,
                  "chronic_kidney_failure": 0,
                  "smoker": 0,
                  "another_case": 2,
                  "outcome": 1,
                  "icu": 0,
                  "death_date": "9999-99-99",
                  "isdeath": 0,
                  "_deepnote_index_column": 23465
                },
                {
                  "sex": 1,
                  "patient_type": 2,
                  "intubated": 0,
                  "pneumonia": 1,
                  "age": 66,
                  "pregnant": 97,
                  "diabetes": 0,
                  "copd": 0,
                  "asthma": 0,
                  "immunosuppression": 0,
                  "hypertension": 0,
                  "other_diseases": 2,
                  "cardiovascular": 0,
                  "obesity": 0,
                  "chronic_kidney_failure": 0,
                  "smoker": 0,
                  "another_case": 2,
                  "outcome": 1,
                  "icu": 1,
                  "death_date": "9999-99-99",
                  "isdeath": 0,
                  "_deepnote_index_column": 23466
                },
                {
                  "sex": 0,
                  "patient_type": 2,
                  "intubated": 0,
                  "pneumonia": 0,
                  "age": 60,
                  "pregnant": 2,
                  "diabetes": 0,
                  "copd": 0,
                  "asthma": 0,
                  "immunosuppression": 0,
                  "hypertension": 1,
                  "other_diseases": 2,
                  "cardiovascular": 0,
                  "obesity": 0,
                  "chronic_kidney_failure": 0,
                  "smoker": 0,
                  "another_case": 1,
                  "outcome": 1,
                  "icu": 0,
                  "death_date": "9999-99-99",
                  "isdeath": 0,
                  "_deepnote_index_column": 23467
                },
                {
                  "sex": 1,
                  "patient_type": 2,
                  "intubated": 0,
                  "pneumonia": 0,
                  "age": 56,
                  "pregnant": 97,
                  "diabetes": 1,
                  "copd": 0,
                  "asthma": 0,
                  "immunosuppression": 0,
                  "hypertension": 1,
                  "other_diseases": 2,
                  "cardiovascular": 0,
                  "obesity": 0,
                  "chronic_kidney_failure": 0,
                  "smoker": 0,
                  "another_case": 1,
                  "outcome": 1,
                  "icu": 0,
                  "death_date": "9999-99-99",
                  "isdeath": 0,
                  "_deepnote_index_column": 23468
                },
                {
                  "sex": 0,
                  "patient_type": 1,
                  "intubated": 0,
                  "pneumonia": 0,
                  "age": 48,
                  "pregnant": 2,
                  "diabetes": 0,
                  "copd": 0,
                  "asthma": 0,
                  "immunosuppression": 0,
                  "hypertension": 0,
                  "other_diseases": 2,
                  "cardiovascular": 0,
                  "obesity": 0,
                  "chronic_kidney_failure": 0,
                  "smoker": 0,
                  "another_case": 99,
                  "outcome": 1,
                  "icu": 0,
                  "death_date": "9999-99-99",
                  "isdeath": 0,
                  "_deepnote_index_column": 23469
                },
                {
                  "sex": 1,
                  "patient_type": 2,
                  "intubated": 1,
                  "pneumonia": 1,
                  "age": 62,
                  "pregnant": 97,
                  "diabetes": 0,
                  "copd": 0,
                  "asthma": 0,
                  "immunosuppression": 0,
                  "hypertension": 0,
                  "other_diseases": 2,
                  "cardiovascular": 0,
                  "obesity": 1,
                  "chronic_kidney_failure": 0,
                  "smoker": 0,
                  "another_case": 1,
                  "outcome": 1,
                  "icu": 1,
                  "death_date": "9999-99-99",
                  "isdeath": 0,
                  "_deepnote_index_column": 23470
                }
              ]
            },
            "text/plain": "       sex  patient_type  intubated  pneumonia  age  pregnant  diabetes  copd  \\\n0        1             1          0          0   42        97         0     0   \n1        0             1          0          0   51         2         0     0   \n2        1             2          0          0   51        97         1     0   \n3        1             2          0          0   57        97         1     0   \n4        1             1          0          0   55        97         1     0   \n...    ...           ...        ...        ...  ...       ...       ...   ...   \n23466    1             2          0          1   66        97         0     0   \n23467    0             2          0          0   60         2         0     0   \n23468    1             2          0          0   56        97         1     0   \n23469    0             1          0          0   48         2         0     0   \n23470    1             2          1          1   62        97         0     0   \n\n       asthma  immunosuppression  ...  other_diseases  cardiovascular  \\\n0           1                  0  ...               2               0   \n1           0                  0  ...               2               0   \n2           0                  0  ...               2               0   \n3           0                  0  ...               2               0   \n4           1                  0  ...               2               0   \n...       ...                ...  ...             ...             ...   \n23466       0                  0  ...               2               0   \n23467       0                  0  ...               2               0   \n23468       0                  0  ...               2               0   \n23469       0                  0  ...               2               0   \n23470       0                  0  ...               2               0   \n\n       obesity  chronic_kidney_failure  smoker  another_case  outcome  icu  \\\n0            0                       0       0            99        1    0   \n1            0                       0       0            99        1    0   \n2            1                       0       0            99        1    0   \n3            0                       0       0            99        1    0   \n4            1                       0       0            99        1    0   \n...        ...                     ...     ...           ...      ...  ...   \n23466        0                       0       0             2        1    1   \n23467        0                       0       0             1        1    0   \n23468        0                       0       0             1        1    0   \n23469        0                       0       0            99        1    0   \n23470        1                       0       0             1        1    1   \n\n       death_date isdeath  \n0      9999-99-99     0.0  \n1      9999-99-99     0.0  \n2      9999-99-99     0.0  \n3      2020-04-01     1.0  \n4      9999-99-99     0.0  \n...           ...     ...  \n23466  9999-99-99     0.0  \n23467  9999-99-99     0.0  \n23468  9999-99-99     0.0  \n23469  9999-99-99     0.0  \n23470  9999-99-99     0.0  \n\n[23471 rows x 21 columns]",
            "text/html": "<div>\n<style scoped>\n    .dataframe tbody tr th:only-of-type {\n        vertical-align: middle;\n    }\n\n    .dataframe tbody tr th {\n        vertical-align: top;\n    }\n\n    .dataframe thead th {\n        text-align: right;\n    }\n</style>\n<table border=\"1\" class=\"dataframe\">\n  <thead>\n    <tr style=\"text-align: right;\">\n      <th></th>\n      <th>sex</th>\n      <th>patient_type</th>\n      <th>intubated</th>\n      <th>pneumonia</th>\n      <th>age</th>\n      <th>pregnant</th>\n      <th>diabetes</th>\n      <th>copd</th>\n      <th>asthma</th>\n      <th>immunosuppression</th>\n      <th>...</th>\n      <th>other_diseases</th>\n      <th>cardiovascular</th>\n      <th>obesity</th>\n      <th>chronic_kidney_failure</th>\n      <th>smoker</th>\n      <th>another_case</th>\n      <th>outcome</th>\n      <th>icu</th>\n      <th>death_date</th>\n      <th>isdeath</th>\n    </tr>\n  </thead>\n  <tbody>\n    <tr>\n      <th>0</th>\n      <td>1</td>\n      <td>1</td>\n      <td>0</td>\n      <td>0</td>\n      <td>42</td>\n      <td>97</td>\n      <td>0</td>\n      <td>0</td>\n      <td>1</td>\n      <td>0</td>\n      <td>...</td>\n      <td>2</td>\n      <td>0</td>\n      <td>0</td>\n      <td>0</td>\n      <td>0</td>\n      <td>99</td>\n      <td>1</td>\n      <td>0</td>\n      <td>9999-99-99</td>\n      <td>0.0</td>\n    </tr>\n    <tr>\n      <th>1</th>\n      <td>0</td>\n      <td>1</td>\n      <td>0</td>\n      <td>0</td>\n      <td>51</td>\n      <td>2</td>\n      <td>0</td>\n      <td>0</td>\n      <td>0</td>\n      <td>0</td>\n      <td>...</td>\n      <td>2</td>\n      <td>0</td>\n      <td>0</td>\n      <td>0</td>\n      <td>0</td>\n      <td>99</td>\n      <td>1</td>\n      <td>0</td>\n      <td>9999-99-99</td>\n      <td>0.0</td>\n    </tr>\n    <tr>\n      <th>2</th>\n      <td>1</td>\n      <td>2</td>\n      <td>0</td>\n      <td>0</td>\n      <td>51</td>\n      <td>97</td>\n      <td>1</td>\n      <td>0</td>\n      <td>0</td>\n      <td>0</td>\n      <td>...</td>\n      <td>2</td>\n      <td>0</td>\n      <td>1</td>\n      <td>0</td>\n      <td>0</td>\n      <td>99</td>\n      <td>1</td>\n      <td>0</td>\n      <td>9999-99-99</td>\n      <td>0.0</td>\n    </tr>\n    <tr>\n      <th>3</th>\n      <td>1</td>\n      <td>2</td>\n      <td>0</td>\n      <td>0</td>\n      <td>57</td>\n      <td>97</td>\n      <td>1</td>\n      <td>0</td>\n      <td>0</td>\n      <td>0</td>\n      <td>...</td>\n      <td>2</td>\n      <td>0</td>\n      <td>0</td>\n      <td>0</td>\n      <td>0</td>\n      <td>99</td>\n      <td>1</td>\n      <td>0</td>\n      <td>2020-04-01</td>\n      <td>1.0</td>\n    </tr>\n    <tr>\n      <th>4</th>\n      <td>1</td>\n      <td>1</td>\n      <td>0</td>\n      <td>0</td>\n      <td>55</td>\n      <td>97</td>\n      <td>1</td>\n      <td>0</td>\n      <td>1</td>\n      <td>0</td>\n      <td>...</td>\n      <td>2</td>\n      <td>0</td>\n      <td>1</td>\n      <td>0</td>\n      <td>0</td>\n      <td>99</td>\n      <td>1</td>\n      <td>0</td>\n      <td>9999-99-99</td>\n      <td>0.0</td>\n    </tr>\n    <tr>\n      <th>...</th>\n      <td>...</td>\n      <td>...</td>\n      <td>...</td>\n      <td>...</td>\n      <td>...</td>\n      <td>...</td>\n      <td>...</td>\n      <td>...</td>\n      <td>...</td>\n      <td>...</td>\n      <td>...</td>\n      <td>...</td>\n      <td>...</td>\n      <td>...</td>\n      <td>...</td>\n      <td>...</td>\n      <td>...</td>\n      <td>...</td>\n      <td>...</td>\n      <td>...</td>\n      <td>...</td>\n    </tr>\n    <tr>\n      <th>23466</th>\n      <td>1</td>\n      <td>2</td>\n      <td>0</td>\n      <td>1</td>\n      <td>66</td>\n      <td>97</td>\n      <td>0</td>\n      <td>0</td>\n      <td>0</td>\n      <td>0</td>\n      <td>...</td>\n      <td>2</td>\n      <td>0</td>\n      <td>0</td>\n      <td>0</td>\n      <td>0</td>\n      <td>2</td>\n      <td>1</td>\n      <td>1</td>\n      <td>9999-99-99</td>\n      <td>0.0</td>\n    </tr>\n    <tr>\n      <th>23467</th>\n      <td>0</td>\n      <td>2</td>\n      <td>0</td>\n      <td>0</td>\n      <td>60</td>\n      <td>2</td>\n      <td>0</td>\n      <td>0</td>\n      <td>0</td>\n      <td>0</td>\n      <td>...</td>\n      <td>2</td>\n      <td>0</td>\n      <td>0</td>\n      <td>0</td>\n      <td>0</td>\n      <td>1</td>\n      <td>1</td>\n      <td>0</td>\n      <td>9999-99-99</td>\n      <td>0.0</td>\n    </tr>\n    <tr>\n      <th>23468</th>\n      <td>1</td>\n      <td>2</td>\n      <td>0</td>\n      <td>0</td>\n      <td>56</td>\n      <td>97</td>\n      <td>1</td>\n      <td>0</td>\n      <td>0</td>\n      <td>0</td>\n      <td>...</td>\n      <td>2</td>\n      <td>0</td>\n      <td>0</td>\n      <td>0</td>\n      <td>0</td>\n      <td>1</td>\n      <td>1</td>\n      <td>0</td>\n      <td>9999-99-99</td>\n      <td>0.0</td>\n    </tr>\n    <tr>\n      <th>23469</th>\n      <td>0</td>\n      <td>1</td>\n      <td>0</td>\n      <td>0</td>\n      <td>48</td>\n      <td>2</td>\n      <td>0</td>\n      <td>0</td>\n      <td>0</td>\n      <td>0</td>\n      <td>...</td>\n      <td>2</td>\n      <td>0</td>\n      <td>0</td>\n      <td>0</td>\n      <td>0</td>\n      <td>99</td>\n      <td>1</td>\n      <td>0</td>\n      <td>9999-99-99</td>\n      <td>0.0</td>\n    </tr>\n    <tr>\n      <th>23470</th>\n      <td>1</td>\n      <td>2</td>\n      <td>1</td>\n      <td>1</td>\n      <td>62</td>\n      <td>97</td>\n      <td>0</td>\n      <td>0</td>\n      <td>0</td>\n      <td>0</td>\n      <td>...</td>\n      <td>2</td>\n      <td>0</td>\n      <td>1</td>\n      <td>0</td>\n      <td>0</td>\n      <td>1</td>\n      <td>1</td>\n      <td>1</td>\n      <td>9999-99-99</td>\n      <td>0.0</td>\n    </tr>\n  </tbody>\n</table>\n<p>23471 rows × 21 columns</p>\n</div>"
          },
          "metadata": {}
        }
      ],
      "execution_count": null
    },
    {
      "cell_type": "code",
      "metadata": {
        "tags": [],
        "cell_id": "00021-1333e93b-158f-4527-aa08-0e10e30f9f97",
        "output_cleared": false,
        "source_hash": "6840498c",
        "execution_millis": 25,
        "deepnote_to_be_reexecuted": false,
        "execution_start": 1618902850303,
        "deepnote_cell_type": "code"
      },
      "source": "dt1=dt\ndt1=dt1.drop(\"pregnant\",axis=1)\ndt1=dt1.drop(\"outcome\",axis=1)\ndt1=dt1.drop(\"death_date\",axis=1)\ndt1=dt1.drop(\"patient_type\",axis=1)\ndt1=dt1.drop(\"other_diseases\",axis=1)\ndt1=dt1.drop(\"another_case\",axis=1)\ndt1",
      "outputs": [
        {
          "output_type": "execute_result",
          "execution_count": 22,
          "data": {
            "application/vnd.deepnote.dataframe.v2+json": {
              "row_count": 23471,
              "column_count": 15,
              "columns": [
                {
                  "name": "sex",
                  "dtype": "int64",
                  "stats": {
                    "unique_count": 2,
                    "nan_count": 0,
                    "min": "0",
                    "max": "1",
                    "histogram": [
                      {
                        "bin_start": 0,
                        "bin_end": 0.1,
                        "count": 9811
                      },
                      {
                        "bin_start": 0.1,
                        "bin_end": 0.2,
                        "count": 0
                      },
                      {
                        "bin_start": 0.2,
                        "bin_end": 0.30000000000000004,
                        "count": 0
                      },
                      {
                        "bin_start": 0.30000000000000004,
                        "bin_end": 0.4,
                        "count": 0
                      },
                      {
                        "bin_start": 0.4,
                        "bin_end": 0.5,
                        "count": 0
                      },
                      {
                        "bin_start": 0.5,
                        "bin_end": 0.6000000000000001,
                        "count": 0
                      },
                      {
                        "bin_start": 0.6000000000000001,
                        "bin_end": 0.7000000000000001,
                        "count": 0
                      },
                      {
                        "bin_start": 0.7000000000000001,
                        "bin_end": 0.8,
                        "count": 0
                      },
                      {
                        "bin_start": 0.8,
                        "bin_end": 0.9,
                        "count": 0
                      },
                      {
                        "bin_start": 0.9,
                        "bin_end": 1,
                        "count": 13660
                      }
                    ]
                  }
                },
                {
                  "name": "intubated",
                  "dtype": "int64",
                  "stats": {
                    "unique_count": 2,
                    "nan_count": 0,
                    "min": "0",
                    "max": "1",
                    "histogram": [
                      {
                        "bin_start": 0,
                        "bin_end": 0.1,
                        "count": 22480
                      },
                      {
                        "bin_start": 0.1,
                        "bin_end": 0.2,
                        "count": 0
                      },
                      {
                        "bin_start": 0.2,
                        "bin_end": 0.30000000000000004,
                        "count": 0
                      },
                      {
                        "bin_start": 0.30000000000000004,
                        "bin_end": 0.4,
                        "count": 0
                      },
                      {
                        "bin_start": 0.4,
                        "bin_end": 0.5,
                        "count": 0
                      },
                      {
                        "bin_start": 0.5,
                        "bin_end": 0.6000000000000001,
                        "count": 0
                      },
                      {
                        "bin_start": 0.6000000000000001,
                        "bin_end": 0.7000000000000001,
                        "count": 0
                      },
                      {
                        "bin_start": 0.7000000000000001,
                        "bin_end": 0.8,
                        "count": 0
                      },
                      {
                        "bin_start": 0.8,
                        "bin_end": 0.9,
                        "count": 0
                      },
                      {
                        "bin_start": 0.9,
                        "bin_end": 1,
                        "count": 991
                      }
                    ]
                  }
                },
                {
                  "name": "pneumonia",
                  "dtype": "int64",
                  "stats": {
                    "unique_count": 2,
                    "nan_count": 0,
                    "min": "0",
                    "max": "1",
                    "histogram": [
                      {
                        "bin_start": 0,
                        "bin_end": 0.1,
                        "count": 16590
                      },
                      {
                        "bin_start": 0.1,
                        "bin_end": 0.2,
                        "count": 0
                      },
                      {
                        "bin_start": 0.2,
                        "bin_end": 0.30000000000000004,
                        "count": 0
                      },
                      {
                        "bin_start": 0.30000000000000004,
                        "bin_end": 0.4,
                        "count": 0
                      },
                      {
                        "bin_start": 0.4,
                        "bin_end": 0.5,
                        "count": 0
                      },
                      {
                        "bin_start": 0.5,
                        "bin_end": 0.6000000000000001,
                        "count": 0
                      },
                      {
                        "bin_start": 0.6000000000000001,
                        "bin_end": 0.7000000000000001,
                        "count": 0
                      },
                      {
                        "bin_start": 0.7000000000000001,
                        "bin_end": 0.8,
                        "count": 0
                      },
                      {
                        "bin_start": 0.8,
                        "bin_end": 0.9,
                        "count": 0
                      },
                      {
                        "bin_start": 0.9,
                        "bin_end": 1,
                        "count": 6881
                      }
                    ]
                  }
                },
                {
                  "name": "age",
                  "dtype": "int64",
                  "stats": {
                    "unique_count": 103,
                    "nan_count": 0,
                    "min": "0",
                    "max": "113",
                    "histogram": [
                      {
                        "bin_start": 0,
                        "bin_end": 11.3,
                        "count": 248
                      },
                      {
                        "bin_start": 11.3,
                        "bin_end": 22.6,
                        "count": 621
                      },
                      {
                        "bin_start": 22.6,
                        "bin_end": 33.900000000000006,
                        "count": 4216
                      },
                      {
                        "bin_start": 33.900000000000006,
                        "bin_end": 45.2,
                        "count": 6499
                      },
                      {
                        "bin_start": 45.2,
                        "bin_end": 56.5,
                        "count": 5846
                      },
                      {
                        "bin_start": 56.5,
                        "bin_end": 67.80000000000001,
                        "count": 3705
                      },
                      {
                        "bin_start": 67.80000000000001,
                        "bin_end": 79.10000000000001,
                        "count": 1822
                      },
                      {
                        "bin_start": 79.10000000000001,
                        "bin_end": 90.4,
                        "count": 463
                      },
                      {
                        "bin_start": 90.4,
                        "bin_end": 101.7,
                        "count": 49
                      },
                      {
                        "bin_start": 101.7,
                        "bin_end": 113,
                        "count": 2
                      }
                    ]
                  }
                },
                {
                  "name": "diabetes",
                  "dtype": "int64"
                },
                {
                  "name": "copd",
                  "dtype": "int64"
                },
                {
                  "name": "asthma",
                  "dtype": "int64"
                },
                {
                  "name": "immunosuppression",
                  "dtype": "int64"
                },
                {
                  "name": "hypertension",
                  "dtype": "int64"
                },
                {
                  "name": "cardiovascular",
                  "dtype": "int64"
                },
                {
                  "name": "obesity",
                  "dtype": "int64"
                },
                {
                  "name": "chronic_kidney_failure",
                  "dtype": "int64"
                },
                {
                  "name": "smoker",
                  "dtype": "int64"
                },
                {
                  "name": "icu",
                  "dtype": "int64"
                },
                {
                  "name": "isdeath",
                  "dtype": "float64"
                },
                {
                  "name": "_deepnote_index_column",
                  "dtype": "int64"
                }
              ],
              "rows_top": [
                {
                  "sex": 1,
                  "intubated": 0,
                  "pneumonia": 0,
                  "age": 42,
                  "diabetes": 0,
                  "copd": 0,
                  "asthma": 1,
                  "immunosuppression": 0,
                  "hypertension": 0,
                  "cardiovascular": 0,
                  "obesity": 0,
                  "chronic_kidney_failure": 0,
                  "smoker": 0,
                  "icu": 0,
                  "isdeath": 0,
                  "_deepnote_index_column": 0
                },
                {
                  "sex": 0,
                  "intubated": 0,
                  "pneumonia": 0,
                  "age": 51,
                  "diabetes": 0,
                  "copd": 0,
                  "asthma": 0,
                  "immunosuppression": 0,
                  "hypertension": 0,
                  "cardiovascular": 0,
                  "obesity": 0,
                  "chronic_kidney_failure": 0,
                  "smoker": 0,
                  "icu": 0,
                  "isdeath": 0,
                  "_deepnote_index_column": 1
                },
                {
                  "sex": 1,
                  "intubated": 0,
                  "pneumonia": 0,
                  "age": 51,
                  "diabetes": 1,
                  "copd": 0,
                  "asthma": 0,
                  "immunosuppression": 0,
                  "hypertension": 1,
                  "cardiovascular": 0,
                  "obesity": 1,
                  "chronic_kidney_failure": 0,
                  "smoker": 0,
                  "icu": 0,
                  "isdeath": 0,
                  "_deepnote_index_column": 2
                },
                {
                  "sex": 1,
                  "intubated": 0,
                  "pneumonia": 0,
                  "age": 57,
                  "diabetes": 1,
                  "copd": 0,
                  "asthma": 0,
                  "immunosuppression": 0,
                  "hypertension": 0,
                  "cardiovascular": 0,
                  "obesity": 0,
                  "chronic_kidney_failure": 0,
                  "smoker": 0,
                  "icu": 0,
                  "isdeath": 1,
                  "_deepnote_index_column": 3
                },
                {
                  "sex": 1,
                  "intubated": 0,
                  "pneumonia": 0,
                  "age": 55,
                  "diabetes": 1,
                  "copd": 0,
                  "asthma": 1,
                  "immunosuppression": 0,
                  "hypertension": 1,
                  "cardiovascular": 0,
                  "obesity": 1,
                  "chronic_kidney_failure": 0,
                  "smoker": 0,
                  "icu": 0,
                  "isdeath": 0,
                  "_deepnote_index_column": 9
                },
                {
                  "sex": 1,
                  "intubated": 0,
                  "pneumonia": 1,
                  "age": 60,
                  "diabetes": 0,
                  "copd": 0,
                  "asthma": 0,
                  "immunosuppression": 0,
                  "hypertension": 1,
                  "cardiovascular": 0,
                  "obesity": 0,
                  "chronic_kidney_failure": 0,
                  "smoker": 0,
                  "icu": 1,
                  "isdeath": 0,
                  "_deepnote_index_column": 18
                },
                {
                  "sex": 1,
                  "intubated": 0,
                  "pneumonia": 0,
                  "age": 70,
                  "diabetes": 0,
                  "copd": 0,
                  "asthma": 0,
                  "immunosuppression": 0,
                  "hypertension": 0,
                  "cardiovascular": 0,
                  "obesity": 0,
                  "chronic_kidney_failure": 0,
                  "smoker": 0,
                  "icu": 0,
                  "isdeath": 1,
                  "_deepnote_index_column": 19
                },
                {
                  "sex": 0,
                  "intubated": 0,
                  "pneumonia": 0,
                  "age": 76,
                  "diabetes": 0,
                  "copd": 0,
                  "asthma": 0,
                  "immunosuppression": 0,
                  "hypertension": 0,
                  "cardiovascular": 0,
                  "obesity": 0,
                  "chronic_kidney_failure": 0,
                  "smoker": 0,
                  "icu": 0,
                  "isdeath": 0,
                  "_deepnote_index_column": 26
                },
                {
                  "sex": 1,
                  "intubated": 0,
                  "pneumonia": 1,
                  "age": 57,
                  "diabetes": 1,
                  "copd": 0,
                  "asthma": 0,
                  "immunosuppression": 0,
                  "hypertension": 1,
                  "cardiovascular": 0,
                  "obesity": 0,
                  "chronic_kidney_failure": 0,
                  "smoker": 1,
                  "icu": 0,
                  "isdeath": 1,
                  "_deepnote_index_column": 29
                },
                {
                  "sex": 1,
                  "intubated": 0,
                  "pneumonia": 0,
                  "age": 59,
                  "diabetes": 0,
                  "copd": 0,
                  "asthma": 0,
                  "immunosuppression": 0,
                  "hypertension": 0,
                  "cardiovascular": 0,
                  "obesity": 1,
                  "chronic_kidney_failure": 0,
                  "smoker": 1,
                  "icu": 0,
                  "isdeath": 0,
                  "_deepnote_index_column": 30
                },
                {
                  "sex": 1,
                  "intubated": 0,
                  "pneumonia": 0,
                  "age": 31,
                  "diabetes": 0,
                  "copd": 0,
                  "asthma": 0,
                  "immunosuppression": 0,
                  "hypertension": 0,
                  "cardiovascular": 0,
                  "obesity": 0,
                  "chronic_kidney_failure": 0,
                  "smoker": 0,
                  "icu": 0,
                  "isdeath": 0,
                  "_deepnote_index_column": 31
                },
                {
                  "sex": 0,
                  "intubated": 0,
                  "pneumonia": 0,
                  "age": 37,
                  "diabetes": 0,
                  "copd": 0,
                  "asthma": 1,
                  "immunosuppression": 0,
                  "hypertension": 0,
                  "cardiovascular": 0,
                  "obesity": 0,
                  "chronic_kidney_failure": 0,
                  "smoker": 0,
                  "icu": 0,
                  "isdeath": 0,
                  "_deepnote_index_column": 36
                },
                {
                  "sex": 0,
                  "intubated": 0,
                  "pneumonia": 0,
                  "age": 19,
                  "diabetes": 0,
                  "copd": 0,
                  "asthma": 0,
                  "immunosuppression": 0,
                  "hypertension": 0,
                  "cardiovascular": 0,
                  "obesity": 0,
                  "chronic_kidney_failure": 0,
                  "smoker": 0,
                  "icu": 0,
                  "isdeath": 0,
                  "_deepnote_index_column": 37
                },
                {
                  "sex": 1,
                  "intubated": 0,
                  "pneumonia": 0,
                  "age": 52,
                  "diabetes": 0,
                  "copd": 0,
                  "asthma": 0,
                  "immunosuppression": 0,
                  "hypertension": 1,
                  "cardiovascular": 0,
                  "obesity": 0,
                  "chronic_kidney_failure": 0,
                  "smoker": 0,
                  "icu": 0,
                  "isdeath": 0,
                  "_deepnote_index_column": 43
                },
                {
                  "sex": 0,
                  "intubated": 0,
                  "pneumonia": 1,
                  "age": 51,
                  "diabetes": 0,
                  "copd": 0,
                  "asthma": 0,
                  "immunosuppression": 0,
                  "hypertension": 0,
                  "cardiovascular": 0,
                  "obesity": 0,
                  "chronic_kidney_failure": 0,
                  "smoker": 0,
                  "icu": 0,
                  "isdeath": 1,
                  "_deepnote_index_column": 46
                },
                {
                  "sex": 0,
                  "intubated": 0,
                  "pneumonia": 0,
                  "age": 28,
                  "diabetes": 0,
                  "copd": 0,
                  "asthma": 0,
                  "immunosuppression": 0,
                  "hypertension": 0,
                  "cardiovascular": 0,
                  "obesity": 0,
                  "chronic_kidney_failure": 0,
                  "smoker": 0,
                  "icu": 0,
                  "isdeath": 0,
                  "_deepnote_index_column": 58
                },
                {
                  "sex": 1,
                  "intubated": 0,
                  "pneumonia": 0,
                  "age": 23,
                  "diabetes": 0,
                  "copd": 0,
                  "asthma": 0,
                  "immunosuppression": 0,
                  "hypertension": 0,
                  "cardiovascular": 0,
                  "obesity": 0,
                  "chronic_kidney_failure": 0,
                  "smoker": 0,
                  "icu": 0,
                  "isdeath": 0,
                  "_deepnote_index_column": 59
                },
                {
                  "sex": 1,
                  "intubated": 0,
                  "pneumonia": 0,
                  "age": 49,
                  "diabetes": 1,
                  "copd": 0,
                  "asthma": 0,
                  "immunosuppression": 0,
                  "hypertension": 1,
                  "cardiovascular": 0,
                  "obesity": 0,
                  "chronic_kidney_failure": 0,
                  "smoker": 0,
                  "icu": 0,
                  "isdeath": 0,
                  "_deepnote_index_column": 60
                },
                {
                  "sex": 1,
                  "intubated": 0,
                  "pneumonia": 1,
                  "age": 28,
                  "diabetes": 0,
                  "copd": 0,
                  "asthma": 0,
                  "immunosuppression": 0,
                  "hypertension": 0,
                  "cardiovascular": 0,
                  "obesity": 1,
                  "chronic_kidney_failure": 0,
                  "smoker": 0,
                  "icu": 0,
                  "isdeath": 0,
                  "_deepnote_index_column": 61
                },
                {
                  "sex": 0,
                  "intubated": 0,
                  "pneumonia": 0,
                  "age": 32,
                  "diabetes": 0,
                  "copd": 0,
                  "asthma": 0,
                  "immunosuppression": 0,
                  "hypertension": 0,
                  "cardiovascular": 0,
                  "obesity": 0,
                  "chronic_kidney_failure": 0,
                  "smoker": 0,
                  "icu": 0,
                  "isdeath": 0,
                  "_deepnote_index_column": 63
                },
                {
                  "sex": 1,
                  "intubated": 0,
                  "pneumonia": 1,
                  "age": 67,
                  "diabetes": 0,
                  "copd": 0,
                  "asthma": 0,
                  "immunosuppression": 0,
                  "hypertension": 1,
                  "cardiovascular": 0,
                  "obesity": 0,
                  "chronic_kidney_failure": 0,
                  "smoker": 0,
                  "icu": 0,
                  "isdeath": 0,
                  "_deepnote_index_column": 71
                },
                {
                  "sex": 1,
                  "intubated": 0,
                  "pneumonia": 0,
                  "age": 50,
                  "diabetes": 1,
                  "copd": 0,
                  "asthma": 0,
                  "immunosuppression": 0,
                  "hypertension": 1,
                  "cardiovascular": 0,
                  "obesity": 0,
                  "chronic_kidney_failure": 0,
                  "smoker": 0,
                  "icu": 0,
                  "isdeath": 0,
                  "_deepnote_index_column": 78
                },
                {
                  "sex": 0,
                  "intubated": 0,
                  "pneumonia": 0,
                  "age": 30,
                  "diabetes": 0,
                  "copd": 0,
                  "asthma": 0,
                  "immunosuppression": 0,
                  "hypertension": 0,
                  "cardiovascular": 0,
                  "obesity": 0,
                  "chronic_kidney_failure": 0,
                  "smoker": 0,
                  "icu": 0,
                  "isdeath": 0,
                  "_deepnote_index_column": 79
                },
                {
                  "sex": 1,
                  "intubated": 0,
                  "pneumonia": 1,
                  "age": 47,
                  "diabetes": 1,
                  "copd": 0,
                  "asthma": 0,
                  "immunosuppression": 0,
                  "hypertension": 1,
                  "cardiovascular": 0,
                  "obesity": 1,
                  "chronic_kidney_failure": 0,
                  "smoker": 1,
                  "icu": 0,
                  "isdeath": 0,
                  "_deepnote_index_column": 82
                },
                {
                  "sex": 1,
                  "intubated": 0,
                  "pneumonia": 0,
                  "age": 49,
                  "diabetes": 0,
                  "copd": 0,
                  "asthma": 0,
                  "immunosuppression": 0,
                  "hypertension": 0,
                  "cardiovascular": 0,
                  "obesity": 0,
                  "chronic_kidney_failure": 0,
                  "smoker": 0,
                  "icu": 0,
                  "isdeath": 0,
                  "_deepnote_index_column": 83
                },
                {
                  "sex": 1,
                  "intubated": 0,
                  "pneumonia": 0,
                  "age": 29,
                  "diabetes": 0,
                  "copd": 0,
                  "asthma": 0,
                  "immunosuppression": 0,
                  "hypertension": 0,
                  "cardiovascular": 0,
                  "obesity": 0,
                  "chronic_kidney_failure": 0,
                  "smoker": 0,
                  "icu": 0,
                  "isdeath": 0,
                  "_deepnote_index_column": 87
                },
                {
                  "sex": 1,
                  "intubated": 0,
                  "pneumonia": 0,
                  "age": 64,
                  "diabetes": 0,
                  "copd": 1,
                  "asthma": 1,
                  "immunosuppression": 0,
                  "hypertension": 1,
                  "cardiovascular": 1,
                  "obesity": 1,
                  "chronic_kidney_failure": 0,
                  "smoker": 0,
                  "icu": 0,
                  "isdeath": 1,
                  "_deepnote_index_column": 88
                },
                {
                  "sex": 1,
                  "intubated": 0,
                  "pneumonia": 0,
                  "age": 45,
                  "diabetes": 0,
                  "copd": 0,
                  "asthma": 0,
                  "immunosuppression": 0,
                  "hypertension": 0,
                  "cardiovascular": 0,
                  "obesity": 0,
                  "chronic_kidney_failure": 0,
                  "smoker": 0,
                  "icu": 0,
                  "isdeath": 0,
                  "_deepnote_index_column": 103
                },
                {
                  "sex": 0,
                  "intubated": 0,
                  "pneumonia": 0,
                  "age": 35,
                  "diabetes": 0,
                  "copd": 0,
                  "asthma": 0,
                  "immunosuppression": 0,
                  "hypertension": 0,
                  "cardiovascular": 0,
                  "obesity": 0,
                  "chronic_kidney_failure": 0,
                  "smoker": 0,
                  "icu": 0,
                  "isdeath": 0,
                  "_deepnote_index_column": 116
                },
                {
                  "sex": 0,
                  "intubated": 0,
                  "pneumonia": 1,
                  "age": 62,
                  "diabetes": 0,
                  "copd": 0,
                  "asthma": 0,
                  "immunosuppression": 0,
                  "hypertension": 0,
                  "cardiovascular": 0,
                  "obesity": 0,
                  "chronic_kidney_failure": 0,
                  "smoker": 0,
                  "icu": 0,
                  "isdeath": 0,
                  "_deepnote_index_column": 117
                },
                {
                  "sex": 1,
                  "intubated": 0,
                  "pneumonia": 0,
                  "age": 38,
                  "diabetes": 0,
                  "copd": 0,
                  "asthma": 0,
                  "immunosuppression": 0,
                  "hypertension": 1,
                  "cardiovascular": 0,
                  "obesity": 1,
                  "chronic_kidney_failure": 0,
                  "smoker": 0,
                  "icu": 0,
                  "isdeath": 0,
                  "_deepnote_index_column": 118
                },
                {
                  "sex": 1,
                  "intubated": 0,
                  "pneumonia": 0,
                  "age": 34,
                  "diabetes": 0,
                  "copd": 0,
                  "asthma": 0,
                  "immunosuppression": 0,
                  "hypertension": 0,
                  "cardiovascular": 0,
                  "obesity": 0,
                  "chronic_kidney_failure": 0,
                  "smoker": 0,
                  "icu": 0,
                  "isdeath": 0,
                  "_deepnote_index_column": 128
                },
                {
                  "sex": 0,
                  "intubated": 0,
                  "pneumonia": 1,
                  "age": 48,
                  "diabetes": 0,
                  "copd": 0,
                  "asthma": 0,
                  "immunosuppression": 0,
                  "hypertension": 0,
                  "cardiovascular": 0,
                  "obesity": 1,
                  "chronic_kidney_failure": 0,
                  "smoker": 0,
                  "icu": 0,
                  "isdeath": 0,
                  "_deepnote_index_column": 141
                }
              ],
              "rows_bottom": [
                {
                  "sex": 1,
                  "intubated": 0,
                  "pneumonia": 1,
                  "age": 45,
                  "diabetes": 0,
                  "copd": 0,
                  "asthma": 0,
                  "immunosuppression": 0,
                  "hypertension": 0,
                  "cardiovascular": 0,
                  "obesity": 0,
                  "chronic_kidney_failure": 0,
                  "smoker": 0,
                  "icu": 0,
                  "isdeath": 0,
                  "_deepnote_index_column": 94938
                },
                {
                  "sex": 1,
                  "intubated": 0,
                  "pneumonia": 0,
                  "age": 52,
                  "diabetes": 0,
                  "copd": 0,
                  "asthma": 0,
                  "immunosuppression": 0,
                  "hypertension": 0,
                  "cardiovascular": 0,
                  "obesity": 0,
                  "chronic_kidney_failure": 0,
                  "smoker": 0,
                  "icu": 0,
                  "isdeath": 0,
                  "_deepnote_index_column": 94941
                },
                {
                  "sex": 1,
                  "intubated": 0,
                  "pneumonia": 1,
                  "age": 41,
                  "diabetes": 0,
                  "copd": 0,
                  "asthma": 0,
                  "immunosuppression": 0,
                  "hypertension": 0,
                  "cardiovascular": 0,
                  "obesity": 1,
                  "chronic_kidney_failure": 0,
                  "smoker": 0,
                  "icu": 0,
                  "isdeath": 0,
                  "_deepnote_index_column": 94949
                },
                {
                  "sex": 1,
                  "intubated": 0,
                  "pneumonia": 0,
                  "age": 21,
                  "diabetes": 0,
                  "copd": 1,
                  "asthma": 0,
                  "immunosuppression": 0,
                  "hypertension": 0,
                  "cardiovascular": 0,
                  "obesity": 0,
                  "chronic_kidney_failure": 0,
                  "smoker": 0,
                  "icu": 0,
                  "isdeath": 0,
                  "_deepnote_index_column": 94952
                },
                {
                  "sex": 1,
                  "intubated": 0,
                  "pneumonia": 0,
                  "age": 60,
                  "diabetes": 0,
                  "copd": 0,
                  "asthma": 0,
                  "immunosuppression": 0,
                  "hypertension": 1,
                  "cardiovascular": 0,
                  "obesity": 0,
                  "chronic_kidney_failure": 0,
                  "smoker": 1,
                  "icu": 0,
                  "isdeath": 0,
                  "_deepnote_index_column": 94958
                },
                {
                  "sex": 0,
                  "intubated": 0,
                  "pneumonia": 0,
                  "age": 10,
                  "diabetes": 0,
                  "copd": 0,
                  "asthma": 0,
                  "immunosuppression": 0,
                  "hypertension": 0,
                  "cardiovascular": 0,
                  "obesity": 0,
                  "chronic_kidney_failure": 0,
                  "smoker": 0,
                  "icu": 0,
                  "isdeath": 0,
                  "_deepnote_index_column": 94973
                },
                {
                  "sex": 1,
                  "intubated": 0,
                  "pneumonia": 0,
                  "age": 61,
                  "diabetes": 1,
                  "copd": 0,
                  "asthma": 0,
                  "immunosuppression": 0,
                  "hypertension": 0,
                  "cardiovascular": 0,
                  "obesity": 0,
                  "chronic_kidney_failure": 0,
                  "smoker": 0,
                  "icu": 0,
                  "isdeath": 0,
                  "_deepnote_index_column": 95003
                },
                {
                  "sex": 0,
                  "intubated": 0,
                  "pneumonia": 0,
                  "age": 19,
                  "diabetes": 0,
                  "copd": 0,
                  "asthma": 0,
                  "immunosuppression": 0,
                  "hypertension": 0,
                  "cardiovascular": 0,
                  "obesity": 0,
                  "chronic_kidney_failure": 0,
                  "smoker": 0,
                  "icu": 0,
                  "isdeath": 0,
                  "_deepnote_index_column": 95053
                },
                {
                  "sex": 0,
                  "intubated": 0,
                  "pneumonia": 0,
                  "age": 72,
                  "diabetes": 0,
                  "copd": 0,
                  "asthma": 0,
                  "immunosuppression": 0,
                  "hypertension": 0,
                  "cardiovascular": 0,
                  "obesity": 1,
                  "chronic_kidney_failure": 0,
                  "smoker": 0,
                  "icu": 0,
                  "isdeath": 0,
                  "_deepnote_index_column": 95058
                },
                {
                  "sex": 1,
                  "intubated": 0,
                  "pneumonia": 0,
                  "age": 41,
                  "diabetes": 1,
                  "copd": 0,
                  "asthma": 0,
                  "immunosuppression": 0,
                  "hypertension": 0,
                  "cardiovascular": 0,
                  "obesity": 0,
                  "chronic_kidney_failure": 0,
                  "smoker": 0,
                  "icu": 0,
                  "isdeath": 0,
                  "_deepnote_index_column": 95074
                },
                {
                  "sex": 1,
                  "intubated": 0,
                  "pneumonia": 0,
                  "age": 76,
                  "diabetes": 1,
                  "copd": 0,
                  "asthma": 0,
                  "immunosuppression": 0,
                  "hypertension": 1,
                  "cardiovascular": 0,
                  "obesity": 1,
                  "chronic_kidney_failure": 0,
                  "smoker": 0,
                  "icu": 0,
                  "isdeath": 0,
                  "_deepnote_index_column": 95101
                },
                {
                  "sex": 0,
                  "intubated": 0,
                  "pneumonia": 0,
                  "age": 47,
                  "diabetes": 0,
                  "copd": 0,
                  "asthma": 0,
                  "immunosuppression": 0,
                  "hypertension": 0,
                  "cardiovascular": 0,
                  "obesity": 0,
                  "chronic_kidney_failure": 0,
                  "smoker": 0,
                  "icu": 0,
                  "isdeath": 0,
                  "_deepnote_index_column": 95110
                },
                {
                  "sex": 0,
                  "intubated": 1,
                  "pneumonia": 1,
                  "age": 48,
                  "diabetes": 0,
                  "copd": 0,
                  "asthma": 0,
                  "immunosuppression": 0,
                  "hypertension": 0,
                  "cardiovascular": 0,
                  "obesity": 0,
                  "chronic_kidney_failure": 0,
                  "smoker": 0,
                  "icu": 0,
                  "isdeath": 0,
                  "_deepnote_index_column": 95128
                },
                {
                  "sex": 1,
                  "intubated": 0,
                  "pneumonia": 0,
                  "age": 75,
                  "diabetes": 0,
                  "copd": 0,
                  "asthma": 0,
                  "immunosuppression": 0,
                  "hypertension": 1,
                  "cardiovascular": 0,
                  "obesity": 0,
                  "chronic_kidney_failure": 0,
                  "smoker": 0,
                  "icu": 0,
                  "isdeath": 0,
                  "_deepnote_index_column": 95174
                },
                {
                  "sex": 1,
                  "intubated": 0,
                  "pneumonia": 1,
                  "age": 66,
                  "diabetes": 1,
                  "copd": 0,
                  "asthma": 0,
                  "immunosuppression": 0,
                  "hypertension": 0,
                  "cardiovascular": 0,
                  "obesity": 0,
                  "chronic_kidney_failure": 0,
                  "smoker": 0,
                  "icu": 0,
                  "isdeath": 0,
                  "_deepnote_index_column": 95180
                },
                {
                  "sex": 0,
                  "intubated": 0,
                  "pneumonia": 0,
                  "age": 28,
                  "diabetes": 0,
                  "copd": 0,
                  "asthma": 0,
                  "immunosuppression": 0,
                  "hypertension": 0,
                  "cardiovascular": 0,
                  "obesity": 0,
                  "chronic_kidney_failure": 0,
                  "smoker": 0,
                  "icu": 0,
                  "isdeath": 0,
                  "_deepnote_index_column": 95326
                },
                {
                  "sex": 1,
                  "intubated": 0,
                  "pneumonia": 0,
                  "age": 47,
                  "diabetes": 1,
                  "copd": 0,
                  "asthma": 0,
                  "immunosuppression": 0,
                  "hypertension": 1,
                  "cardiovascular": 0,
                  "obesity": 0,
                  "chronic_kidney_failure": 0,
                  "smoker": 0,
                  "icu": 0,
                  "isdeath": 0,
                  "_deepnote_index_column": 95329
                },
                {
                  "sex": 1,
                  "intubated": 0,
                  "pneumonia": 1,
                  "age": 43,
                  "diabetes": 1,
                  "copd": 0,
                  "asthma": 0,
                  "immunosuppression": 0,
                  "hypertension": 1,
                  "cardiovascular": 0,
                  "obesity": 1,
                  "chronic_kidney_failure": 0,
                  "smoker": 0,
                  "icu": 0,
                  "isdeath": 0,
                  "_deepnote_index_column": 95402
                },
                {
                  "sex": 1,
                  "intubated": 0,
                  "pneumonia": 0,
                  "age": 18,
                  "diabetes": 0,
                  "copd": 0,
                  "asthma": 0,
                  "immunosuppression": 0,
                  "hypertension": 0,
                  "cardiovascular": 0,
                  "obesity": 1,
                  "chronic_kidney_failure": 0,
                  "smoker": 0,
                  "icu": 0,
                  "isdeath": 0,
                  "_deepnote_index_column": 95405
                },
                {
                  "sex": 1,
                  "intubated": 0,
                  "pneumonia": 1,
                  "age": 63,
                  "diabetes": 0,
                  "copd": 0,
                  "asthma": 0,
                  "immunosuppression": 0,
                  "hypertension": 0,
                  "cardiovascular": 0,
                  "obesity": 0,
                  "chronic_kidney_failure": 0,
                  "smoker": 1,
                  "icu": 0,
                  "isdeath": 0,
                  "_deepnote_index_column": 95406
                },
                {
                  "sex": 0,
                  "intubated": 0,
                  "pneumonia": 0,
                  "age": 56,
                  "diabetes": 0,
                  "copd": 0,
                  "asthma": 0,
                  "immunosuppression": 0,
                  "hypertension": 0,
                  "cardiovascular": 0,
                  "obesity": 0,
                  "chronic_kidney_failure": 0,
                  "smoker": 0,
                  "icu": 0,
                  "isdeath": 0,
                  "_deepnote_index_column": 95421
                },
                {
                  "sex": 0,
                  "intubated": 0,
                  "pneumonia": 0,
                  "age": 28,
                  "diabetes": 0,
                  "copd": 0,
                  "asthma": 0,
                  "immunosuppression": 0,
                  "hypertension": 0,
                  "cardiovascular": 0,
                  "obesity": 0,
                  "chronic_kidney_failure": 0,
                  "smoker": 0,
                  "icu": 0,
                  "isdeath": 0,
                  "_deepnote_index_column": 95423
                },
                {
                  "sex": 0,
                  "intubated": 0,
                  "pneumonia": 0,
                  "age": 61,
                  "diabetes": 0,
                  "copd": 0,
                  "asthma": 0,
                  "immunosuppression": 0,
                  "hypertension": 0,
                  "cardiovascular": 0,
                  "obesity": 0,
                  "chronic_kidney_failure": 0,
                  "smoker": 0,
                  "icu": 0,
                  "isdeath": 0,
                  "_deepnote_index_column": 95429
                },
                {
                  "sex": 1,
                  "intubated": 1,
                  "pneumonia": 1,
                  "age": 65,
                  "diabetes": 0,
                  "copd": 0,
                  "asthma": 0,
                  "immunosuppression": 0,
                  "hypertension": 1,
                  "cardiovascular": 0,
                  "obesity": 0,
                  "chronic_kidney_failure": 0,
                  "smoker": 0,
                  "icu": 1,
                  "isdeath": 0,
                  "_deepnote_index_column": 95574
                },
                {
                  "sex": 1,
                  "intubated": 1,
                  "pneumonia": 1,
                  "age": 58,
                  "diabetes": 1,
                  "copd": 0,
                  "asthma": 0,
                  "immunosuppression": 0,
                  "hypertension": 0,
                  "cardiovascular": 0,
                  "obesity": 0,
                  "chronic_kidney_failure": 0,
                  "smoker": 0,
                  "icu": 1,
                  "isdeath": 0,
                  "_deepnote_index_column": 95583
                },
                {
                  "sex": 1,
                  "intubated": 0,
                  "pneumonia": 0,
                  "age": 26,
                  "diabetes": 0,
                  "copd": 0,
                  "asthma": 0,
                  "immunosuppression": 0,
                  "hypertension": 0,
                  "cardiovascular": 0,
                  "obesity": 0,
                  "chronic_kidney_failure": 0,
                  "smoker": 0,
                  "icu": 0,
                  "isdeath": 0,
                  "_deepnote_index_column": 95585
                },
                {
                  "sex": 1,
                  "intubated": 0,
                  "pneumonia": 0,
                  "age": 54,
                  "diabetes": 0,
                  "copd": 0,
                  "asthma": 0,
                  "immunosuppression": 0,
                  "hypertension": 0,
                  "cardiovascular": 0,
                  "obesity": 0,
                  "chronic_kidney_failure": 0,
                  "smoker": 0,
                  "icu": 0,
                  "isdeath": 0,
                  "_deepnote_index_column": 95590
                },
                {
                  "sex": 1,
                  "intubated": 0,
                  "pneumonia": 1,
                  "age": 41,
                  "diabetes": 0,
                  "copd": 0,
                  "asthma": 0,
                  "immunosuppression": 0,
                  "hypertension": 0,
                  "cardiovascular": 0,
                  "obesity": 0,
                  "chronic_kidney_failure": 0,
                  "smoker": 0,
                  "icu": 0,
                  "isdeath": 0,
                  "_deepnote_index_column": 95594
                },
                {
                  "sex": 1,
                  "intubated": 0,
                  "pneumonia": 1,
                  "age": 66,
                  "diabetes": 0,
                  "copd": 0,
                  "asthma": 0,
                  "immunosuppression": 0,
                  "hypertension": 0,
                  "cardiovascular": 0,
                  "obesity": 0,
                  "chronic_kidney_failure": 0,
                  "smoker": 0,
                  "icu": 1,
                  "isdeath": 0,
                  "_deepnote_index_column": 95599
                },
                {
                  "sex": 0,
                  "intubated": 0,
                  "pneumonia": 0,
                  "age": 60,
                  "diabetes": 0,
                  "copd": 0,
                  "asthma": 0,
                  "immunosuppression": 0,
                  "hypertension": 1,
                  "cardiovascular": 0,
                  "obesity": 0,
                  "chronic_kidney_failure": 0,
                  "smoker": 0,
                  "icu": 0,
                  "isdeath": 0,
                  "_deepnote_index_column": 95645
                },
                {
                  "sex": 1,
                  "intubated": 0,
                  "pneumonia": 0,
                  "age": 56,
                  "diabetes": 1,
                  "copd": 0,
                  "asthma": 0,
                  "immunosuppression": 0,
                  "hypertension": 1,
                  "cardiovascular": 0,
                  "obesity": 0,
                  "chronic_kidney_failure": 0,
                  "smoker": 0,
                  "icu": 0,
                  "isdeath": 0,
                  "_deepnote_index_column": 95657
                },
                {
                  "sex": 0,
                  "intubated": 0,
                  "pneumonia": 0,
                  "age": 48,
                  "diabetes": 0,
                  "copd": 0,
                  "asthma": 0,
                  "immunosuppression": 0,
                  "hypertension": 0,
                  "cardiovascular": 0,
                  "obesity": 0,
                  "chronic_kidney_failure": 0,
                  "smoker": 0,
                  "icu": 0,
                  "isdeath": 0,
                  "_deepnote_index_column": 95693
                },
                {
                  "sex": 1,
                  "intubated": 1,
                  "pneumonia": 1,
                  "age": 62,
                  "diabetes": 0,
                  "copd": 0,
                  "asthma": 0,
                  "immunosuppression": 0,
                  "hypertension": 0,
                  "cardiovascular": 0,
                  "obesity": 1,
                  "chronic_kidney_failure": 0,
                  "smoker": 0,
                  "icu": 1,
                  "isdeath": 0,
                  "_deepnote_index_column": 95779
                }
              ]
            },
            "text/plain": "       sex  intubated  pneumonia  age  diabetes  copd  asthma  \\\n0        1          0          0   42         0     0       1   \n1        0          0          0   51         0     0       0   \n2        1          0          0   51         1     0       0   \n3        1          0          0   57         1     0       0   \n9        1          0          0   55         1     0       1   \n...    ...        ...        ...  ...       ...   ...     ...   \n95599    1          0          1   66         0     0       0   \n95645    0          0          0   60         0     0       0   \n95657    1          0          0   56         1     0       0   \n95693    0          0          0   48         0     0       0   \n95779    1          1          1   62         0     0       0   \n\n       immunosuppression  hypertension  cardiovascular  obesity  \\\n0                      0             0               0        0   \n1                      0             0               0        0   \n2                      0             1               0        1   \n3                      0             0               0        0   \n9                      0             1               0        1   \n...                  ...           ...             ...      ...   \n95599                  0             0               0        0   \n95645                  0             1               0        0   \n95657                  0             1               0        0   \n95693                  0             0               0        0   \n95779                  0             0               0        1   \n\n       chronic_kidney_failure  smoker  icu  isdeath  \n0                           0       0    0      0.0  \n1                           0       0    0      0.0  \n2                           0       0    0      0.0  \n3                           0       0    0      1.0  \n9                           0       0    0      0.0  \n...                       ...     ...  ...      ...  \n95599                       0       0    1      0.0  \n95645                       0       0    0      0.0  \n95657                       0       0    0      0.0  \n95693                       0       0    0      0.0  \n95779                       0       0    1      0.0  \n\n[23471 rows x 15 columns]",
            "text/html": "<div>\n<style scoped>\n    .dataframe tbody tr th:only-of-type {\n        vertical-align: middle;\n    }\n\n    .dataframe tbody tr th {\n        vertical-align: top;\n    }\n\n    .dataframe thead th {\n        text-align: right;\n    }\n</style>\n<table border=\"1\" class=\"dataframe\">\n  <thead>\n    <tr style=\"text-align: right;\">\n      <th></th>\n      <th>sex</th>\n      <th>intubated</th>\n      <th>pneumonia</th>\n      <th>age</th>\n      <th>diabetes</th>\n      <th>copd</th>\n      <th>asthma</th>\n      <th>immunosuppression</th>\n      <th>hypertension</th>\n      <th>cardiovascular</th>\n      <th>obesity</th>\n      <th>chronic_kidney_failure</th>\n      <th>smoker</th>\n      <th>icu</th>\n      <th>isdeath</th>\n    </tr>\n  </thead>\n  <tbody>\n    <tr>\n      <th>0</th>\n      <td>1</td>\n      <td>0</td>\n      <td>0</td>\n      <td>42</td>\n      <td>0</td>\n      <td>0</td>\n      <td>1</td>\n      <td>0</td>\n      <td>0</td>\n      <td>0</td>\n      <td>0</td>\n      <td>0</td>\n      <td>0</td>\n      <td>0</td>\n      <td>0.0</td>\n    </tr>\n    <tr>\n      <th>1</th>\n      <td>0</td>\n      <td>0</td>\n      <td>0</td>\n      <td>51</td>\n      <td>0</td>\n      <td>0</td>\n      <td>0</td>\n      <td>0</td>\n      <td>0</td>\n      <td>0</td>\n      <td>0</td>\n      <td>0</td>\n      <td>0</td>\n      <td>0</td>\n      <td>0.0</td>\n    </tr>\n    <tr>\n      <th>2</th>\n      <td>1</td>\n      <td>0</td>\n      <td>0</td>\n      <td>51</td>\n      <td>1</td>\n      <td>0</td>\n      <td>0</td>\n      <td>0</td>\n      <td>1</td>\n      <td>0</td>\n      <td>1</td>\n      <td>0</td>\n      <td>0</td>\n      <td>0</td>\n      <td>0.0</td>\n    </tr>\n    <tr>\n      <th>3</th>\n      <td>1</td>\n      <td>0</td>\n      <td>0</td>\n      <td>57</td>\n      <td>1</td>\n      <td>0</td>\n      <td>0</td>\n      <td>0</td>\n      <td>0</td>\n      <td>0</td>\n      <td>0</td>\n      <td>0</td>\n      <td>0</td>\n      <td>0</td>\n      <td>1.0</td>\n    </tr>\n    <tr>\n      <th>9</th>\n      <td>1</td>\n      <td>0</td>\n      <td>0</td>\n      <td>55</td>\n      <td>1</td>\n      <td>0</td>\n      <td>1</td>\n      <td>0</td>\n      <td>1</td>\n      <td>0</td>\n      <td>1</td>\n      <td>0</td>\n      <td>0</td>\n      <td>0</td>\n      <td>0.0</td>\n    </tr>\n    <tr>\n      <th>...</th>\n      <td>...</td>\n      <td>...</td>\n      <td>...</td>\n      <td>...</td>\n      <td>...</td>\n      <td>...</td>\n      <td>...</td>\n      <td>...</td>\n      <td>...</td>\n      <td>...</td>\n      <td>...</td>\n      <td>...</td>\n      <td>...</td>\n      <td>...</td>\n      <td>...</td>\n    </tr>\n    <tr>\n      <th>95599</th>\n      <td>1</td>\n      <td>0</td>\n      <td>1</td>\n      <td>66</td>\n      <td>0</td>\n      <td>0</td>\n      <td>0</td>\n      <td>0</td>\n      <td>0</td>\n      <td>0</td>\n      <td>0</td>\n      <td>0</td>\n      <td>0</td>\n      <td>1</td>\n      <td>0.0</td>\n    </tr>\n    <tr>\n      <th>95645</th>\n      <td>0</td>\n      <td>0</td>\n      <td>0</td>\n      <td>60</td>\n      <td>0</td>\n      <td>0</td>\n      <td>0</td>\n      <td>0</td>\n      <td>1</td>\n      <td>0</td>\n      <td>0</td>\n      <td>0</td>\n      <td>0</td>\n      <td>0</td>\n      <td>0.0</td>\n    </tr>\n    <tr>\n      <th>95657</th>\n      <td>1</td>\n      <td>0</td>\n      <td>0</td>\n      <td>56</td>\n      <td>1</td>\n      <td>0</td>\n      <td>0</td>\n      <td>0</td>\n      <td>1</td>\n      <td>0</td>\n      <td>0</td>\n      <td>0</td>\n      <td>0</td>\n      <td>0</td>\n      <td>0.0</td>\n    </tr>\n    <tr>\n      <th>95693</th>\n      <td>0</td>\n      <td>0</td>\n      <td>0</td>\n      <td>48</td>\n      <td>0</td>\n      <td>0</td>\n      <td>0</td>\n      <td>0</td>\n      <td>0</td>\n      <td>0</td>\n      <td>0</td>\n      <td>0</td>\n      <td>0</td>\n      <td>0</td>\n      <td>0.0</td>\n    </tr>\n    <tr>\n      <th>95779</th>\n      <td>1</td>\n      <td>1</td>\n      <td>1</td>\n      <td>62</td>\n      <td>0</td>\n      <td>0</td>\n      <td>0</td>\n      <td>0</td>\n      <td>0</td>\n      <td>0</td>\n      <td>1</td>\n      <td>0</td>\n      <td>0</td>\n      <td>1</td>\n      <td>0.0</td>\n    </tr>\n  </tbody>\n</table>\n<p>23471 rows × 15 columns</p>\n</div>"
          },
          "metadata": {}
        }
      ],
      "execution_count": null
    },
    {
      "cell_type": "code",
      "metadata": {
        "tags": [],
        "cell_id": "00022-b630f2d8-4586-47e3-b8a2-25a1f7da58c8",
        "output_cleared": false,
        "source_hash": "b623e53d",
        "execution_millis": 0,
        "deepnote_to_be_reexecuted": false,
        "execution_start": 1618902850363,
        "deepnote_cell_type": "code"
      },
      "source": "",
      "outputs": [],
      "execution_count": null
    },
    {
      "cell_type": "code",
      "metadata": {
        "tags": [],
        "cell_id": "00007-5ae5f0d6-e5e7-425e-8656-c2ad8b6d5825",
        "output_cleared": false,
        "source_hash": "a43ae4d5",
        "execution_millis": 302,
        "deepnote_to_be_reexecuted": false,
        "execution_start": 1618902850364,
        "deepnote_cell_type": "code"
      },
      "source": "fig=sns.catplot(x=\"isdeath\", hue=\"isdeath\", kind=\"count\", data=dt)",
      "outputs": [
        {
          "data": {
            "text/plain": "<Figure size 360x360 with 1 Axes>",
            "image/png": "[encoded data removed]"
          },
          "metadata": {
            "needs_background": "light"
          },
          "output_type": "display_data"
        }
      ],
      "execution_count": null
    },
    {
      "cell_type": "code",
      "metadata": {
        "tags": [],
        "cell_id": "00008-305992c0-0b65-4b37-8fbe-7ce0003cc12c",
        "output_cleared": false,
        "source_hash": "38b733b3",
        "execution_millis": 1,
        "deepnote_to_be_reexecuted": false,
        "execution_start": 1618902850672,
        "deepnote_cell_type": "code"
      },
      "source": "dtcot=pd.DataFrame(dt)\ndtcot=dtcot.drop(\"outcome\",axis=1)\ndtcot=dtcot.drop(\"death_date\",axis=1)\ndtcot=dtcot.drop(\"patient_type\",axis=1)\ndtcot=dtcot.drop(\"other_diseases\",axis=1)\ndtcot=dtcot.drop(\"another_case\",axis=1)\ndtcot=dtcot.drop(\"pregnant\",axis=1)\n#dtcot=dtcot.drop(\"age\",axis=1)\ndtcot.astype('int64').dtypes",
      "outputs": [
        {
          "output_type": "execute_result",
          "execution_count": 24,
          "data": {
            "text/plain": "sex                       int64\nintubated                 int64\npneumonia                 int64\nage                       int64\ndiabetes                  int64\ncopd                      int64\nasthma                    int64\nimmunosuppression         int64\nhypertension              int64\ncardiovascular            int64\nobesity                   int64\nchronic_kidney_failure    int64\nsmoker                    int64\nicu                       int64\nisdeath                   int64\ndtype: object"
          },
          "metadata": {}
        }
      ],
      "execution_count": null
    },
    {
      "cell_type": "code",
      "metadata": {
        "tags": [],
        "cell_id": "00009-14981153-59f8-40f1-9288-ce29cf94f9de",
        "output_cleared": false,
        "source_hash": "291eacd7",
        "execution_millis": 623,
        "deepnote_to_be_reexecuted": false,
        "execution_start": 1618902850682,
        "deepnote_cell_type": "code"
      },
      "source": "corrMatrix = pd.DataFrame.corr(dtcot)\nsns.heatmap(corrMatrix,square=True,linewidths=.5)\nplt.rcParams[\"figure.figsize\"] = (80,80)\nplt.xticks(fontsize = 40,rotation=50)\nplt.yticks(fontsize = 40,rotation=50)\nsns.set(font_scale=10)\nplt.show()",
      "outputs": [
        {
          "data": {
            "text/plain": "<Figure size 432x288 with 2 Axes>",
            "image/png": "[encoded data removed]"
          },
          "metadata": {
            "needs_background": "light"
          },
          "output_type": "display_data"
        }
      ],
      "execution_count": null
    },
    {
      "cell_type": "code",
      "metadata": {
        "tags": [],
        "cell_id": "00005-24957d0b-2c8b-4529-bbe7-1754fc01efa7",
        "output_cleared": false,
        "source_hash": "50a9fe01",
        "execution_millis": 19,
        "deepnote_to_be_reexecuted": false,
        "execution_start": 1618902851291,
        "deepnote_cell_type": "code"
      },
      "source": "#controllo: ci sono valori na nel dataset? \ndtcot.isna()\ndtcot.isna().sum()\n#non ci sono valori na!",
      "outputs": [
        {
          "output_type": "execute_result",
          "execution_count": 26,
          "data": {
            "text/plain": "sex                       0\nintubated                 0\npneumonia                 0\nage                       0\ndiabetes                  0\ncopd                      0\nasthma                    0\nimmunosuppression         0\nhypertension              0\ncardiovascular            0\nobesity                   0\nchronic_kidney_failure    0\nsmoker                    0\nicu                       0\nisdeath                   0\ndtype: int64"
          },
          "metadata": {}
        }
      ],
      "execution_count": null
    },
    {
      "cell_type": "code",
      "metadata": {
        "tags": [],
        "cell_id": "00026-b3875f17-bf38-43e1-880e-8fc6d29ec195",
        "output_cleared": false,
        "source_hash": "6b5e8105",
        "execution_millis": 509,
        "deepnote_to_be_reexecuted": false,
        "execution_start": 1618902851299,
        "deepnote_cell_type": "code"
      },
      "source": "#preprocessing\nfrom sklearn import preprocessing\nlabe = preprocessing.LabelEncoder()\ndtcot['isdeath'] = labe.fit_transform(dtcot['isdeath'])",
      "outputs": [],
      "execution_count": null
    },
    {
      "cell_type": "code",
      "metadata": {
        "tags": [],
        "cell_id": "00027-c0772edd-2554-4b1b-81e0-a0f985428a30",
        "output_cleared": false,
        "source_hash": "2ff210f5",
        "execution_millis": 89,
        "deepnote_to_be_reexecuted": false,
        "execution_start": 1618902851819,
        "deepnote_cell_type": "code"
      },
      "source": "dtcot['sex'].unique()\ndtcot['intubated'].unique()\ndtcot['pneumonia'].unique()\ndtcot['diabetes'].unique()\ndtcot['copd'].unique()\ndtcot['asthma'].unique()\ndtcot['immunosuppression'].unique()\ndtcot['hypertension'].unique()\ndtcot['cardiovascular'].unique()\ndtcot['obesity'].unique()\ndtcot['chronic_kidney_failure'].unique()\ndtcot['smoker'].unique()\ndtcot['icu'].unique()\ndtcot['isdeath'].unique()\ndtcot",
      "outputs": [
        {
          "output_type": "execute_result",
          "execution_count": 28,
          "data": {
            "application/vnd.deepnote.dataframe.v2+json": {
              "row_count": 23471,
              "column_count": 15,
              "columns": [
                {
                  "name": "sex",
                  "dtype": "int64",
                  "stats": {
                    "unique_count": 2,
                    "nan_count": 0,
                    "min": "0",
                    "max": "1",
                    "histogram": [
                      {
                        "bin_start": 0,
                        "bin_end": 0.1,
                        "count": 9811
                      },
                      {
                        "bin_start": 0.1,
                        "bin_end": 0.2,
                        "count": 0
                      },
                      {
                        "bin_start": 0.2,
                        "bin_end": 0.30000000000000004,
                        "count": 0
                      },
                      {
                        "bin_start": 0.30000000000000004,
                        "bin_end": 0.4,
                        "count": 0
                      },
                      {
                        "bin_start": 0.4,
                        "bin_end": 0.5,
                        "count": 0
                      },
                      {
                        "bin_start": 0.5,
                        "bin_end": 0.6000000000000001,
                        "count": 0
                      },
                      {
                        "bin_start": 0.6000000000000001,
                        "bin_end": 0.7000000000000001,
                        "count": 0
                      },
                      {
                        "bin_start": 0.7000000000000001,
                        "bin_end": 0.8,
                        "count": 0
                      },
                      {
                        "bin_start": 0.8,
                        "bin_end": 0.9,
                        "count": 0
                      },
                      {
                        "bin_start": 0.9,
                        "bin_end": 1,
                        "count": 13660
                      }
                    ]
                  }
                },
                {
                  "name": "intubated",
                  "dtype": "int64",
                  "stats": {
                    "unique_count": 2,
                    "nan_count": 0,
                    "min": "0",
                    "max": "1",
                    "histogram": [
                      {
                        "bin_start": 0,
                        "bin_end": 0.1,
                        "count": 22480
                      },
                      {
                        "bin_start": 0.1,
                        "bin_end": 0.2,
                        "count": 0
                      },
                      {
                        "bin_start": 0.2,
                        "bin_end": 0.30000000000000004,
                        "count": 0
                      },
                      {
                        "bin_start": 0.30000000000000004,
                        "bin_end": 0.4,
                        "count": 0
                      },
                      {
                        "bin_start": 0.4,
                        "bin_end": 0.5,
                        "count": 0
                      },
                      {
                        "bin_start": 0.5,
                        "bin_end": 0.6000000000000001,
                        "count": 0
                      },
                      {
                        "bin_start": 0.6000000000000001,
                        "bin_end": 0.7000000000000001,
                        "count": 0
                      },
                      {
                        "bin_start": 0.7000000000000001,
                        "bin_end": 0.8,
                        "count": 0
                      },
                      {
                        "bin_start": 0.8,
                        "bin_end": 0.9,
                        "count": 0
                      },
                      {
                        "bin_start": 0.9,
                        "bin_end": 1,
                        "count": 991
                      }
                    ]
                  }
                },
                {
                  "name": "pneumonia",
                  "dtype": "int64",
                  "stats": {
                    "unique_count": 2,
                    "nan_count": 0,
                    "min": "0",
                    "max": "1",
                    "histogram": [
                      {
                        "bin_start": 0,
                        "bin_end": 0.1,
                        "count": 16590
                      },
                      {
                        "bin_start": 0.1,
                        "bin_end": 0.2,
                        "count": 0
                      },
                      {
                        "bin_start": 0.2,
                        "bin_end": 0.30000000000000004,
                        "count": 0
                      },
                      {
                        "bin_start": 0.30000000000000004,
                        "bin_end": 0.4,
                        "count": 0
                      },
                      {
                        "bin_start": 0.4,
                        "bin_end": 0.5,
                        "count": 0
                      },
                      {
                        "bin_start": 0.5,
                        "bin_end": 0.6000000000000001,
                        "count": 0
                      },
                      {
                        "bin_start": 0.6000000000000001,
                        "bin_end": 0.7000000000000001,
                        "count": 0
                      },
                      {
                        "bin_start": 0.7000000000000001,
                        "bin_end": 0.8,
                        "count": 0
                      },
                      {
                        "bin_start": 0.8,
                        "bin_end": 0.9,
                        "count": 0
                      },
                      {
                        "bin_start": 0.9,
                        "bin_end": 1,
                        "count": 6881
                      }
                    ]
                  }
                },
                {
                  "name": "age",
                  "dtype": "int64",
                  "stats": {
                    "unique_count": 103,
                    "nan_count": 0,
                    "min": "0",
                    "max": "113",
                    "histogram": [
                      {
                        "bin_start": 0,
                        "bin_end": 11.3,
                        "count": 248
                      },
                      {
                        "bin_start": 11.3,
                        "bin_end": 22.6,
                        "count": 621
                      },
                      {
                        "bin_start": 22.6,
                        "bin_end": 33.900000000000006,
                        "count": 4216
                      },
                      {
                        "bin_start": 33.900000000000006,
                        "bin_end": 45.2,
                        "count": 6499
                      },
                      {
                        "bin_start": 45.2,
                        "bin_end": 56.5,
                        "count": 5846
                      },
                      {
                        "bin_start": 56.5,
                        "bin_end": 67.80000000000001,
                        "count": 3705
                      },
                      {
                        "bin_start": 67.80000000000001,
                        "bin_end": 79.10000000000001,
                        "count": 1822
                      },
                      {
                        "bin_start": 79.10000000000001,
                        "bin_end": 90.4,
                        "count": 463
                      },
                      {
                        "bin_start": 90.4,
                        "bin_end": 101.7,
                        "count": 49
                      },
                      {
                        "bin_start": 101.7,
                        "bin_end": 113,
                        "count": 2
                      }
                    ]
                  }
                },
                {
                  "name": "diabetes",
                  "dtype": "int64"
                },
                {
                  "name": "copd",
                  "dtype": "int64"
                },
                {
                  "name": "asthma",
                  "dtype": "int64"
                },
                {
                  "name": "immunosuppression",
                  "dtype": "int64"
                },
                {
                  "name": "hypertension",
                  "dtype": "int64"
                },
                {
                  "name": "cardiovascular",
                  "dtype": "int64"
                },
                {
                  "name": "obesity",
                  "dtype": "int64"
                },
                {
                  "name": "chronic_kidney_failure",
                  "dtype": "int64"
                },
                {
                  "name": "smoker",
                  "dtype": "int64"
                },
                {
                  "name": "icu",
                  "dtype": "int64"
                },
                {
                  "name": "isdeath",
                  "dtype": "int64"
                },
                {
                  "name": "_deepnote_index_column",
                  "dtype": "int64"
                }
              ],
              "rows_top": [
                {
                  "sex": 1,
                  "intubated": 0,
                  "pneumonia": 0,
                  "age": 42,
                  "diabetes": 0,
                  "copd": 0,
                  "asthma": 1,
                  "immunosuppression": 0,
                  "hypertension": 0,
                  "cardiovascular": 0,
                  "obesity": 0,
                  "chronic_kidney_failure": 0,
                  "smoker": 0,
                  "icu": 0,
                  "isdeath": 0,
                  "_deepnote_index_column": 0
                },
                {
                  "sex": 0,
                  "intubated": 0,
                  "pneumonia": 0,
                  "age": 51,
                  "diabetes": 0,
                  "copd": 0,
                  "asthma": 0,
                  "immunosuppression": 0,
                  "hypertension": 0,
                  "cardiovascular": 0,
                  "obesity": 0,
                  "chronic_kidney_failure": 0,
                  "smoker": 0,
                  "icu": 0,
                  "isdeath": 0,
                  "_deepnote_index_column": 1
                },
                {
                  "sex": 1,
                  "intubated": 0,
                  "pneumonia": 0,
                  "age": 51,
                  "diabetes": 1,
                  "copd": 0,
                  "asthma": 0,
                  "immunosuppression": 0,
                  "hypertension": 1,
                  "cardiovascular": 0,
                  "obesity": 1,
                  "chronic_kidney_failure": 0,
                  "smoker": 0,
                  "icu": 0,
                  "isdeath": 0,
                  "_deepnote_index_column": 2
                },
                {
                  "sex": 1,
                  "intubated": 0,
                  "pneumonia": 0,
                  "age": 57,
                  "diabetes": 1,
                  "copd": 0,
                  "asthma": 0,
                  "immunosuppression": 0,
                  "hypertension": 0,
                  "cardiovascular": 0,
                  "obesity": 0,
                  "chronic_kidney_failure": 0,
                  "smoker": 0,
                  "icu": 0,
                  "isdeath": 1,
                  "_deepnote_index_column": 3
                },
                {
                  "sex": 1,
                  "intubated": 0,
                  "pneumonia": 0,
                  "age": 55,
                  "diabetes": 1,
                  "copd": 0,
                  "asthma": 1,
                  "immunosuppression": 0,
                  "hypertension": 1,
                  "cardiovascular": 0,
                  "obesity": 1,
                  "chronic_kidney_failure": 0,
                  "smoker": 0,
                  "icu": 0,
                  "isdeath": 0,
                  "_deepnote_index_column": 9
                },
                {
                  "sex": 1,
                  "intubated": 0,
                  "pneumonia": 1,
                  "age": 60,
                  "diabetes": 0,
                  "copd": 0,
                  "asthma": 0,
                  "immunosuppression": 0,
                  "hypertension": 1,
                  "cardiovascular": 0,
                  "obesity": 0,
                  "chronic_kidney_failure": 0,
                  "smoker": 0,
                  "icu": 1,
                  "isdeath": 0,
                  "_deepnote_index_column": 18
                },
                {
                  "sex": 1,
                  "intubated": 0,
                  "pneumonia": 0,
                  "age": 70,
                  "diabetes": 0,
                  "copd": 0,
                  "asthma": 0,
                  "immunosuppression": 0,
                  "hypertension": 0,
                  "cardiovascular": 0,
                  "obesity": 0,
                  "chronic_kidney_failure": 0,
                  "smoker": 0,
                  "icu": 0,
                  "isdeath": 1,
                  "_deepnote_index_column": 19
                },
                {
                  "sex": 0,
                  "intubated": 0,
                  "pneumonia": 0,
                  "age": 76,
                  "diabetes": 0,
                  "copd": 0,
                  "asthma": 0,
                  "immunosuppression": 0,
                  "hypertension": 0,
                  "cardiovascular": 0,
                  "obesity": 0,
                  "chronic_kidney_failure": 0,
                  "smoker": 0,
                  "icu": 0,
                  "isdeath": 0,
                  "_deepnote_index_column": 26
                },
                {
                  "sex": 1,
                  "intubated": 0,
                  "pneumonia": 1,
                  "age": 57,
                  "diabetes": 1,
                  "copd": 0,
                  "asthma": 0,
                  "immunosuppression": 0,
                  "hypertension": 1,
                  "cardiovascular": 0,
                  "obesity": 0,
                  "chronic_kidney_failure": 0,
                  "smoker": 1,
                  "icu": 0,
                  "isdeath": 1,
                  "_deepnote_index_column": 29
                },
                {
                  "sex": 1,
                  "intubated": 0,
                  "pneumonia": 0,
                  "age": 59,
                  "diabetes": 0,
                  "copd": 0,
                  "asthma": 0,
                  "immunosuppression": 0,
                  "hypertension": 0,
                  "cardiovascular": 0,
                  "obesity": 1,
                  "chronic_kidney_failure": 0,
                  "smoker": 1,
                  "icu": 0,
                  "isdeath": 0,
                  "_deepnote_index_column": 30
                },
                {
                  "sex": 1,
                  "intubated": 0,
                  "pneumonia": 0,
                  "age": 31,
                  "diabetes": 0,
                  "copd": 0,
                  "asthma": 0,
                  "immunosuppression": 0,
                  "hypertension": 0,
                  "cardiovascular": 0,
                  "obesity": 0,
                  "chronic_kidney_failure": 0,
                  "smoker": 0,
                  "icu": 0,
                  "isdeath": 0,
                  "_deepnote_index_column": 31
                },
                {
                  "sex": 0,
                  "intubated": 0,
                  "pneumonia": 0,
                  "age": 37,
                  "diabetes": 0,
                  "copd": 0,
                  "asthma": 1,
                  "immunosuppression": 0,
                  "hypertension": 0,
                  "cardiovascular": 0,
                  "obesity": 0,
                  "chronic_kidney_failure": 0,
                  "smoker": 0,
                  "icu": 0,
                  "isdeath": 0,
                  "_deepnote_index_column": 36
                },
                {
                  "sex": 0,
                  "intubated": 0,
                  "pneumonia": 0,
                  "age": 19,
                  "diabetes": 0,
                  "copd": 0,
                  "asthma": 0,
                  "immunosuppression": 0,
                  "hypertension": 0,
                  "cardiovascular": 0,
                  "obesity": 0,
                  "chronic_kidney_failure": 0,
                  "smoker": 0,
                  "icu": 0,
                  "isdeath": 0,
                  "_deepnote_index_column": 37
                },
                {
                  "sex": 1,
                  "intubated": 0,
                  "pneumonia": 0,
                  "age": 52,
                  "diabetes": 0,
                  "copd": 0,
                  "asthma": 0,
                  "immunosuppression": 0,
                  "hypertension": 1,
                  "cardiovascular": 0,
                  "obesity": 0,
                  "chronic_kidney_failure": 0,
                  "smoker": 0,
                  "icu": 0,
                  "isdeath": 0,
                  "_deepnote_index_column": 43
                },
                {
                  "sex": 0,
                  "intubated": 0,
                  "pneumonia": 1,
                  "age": 51,
                  "diabetes": 0,
                  "copd": 0,
                  "asthma": 0,
                  "immunosuppression": 0,
                  "hypertension": 0,
                  "cardiovascular": 0,
                  "obesity": 0,
                  "chronic_kidney_failure": 0,
                  "smoker": 0,
                  "icu": 0,
                  "isdeath": 1,
                  "_deepnote_index_column": 46
                },
                {
                  "sex": 0,
                  "intubated": 0,
                  "pneumonia": 0,
                  "age": 28,
                  "diabetes": 0,
                  "copd": 0,
                  "asthma": 0,
                  "immunosuppression": 0,
                  "hypertension": 0,
                  "cardiovascular": 0,
                  "obesity": 0,
                  "chronic_kidney_failure": 0,
                  "smoker": 0,
                  "icu": 0,
                  "isdeath": 0,
                  "_deepnote_index_column": 58
                },
                {
                  "sex": 1,
                  "intubated": 0,
                  "pneumonia": 0,
                  "age": 23,
                  "diabetes": 0,
                  "copd": 0,
                  "asthma": 0,
                  "immunosuppression": 0,
                  "hypertension": 0,
                  "cardiovascular": 0,
                  "obesity": 0,
                  "chronic_kidney_failure": 0,
                  "smoker": 0,
                  "icu": 0,
                  "isdeath": 0,
                  "_deepnote_index_column": 59
                },
                {
                  "sex": 1,
                  "intubated": 0,
                  "pneumonia": 0,
                  "age": 49,
                  "diabetes": 1,
                  "copd": 0,
                  "asthma": 0,
                  "immunosuppression": 0,
                  "hypertension": 1,
                  "cardiovascular": 0,
                  "obesity": 0,
                  "chronic_kidney_failure": 0,
                  "smoker": 0,
                  "icu": 0,
                  "isdeath": 0,
                  "_deepnote_index_column": 60
                },
                {
                  "sex": 1,
                  "intubated": 0,
                  "pneumonia": 1,
                  "age": 28,
                  "diabetes": 0,
                  "copd": 0,
                  "asthma": 0,
                  "immunosuppression": 0,
                  "hypertension": 0,
                  "cardiovascular": 0,
                  "obesity": 1,
                  "chronic_kidney_failure": 0,
                  "smoker": 0,
                  "icu": 0,
                  "isdeath": 0,
                  "_deepnote_index_column": 61
                },
                {
                  "sex": 0,
                  "intubated": 0,
                  "pneumonia": 0,
                  "age": 32,
                  "diabetes": 0,
                  "copd": 0,
                  "asthma": 0,
                  "immunosuppression": 0,
                  "hypertension": 0,
                  "cardiovascular": 0,
                  "obesity": 0,
                  "chronic_kidney_failure": 0,
                  "smoker": 0,
                  "icu": 0,
                  "isdeath": 0,
                  "_deepnote_index_column": 63
                },
                {
                  "sex": 1,
                  "intubated": 0,
                  "pneumonia": 1,
                  "age": 67,
                  "diabetes": 0,
                  "copd": 0,
                  "asthma": 0,
                  "immunosuppression": 0,
                  "hypertension": 1,
                  "cardiovascular": 0,
                  "obesity": 0,
                  "chronic_kidney_failure": 0,
                  "smoker": 0,
                  "icu": 0,
                  "isdeath": 0,
                  "_deepnote_index_column": 71
                },
                {
                  "sex": 1,
                  "intubated": 0,
                  "pneumonia": 0,
                  "age": 50,
                  "diabetes": 1,
                  "copd": 0,
                  "asthma": 0,
                  "immunosuppression": 0,
                  "hypertension": 1,
                  "cardiovascular": 0,
                  "obesity": 0,
                  "chronic_kidney_failure": 0,
                  "smoker": 0,
                  "icu": 0,
                  "isdeath": 0,
                  "_deepnote_index_column": 78
                },
                {
                  "sex": 0,
                  "intubated": 0,
                  "pneumonia": 0,
                  "age": 30,
                  "diabetes": 0,
                  "copd": 0,
                  "asthma": 0,
                  "immunosuppression": 0,
                  "hypertension": 0,
                  "cardiovascular": 0,
                  "obesity": 0,
                  "chronic_kidney_failure": 0,
                  "smoker": 0,
                  "icu": 0,
                  "isdeath": 0,
                  "_deepnote_index_column": 79
                },
                {
                  "sex": 1,
                  "intubated": 0,
                  "pneumonia": 1,
                  "age": 47,
                  "diabetes": 1,
                  "copd": 0,
                  "asthma": 0,
                  "immunosuppression": 0,
                  "hypertension": 1,
                  "cardiovascular": 0,
                  "obesity": 1,
                  "chronic_kidney_failure": 0,
                  "smoker": 1,
                  "icu": 0,
                  "isdeath": 0,
                  "_deepnote_index_column": 82
                },
                {
                  "sex": 1,
                  "intubated": 0,
                  "pneumonia": 0,
                  "age": 49,
                  "diabetes": 0,
                  "copd": 0,
                  "asthma": 0,
                  "immunosuppression": 0,
                  "hypertension": 0,
                  "cardiovascular": 0,
                  "obesity": 0,
                  "chronic_kidney_failure": 0,
                  "smoker": 0,
                  "icu": 0,
                  "isdeath": 0,
                  "_deepnote_index_column": 83
                },
                {
                  "sex": 1,
                  "intubated": 0,
                  "pneumonia": 0,
                  "age": 29,
                  "diabetes": 0,
                  "copd": 0,
                  "asthma": 0,
                  "immunosuppression": 0,
                  "hypertension": 0,
                  "cardiovascular": 0,
                  "obesity": 0,
                  "chronic_kidney_failure": 0,
                  "smoker": 0,
                  "icu": 0,
                  "isdeath": 0,
                  "_deepnote_index_column": 87
                },
                {
                  "sex": 1,
                  "intubated": 0,
                  "pneumonia": 0,
                  "age": 64,
                  "diabetes": 0,
                  "copd": 1,
                  "asthma": 1,
                  "immunosuppression": 0,
                  "hypertension": 1,
                  "cardiovascular": 1,
                  "obesity": 1,
                  "chronic_kidney_failure": 0,
                  "smoker": 0,
                  "icu": 0,
                  "isdeath": 1,
                  "_deepnote_index_column": 88
                },
                {
                  "sex": 1,
                  "intubated": 0,
                  "pneumonia": 0,
                  "age": 45,
                  "diabetes": 0,
                  "copd": 0,
                  "asthma": 0,
                  "immunosuppression": 0,
                  "hypertension": 0,
                  "cardiovascular": 0,
                  "obesity": 0,
                  "chronic_kidney_failure": 0,
                  "smoker": 0,
                  "icu": 0,
                  "isdeath": 0,
                  "_deepnote_index_column": 103
                },
                {
                  "sex": 0,
                  "intubated": 0,
                  "pneumonia": 0,
                  "age": 35,
                  "diabetes": 0,
                  "copd": 0,
                  "asthma": 0,
                  "immunosuppression": 0,
                  "hypertension": 0,
                  "cardiovascular": 0,
                  "obesity": 0,
                  "chronic_kidney_failure": 0,
                  "smoker": 0,
                  "icu": 0,
                  "isdeath": 0,
                  "_deepnote_index_column": 116
                },
                {
                  "sex": 0,
                  "intubated": 0,
                  "pneumonia": 1,
                  "age": 62,
                  "diabetes": 0,
                  "copd": 0,
                  "asthma": 0,
                  "immunosuppression": 0,
                  "hypertension": 0,
                  "cardiovascular": 0,
                  "obesity": 0,
                  "chronic_kidney_failure": 0,
                  "smoker": 0,
                  "icu": 0,
                  "isdeath": 0,
                  "_deepnote_index_column": 117
                },
                {
                  "sex": 1,
                  "intubated": 0,
                  "pneumonia": 0,
                  "age": 38,
                  "diabetes": 0,
                  "copd": 0,
                  "asthma": 0,
                  "immunosuppression": 0,
                  "hypertension": 1,
                  "cardiovascular": 0,
                  "obesity": 1,
                  "chronic_kidney_failure": 0,
                  "smoker": 0,
                  "icu": 0,
                  "isdeath": 0,
                  "_deepnote_index_column": 118
                },
                {
                  "sex": 1,
                  "intubated": 0,
                  "pneumonia": 0,
                  "age": 34,
                  "diabetes": 0,
                  "copd": 0,
                  "asthma": 0,
                  "immunosuppression": 0,
                  "hypertension": 0,
                  "cardiovascular": 0,
                  "obesity": 0,
                  "chronic_kidney_failure": 0,
                  "smoker": 0,
                  "icu": 0,
                  "isdeath": 0,
                  "_deepnote_index_column": 128
                },
                {
                  "sex": 0,
                  "intubated": 0,
                  "pneumonia": 1,
                  "age": 48,
                  "diabetes": 0,
                  "copd": 0,
                  "asthma": 0,
                  "immunosuppression": 0,
                  "hypertension": 0,
                  "cardiovascular": 0,
                  "obesity": 1,
                  "chronic_kidney_failure": 0,
                  "smoker": 0,
                  "icu": 0,
                  "isdeath": 0,
                  "_deepnote_index_column": 141
                }
              ],
              "rows_bottom": [
                {
                  "sex": 1,
                  "intubated": 0,
                  "pneumonia": 1,
                  "age": 45,
                  "diabetes": 0,
                  "copd": 0,
                  "asthma": 0,
                  "immunosuppression": 0,
                  "hypertension": 0,
                  "cardiovascular": 0,
                  "obesity": 0,
                  "chronic_kidney_failure": 0,
                  "smoker": 0,
                  "icu": 0,
                  "isdeath": 0,
                  "_deepnote_index_column": 94938
                },
                {
                  "sex": 1,
                  "intubated": 0,
                  "pneumonia": 0,
                  "age": 52,
                  "diabetes": 0,
                  "copd": 0,
                  "asthma": 0,
                  "immunosuppression": 0,
                  "hypertension": 0,
                  "cardiovascular": 0,
                  "obesity": 0,
                  "chronic_kidney_failure": 0,
                  "smoker": 0,
                  "icu": 0,
                  "isdeath": 0,
                  "_deepnote_index_column": 94941
                },
                {
                  "sex": 1,
                  "intubated": 0,
                  "pneumonia": 1,
                  "age": 41,
                  "diabetes": 0,
                  "copd": 0,
                  "asthma": 0,
                  "immunosuppression": 0,
                  "hypertension": 0,
                  "cardiovascular": 0,
                  "obesity": 1,
                  "chronic_kidney_failure": 0,
                  "smoker": 0,
                  "icu": 0,
                  "isdeath": 0,
                  "_deepnote_index_column": 94949
                },
                {
                  "sex": 1,
                  "intubated": 0,
                  "pneumonia": 0,
                  "age": 21,
                  "diabetes": 0,
                  "copd": 1,
                  "asthma": 0,
                  "immunosuppression": 0,
                  "hypertension": 0,
                  "cardiovascular": 0,
                  "obesity": 0,
                  "chronic_kidney_failure": 0,
                  "smoker": 0,
                  "icu": 0,
                  "isdeath": 0,
                  "_deepnote_index_column": 94952
                },
                {
                  "sex": 1,
                  "intubated": 0,
                  "pneumonia": 0,
                  "age": 60,
                  "diabetes": 0,
                  "copd": 0,
                  "asthma": 0,
                  "immunosuppression": 0,
                  "hypertension": 1,
                  "cardiovascular": 0,
                  "obesity": 0,
                  "chronic_kidney_failure": 0,
                  "smoker": 1,
                  "icu": 0,
                  "isdeath": 0,
                  "_deepnote_index_column": 94958
                },
                {
                  "sex": 0,
                  "intubated": 0,
                  "pneumonia": 0,
                  "age": 10,
                  "diabetes": 0,
                  "copd": 0,
                  "asthma": 0,
                  "immunosuppression": 0,
                  "hypertension": 0,
                  "cardiovascular": 0,
                  "obesity": 0,
                  "chronic_kidney_failure": 0,
                  "smoker": 0,
                  "icu": 0,
                  "isdeath": 0,
                  "_deepnote_index_column": 94973
                },
                {
                  "sex": 1,
                  "intubated": 0,
                  "pneumonia": 0,
                  "age": 61,
                  "diabetes": 1,
                  "copd": 0,
                  "asthma": 0,
                  "immunosuppression": 0,
                  "hypertension": 0,
                  "cardiovascular": 0,
                  "obesity": 0,
                  "chronic_kidney_failure": 0,
                  "smoker": 0,
                  "icu": 0,
                  "isdeath": 0,
                  "_deepnote_index_column": 95003
                },
                {
                  "sex": 0,
                  "intubated": 0,
                  "pneumonia": 0,
                  "age": 19,
                  "diabetes": 0,
                  "copd": 0,
                  "asthma": 0,
                  "immunosuppression": 0,
                  "hypertension": 0,
                  "cardiovascular": 0,
                  "obesity": 0,
                  "chronic_kidney_failure": 0,
                  "smoker": 0,
                  "icu": 0,
                  "isdeath": 0,
                  "_deepnote_index_column": 95053
                },
                {
                  "sex": 0,
                  "intubated": 0,
                  "pneumonia": 0,
                  "age": 72,
                  "diabetes": 0,
                  "copd": 0,
                  "asthma": 0,
                  "immunosuppression": 0,
                  "hypertension": 0,
                  "cardiovascular": 0,
                  "obesity": 1,
                  "chronic_kidney_failure": 0,
                  "smoker": 0,
                  "icu": 0,
                  "isdeath": 0,
                  "_deepnote_index_column": 95058
                },
                {
                  "sex": 1,
                  "intubated": 0,
                  "pneumonia": 0,
                  "age": 41,
                  "diabetes": 1,
                  "copd": 0,
                  "asthma": 0,
                  "immunosuppression": 0,
                  "hypertension": 0,
                  "cardiovascular": 0,
                  "obesity": 0,
                  "chronic_kidney_failure": 0,
                  "smoker": 0,
                  "icu": 0,
                  "isdeath": 0,
                  "_deepnote_index_column": 95074
                },
                {
                  "sex": 1,
                  "intubated": 0,
                  "pneumonia": 0,
                  "age": 76,
                  "diabetes": 1,
                  "copd": 0,
                  "asthma": 0,
                  "immunosuppression": 0,
                  "hypertension": 1,
                  "cardiovascular": 0,
                  "obesity": 1,
                  "chronic_kidney_failure": 0,
                  "smoker": 0,
                  "icu": 0,
                  "isdeath": 0,
                  "_deepnote_index_column": 95101
                },
                {
                  "sex": 0,
                  "intubated": 0,
                  "pneumonia": 0,
                  "age": 47,
                  "diabetes": 0,
                  "copd": 0,
                  "asthma": 0,
                  "immunosuppression": 0,
                  "hypertension": 0,
                  "cardiovascular": 0,
                  "obesity": 0,
                  "chronic_kidney_failure": 0,
                  "smoker": 0,
                  "icu": 0,
                  "isdeath": 0,
                  "_deepnote_index_column": 95110
                },
                {
                  "sex": 0,
                  "intubated": 1,
                  "pneumonia": 1,
                  "age": 48,
                  "diabetes": 0,
                  "copd": 0,
                  "asthma": 0,
                  "immunosuppression": 0,
                  "hypertension": 0,
                  "cardiovascular": 0,
                  "obesity": 0,
                  "chronic_kidney_failure": 0,
                  "smoker": 0,
                  "icu": 0,
                  "isdeath": 0,
                  "_deepnote_index_column": 95128
                },
                {
                  "sex": 1,
                  "intubated": 0,
                  "pneumonia": 0,
                  "age": 75,
                  "diabetes": 0,
                  "copd": 0,
                  "asthma": 0,
                  "immunosuppression": 0,
                  "hypertension": 1,
                  "cardiovascular": 0,
                  "obesity": 0,
                  "chronic_kidney_failure": 0,
                  "smoker": 0,
                  "icu": 0,
                  "isdeath": 0,
                  "_deepnote_index_column": 95174
                },
                {
                  "sex": 1,
                  "intubated": 0,
                  "pneumonia": 1,
                  "age": 66,
                  "diabetes": 1,
                  "copd": 0,
                  "asthma": 0,
                  "immunosuppression": 0,
                  "hypertension": 0,
                  "cardiovascular": 0,
                  "obesity": 0,
                  "chronic_kidney_failure": 0,
                  "smoker": 0,
                  "icu": 0,
                  "isdeath": 0,
                  "_deepnote_index_column": 95180
                },
                {
                  "sex": 0,
                  "intubated": 0,
                  "pneumonia": 0,
                  "age": 28,
                  "diabetes": 0,
                  "copd": 0,
                  "asthma": 0,
                  "immunosuppression": 0,
                  "hypertension": 0,
                  "cardiovascular": 0,
                  "obesity": 0,
                  "chronic_kidney_failure": 0,
                  "smoker": 0,
                  "icu": 0,
                  "isdeath": 0,
                  "_deepnote_index_column": 95326
                },
                {
                  "sex": 1,
                  "intubated": 0,
                  "pneumonia": 0,
                  "age": 47,
                  "diabetes": 1,
                  "copd": 0,
                  "asthma": 0,
                  "immunosuppression": 0,
                  "hypertension": 1,
                  "cardiovascular": 0,
                  "obesity": 0,
                  "chronic_kidney_failure": 0,
                  "smoker": 0,
                  "icu": 0,
                  "isdeath": 0,
                  "_deepnote_index_column": 95329
                },
                {
                  "sex": 1,
                  "intubated": 0,
                  "pneumonia": 1,
                  "age": 43,
                  "diabetes": 1,
                  "copd": 0,
                  "asthma": 0,
                  "immunosuppression": 0,
                  "hypertension": 1,
                  "cardiovascular": 0,
                  "obesity": 1,
                  "chronic_kidney_failure": 0,
                  "smoker": 0,
                  "icu": 0,
                  "isdeath": 0,
                  "_deepnote_index_column": 95402
                },
                {
                  "sex": 1,
                  "intubated": 0,
                  "pneumonia": 0,
                  "age": 18,
                  "diabetes": 0,
                  "copd": 0,
                  "asthma": 0,
                  "immunosuppression": 0,
                  "hypertension": 0,
                  "cardiovascular": 0,
                  "obesity": 1,
                  "chronic_kidney_failure": 0,
                  "smoker": 0,
                  "icu": 0,
                  "isdeath": 0,
                  "_deepnote_index_column": 95405
                },
                {
                  "sex": 1,
                  "intubated": 0,
                  "pneumonia": 1,
                  "age": 63,
                  "diabetes": 0,
                  "copd": 0,
                  "asthma": 0,
                  "immunosuppression": 0,
                  "hypertension": 0,
                  "cardiovascular": 0,
                  "obesity": 0,
                  "chronic_kidney_failure": 0,
                  "smoker": 1,
                  "icu": 0,
                  "isdeath": 0,
                  "_deepnote_index_column": 95406
                },
                {
                  "sex": 0,
                  "intubated": 0,
                  "pneumonia": 0,
                  "age": 56,
                  "diabetes": 0,
                  "copd": 0,
                  "asthma": 0,
                  "immunosuppression": 0,
                  "hypertension": 0,
                  "cardiovascular": 0,
                  "obesity": 0,
                  "chronic_kidney_failure": 0,
                  "smoker": 0,
                  "icu": 0,
                  "isdeath": 0,
                  "_deepnote_index_column": 95421
                },
                {
                  "sex": 0,
                  "intubated": 0,
                  "pneumonia": 0,
                  "age": 28,
                  "diabetes": 0,
                  "copd": 0,
                  "asthma": 0,
                  "immunosuppression": 0,
                  "hypertension": 0,
                  "cardiovascular": 0,
                  "obesity": 0,
                  "chronic_kidney_failure": 0,
                  "smoker": 0,
                  "icu": 0,
                  "isdeath": 0,
                  "_deepnote_index_column": 95423
                },
                {
                  "sex": 0,
                  "intubated": 0,
                  "pneumonia": 0,
                  "age": 61,
                  "diabetes": 0,
                  "copd": 0,
                  "asthma": 0,
                  "immunosuppression": 0,
                  "hypertension": 0,
                  "cardiovascular": 0,
                  "obesity": 0,
                  "chronic_kidney_failure": 0,
                  "smoker": 0,
                  "icu": 0,
                  "isdeath": 0,
                  "_deepnote_index_column": 95429
                },
                {
                  "sex": 1,
                  "intubated": 1,
                  "pneumonia": 1,
                  "age": 65,
                  "diabetes": 0,
                  "copd": 0,
                  "asthma": 0,
                  "immunosuppression": 0,
                  "hypertension": 1,
                  "cardiovascular": 0,
                  "obesity": 0,
                  "chronic_kidney_failure": 0,
                  "smoker": 0,
                  "icu": 1,
                  "isdeath": 0,
                  "_deepnote_index_column": 95574
                },
                {
                  "sex": 1,
                  "intubated": 1,
                  "pneumonia": 1,
                  "age": 58,
                  "diabetes": 1,
                  "copd": 0,
                  "asthma": 0,
                  "immunosuppression": 0,
                  "hypertension": 0,
                  "cardiovascular": 0,
                  "obesity": 0,
                  "chronic_kidney_failure": 0,
                  "smoker": 0,
                  "icu": 1,
                  "isdeath": 0,
                  "_deepnote_index_column": 95583
                },
                {
                  "sex": 1,
                  "intubated": 0,
                  "pneumonia": 0,
                  "age": 26,
                  "diabetes": 0,
                  "copd": 0,
                  "asthma": 0,
                  "immunosuppression": 0,
                  "hypertension": 0,
                  "cardiovascular": 0,
                  "obesity": 0,
                  "chronic_kidney_failure": 0,
                  "smoker": 0,
                  "icu": 0,
                  "isdeath": 0,
                  "_deepnote_index_column": 95585
                },
                {
                  "sex": 1,
                  "intubated": 0,
                  "pneumonia": 0,
                  "age": 54,
                  "diabetes": 0,
                  "copd": 0,
                  "asthma": 0,
                  "immunosuppression": 0,
                  "hypertension": 0,
                  "cardiovascular": 0,
                  "obesity": 0,
                  "chronic_kidney_failure": 0,
                  "smoker": 0,
                  "icu": 0,
                  "isdeath": 0,
                  "_deepnote_index_column": 95590
                },
                {
                  "sex": 1,
                  "intubated": 0,
                  "pneumonia": 1,
                  "age": 41,
                  "diabetes": 0,
                  "copd": 0,
                  "asthma": 0,
                  "immunosuppression": 0,
                  "hypertension": 0,
                  "cardiovascular": 0,
                  "obesity": 0,
                  "chronic_kidney_failure": 0,
                  "smoker": 0,
                  "icu": 0,
                  "isdeath": 0,
                  "_deepnote_index_column": 95594
                },
                {
                  "sex": 1,
                  "intubated": 0,
                  "pneumonia": 1,
                  "age": 66,
                  "diabetes": 0,
                  "copd": 0,
                  "asthma": 0,
                  "immunosuppression": 0,
                  "hypertension": 0,
                  "cardiovascular": 0,
                  "obesity": 0,
                  "chronic_kidney_failure": 0,
                  "smoker": 0,
                  "icu": 1,
                  "isdeath": 0,
                  "_deepnote_index_column": 95599
                },
                {
                  "sex": 0,
                  "intubated": 0,
                  "pneumonia": 0,
                  "age": 60,
                  "diabetes": 0,
                  "copd": 0,
                  "asthma": 0,
                  "immunosuppression": 0,
                  "hypertension": 1,
                  "cardiovascular": 0,
                  "obesity": 0,
                  "chronic_kidney_failure": 0,
                  "smoker": 0,
                  "icu": 0,
                  "isdeath": 0,
                  "_deepnote_index_column": 95645
                },
                {
                  "sex": 1,
                  "intubated": 0,
                  "pneumonia": 0,
                  "age": 56,
                  "diabetes": 1,
                  "copd": 0,
                  "asthma": 0,
                  "immunosuppression": 0,
                  "hypertension": 1,
                  "cardiovascular": 0,
                  "obesity": 0,
                  "chronic_kidney_failure": 0,
                  "smoker": 0,
                  "icu": 0,
                  "isdeath": 0,
                  "_deepnote_index_column": 95657
                },
                {
                  "sex": 0,
                  "intubated": 0,
                  "pneumonia": 0,
                  "age": 48,
                  "diabetes": 0,
                  "copd": 0,
                  "asthma": 0,
                  "immunosuppression": 0,
                  "hypertension": 0,
                  "cardiovascular": 0,
                  "obesity": 0,
                  "chronic_kidney_failure": 0,
                  "smoker": 0,
                  "icu": 0,
                  "isdeath": 0,
                  "_deepnote_index_column": 95693
                },
                {
                  "sex": 1,
                  "intubated": 1,
                  "pneumonia": 1,
                  "age": 62,
                  "diabetes": 0,
                  "copd": 0,
                  "asthma": 0,
                  "immunosuppression": 0,
                  "hypertension": 0,
                  "cardiovascular": 0,
                  "obesity": 1,
                  "chronic_kidney_failure": 0,
                  "smoker": 0,
                  "icu": 1,
                  "isdeath": 0,
                  "_deepnote_index_column": 95779
                }
              ]
            },
            "text/plain": "       sex  intubated  pneumonia  age  diabetes  copd  asthma  \\\n0        1          0          0   42         0     0       1   \n1        0          0          0   51         0     0       0   \n2        1          0          0   51         1     0       0   \n3        1          0          0   57         1     0       0   \n9        1          0          0   55         1     0       1   \n...    ...        ...        ...  ...       ...   ...     ...   \n95599    1          0          1   66         0     0       0   \n95645    0          0          0   60         0     0       0   \n95657    1          0          0   56         1     0       0   \n95693    0          0          0   48         0     0       0   \n95779    1          1          1   62         0     0       0   \n\n       immunosuppression  hypertension  cardiovascular  obesity  \\\n0                      0             0               0        0   \n1                      0             0               0        0   \n2                      0             1               0        1   \n3                      0             0               0        0   \n9                      0             1               0        1   \n...                  ...           ...             ...      ...   \n95599                  0             0               0        0   \n95645                  0             1               0        0   \n95657                  0             1               0        0   \n95693                  0             0               0        0   \n95779                  0             0               0        1   \n\n       chronic_kidney_failure  smoker  icu  isdeath  \n0                           0       0    0        0  \n1                           0       0    0        0  \n2                           0       0    0        0  \n3                           0       0    0        1  \n9                           0       0    0        0  \n...                       ...     ...  ...      ...  \n95599                       0       0    1        0  \n95645                       0       0    0        0  \n95657                       0       0    0        0  \n95693                       0       0    0        0  \n95779                       0       0    1        0  \n\n[23471 rows x 15 columns]",
            "text/html": "<div>\n<style scoped>\n    .dataframe tbody tr th:only-of-type {\n        vertical-align: middle;\n    }\n\n    .dataframe tbody tr th {\n        vertical-align: top;\n    }\n\n    .dataframe thead th {\n        text-align: right;\n    }\n</style>\n<table border=\"1\" class=\"dataframe\">\n  <thead>\n    <tr style=\"text-align: right;\">\n      <th></th>\n      <th>sex</th>\n      <th>intubated</th>\n      <th>pneumonia</th>\n      <th>age</th>\n      <th>diabetes</th>\n      <th>copd</th>\n      <th>asthma</th>\n      <th>immunosuppression</th>\n      <th>hypertension</th>\n      <th>cardiovascular</th>\n      <th>obesity</th>\n      <th>chronic_kidney_failure</th>\n      <th>smoker</th>\n      <th>icu</th>\n      <th>isdeath</th>\n    </tr>\n  </thead>\n  <tbody>\n    <tr>\n      <th>0</th>\n      <td>1</td>\n      <td>0</td>\n      <td>0</td>\n      <td>42</td>\n      <td>0</td>\n      <td>0</td>\n      <td>1</td>\n      <td>0</td>\n      <td>0</td>\n      <td>0</td>\n      <td>0</td>\n      <td>0</td>\n      <td>0</td>\n      <td>0</td>\n      <td>0</td>\n    </tr>\n    <tr>\n      <th>1</th>\n      <td>0</td>\n      <td>0</td>\n      <td>0</td>\n      <td>51</td>\n      <td>0</td>\n      <td>0</td>\n      <td>0</td>\n      <td>0</td>\n      <td>0</td>\n      <td>0</td>\n      <td>0</td>\n      <td>0</td>\n      <td>0</td>\n      <td>0</td>\n      <td>0</td>\n    </tr>\n    <tr>\n      <th>2</th>\n      <td>1</td>\n      <td>0</td>\n      <td>0</td>\n      <td>51</td>\n      <td>1</td>\n      <td>0</td>\n      <td>0</td>\n      <td>0</td>\n      <td>1</td>\n      <td>0</td>\n      <td>1</td>\n      <td>0</td>\n      <td>0</td>\n      <td>0</td>\n      <td>0</td>\n    </tr>\n    <tr>\n      <th>3</th>\n      <td>1</td>\n      <td>0</td>\n      <td>0</td>\n      <td>57</td>\n      <td>1</td>\n      <td>0</td>\n      <td>0</td>\n      <td>0</td>\n      <td>0</td>\n      <td>0</td>\n      <td>0</td>\n      <td>0</td>\n      <td>0</td>\n      <td>0</td>\n      <td>1</td>\n    </tr>\n    <tr>\n      <th>9</th>\n      <td>1</td>\n      <td>0</td>\n      <td>0</td>\n      <td>55</td>\n      <td>1</td>\n      <td>0</td>\n      <td>1</td>\n      <td>0</td>\n      <td>1</td>\n      <td>0</td>\n      <td>1</td>\n      <td>0</td>\n      <td>0</td>\n      <td>0</td>\n      <td>0</td>\n    </tr>\n    <tr>\n      <th>...</th>\n      <td>...</td>\n      <td>...</td>\n      <td>...</td>\n      <td>...</td>\n      <td>...</td>\n      <td>...</td>\n      <td>...</td>\n      <td>...</td>\n      <td>...</td>\n      <td>...</td>\n      <td>...</td>\n      <td>...</td>\n      <td>...</td>\n      <td>...</td>\n      <td>...</td>\n    </tr>\n    <tr>\n      <th>95599</th>\n      <td>1</td>\n      <td>0</td>\n      <td>1</td>\n      <td>66</td>\n      <td>0</td>\n      <td>0</td>\n      <td>0</td>\n      <td>0</td>\n      <td>0</td>\n      <td>0</td>\n      <td>0</td>\n      <td>0</td>\n      <td>0</td>\n      <td>1</td>\n      <td>0</td>\n    </tr>\n    <tr>\n      <th>95645</th>\n      <td>0</td>\n      <td>0</td>\n      <td>0</td>\n      <td>60</td>\n      <td>0</td>\n      <td>0</td>\n      <td>0</td>\n      <td>0</td>\n      <td>1</td>\n      <td>0</td>\n      <td>0</td>\n      <td>0</td>\n      <td>0</td>\n      <td>0</td>\n      <td>0</td>\n    </tr>\n    <tr>\n      <th>95657</th>\n      <td>1</td>\n      <td>0</td>\n      <td>0</td>\n      <td>56</td>\n      <td>1</td>\n      <td>0</td>\n      <td>0</td>\n      <td>0</td>\n      <td>1</td>\n      <td>0</td>\n      <td>0</td>\n      <td>0</td>\n      <td>0</td>\n      <td>0</td>\n      <td>0</td>\n    </tr>\n    <tr>\n      <th>95693</th>\n      <td>0</td>\n      <td>0</td>\n      <td>0</td>\n      <td>48</td>\n      <td>0</td>\n      <td>0</td>\n      <td>0</td>\n      <td>0</td>\n      <td>0</td>\n      <td>0</td>\n      <td>0</td>\n      <td>0</td>\n      <td>0</td>\n      <td>0</td>\n      <td>0</td>\n    </tr>\n    <tr>\n      <th>95779</th>\n      <td>1</td>\n      <td>1</td>\n      <td>1</td>\n      <td>62</td>\n      <td>0</td>\n      <td>0</td>\n      <td>0</td>\n      <td>0</td>\n      <td>0</td>\n      <td>0</td>\n      <td>1</td>\n      <td>0</td>\n      <td>0</td>\n      <td>1</td>\n      <td>0</td>\n    </tr>\n  </tbody>\n</table>\n<p>23471 rows × 15 columns</p>\n</div>"
          },
          "metadata": {}
        }
      ],
      "execution_count": null
    },
    {
      "cell_type": "code",
      "metadata": {
        "tags": [],
        "cell_id": "00004-55a57ef9-020c-47b3-971b-bea141e77950",
        "output_cleared": false,
        "source_hash": "6c29bd9b",
        "execution_millis": 86,
        "deepnote_to_be_reexecuted": false,
        "execution_start": 1618902851903,
        "deepnote_cell_type": "code"
      },
      "source": "#costruiamo la popolazione del training e del test (PER NICO:ho cambiato dataset per includere l'eta)\nx = dt1.drop(['isdeath'],axis=1)\ny = dt1['isdeath']\n\nfrom sklearn.model_selection import train_test_split\nxtrain, xtest,ytrain,ytest = train_test_split(x, y, test_size = 0.20, random_state = 50)",
      "outputs": [],
      "execution_count": null
    },
    {
      "cell_type": "code",
      "metadata": {
        "tags": [],
        "cell_id": "00031-1b4c60f6-aeac-4801-a01e-cd2ab8bc2fdc",
        "output_cleared": false,
        "source_hash": "784aa182",
        "execution_millis": 15,
        "deepnote_to_be_reexecuted": false,
        "execution_start": 1618902851992,
        "deepnote_cell_type": "code"
      },
      "source": "xtrain=xtrain.reset_index(drop=True)\nytrain=ytrain.reset_index(drop=True)\nytrain.shape[0]",
      "outputs": [
        {
          "output_type": "execute_result",
          "execution_count": 30,
          "data": {
            "text/plain": "18776"
          },
          "metadata": {}
        }
      ],
      "execution_count": null
    },
    {
      "cell_type": "code",
      "metadata": {
        "tags": [],
        "cell_id": "00031-6ba298cc-48c0-4567-8f97-69599e075464",
        "output_cleared": false,
        "source_hash": "c7da224b",
        "execution_millis": 69,
        "deepnote_to_be_reexecuted": false,
        "execution_start": 1618902852010,
        "deepnote_cell_type": "code"
      },
      "source": "#balancing the dataset, eliminando un po' di variabili con  target 0, in modo da avere uniforme distribuzione tra le variabili target \n#creaiamo un loop che elimini tutte le righe del dataset, che superando il numero di target1\n\nnum_one_target= int(np.sum(ytrain))\nzero_target_count=0\nindicies_toremove=[] #iniziamo il loop\n\nfor i in range (ytrain.shape[0]): \n   if ytrain[i]== 0:\n       zero_target_count+= 1\n       if zero_target_count>num_one_target:\n          indicies_toremove.append(i)\n\nindicies_toremove=np.array(indicies_toremove)",
      "outputs": [],
      "execution_count": null
    },
    {
      "cell_type": "code",
      "metadata": {
        "tags": [],
        "cell_id": "00033-80588cd7-54c6-42b6-8062-db678d423f4e",
        "output_cleared": false,
        "source_hash": "40a685c0",
        "execution_millis": 3,
        "deepnote_to_be_reexecuted": false,
        "execution_start": 1618902852085,
        "deepnote_cell_type": "code"
      },
      "source": "xtrain=xtrain.drop(indicies_toremove,axis=0)\nytrain=ytrain.drop(indicies_toremove, axis=0)",
      "outputs": [],
      "execution_count": null
    },
    {
      "cell_type": "code",
      "metadata": {
        "tags": [],
        "cell_id": "00033-7b58b912-a551-4f9f-ba79-ef2dd305fb42",
        "output_cleared": false,
        "source_hash": "b623e53d",
        "execution_millis": 2,
        "deepnote_to_be_reexecuted": false,
        "execution_start": 1618902852089,
        "deepnote_cell_type": "code"
      },
      "source": "",
      "outputs": [],
      "execution_count": null
    },
    {
      "cell_type": "code",
      "metadata": {
        "tags": [],
        "cell_id": "00034-e320b6bc-0007-49aa-851f-8612525e4500",
        "output_cleared": false,
        "source_hash": "a20863bf",
        "execution_millis": 8,
        "deepnote_to_be_reexecuted": false,
        "execution_start": 1618902852135,
        "deepnote_cell_type": "code"
      },
      "source": "ytrain\n",
      "outputs": [
        {
          "output_type": "execute_result",
          "execution_count": 33,
          "data": {
            "text/plain": "0        0.0\n1        0.0\n2        1.0\n3        0.0\n4        0.0\n        ... \n18747    1.0\n18751    1.0\n18763    1.0\n18769    1.0\n18773    1.0\nName: isdeath, Length: 3490, dtype: float64"
          },
          "metadata": {}
        }
      ],
      "execution_count": null
    },
    {
      "cell_type": "code",
      "metadata": {
        "tags": [],
        "cell_id": "00032-24739fe1-e669-4467-ad93-73abd30220ba",
        "output_cleared": false,
        "source_hash": "bdacea7c",
        "execution_millis": 21,
        "deepnote_to_be_reexecuted": false,
        "execution_start": 1618902852137,
        "deepnote_cell_type": "code"
      },
      "source": "xtrain",
      "outputs": [
        {
          "output_type": "execute_result",
          "execution_count": 34,
          "data": {
            "application/vnd.deepnote.dataframe.v2+json": {
              "row_count": 3490,
              "column_count": 14,
              "columns": [
                {
                  "name": "sex",
                  "dtype": "int64",
                  "stats": {
                    "unique_count": 2,
                    "nan_count": 0,
                    "min": "0",
                    "max": "1",
                    "histogram": [
                      {
                        "bin_start": 0,
                        "bin_end": 0.1,
                        "count": 1307
                      },
                      {
                        "bin_start": 0.1,
                        "bin_end": 0.2,
                        "count": 0
                      },
                      {
                        "bin_start": 0.2,
                        "bin_end": 0.30000000000000004,
                        "count": 0
                      },
                      {
                        "bin_start": 0.30000000000000004,
                        "bin_end": 0.4,
                        "count": 0
                      },
                      {
                        "bin_start": 0.4,
                        "bin_end": 0.5,
                        "count": 0
                      },
                      {
                        "bin_start": 0.5,
                        "bin_end": 0.6000000000000001,
                        "count": 0
                      },
                      {
                        "bin_start": 0.6000000000000001,
                        "bin_end": 0.7000000000000001,
                        "count": 0
                      },
                      {
                        "bin_start": 0.7000000000000001,
                        "bin_end": 0.8,
                        "count": 0
                      },
                      {
                        "bin_start": 0.8,
                        "bin_end": 0.9,
                        "count": 0
                      },
                      {
                        "bin_start": 0.9,
                        "bin_end": 1,
                        "count": 2183
                      }
                    ]
                  }
                },
                {
                  "name": "intubated",
                  "dtype": "int64",
                  "stats": {
                    "unique_count": 2,
                    "nan_count": 0,
                    "min": "0",
                    "max": "1",
                    "histogram": [
                      {
                        "bin_start": 0,
                        "bin_end": 0.1,
                        "count": 3023
                      },
                      {
                        "bin_start": 0.1,
                        "bin_end": 0.2,
                        "count": 0
                      },
                      {
                        "bin_start": 0.2,
                        "bin_end": 0.30000000000000004,
                        "count": 0
                      },
                      {
                        "bin_start": 0.30000000000000004,
                        "bin_end": 0.4,
                        "count": 0
                      },
                      {
                        "bin_start": 0.4,
                        "bin_end": 0.5,
                        "count": 0
                      },
                      {
                        "bin_start": 0.5,
                        "bin_end": 0.6000000000000001,
                        "count": 0
                      },
                      {
                        "bin_start": 0.6000000000000001,
                        "bin_end": 0.7000000000000001,
                        "count": 0
                      },
                      {
                        "bin_start": 0.7000000000000001,
                        "bin_end": 0.8,
                        "count": 0
                      },
                      {
                        "bin_start": 0.8,
                        "bin_end": 0.9,
                        "count": 0
                      },
                      {
                        "bin_start": 0.9,
                        "bin_end": 1,
                        "count": 467
                      }
                    ]
                  }
                },
                {
                  "name": "pneumonia",
                  "dtype": "int64",
                  "stats": {
                    "unique_count": 2,
                    "nan_count": 0,
                    "min": "0",
                    "max": "1",
                    "histogram": [
                      {
                        "bin_start": 0,
                        "bin_end": 0.1,
                        "count": 1754
                      },
                      {
                        "bin_start": 0.1,
                        "bin_end": 0.2,
                        "count": 0
                      },
                      {
                        "bin_start": 0.2,
                        "bin_end": 0.30000000000000004,
                        "count": 0
                      },
                      {
                        "bin_start": 0.30000000000000004,
                        "bin_end": 0.4,
                        "count": 0
                      },
                      {
                        "bin_start": 0.4,
                        "bin_end": 0.5,
                        "count": 0
                      },
                      {
                        "bin_start": 0.5,
                        "bin_end": 0.6000000000000001,
                        "count": 0
                      },
                      {
                        "bin_start": 0.6000000000000001,
                        "bin_end": 0.7000000000000001,
                        "count": 0
                      },
                      {
                        "bin_start": 0.7000000000000001,
                        "bin_end": 0.8,
                        "count": 0
                      },
                      {
                        "bin_start": 0.8,
                        "bin_end": 0.9,
                        "count": 0
                      },
                      {
                        "bin_start": 0.9,
                        "bin_end": 1,
                        "count": 1736
                      }
                    ]
                  }
                },
                {
                  "name": "age",
                  "dtype": "int64",
                  "stats": {
                    "unique_count": 96,
                    "nan_count": 0,
                    "min": "0",
                    "max": "100",
                    "histogram": [
                      {
                        "bin_start": 0,
                        "bin_end": 10,
                        "count": 22
                      },
                      {
                        "bin_start": 10,
                        "bin_end": 20,
                        "count": 30
                      },
                      {
                        "bin_start": 20,
                        "bin_end": 30,
                        "count": 255
                      },
                      {
                        "bin_start": 30,
                        "bin_end": 40,
                        "count": 516
                      },
                      {
                        "bin_start": 40,
                        "bin_end": 50,
                        "count": 733
                      },
                      {
                        "bin_start": 50,
                        "bin_end": 60,
                        "count": 797
                      },
                      {
                        "bin_start": 60,
                        "bin_end": 70,
                        "count": 634
                      },
                      {
                        "bin_start": 70,
                        "bin_end": 80,
                        "count": 342
                      },
                      {
                        "bin_start": 80,
                        "bin_end": 90,
                        "count": 139
                      },
                      {
                        "bin_start": 90,
                        "bin_end": 100,
                        "count": 22
                      }
                    ]
                  }
                },
                {
                  "name": "diabetes",
                  "dtype": "int64",
                  "stats": {
                    "unique_count": 2,
                    "nan_count": 0,
                    "min": "0",
                    "max": "1",
                    "histogram": [
                      {
                        "bin_start": 0,
                        "bin_end": 0.1,
                        "count": 2479
                      },
                      {
                        "bin_start": 0.1,
                        "bin_end": 0.2,
                        "count": 0
                      },
                      {
                        "bin_start": 0.2,
                        "bin_end": 0.30000000000000004,
                        "count": 0
                      },
                      {
                        "bin_start": 0.30000000000000004,
                        "bin_end": 0.4,
                        "count": 0
                      },
                      {
                        "bin_start": 0.4,
                        "bin_end": 0.5,
                        "count": 0
                      },
                      {
                        "bin_start": 0.5,
                        "bin_end": 0.6000000000000001,
                        "count": 0
                      },
                      {
                        "bin_start": 0.6000000000000001,
                        "bin_end": 0.7000000000000001,
                        "count": 0
                      },
                      {
                        "bin_start": 0.7000000000000001,
                        "bin_end": 0.8,
                        "count": 0
                      },
                      {
                        "bin_start": 0.8,
                        "bin_end": 0.9,
                        "count": 0
                      },
                      {
                        "bin_start": 0.9,
                        "bin_end": 1,
                        "count": 1011
                      }
                    ]
                  }
                },
                {
                  "name": "copd",
                  "dtype": "int64",
                  "stats": {
                    "unique_count": 2,
                    "nan_count": 0,
                    "min": "0",
                    "max": "1",
                    "histogram": [
                      {
                        "bin_start": 0,
                        "bin_end": 0.1,
                        "count": 3335
                      },
                      {
                        "bin_start": 0.1,
                        "bin_end": 0.2,
                        "count": 0
                      },
                      {
                        "bin_start": 0.2,
                        "bin_end": 0.30000000000000004,
                        "count": 0
                      },
                      {
                        "bin_start": 0.30000000000000004,
                        "bin_end": 0.4,
                        "count": 0
                      },
                      {
                        "bin_start": 0.4,
                        "bin_end": 0.5,
                        "count": 0
                      },
                      {
                        "bin_start": 0.5,
                        "bin_end": 0.6000000000000001,
                        "count": 0
                      },
                      {
                        "bin_start": 0.6000000000000001,
                        "bin_end": 0.7000000000000001,
                        "count": 0
                      },
                      {
                        "bin_start": 0.7000000000000001,
                        "bin_end": 0.8,
                        "count": 0
                      },
                      {
                        "bin_start": 0.8,
                        "bin_end": 0.9,
                        "count": 0
                      },
                      {
                        "bin_start": 0.9,
                        "bin_end": 1,
                        "count": 155
                      }
                    ]
                  }
                },
                {
                  "name": "asthma",
                  "dtype": "int64",
                  "stats": {
                    "unique_count": 2,
                    "nan_count": 0,
                    "min": "0",
                    "max": "1",
                    "histogram": [
                      {
                        "bin_start": 0,
                        "bin_end": 0.1,
                        "count": 3373
                      },
                      {
                        "bin_start": 0.1,
                        "bin_end": 0.2,
                        "count": 0
                      },
                      {
                        "bin_start": 0.2,
                        "bin_end": 0.30000000000000004,
                        "count": 0
                      },
                      {
                        "bin_start": 0.30000000000000004,
                        "bin_end": 0.4,
                        "count": 0
                      },
                      {
                        "bin_start": 0.4,
                        "bin_end": 0.5,
                        "count": 0
                      },
                      {
                        "bin_start": 0.5,
                        "bin_end": 0.6000000000000001,
                        "count": 0
                      },
                      {
                        "bin_start": 0.6000000000000001,
                        "bin_end": 0.7000000000000001,
                        "count": 0
                      },
                      {
                        "bin_start": 0.7000000000000001,
                        "bin_end": 0.8,
                        "count": 0
                      },
                      {
                        "bin_start": 0.8,
                        "bin_end": 0.9,
                        "count": 0
                      },
                      {
                        "bin_start": 0.9,
                        "bin_end": 1,
                        "count": 117
                      }
                    ]
                  }
                },
                {
                  "name": "immunosuppression",
                  "dtype": "int64",
                  "stats": {
                    "unique_count": 2,
                    "nan_count": 0,
                    "min": "0",
                    "max": "1",
                    "histogram": [
                      {
                        "bin_start": 0,
                        "bin_end": 0.1,
                        "count": 3396
                      },
                      {
                        "bin_start": 0.1,
                        "bin_end": 0.2,
                        "count": 0
                      },
                      {
                        "bin_start": 0.2,
                        "bin_end": 0.30000000000000004,
                        "count": 0
                      },
                      {
                        "bin_start": 0.30000000000000004,
                        "bin_end": 0.4,
                        "count": 0
                      },
                      {
                        "bin_start": 0.4,
                        "bin_end": 0.5,
                        "count": 0
                      },
                      {
                        "bin_start": 0.5,
                        "bin_end": 0.6000000000000001,
                        "count": 0
                      },
                      {
                        "bin_start": 0.6000000000000001,
                        "bin_end": 0.7000000000000001,
                        "count": 0
                      },
                      {
                        "bin_start": 0.7000000000000001,
                        "bin_end": 0.8,
                        "count": 0
                      },
                      {
                        "bin_start": 0.8,
                        "bin_end": 0.9,
                        "count": 0
                      },
                      {
                        "bin_start": 0.9,
                        "bin_end": 1,
                        "count": 94
                      }
                    ]
                  }
                },
                {
                  "name": "hypertension",
                  "dtype": "int64",
                  "stats": {
                    "unique_count": 2,
                    "nan_count": 0,
                    "min": "0",
                    "max": "1",
                    "histogram": [
                      {
                        "bin_start": 0,
                        "bin_end": 0.1,
                        "count": 2407
                      },
                      {
                        "bin_start": 0.1,
                        "bin_end": 0.2,
                        "count": 0
                      },
                      {
                        "bin_start": 0.2,
                        "bin_end": 0.30000000000000004,
                        "count": 0
                      },
                      {
                        "bin_start": 0.30000000000000004,
                        "bin_end": 0.4,
                        "count": 0
                      },
                      {
                        "bin_start": 0.4,
                        "bin_end": 0.5,
                        "count": 0
                      },
                      {
                        "bin_start": 0.5,
                        "bin_end": 0.6000000000000001,
                        "count": 0
                      },
                      {
                        "bin_start": 0.6000000000000001,
                        "bin_end": 0.7000000000000001,
                        "count": 0
                      },
                      {
                        "bin_start": 0.7000000000000001,
                        "bin_end": 0.8,
                        "count": 0
                      },
                      {
                        "bin_start": 0.8,
                        "bin_end": 0.9,
                        "count": 0
                      },
                      {
                        "bin_start": 0.9,
                        "bin_end": 1,
                        "count": 1083
                      }
                    ]
                  }
                },
                {
                  "name": "cardiovascular",
                  "dtype": "int64",
                  "stats": {
                    "unique_count": 2,
                    "nan_count": 0,
                    "min": "0",
                    "max": "1",
                    "histogram": [
                      {
                        "bin_start": 0,
                        "bin_end": 0.1,
                        "count": 3328
                      },
                      {
                        "bin_start": 0.1,
                        "bin_end": 0.2,
                        "count": 0
                      },
                      {
                        "bin_start": 0.2,
                        "bin_end": 0.30000000000000004,
                        "count": 0
                      },
                      {
                        "bin_start": 0.30000000000000004,
                        "bin_end": 0.4,
                        "count": 0
                      },
                      {
                        "bin_start": 0.4,
                        "bin_end": 0.5,
                        "count": 0
                      },
                      {
                        "bin_start": 0.5,
                        "bin_end": 0.6000000000000001,
                        "count": 0
                      },
                      {
                        "bin_start": 0.6000000000000001,
                        "bin_end": 0.7000000000000001,
                        "count": 0
                      },
                      {
                        "bin_start": 0.7000000000000001,
                        "bin_end": 0.8,
                        "count": 0
                      },
                      {
                        "bin_start": 0.8,
                        "bin_end": 0.9,
                        "count": 0
                      },
                      {
                        "bin_start": 0.9,
                        "bin_end": 1,
                        "count": 162
                      }
                    ]
                  }
                },
                {
                  "name": "obesity",
                  "dtype": "int64",
                  "stats": {
                    "unique_count": 2,
                    "nan_count": 0,
                    "min": "0",
                    "max": "1",
                    "histogram": [
                      {
                        "bin_start": 0,
                        "bin_end": 0.1,
                        "count": 2617
                      },
                      {
                        "bin_start": 0.1,
                        "bin_end": 0.2,
                        "count": 0
                      },
                      {
                        "bin_start": 0.2,
                        "bin_end": 0.30000000000000004,
                        "count": 0
                      },
                      {
                        "bin_start": 0.30000000000000004,
                        "bin_end": 0.4,
                        "count": 0
                      },
                      {
                        "bin_start": 0.4,
                        "bin_end": 0.5,
                        "count": 0
                      },
                      {
                        "bin_start": 0.5,
                        "bin_end": 0.6000000000000001,
                        "count": 0
                      },
                      {
                        "bin_start": 0.6000000000000001,
                        "bin_end": 0.7000000000000001,
                        "count": 0
                      },
                      {
                        "bin_start": 0.7000000000000001,
                        "bin_end": 0.8,
                        "count": 0
                      },
                      {
                        "bin_start": 0.8,
                        "bin_end": 0.9,
                        "count": 0
                      },
                      {
                        "bin_start": 0.9,
                        "bin_end": 1,
                        "count": 873
                      }
                    ]
                  }
                },
                {
                  "name": "chronic_kidney_failure",
                  "dtype": "int64",
                  "stats": {
                    "unique_count": 2,
                    "nan_count": 0,
                    "min": "0",
                    "max": "1",
                    "histogram": [
                      {
                        "bin_start": 0,
                        "bin_end": 0.1,
                        "count": 3346
                      },
                      {
                        "bin_start": 0.1,
                        "bin_end": 0.2,
                        "count": 0
                      },
                      {
                        "bin_start": 0.2,
                        "bin_end": 0.30000000000000004,
                        "count": 0
                      },
                      {
                        "bin_start": 0.30000000000000004,
                        "bin_end": 0.4,
                        "count": 0
                      },
                      {
                        "bin_start": 0.4,
                        "bin_end": 0.5,
                        "count": 0
                      },
                      {
                        "bin_start": 0.5,
                        "bin_end": 0.6000000000000001,
                        "count": 0
                      },
                      {
                        "bin_start": 0.6000000000000001,
                        "bin_end": 0.7000000000000001,
                        "count": 0
                      },
                      {
                        "bin_start": 0.7000000000000001,
                        "bin_end": 0.8,
                        "count": 0
                      },
                      {
                        "bin_start": 0.8,
                        "bin_end": 0.9,
                        "count": 0
                      },
                      {
                        "bin_start": 0.9,
                        "bin_end": 1,
                        "count": 144
                      }
                    ]
                  }
                },
                {
                  "name": "smoker",
                  "dtype": "int64",
                  "stats": {
                    "unique_count": 2,
                    "nan_count": 0,
                    "min": "0",
                    "max": "1",
                    "histogram": [
                      {
                        "bin_start": 0,
                        "bin_end": 0.1,
                        "count": 3174
                      },
                      {
                        "bin_start": 0.1,
                        "bin_end": 0.2,
                        "count": 0
                      },
                      {
                        "bin_start": 0.2,
                        "bin_end": 0.30000000000000004,
                        "count": 0
                      },
                      {
                        "bin_start": 0.30000000000000004,
                        "bin_end": 0.4,
                        "count": 0
                      },
                      {
                        "bin_start": 0.4,
                        "bin_end": 0.5,
                        "count": 0
                      },
                      {
                        "bin_start": 0.5,
                        "bin_end": 0.6000000000000001,
                        "count": 0
                      },
                      {
                        "bin_start": 0.6000000000000001,
                        "bin_end": 0.7000000000000001,
                        "count": 0
                      },
                      {
                        "bin_start": 0.7000000000000001,
                        "bin_end": 0.8,
                        "count": 0
                      },
                      {
                        "bin_start": 0.8,
                        "bin_end": 0.9,
                        "count": 0
                      },
                      {
                        "bin_start": 0.9,
                        "bin_end": 1,
                        "count": 316
                      }
                    ]
                  }
                },
                {
                  "name": "icu",
                  "dtype": "int64",
                  "stats": {
                    "unique_count": 2,
                    "nan_count": 0,
                    "min": "0",
                    "max": "1",
                    "histogram": [
                      {
                        "bin_start": 0,
                        "bin_end": 0.1,
                        "count": 3113
                      },
                      {
                        "bin_start": 0.1,
                        "bin_end": 0.2,
                        "count": 0
                      },
                      {
                        "bin_start": 0.2,
                        "bin_end": 0.30000000000000004,
                        "count": 0
                      },
                      {
                        "bin_start": 0.30000000000000004,
                        "bin_end": 0.4,
                        "count": 0
                      },
                      {
                        "bin_start": 0.4,
                        "bin_end": 0.5,
                        "count": 0
                      },
                      {
                        "bin_start": 0.5,
                        "bin_end": 0.6000000000000001,
                        "count": 0
                      },
                      {
                        "bin_start": 0.6000000000000001,
                        "bin_end": 0.7000000000000001,
                        "count": 0
                      },
                      {
                        "bin_start": 0.7000000000000001,
                        "bin_end": 0.8,
                        "count": 0
                      },
                      {
                        "bin_start": 0.8,
                        "bin_end": 0.9,
                        "count": 0
                      },
                      {
                        "bin_start": 0.9,
                        "bin_end": 1,
                        "count": 377
                      }
                    ]
                  }
                },
                {
                  "name": "_deepnote_index_column",
                  "dtype": "int64"
                }
              ],
              "rows_top": [
                {
                  "sex": 0,
                  "intubated": 0,
                  "pneumonia": 0,
                  "age": 39,
                  "diabetes": 0,
                  "copd": 0,
                  "asthma": 0,
                  "immunosuppression": 0,
                  "hypertension": 0,
                  "cardiovascular": 0,
                  "obesity": 0,
                  "chronic_kidney_failure": 0,
                  "smoker": 0,
                  "icu": 0,
                  "_deepnote_index_column": 0
                },
                {
                  "sex": 0,
                  "intubated": 0,
                  "pneumonia": 1,
                  "age": 77,
                  "diabetes": 0,
                  "copd": 0,
                  "asthma": 0,
                  "immunosuppression": 1,
                  "hypertension": 0,
                  "cardiovascular": 0,
                  "obesity": 0,
                  "chronic_kidney_failure": 0,
                  "smoker": 0,
                  "icu": 1,
                  "_deepnote_index_column": 1
                },
                {
                  "sex": 1,
                  "intubated": 0,
                  "pneumonia": 1,
                  "age": 47,
                  "diabetes": 0,
                  "copd": 0,
                  "asthma": 0,
                  "immunosuppression": 0,
                  "hypertension": 1,
                  "cardiovascular": 0,
                  "obesity": 0,
                  "chronic_kidney_failure": 1,
                  "smoker": 1,
                  "icu": 0,
                  "_deepnote_index_column": 2
                },
                {
                  "sex": 1,
                  "intubated": 1,
                  "pneumonia": 1,
                  "age": 34,
                  "diabetes": 0,
                  "copd": 0,
                  "asthma": 0,
                  "immunosuppression": 0,
                  "hypertension": 0,
                  "cardiovascular": 0,
                  "obesity": 0,
                  "chronic_kidney_failure": 0,
                  "smoker": 0,
                  "icu": 0,
                  "_deepnote_index_column": 3
                },
                {
                  "sex": 0,
                  "intubated": 0,
                  "pneumonia": 0,
                  "age": 69,
                  "diabetes": 0,
                  "copd": 0,
                  "asthma": 1,
                  "immunosuppression": 0,
                  "hypertension": 0,
                  "cardiovascular": 0,
                  "obesity": 1,
                  "chronic_kidney_failure": 0,
                  "smoker": 1,
                  "icu": 0,
                  "_deepnote_index_column": 4
                },
                {
                  "sex": 1,
                  "intubated": 0,
                  "pneumonia": 0,
                  "age": 38,
                  "diabetes": 0,
                  "copd": 0,
                  "asthma": 0,
                  "immunosuppression": 0,
                  "hypertension": 0,
                  "cardiovascular": 0,
                  "obesity": 0,
                  "chronic_kidney_failure": 0,
                  "smoker": 0,
                  "icu": 0,
                  "_deepnote_index_column": 5
                },
                {
                  "sex": 1,
                  "intubated": 0,
                  "pneumonia": 0,
                  "age": 33,
                  "diabetes": 0,
                  "copd": 0,
                  "asthma": 0,
                  "immunosuppression": 0,
                  "hypertension": 0,
                  "cardiovascular": 0,
                  "obesity": 1,
                  "chronic_kidney_failure": 0,
                  "smoker": 0,
                  "icu": 0,
                  "_deepnote_index_column": 6
                },
                {
                  "sex": 1,
                  "intubated": 0,
                  "pneumonia": 1,
                  "age": 68,
                  "diabetes": 0,
                  "copd": 0,
                  "asthma": 0,
                  "immunosuppression": 0,
                  "hypertension": 0,
                  "cardiovascular": 0,
                  "obesity": 0,
                  "chronic_kidney_failure": 0,
                  "smoker": 0,
                  "icu": 0,
                  "_deepnote_index_column": 7
                },
                {
                  "sex": 1,
                  "intubated": 0,
                  "pneumonia": 0,
                  "age": 29,
                  "diabetes": 0,
                  "copd": 0,
                  "asthma": 0,
                  "immunosuppression": 0,
                  "hypertension": 0,
                  "cardiovascular": 0,
                  "obesity": 0,
                  "chronic_kidney_failure": 0,
                  "smoker": 0,
                  "icu": 0,
                  "_deepnote_index_column": 8
                },
                {
                  "sex": 1,
                  "intubated": 0,
                  "pneumonia": 0,
                  "age": 55,
                  "diabetes": 0,
                  "copd": 0,
                  "asthma": 0,
                  "immunosuppression": 0,
                  "hypertension": 0,
                  "cardiovascular": 0,
                  "obesity": 0,
                  "chronic_kidney_failure": 0,
                  "smoker": 0,
                  "icu": 0,
                  "_deepnote_index_column": 9
                },
                {
                  "sex": 1,
                  "intubated": 0,
                  "pneumonia": 0,
                  "age": 46,
                  "diabetes": 0,
                  "copd": 0,
                  "asthma": 0,
                  "immunosuppression": 0,
                  "hypertension": 0,
                  "cardiovascular": 0,
                  "obesity": 0,
                  "chronic_kidney_failure": 0,
                  "smoker": 0,
                  "icu": 0,
                  "_deepnote_index_column": 10
                },
                {
                  "sex": 1,
                  "intubated": 0,
                  "pneumonia": 0,
                  "age": 71,
                  "diabetes": 1,
                  "copd": 0,
                  "asthma": 0,
                  "immunosuppression": 0,
                  "hypertension": 1,
                  "cardiovascular": 0,
                  "obesity": 1,
                  "chronic_kidney_failure": 1,
                  "smoker": 1,
                  "icu": 0,
                  "_deepnote_index_column": 11
                },
                {
                  "sex": 0,
                  "intubated": 1,
                  "pneumonia": 1,
                  "age": 44,
                  "diabetes": 1,
                  "copd": 0,
                  "asthma": 0,
                  "immunosuppression": 0,
                  "hypertension": 1,
                  "cardiovascular": 0,
                  "obesity": 1,
                  "chronic_kidney_failure": 0,
                  "smoker": 0,
                  "icu": 1,
                  "_deepnote_index_column": 12
                },
                {
                  "sex": 0,
                  "intubated": 0,
                  "pneumonia": 0,
                  "age": 45,
                  "diabetes": 0,
                  "copd": 0,
                  "asthma": 0,
                  "immunosuppression": 0,
                  "hypertension": 0,
                  "cardiovascular": 0,
                  "obesity": 0,
                  "chronic_kidney_failure": 0,
                  "smoker": 0,
                  "icu": 0,
                  "_deepnote_index_column": 13
                },
                {
                  "sex": 0,
                  "intubated": 0,
                  "pneumonia": 1,
                  "age": 63,
                  "diabetes": 1,
                  "copd": 0,
                  "asthma": 0,
                  "immunosuppression": 0,
                  "hypertension": 1,
                  "cardiovascular": 0,
                  "obesity": 0,
                  "chronic_kidney_failure": 0,
                  "smoker": 0,
                  "icu": 1,
                  "_deepnote_index_column": 14
                },
                {
                  "sex": 0,
                  "intubated": 0,
                  "pneumonia": 0,
                  "age": 64,
                  "diabetes": 0,
                  "copd": 0,
                  "asthma": 1,
                  "immunosuppression": 0,
                  "hypertension": 1,
                  "cardiovascular": 0,
                  "obesity": 1,
                  "chronic_kidney_failure": 0,
                  "smoker": 0,
                  "icu": 0,
                  "_deepnote_index_column": 15
                },
                {
                  "sex": 0,
                  "intubated": 0,
                  "pneumonia": 0,
                  "age": 27,
                  "diabetes": 0,
                  "copd": 0,
                  "asthma": 0,
                  "immunosuppression": 0,
                  "hypertension": 0,
                  "cardiovascular": 0,
                  "obesity": 0,
                  "chronic_kidney_failure": 0,
                  "smoker": 0,
                  "icu": 0,
                  "_deepnote_index_column": 16
                },
                {
                  "sex": 0,
                  "intubated": 0,
                  "pneumonia": 0,
                  "age": 33,
                  "diabetes": 0,
                  "copd": 0,
                  "asthma": 0,
                  "immunosuppression": 0,
                  "hypertension": 0,
                  "cardiovascular": 0,
                  "obesity": 0,
                  "chronic_kidney_failure": 0,
                  "smoker": 0,
                  "icu": 0,
                  "_deepnote_index_column": 17
                },
                {
                  "sex": 1,
                  "intubated": 0,
                  "pneumonia": 0,
                  "age": 41,
                  "diabetes": 0,
                  "copd": 0,
                  "asthma": 0,
                  "immunosuppression": 0,
                  "hypertension": 0,
                  "cardiovascular": 0,
                  "obesity": 0,
                  "chronic_kidney_failure": 0,
                  "smoker": 0,
                  "icu": 0,
                  "_deepnote_index_column": 18
                },
                {
                  "sex": 0,
                  "intubated": 0,
                  "pneumonia": 0,
                  "age": 60,
                  "diabetes": 1,
                  "copd": 0,
                  "asthma": 0,
                  "immunosuppression": 0,
                  "hypertension": 0,
                  "cardiovascular": 0,
                  "obesity": 0,
                  "chronic_kidney_failure": 0,
                  "smoker": 0,
                  "icu": 0,
                  "_deepnote_index_column": 19
                },
                {
                  "sex": 1,
                  "intubated": 0,
                  "pneumonia": 1,
                  "age": 48,
                  "diabetes": 0,
                  "copd": 0,
                  "asthma": 0,
                  "immunosuppression": 0,
                  "hypertension": 0,
                  "cardiovascular": 0,
                  "obesity": 0,
                  "chronic_kidney_failure": 0,
                  "smoker": 1,
                  "icu": 0,
                  "_deepnote_index_column": 20
                },
                {
                  "sex": 0,
                  "intubated": 0,
                  "pneumonia": 0,
                  "age": 54,
                  "diabetes": 0,
                  "copd": 0,
                  "asthma": 0,
                  "immunosuppression": 0,
                  "hypertension": 0,
                  "cardiovascular": 0,
                  "obesity": 0,
                  "chronic_kidney_failure": 0,
                  "smoker": 0,
                  "icu": 0,
                  "_deepnote_index_column": 21
                },
                {
                  "sex": 0,
                  "intubated": 0,
                  "pneumonia": 0,
                  "age": 46,
                  "diabetes": 1,
                  "copd": 0,
                  "asthma": 0,
                  "immunosuppression": 0,
                  "hypertension": 0,
                  "cardiovascular": 0,
                  "obesity": 1,
                  "chronic_kidney_failure": 0,
                  "smoker": 0,
                  "icu": 0,
                  "_deepnote_index_column": 22
                },
                {
                  "sex": 0,
                  "intubated": 0,
                  "pneumonia": 0,
                  "age": 48,
                  "diabetes": 0,
                  "copd": 0,
                  "asthma": 0,
                  "immunosuppression": 0,
                  "hypertension": 0,
                  "cardiovascular": 0,
                  "obesity": 1,
                  "chronic_kidney_failure": 0,
                  "smoker": 0,
                  "icu": 0,
                  "_deepnote_index_column": 23
                },
                {
                  "sex": 1,
                  "intubated": 0,
                  "pneumonia": 0,
                  "age": 72,
                  "diabetes": 1,
                  "copd": 0,
                  "asthma": 0,
                  "immunosuppression": 0,
                  "hypertension": 1,
                  "cardiovascular": 0,
                  "obesity": 0,
                  "chronic_kidney_failure": 0,
                  "smoker": 0,
                  "icu": 0,
                  "_deepnote_index_column": 24
                },
                {
                  "sex": 1,
                  "intubated": 0,
                  "pneumonia": 0,
                  "age": 38,
                  "diabetes": 0,
                  "copd": 0,
                  "asthma": 0,
                  "immunosuppression": 0,
                  "hypertension": 0,
                  "cardiovascular": 0,
                  "obesity": 0,
                  "chronic_kidney_failure": 0,
                  "smoker": 0,
                  "icu": 0,
                  "_deepnote_index_column": 25
                },
                {
                  "sex": 1,
                  "intubated": 0,
                  "pneumonia": 1,
                  "age": 36,
                  "diabetes": 1,
                  "copd": 0,
                  "asthma": 0,
                  "immunosuppression": 1,
                  "hypertension": 1,
                  "cardiovascular": 0,
                  "obesity": 1,
                  "chronic_kidney_failure": 1,
                  "smoker": 0,
                  "icu": 0,
                  "_deepnote_index_column": 26
                },
                {
                  "sex": 1,
                  "intubated": 0,
                  "pneumonia": 0,
                  "age": 43,
                  "diabetes": 0,
                  "copd": 0,
                  "asthma": 0,
                  "immunosuppression": 0,
                  "hypertension": 0,
                  "cardiovascular": 0,
                  "obesity": 0,
                  "chronic_kidney_failure": 0,
                  "smoker": 0,
                  "icu": 0,
                  "_deepnote_index_column": 27
                },
                {
                  "sex": 1,
                  "intubated": 0,
                  "pneumonia": 1,
                  "age": 59,
                  "diabetes": 0,
                  "copd": 0,
                  "asthma": 0,
                  "immunosuppression": 0,
                  "hypertension": 0,
                  "cardiovascular": 0,
                  "obesity": 0,
                  "chronic_kidney_failure": 0,
                  "smoker": 0,
                  "icu": 0,
                  "_deepnote_index_column": 28
                },
                {
                  "sex": 1,
                  "intubated": 0,
                  "pneumonia": 0,
                  "age": 61,
                  "diabetes": 0,
                  "copd": 0,
                  "asthma": 0,
                  "immunosuppression": 0,
                  "hypertension": 1,
                  "cardiovascular": 0,
                  "obesity": 1,
                  "chronic_kidney_failure": 0,
                  "smoker": 0,
                  "icu": 0,
                  "_deepnote_index_column": 29
                },
                {
                  "sex": 0,
                  "intubated": 0,
                  "pneumonia": 1,
                  "age": 69,
                  "diabetes": 1,
                  "copd": 0,
                  "asthma": 0,
                  "immunosuppression": 0,
                  "hypertension": 1,
                  "cardiovascular": 1,
                  "obesity": 0,
                  "chronic_kidney_failure": 0,
                  "smoker": 1,
                  "icu": 0,
                  "_deepnote_index_column": 30
                },
                {
                  "sex": 1,
                  "intubated": 0,
                  "pneumonia": 0,
                  "age": 57,
                  "diabetes": 0,
                  "copd": 0,
                  "asthma": 1,
                  "immunosuppression": 0,
                  "hypertension": 0,
                  "cardiovascular": 0,
                  "obesity": 1,
                  "chronic_kidney_failure": 0,
                  "smoker": 0,
                  "icu": 0,
                  "_deepnote_index_column": 31
                },
                {
                  "sex": 1,
                  "intubated": 0,
                  "pneumonia": 0,
                  "age": 57,
                  "diabetes": 0,
                  "copd": 0,
                  "asthma": 0,
                  "immunosuppression": 0,
                  "hypertension": 0,
                  "cardiovascular": 0,
                  "obesity": 0,
                  "chronic_kidney_failure": 0,
                  "smoker": 0,
                  "icu": 0,
                  "_deepnote_index_column": 32
                },
                {
                  "sex": 1,
                  "intubated": 0,
                  "pneumonia": 0,
                  "age": 41,
                  "diabetes": 0,
                  "copd": 0,
                  "asthma": 0,
                  "immunosuppression": 0,
                  "hypertension": 0,
                  "cardiovascular": 0,
                  "obesity": 0,
                  "chronic_kidney_failure": 0,
                  "smoker": 0,
                  "icu": 0,
                  "_deepnote_index_column": 33
                },
                {
                  "sex": 1,
                  "intubated": 0,
                  "pneumonia": 0,
                  "age": 30,
                  "diabetes": 0,
                  "copd": 0,
                  "asthma": 0,
                  "immunosuppression": 0,
                  "hypertension": 0,
                  "cardiovascular": 0,
                  "obesity": 0,
                  "chronic_kidney_failure": 0,
                  "smoker": 0,
                  "icu": 0,
                  "_deepnote_index_column": 34
                }
              ],
              "rows_bottom": [
                {
                  "sex": 0,
                  "intubated": 0,
                  "pneumonia": 0,
                  "age": 36,
                  "diabetes": 0,
                  "copd": 0,
                  "asthma": 1,
                  "immunosuppression": 0,
                  "hypertension": 0,
                  "cardiovascular": 0,
                  "obesity": 0,
                  "chronic_kidney_failure": 0,
                  "smoker": 0,
                  "icu": 1,
                  "_deepnote_index_column": 18465
                },
                {
                  "sex": 1,
                  "intubated": 0,
                  "pneumonia": 1,
                  "age": 49,
                  "diabetes": 1,
                  "copd": 0,
                  "asthma": 0,
                  "immunosuppression": 0,
                  "hypertension": 1,
                  "cardiovascular": 0,
                  "obesity": 0,
                  "chronic_kidney_failure": 1,
                  "smoker": 1,
                  "icu": 0,
                  "_deepnote_index_column": 18467
                },
                {
                  "sex": 1,
                  "intubated": 0,
                  "pneumonia": 0,
                  "age": 64,
                  "diabetes": 1,
                  "copd": 0,
                  "asthma": 1,
                  "immunosuppression": 0,
                  "hypertension": 1,
                  "cardiovascular": 0,
                  "obesity": 1,
                  "chronic_kidney_failure": 0,
                  "smoker": 0,
                  "icu": 0,
                  "_deepnote_index_column": 18475
                },
                {
                  "sex": 1,
                  "intubated": 0,
                  "pneumonia": 1,
                  "age": 56,
                  "diabetes": 1,
                  "copd": 0,
                  "asthma": 0,
                  "immunosuppression": 0,
                  "hypertension": 0,
                  "cardiovascular": 0,
                  "obesity": 0,
                  "chronic_kidney_failure": 1,
                  "smoker": 0,
                  "icu": 0,
                  "_deepnote_index_column": 18477
                },
                {
                  "sex": 0,
                  "intubated": 0,
                  "pneumonia": 1,
                  "age": 29,
                  "diabetes": 1,
                  "copd": 0,
                  "asthma": 0,
                  "immunosuppression": 0,
                  "hypertension": 0,
                  "cardiovascular": 0,
                  "obesity": 0,
                  "chronic_kidney_failure": 0,
                  "smoker": 0,
                  "icu": 0,
                  "_deepnote_index_column": 18478
                },
                {
                  "sex": 0,
                  "intubated": 0,
                  "pneumonia": 1,
                  "age": 84,
                  "diabetes": 0,
                  "copd": 0,
                  "asthma": 0,
                  "immunosuppression": 0,
                  "hypertension": 0,
                  "cardiovascular": 0,
                  "obesity": 0,
                  "chronic_kidney_failure": 0,
                  "smoker": 0,
                  "icu": 0,
                  "_deepnote_index_column": 18485
                },
                {
                  "sex": 0,
                  "intubated": 0,
                  "pneumonia": 1,
                  "age": 67,
                  "diabetes": 1,
                  "copd": 0,
                  "asthma": 0,
                  "immunosuppression": 0,
                  "hypertension": 0,
                  "cardiovascular": 0,
                  "obesity": 0,
                  "chronic_kidney_failure": 0,
                  "smoker": 0,
                  "icu": 0,
                  "_deepnote_index_column": 18487
                },
                {
                  "sex": 1,
                  "intubated": 0,
                  "pneumonia": 0,
                  "age": 69,
                  "diabetes": 0,
                  "copd": 1,
                  "asthma": 0,
                  "immunosuppression": 0,
                  "hypertension": 0,
                  "cardiovascular": 0,
                  "obesity": 0,
                  "chronic_kidney_failure": 0,
                  "smoker": 0,
                  "icu": 0,
                  "_deepnote_index_column": 18494
                },
                {
                  "sex": 0,
                  "intubated": 1,
                  "pneumonia": 1,
                  "age": 44,
                  "diabetes": 0,
                  "copd": 0,
                  "asthma": 0,
                  "immunosuppression": 0,
                  "hypertension": 0,
                  "cardiovascular": 0,
                  "obesity": 0,
                  "chronic_kidney_failure": 0,
                  "smoker": 0,
                  "icu": 1,
                  "_deepnote_index_column": 18523
                },
                {
                  "sex": 1,
                  "intubated": 0,
                  "pneumonia": 0,
                  "age": 65,
                  "diabetes": 0,
                  "copd": 0,
                  "asthma": 0,
                  "immunosuppression": 1,
                  "hypertension": 1,
                  "cardiovascular": 0,
                  "obesity": 0,
                  "chronic_kidney_failure": 0,
                  "smoker": 0,
                  "icu": 1,
                  "_deepnote_index_column": 18527
                },
                {
                  "sex": 0,
                  "intubated": 0,
                  "pneumonia": 1,
                  "age": 67,
                  "diabetes": 1,
                  "copd": 0,
                  "asthma": 0,
                  "immunosuppression": 1,
                  "hypertension": 1,
                  "cardiovascular": 0,
                  "obesity": 0,
                  "chronic_kidney_failure": 1,
                  "smoker": 0,
                  "icu": 0,
                  "_deepnote_index_column": 18528
                },
                {
                  "sex": 1,
                  "intubated": 1,
                  "pneumonia": 1,
                  "age": 43,
                  "diabetes": 0,
                  "copd": 0,
                  "asthma": 0,
                  "immunosuppression": 0,
                  "hypertension": 0,
                  "cardiovascular": 0,
                  "obesity": 1,
                  "chronic_kidney_failure": 0,
                  "smoker": 0,
                  "icu": 0,
                  "_deepnote_index_column": 18537
                },
                {
                  "sex": 1,
                  "intubated": 0,
                  "pneumonia": 1,
                  "age": 62,
                  "diabetes": 1,
                  "copd": 0,
                  "asthma": 0,
                  "immunosuppression": 0,
                  "hypertension": 1,
                  "cardiovascular": 0,
                  "obesity": 1,
                  "chronic_kidney_failure": 0,
                  "smoker": 0,
                  "icu": 0,
                  "_deepnote_index_column": 18546
                },
                {
                  "sex": 1,
                  "intubated": 0,
                  "pneumonia": 1,
                  "age": 44,
                  "diabetes": 1,
                  "copd": 0,
                  "asthma": 0,
                  "immunosuppression": 0,
                  "hypertension": 0,
                  "cardiovascular": 0,
                  "obesity": 0,
                  "chronic_kidney_failure": 0,
                  "smoker": 0,
                  "icu": 0,
                  "_deepnote_index_column": 18547
                },
                {
                  "sex": 0,
                  "intubated": 0,
                  "pneumonia": 1,
                  "age": 44,
                  "diabetes": 1,
                  "copd": 0,
                  "asthma": 1,
                  "immunosuppression": 0,
                  "hypertension": 0,
                  "cardiovascular": 0,
                  "obesity": 0,
                  "chronic_kidney_failure": 0,
                  "smoker": 0,
                  "icu": 0,
                  "_deepnote_index_column": 18548
                },
                {
                  "sex": 1,
                  "intubated": 0,
                  "pneumonia": 0,
                  "age": 73,
                  "diabetes": 1,
                  "copd": 0,
                  "asthma": 0,
                  "immunosuppression": 0,
                  "hypertension": 1,
                  "cardiovascular": 0,
                  "obesity": 0,
                  "chronic_kidney_failure": 0,
                  "smoker": 0,
                  "icu": 0,
                  "_deepnote_index_column": 18549
                },
                {
                  "sex": 1,
                  "intubated": 1,
                  "pneumonia": 1,
                  "age": 1,
                  "diabetes": 0,
                  "copd": 0,
                  "asthma": 0,
                  "immunosuppression": 0,
                  "hypertension": 0,
                  "cardiovascular": 0,
                  "obesity": 0,
                  "chronic_kidney_failure": 0,
                  "smoker": 0,
                  "icu": 1,
                  "_deepnote_index_column": 18557
                },
                {
                  "sex": 1,
                  "intubated": 0,
                  "pneumonia": 1,
                  "age": 64,
                  "diabetes": 1,
                  "copd": 0,
                  "asthma": 0,
                  "immunosuppression": 0,
                  "hypertension": 1,
                  "cardiovascular": 0,
                  "obesity": 0,
                  "chronic_kidney_failure": 0,
                  "smoker": 0,
                  "icu": 0,
                  "_deepnote_index_column": 18562
                },
                {
                  "sex": 0,
                  "intubated": 0,
                  "pneumonia": 1,
                  "age": 60,
                  "diabetes": 0,
                  "copd": 0,
                  "asthma": 0,
                  "immunosuppression": 0,
                  "hypertension": 0,
                  "cardiovascular": 0,
                  "obesity": 0,
                  "chronic_kidney_failure": 0,
                  "smoker": 0,
                  "icu": 0,
                  "_deepnote_index_column": 18566
                },
                {
                  "sex": 1,
                  "intubated": 0,
                  "pneumonia": 0,
                  "age": 48,
                  "diabetes": 0,
                  "copd": 0,
                  "asthma": 0,
                  "immunosuppression": 0,
                  "hypertension": 0,
                  "cardiovascular": 0,
                  "obesity": 1,
                  "chronic_kidney_failure": 0,
                  "smoker": 0,
                  "icu": 0,
                  "_deepnote_index_column": 18586
                },
                {
                  "sex": 1,
                  "intubated": 1,
                  "pneumonia": 1,
                  "age": 77,
                  "diabetes": 0,
                  "copd": 0,
                  "asthma": 0,
                  "immunosuppression": 0,
                  "hypertension": 0,
                  "cardiovascular": 0,
                  "obesity": 0,
                  "chronic_kidney_failure": 0,
                  "smoker": 0,
                  "icu": 0,
                  "_deepnote_index_column": 18597
                },
                {
                  "sex": 0,
                  "intubated": 0,
                  "pneumonia": 1,
                  "age": 80,
                  "diabetes": 0,
                  "copd": 0,
                  "asthma": 0,
                  "immunosuppression": 0,
                  "hypertension": 0,
                  "cardiovascular": 0,
                  "obesity": 0,
                  "chronic_kidney_failure": 0,
                  "smoker": 0,
                  "icu": 0,
                  "_deepnote_index_column": 18611
                },
                {
                  "sex": 0,
                  "intubated": 1,
                  "pneumonia": 1,
                  "age": 57,
                  "diabetes": 1,
                  "copd": 0,
                  "asthma": 0,
                  "immunosuppression": 0,
                  "hypertension": 1,
                  "cardiovascular": 0,
                  "obesity": 1,
                  "chronic_kidney_failure": 0,
                  "smoker": 0,
                  "icu": 1,
                  "_deepnote_index_column": 18622
                },
                {
                  "sex": 1,
                  "intubated": 0,
                  "pneumonia": 0,
                  "age": 61,
                  "diabetes": 1,
                  "copd": 0,
                  "asthma": 0,
                  "immunosuppression": 0,
                  "hypertension": 0,
                  "cardiovascular": 0,
                  "obesity": 0,
                  "chronic_kidney_failure": 0,
                  "smoker": 1,
                  "icu": 0,
                  "_deepnote_index_column": 18627
                },
                {
                  "sex": 1,
                  "intubated": 0,
                  "pneumonia": 1,
                  "age": 62,
                  "diabetes": 1,
                  "copd": 0,
                  "asthma": 0,
                  "immunosuppression": 0,
                  "hypertension": 1,
                  "cardiovascular": 0,
                  "obesity": 0,
                  "chronic_kidney_failure": 0,
                  "smoker": 1,
                  "icu": 0,
                  "_deepnote_index_column": 18660
                },
                {
                  "sex": 1,
                  "intubated": 1,
                  "pneumonia": 1,
                  "age": 64,
                  "diabetes": 0,
                  "copd": 0,
                  "asthma": 0,
                  "immunosuppression": 0,
                  "hypertension": 0,
                  "cardiovascular": 0,
                  "obesity": 1,
                  "chronic_kidney_failure": 0,
                  "smoker": 1,
                  "icu": 1,
                  "_deepnote_index_column": 18667
                },
                {
                  "sex": 0,
                  "intubated": 1,
                  "pneumonia": 1,
                  "age": 65,
                  "diabetes": 0,
                  "copd": 0,
                  "asthma": 0,
                  "immunosuppression": 0,
                  "hypertension": 0,
                  "cardiovascular": 0,
                  "obesity": 0,
                  "chronic_kidney_failure": 0,
                  "smoker": 0,
                  "icu": 1,
                  "_deepnote_index_column": 18673
                },
                {
                  "sex": 1,
                  "intubated": 1,
                  "pneumonia": 1,
                  "age": 42,
                  "diabetes": 0,
                  "copd": 0,
                  "asthma": 0,
                  "immunosuppression": 0,
                  "hypertension": 0,
                  "cardiovascular": 0,
                  "obesity": 0,
                  "chronic_kidney_failure": 0,
                  "smoker": 0,
                  "icu": 0,
                  "_deepnote_index_column": 18685
                },
                {
                  "sex": 1,
                  "intubated": 1,
                  "pneumonia": 1,
                  "age": 42,
                  "diabetes": 0,
                  "copd": 0,
                  "asthma": 0,
                  "immunosuppression": 0,
                  "hypertension": 0,
                  "cardiovascular": 0,
                  "obesity": 0,
                  "chronic_kidney_failure": 1,
                  "smoker": 0,
                  "icu": 1,
                  "_deepnote_index_column": 18700
                },
                {
                  "sex": 0,
                  "intubated": 0,
                  "pneumonia": 1,
                  "age": 21,
                  "diabetes": 0,
                  "copd": 0,
                  "asthma": 0,
                  "immunosuppression": 1,
                  "hypertension": 0,
                  "cardiovascular": 0,
                  "obesity": 1,
                  "chronic_kidney_failure": 0,
                  "smoker": 0,
                  "icu": 0,
                  "_deepnote_index_column": 18726
                },
                {
                  "sex": 1,
                  "intubated": 0,
                  "pneumonia": 1,
                  "age": 90,
                  "diabetes": 1,
                  "copd": 0,
                  "asthma": 0,
                  "immunosuppression": 0,
                  "hypertension": 1,
                  "cardiovascular": 0,
                  "obesity": 0,
                  "chronic_kidney_failure": 0,
                  "smoker": 0,
                  "icu": 0,
                  "_deepnote_index_column": 18741
                },
                {
                  "sex": 1,
                  "intubated": 0,
                  "pneumonia": 1,
                  "age": 58,
                  "diabetes": 0,
                  "copd": 0,
                  "asthma": 0,
                  "immunosuppression": 0,
                  "hypertension": 0,
                  "cardiovascular": 0,
                  "obesity": 0,
                  "chronic_kidney_failure": 0,
                  "smoker": 0,
                  "icu": 0,
                  "_deepnote_index_column": 18747
                },
                {
                  "sex": 1,
                  "intubated": 0,
                  "pneumonia": 0,
                  "age": 59,
                  "diabetes": 0,
                  "copd": 0,
                  "asthma": 0,
                  "immunosuppression": 0,
                  "hypertension": 0,
                  "cardiovascular": 0,
                  "obesity": 0,
                  "chronic_kidney_failure": 0,
                  "smoker": 1,
                  "icu": 1,
                  "_deepnote_index_column": 18751
                },
                {
                  "sex": 1,
                  "intubated": 1,
                  "pneumonia": 1,
                  "age": 51,
                  "diabetes": 0,
                  "copd": 0,
                  "asthma": 0,
                  "immunosuppression": 0,
                  "hypertension": 0,
                  "cardiovascular": 0,
                  "obesity": 0,
                  "chronic_kidney_failure": 1,
                  "smoker": 0,
                  "icu": 1,
                  "_deepnote_index_column": 18763
                },
                {
                  "sex": 1,
                  "intubated": 0,
                  "pneumonia": 0,
                  "age": 78,
                  "diabetes": 0,
                  "copd": 0,
                  "asthma": 0,
                  "immunosuppression": 0,
                  "hypertension": 0,
                  "cardiovascular": 0,
                  "obesity": 0,
                  "chronic_kidney_failure": 0,
                  "smoker": 0,
                  "icu": 0,
                  "_deepnote_index_column": 18769
                },
                {
                  "sex": 0,
                  "intubated": 1,
                  "pneumonia": 1,
                  "age": 45,
                  "diabetes": 1,
                  "copd": 0,
                  "asthma": 0,
                  "immunosuppression": 0,
                  "hypertension": 0,
                  "cardiovascular": 0,
                  "obesity": 0,
                  "chronic_kidney_failure": 0,
                  "smoker": 0,
                  "icu": 1,
                  "_deepnote_index_column": 18773
                }
              ]
            },
            "text/plain": "       sex  intubated  pneumonia  age  diabetes  copd  asthma  \\\n0        0          0          0   39         0     0       0   \n1        0          0          1   77         0     0       0   \n2        1          0          1   47         0     0       0   \n3        1          1          1   34         0     0       0   \n4        0          0          0   69         0     0       1   \n...    ...        ...        ...  ...       ...   ...     ...   \n18747    1          0          1   58         0     0       0   \n18751    1          0          0   59         0     0       0   \n18763    1          1          1   51         0     0       0   \n18769    1          0          0   78         0     0       0   \n18773    0          1          1   45         1     0       0   \n\n       immunosuppression  hypertension  cardiovascular  obesity  \\\n0                      0             0               0        0   \n1                      1             0               0        0   \n2                      0             1               0        0   \n3                      0             0               0        0   \n4                      0             0               0        1   \n...                  ...           ...             ...      ...   \n18747                  0             0               0        0   \n18751                  0             0               0        0   \n18763                  0             0               0        0   \n18769                  0             0               0        0   \n18773                  0             0               0        0   \n\n       chronic_kidney_failure  smoker  icu  \n0                           0       0    0  \n1                           0       0    1  \n2                           1       1    0  \n3                           0       0    0  \n4                           0       1    0  \n...                       ...     ...  ...  \n18747                       0       0    0  \n18751                       0       1    1  \n18763                       1       0    1  \n18769                       0       0    0  \n18773                       0       0    1  \n\n[3490 rows x 14 columns]",
            "text/html": "<div>\n<style scoped>\n    .dataframe tbody tr th:only-of-type {\n        vertical-align: middle;\n    }\n\n    .dataframe tbody tr th {\n        vertical-align: top;\n    }\n\n    .dataframe thead th {\n        text-align: right;\n    }\n</style>\n<table border=\"1\" class=\"dataframe\">\n  <thead>\n    <tr style=\"text-align: right;\">\n      <th></th>\n      <th>sex</th>\n      <th>intubated</th>\n      <th>pneumonia</th>\n      <th>age</th>\n      <th>diabetes</th>\n      <th>copd</th>\n      <th>asthma</th>\n      <th>immunosuppression</th>\n      <th>hypertension</th>\n      <th>cardiovascular</th>\n      <th>obesity</th>\n      <th>chronic_kidney_failure</th>\n      <th>smoker</th>\n      <th>icu</th>\n    </tr>\n  </thead>\n  <tbody>\n    <tr>\n      <th>0</th>\n      <td>0</td>\n      <td>0</td>\n      <td>0</td>\n      <td>39</td>\n      <td>0</td>\n      <td>0</td>\n      <td>0</td>\n      <td>0</td>\n      <td>0</td>\n      <td>0</td>\n      <td>0</td>\n      <td>0</td>\n      <td>0</td>\n      <td>0</td>\n    </tr>\n    <tr>\n      <th>1</th>\n      <td>0</td>\n      <td>0</td>\n      <td>1</td>\n      <td>77</td>\n      <td>0</td>\n      <td>0</td>\n      <td>0</td>\n      <td>1</td>\n      <td>0</td>\n      <td>0</td>\n      <td>0</td>\n      <td>0</td>\n      <td>0</td>\n      <td>1</td>\n    </tr>\n    <tr>\n      <th>2</th>\n      <td>1</td>\n      <td>0</td>\n      <td>1</td>\n      <td>47</td>\n      <td>0</td>\n      <td>0</td>\n      <td>0</td>\n      <td>0</td>\n      <td>1</td>\n      <td>0</td>\n      <td>0</td>\n      <td>1</td>\n      <td>1</td>\n      <td>0</td>\n    </tr>\n    <tr>\n      <th>3</th>\n      <td>1</td>\n      <td>1</td>\n      <td>1</td>\n      <td>34</td>\n      <td>0</td>\n      <td>0</td>\n      <td>0</td>\n      <td>0</td>\n      <td>0</td>\n      <td>0</td>\n      <td>0</td>\n      <td>0</td>\n      <td>0</td>\n      <td>0</td>\n    </tr>\n    <tr>\n      <th>4</th>\n      <td>0</td>\n      <td>0</td>\n      <td>0</td>\n      <td>69</td>\n      <td>0</td>\n      <td>0</td>\n      <td>1</td>\n      <td>0</td>\n      <td>0</td>\n      <td>0</td>\n      <td>1</td>\n      <td>0</td>\n      <td>1</td>\n      <td>0</td>\n    </tr>\n    <tr>\n      <th>...</th>\n      <td>...</td>\n      <td>...</td>\n      <td>...</td>\n      <td>...</td>\n      <td>...</td>\n      <td>...</td>\n      <td>...</td>\n      <td>...</td>\n      <td>...</td>\n      <td>...</td>\n      <td>...</td>\n      <td>...</td>\n      <td>...</td>\n      <td>...</td>\n    </tr>\n    <tr>\n      <th>18747</th>\n      <td>1</td>\n      <td>0</td>\n      <td>1</td>\n      <td>58</td>\n      <td>0</td>\n      <td>0</td>\n      <td>0</td>\n      <td>0</td>\n      <td>0</td>\n      <td>0</td>\n      <td>0</td>\n      <td>0</td>\n      <td>0</td>\n      <td>0</td>\n    </tr>\n    <tr>\n      <th>18751</th>\n      <td>1</td>\n      <td>0</td>\n      <td>0</td>\n      <td>59</td>\n      <td>0</td>\n      <td>0</td>\n      <td>0</td>\n      <td>0</td>\n      <td>0</td>\n      <td>0</td>\n      <td>0</td>\n      <td>0</td>\n      <td>1</td>\n      <td>1</td>\n    </tr>\n    <tr>\n      <th>18763</th>\n      <td>1</td>\n      <td>1</td>\n      <td>1</td>\n      <td>51</td>\n      <td>0</td>\n      <td>0</td>\n      <td>0</td>\n      <td>0</td>\n      <td>0</td>\n      <td>0</td>\n      <td>0</td>\n      <td>1</td>\n      <td>0</td>\n      <td>1</td>\n    </tr>\n    <tr>\n      <th>18769</th>\n      <td>1</td>\n      <td>0</td>\n      <td>0</td>\n      <td>78</td>\n      <td>0</td>\n      <td>0</td>\n      <td>0</td>\n      <td>0</td>\n      <td>0</td>\n      <td>0</td>\n      <td>0</td>\n      <td>0</td>\n      <td>0</td>\n      <td>0</td>\n    </tr>\n    <tr>\n      <th>18773</th>\n      <td>0</td>\n      <td>1</td>\n      <td>1</td>\n      <td>45</td>\n      <td>1</td>\n      <td>0</td>\n      <td>0</td>\n      <td>0</td>\n      <td>0</td>\n      <td>0</td>\n      <td>0</td>\n      <td>0</td>\n      <td>0</td>\n      <td>1</td>\n    </tr>\n  </tbody>\n</table>\n<p>3490 rows × 14 columns</p>\n</div>"
          },
          "metadata": {}
        }
      ],
      "execution_count": null
    },
    {
      "cell_type": "code",
      "metadata": {
        "tags": [],
        "cell_id": "00031-0b7a0d4f-518b-4371-8d5b-766626740371",
        "output_cleared": false,
        "source_hash": "b5c7238d",
        "execution_millis": 18,
        "deepnote_to_be_reexecuted": false,
        "execution_start": 1618902852153,
        "deepnote_cell_type": "code"
      },
      "source": "#scaling dell'età\nfrom sklearn.preprocessing import StandardScaler\nsc= StandardScaler()\nxtrain.iloc[:,3]=sc.fit_transform(np.reshape(np.array(xtrain.iloc[:,3]),(-1,1)))\nxtest.iloc[:,3]=sc.transform(np.reshape(np.array(xtest.iloc[:,3]),(-1,1)))\nxtest.iloc[:,3]",
      "outputs": [
        {
          "name": "stderr",
          "text": "/shared-libs/python3.7/py/lib/python3.7/site-packages/pandas/core/indexing.py:1738: SettingWithCopyWarning: \nA value is trying to be set on a copy of a slice from a DataFrame.\nTry using .loc[row_indexer,col_indexer] = value instead\n\nSee the caveats in the documentation: https://pandas.pydata.org/pandas-docs/stable/user_guide/indexing.html#returning-a-view-versus-a-copy\n  self._setitem_single_column(loc, value[:, i].tolist(), pi)\n",
          "output_type": "stream"
        },
        {
          "output_type": "execute_result",
          "execution_count": 35,
          "data": {
            "text/plain": "41349   -0.423241\n74142    1.292547\n80074    0.495932\n11816    0.128263\n50789   -1.403691\n           ...   \n70200   -0.300684\n52091   -1.526247\n58690   -0.300684\n54275    0.618488\n65249   -0.729631\nName: age, Length: 4695, dtype: float64"
          },
          "metadata": {}
        }
      ],
      "execution_count": null
    },
    {
      "cell_type": "code",
      "metadata": {
        "tags": [],
        "cell_id": "00036-2fe4069d-bbe0-4ecc-9f9d-3a2304fa0d1f",
        "output_cleared": false,
        "source_hash": "60940c7c",
        "execution_millis": 1,
        "deepnote_to_be_reexecuted": false,
        "execution_start": 1618902852207,
        "deepnote_cell_type": "code"
      },
      "source": "from sklearn.model_selection import cross_val_score",
      "outputs": [],
      "execution_count": null
    },
    {
      "cell_type": "code",
      "metadata": {
        "tags": [],
        "cell_id": "00026-ae7c9a7a-8f36-458c-b644-ddff4066ec19",
        "output_cleared": false,
        "source_hash": "9e9a715c",
        "execution_millis": 2194,
        "deepnote_to_be_reexecuted": false,
        "execution_start": 1618902852209,
        "deepnote_cell_type": "code"
      },
      "source": "#n1\n#definiamo il classificatore random forest\n\nfrom sklearn.ensemble import RandomForestClassifier\nrfc = RandomForestClassifier(criterion='gini', max_depth=4, max_features='sqrt', n_estimators=100)\n\n#facciamo il training\nrfc.fit(xtrain, ytrain)\nypred=rfc.predict(xtest)\n\n#matrice di confusione e accuratezza\nfrom sklearn.metrics import confusion_matrix, accuracy_score\nprint(confusion_matrix(ytest, ypred))\nacc_rmfor=accuracy_score(ytest, ypred)\nprint(acc_rmfor)\n\n#cross validation per random Forest\naccuracies_rmf=cross_val_score(estimator=rfc, X=xtrain, y=ytrain, cv=10)\naccuracies_cross_val_randomforest=accuracies_rmf.mean()*100\nprint(\"Accuracy rmf: {:2f} %\".format(accuracies_rmf.mean()*100)) #fa la media delle accuacies calcolate prima\nprint(\"Standard deviation: {:2f} %\".format(accuracies_rmf.std()*100)) #fa la media delle accuacies calcolate prima\n\n\n",
      "outputs": [
        {
          "name": "stdout",
          "text": "[[3163 1123]\n [  90  319]]\n0.741640042598509\nAccuracy rmf: 78.051576 %\nStandard deviation: 1.230425 %\n",
          "output_type": "stream"
        }
      ],
      "execution_count": null
    },
    {
      "cell_type": "code",
      "metadata": {
        "tags": [],
        "cell_id": "00040-2ff44211-0f9f-4e31-833e-6f51d036144f",
        "output_cleared": false,
        "source_hash": "64a1d284",
        "execution_millis": 86,
        "deepnote_to_be_reexecuted": false,
        "execution_start": 1618902854408,
        "deepnote_cell_type": "code"
      },
      "source": "#2naive_bayes\nfrom sklearn.naive_bayes import GaussianNB\nclassifier=GaussianNB()\nclassifier.fit(xtrain,ytrain)\ny_predby=classifier.predict(xtest)\ncm = confusion_matrix(ytest, y_predby)\nacc_naive=accuracy_score(ytest, y_predby)\nacc_naive\nprint(cm)\nprint(accuracy_score(ytest, y_predby))\naccuracies=cross_val_score(estimator=classifier, X=xtrain, y=ytrain, cv=10)\naccuracies_cross_val_naive=accuracies.mean()*100\nprint(\"Accuracy: {:2f} %\".format(accuracies.mean()*100)) #fa la media delle accuacies calcolate prima\nprint(\"Standard deviation: {:2f} %\".format(accuracies.std()*100)) #fa la media delle accuacies calcolate prima\n\n",
      "outputs": [
        {
          "name": "stdout",
          "text": "[[3747  539]\n [ 217  192]]\n0.8389776357827476\nAccuracy: 68.538682 %\nStandard deviation: 2.154911 %\n",
          "output_type": "stream"
        }
      ],
      "execution_count": null
    },
    {
      "cell_type": "code",
      "metadata": {
        "tags": [],
        "cell_id": "00042-bb0ddbfe-d024-4f69-90ab-10d3658c7c6a",
        "output_cleared": false,
        "source_hash": "40dd1a3a",
        "execution_millis": 0,
        "deepnote_to_be_reexecuted": false,
        "execution_start": 1618902854484,
        "deepnote_cell_type": "code"
      },
      "source": "xtrainsize=xtrain.shape[0]\nxtrainsize=int(xtrainsize*0.8)\nxtrainann=xtrain.iloc[:xtrainsize]\nytrainann=xtrain[:xtrainsize]\nvalidationtrain=xtrain[xtrainsize:]\nvalidationtargets=ytrain[xtrainsize:]",
      "outputs": [],
      "execution_count": null
    },
    {
      "cell_type": "code",
      "metadata": {
        "tags": [],
        "cell_id": "00042-db7154ca-7a98-4beb-a5cf-f10b193113cb",
        "output_cleared": false,
        "source_hash": "4df875a4",
        "execution_millis": 127,
        "deepnote_to_be_reexecuted": false,
        "execution_start": 1618902854489,
        "deepnote_cell_type": "code"
      },
      "source": "#importiamo funzione per early stopping utile a prevenire l'overfitting dell'ann\nfrom keras.callbacks import ModelCheckpoint, EarlyStopping",
      "outputs": [],
      "execution_count": null
    },
    {
      "cell_type": "code",
      "metadata": {
        "tags": [],
        "cell_id": "00041-65a115f5-9262-4c8e-9fa1-8567d7be1ef0",
        "output_cleared": false,
        "source_hash": "62bd3095",
        "execution_millis": 7320,
        "deepnote_to_be_reexecuted": false,
        "execution_start": 1618902854623,
        "deepnote_cell_type": "code"
      },
      "source": "#iniziamo con una  rete neurale\n\nnum_units=xtrain.shape[0]\nhidden_layer_size=6\noutput_size=2\nann=tf.keras.models.Sequential([\n                            tf.keras.layers.Dense(hidden_layer_size, activation='relu'),\n                            tf.keras.layers.Dense(hidden_layer_size, activation='relu'),\n                            tf.keras.layers.Dense(output_size,activation='softmax')\n])\nann.compile(optimizer='adam', loss='sparse_categorical_crossentropy', metrics=['accuracy'])\n#sparse_categorical_crossentropy applica il one hot ecnoding ai dati\n\nearly_stopping = tf.keras.callbacks.EarlyStopping(patience=3)\nbatch_size=10\nnumepoch=150\nann.fit(xtrain,ytrain,\n        batch_size=batch_size,\n        epochs=numepoch,\n        callbacks=[early_stopping],\n        validation_data=(validationtrain,validationtargets),verbose=2\n        )\n",
      "outputs": [
        {
          "name": "stdout",
          "text": "Epoch 1/150\n349/349 - 3s - loss: 0.6864 - accuracy: 0.5524 - val_loss: 0.6914 - val_accuracy: 0.7593\nEpoch 2/150\n349/349 - 0s - loss: 0.5895 - accuracy: 0.7304 - val_loss: 0.6212 - val_accuracy: 0.8596\nEpoch 3/150\n349/349 - 0s - loss: 0.5329 - accuracy: 0.7653 - val_loss: 0.5860 - val_accuracy: 0.8309\nEpoch 4/150\n349/349 - 0s - loss: 0.5005 - accuracy: 0.7799 - val_loss: 0.5121 - val_accuracy: 0.8539\nEpoch 5/150\n349/349 - 0s - loss: 0.4855 - accuracy: 0.7797 - val_loss: 0.4852 - val_accuracy: 0.8481\nEpoch 6/150\n349/349 - 0s - loss: 0.4769 - accuracy: 0.7802 - val_loss: 0.4762 - val_accuracy: 0.8453\nEpoch 7/150\n349/349 - 0s - loss: 0.4721 - accuracy: 0.7817 - val_loss: 0.4332 - val_accuracy: 0.8653\nEpoch 8/150\n349/349 - 0s - loss: 0.4682 - accuracy: 0.7851 - val_loss: 0.4354 - val_accuracy: 0.8653\nEpoch 9/150\n349/349 - 0s - loss: 0.4648 - accuracy: 0.7845 - val_loss: 0.4586 - val_accuracy: 0.8510\nEpoch 10/150\n349/349 - 0s - loss: 0.4610 - accuracy: 0.7825 - val_loss: 0.3959 - val_accuracy: 0.8897\nEpoch 11/150\n349/349 - 0s - loss: 0.4607 - accuracy: 0.7868 - val_loss: 0.4048 - val_accuracy: 0.8825\nEpoch 12/150\n349/349 - 0s - loss: 0.4586 - accuracy: 0.7868 - val_loss: 0.4201 - val_accuracy: 0.8739\nEpoch 13/150\n349/349 - 0s - loss: 0.4567 - accuracy: 0.7860 - val_loss: 0.4236 - val_accuracy: 0.8610\n",
          "output_type": "stream"
        },
        {
          "output_type": "execute_result",
          "execution_count": 41,
          "data": {
            "text/plain": "<tensorflow.python.keras.callbacks.History at 0x7f9a908984d0>"
          },
          "metadata": {}
        }
      ],
      "execution_count": null
    },
    {
      "cell_type": "code",
      "metadata": {
        "tags": [],
        "cell_id": "00044-6f53ea68-4397-4f75-89f2-40d5364a4e4e",
        "output_cleared": false,
        "source_hash": "dec75923",
        "execution_millis": 167,
        "deepnote_to_be_reexecuted": false,
        "execution_start": 1618902861944,
        "deepnote_cell_type": "code"
      },
      "source": "test_model,test_accuracy=ann.evaluate(xtest,ytest)\n#solitmaent l'accuratezza del modello non è molto lontana dalla validation_accuracy, e solitamente è inferiroe",
      "outputs": [
        {
          "name": "stdout",
          "text": "147/147 [==============================] - 0s 804us/step - loss: 0.4894 - accuracy: 0.7148\n",
          "output_type": "stream"
        }
      ],
      "execution_count": null
    },
    {
      "cell_type": "code",
      "metadata": {
        "tags": [],
        "cell_id": "00045-556fa058-1c05-430c-ad79-c2a42e41cc90",
        "output_cleared": false,
        "source_hash": "287ea528",
        "execution_millis": 150,
        "deepnote_to_be_reexecuted": false,
        "execution_start": 1618902862151,
        "deepnote_cell_type": "code"
      },
      "source": "y_pred_ann= ann.predict(xtest) #le predizioni sono array con due elementi a rig, ogni elemento ha la probabilità di una delle due classe\nrounded_predictions=np.argmax(y_pred_ann, axis=-1) #arrotondiamo le predizioni facendo si che abbiano un solo valore per irga e non due , cos' sono confrontabili con il target\nprint(confusion_matrix(ytest, rounded_predictions))\nacc_ann=accuracy_score(ytest, rounded_predictions)\nacc_ann",
      "outputs": [
        {
          "name": "stdout",
          "text": "[[3018 1268]\n [  71  338]]\n",
          "output_type": "stream"
        },
        {
          "output_type": "execute_result",
          "execution_count": 43,
          "data": {
            "text/plain": "0.7148029818956336"
          },
          "metadata": {}
        }
      ],
      "execution_count": null
    },
    {
      "cell_type": "code",
      "metadata": {
        "tags": [],
        "cell_id": "00044-3954509c-0a6e-4c48-8adf-cd0da4dbe385",
        "output_cleared": false,
        "source_hash": "8a9fd67",
        "execution_millis": 82,
        "deepnote_to_be_reexecuted": false,
        "execution_start": 1618902862336,
        "deepnote_cell_type": "code"
      },
      "source": "y_pred_ann= ann.predict_proba(xtest)\ny_pred_ann\n",
      "outputs": [
        {
          "name": "stderr",
          "text": "/shared-libs/python3.7/py/lib/python3.7/site-packages/tensorflow/python/keras/engine/sequential.py:425: UserWarning: `model.predict_proba()` is deprecated and will be removed after 2021-01-01. Please use `model.predict()` instead.\n  warnings.warn('`model.predict_proba()` is deprecated and '\n",
          "output_type": "stream"
        },
        {
          "output_type": "execute_result",
          "execution_count": 44,
          "data": {
            "text/plain": "array([[0.8760755 , 0.12392443],\n       [0.19420242, 0.8057976 ],\n       [0.27177462, 0.72822547],\n       ...,\n       [0.69163907, 0.3083609 ],\n       [0.6565547 , 0.3434452 ],\n       [0.9141014 , 0.08589856]], dtype=float32)"
          },
          "metadata": {}
        }
      ],
      "execution_count": null
    },
    {
      "cell_type": "code",
      "metadata": {
        "tags": [],
        "cell_id": "00044-9e79d38c-bfbf-4857-8916-613f4bf2970d",
        "output_cleared": false,
        "source_hash": "afa4b614",
        "execution_millis": 238,
        "deepnote_to_be_reexecuted": false,
        "execution_start": 1618902862455,
        "deepnote_cell_type": "code"
      },
      "source": "#metodo del KNeighborsClassifier\nfrom sklearn.neighbors import KNeighborsClassifier\nknn = KNeighborsClassifier(n_neighbors=18)\nknn.fit(xtrain, ytrain)\nypred_knn = knn.predict(xtest)\nprint(confusion_matrix(ytest, ypred_knn))\nacc_knn=accuracy_score(ytest, ypred_knn)\nacc_knn",
      "outputs": [
        {
          "name": "stdout",
          "text": "[[3248 1038]\n [ 106  303]]\n",
          "output_type": "stream"
        },
        {
          "output_type": "execute_result",
          "execution_count": 45,
          "data": {
            "text/plain": "0.7563365282215122"
          },
          "metadata": {}
        }
      ],
      "execution_count": null
    },
    {
      "cell_type": "code",
      "metadata": {
        "tags": [],
        "cell_id": "00045-0bb393b9-2fc5-4a89-86aa-d537670dcffb",
        "output_cleared": false,
        "source_hash": "b623e53d",
        "execution_millis": 2,
        "deepnote_to_be_reexecuted": false,
        "execution_start": 1618902862678,
        "deepnote_cell_type": "code"
      },
      "source": "",
      "outputs": [],
      "execution_count": null
    },
    {
      "cell_type": "code",
      "metadata": {
        "tags": [],
        "cell_id": "00047-6c9b2adf-3f42-4691-9cdd-3ca34286e600",
        "output_cleared": false,
        "source_hash": "42e1db96",
        "execution_millis": 1804,
        "deepnote_to_be_reexecuted": false,
        "execution_start": 1618902862682,
        "deepnote_cell_type": "code"
      },
      "source": "#metodo del Support Vector Machine\nfrom sklearn.svm import SVC\nsvm = SVC(kernel='rbf', C=0.025)\nsvm.fit(xtrain, ytrain)\n#supp vetro machine\n\nypred_svm = svm.predict(xtest)\nypred_svm\nypred_svm = svm.predict(xtest)\nprint(confusion_matrix(ytest, ypred_svm))\naccsvm=accuracy_score(ytest, ypred_svm)\naccsvm",
      "outputs": [
        {
          "name": "stdout",
          "text": "[[2922 1364]\n [  75  334]]\n",
          "output_type": "stream"
        },
        {
          "output_type": "execute_result",
          "execution_count": 46,
          "data": {
            "text/plain": "0.693503727369542"
          },
          "metadata": {}
        }
      ],
      "execution_count": null
    },
    {
      "cell_type": "code",
      "metadata": {
        "tags": [],
        "cell_id": "00051-59535b8b-47a3-42f7-9a4f-d2fb570be9bf",
        "output_cleared": false,
        "source_hash": "3abaf2bc",
        "execution_millis": 35,
        "deepnote_to_be_reexecuted": false,
        "execution_start": 1618902864478,
        "deepnote_cell_type": "code"
      },
      "source": "#Decision Tree\nfrom sklearn import tree\nclf = tree.DecisionTreeClassifier()\nclf.fit(xtrain, ytrain)\nypred_clf = clf.predict(xtest)\nprint(confusion_matrix(ytest, ypred_clf))\naccdectree=accuracy_score(ytest, ypred_clf)\naccdectree",
      "outputs": [
        {
          "name": "stdout",
          "text": "[[3243 1043]\n [ 144  265]]\n",
          "output_type": "stream"
        },
        {
          "output_type": "execute_result",
          "execution_count": 47,
          "data": {
            "text/plain": "0.7471778487752929"
          },
          "metadata": {}
        }
      ],
      "execution_count": null
    },
    {
      "cell_type": "code",
      "metadata": {
        "tags": [],
        "cell_id": "00054-38d564c4-a058-4e4e-b86f-cc7e51ee5117",
        "output_cleared": false,
        "source_hash": "683c9355",
        "execution_millis": 316,
        "deepnote_to_be_reexecuted": false,
        "execution_start": 1618902864508,
        "deepnote_cell_type": "code"
      },
      "source": "#Proviamo AdaBoost\nfrom sklearn.ensemble import AdaBoostClassifier\nada = AdaBoostClassifier(n_estimators=100)\nada.fit(xtrain, ytrain)\nypred_ada = ada.predict(xtest)\nprint(confusion_matrix(ytest, ypred_ada))\nacc_adaboost=accuracy_score(ytest, ypred_ada)\nacc_adaboost",
      "outputs": [
        {
          "name": "stdout",
          "text": "[[3320  966]\n [ 109  300]]\n",
          "output_type": "stream"
        },
        {
          "output_type": "execute_result",
          "execution_count": 48,
          "data": {
            "text/plain": "0.7710330138445154"
          },
          "metadata": {}
        }
      ],
      "execution_count": null
    },
    {
      "cell_type": "code",
      "metadata": {
        "tags": [],
        "cell_id": "00051-51bc413d-b533-4ad5-9a80-a168d6f0e1b7",
        "output_cleared": false,
        "source_hash": "56db953d",
        "execution_millis": 295,
        "deepnote_to_be_reexecuted": false,
        "execution_start": 1618902864827,
        "deepnote_cell_type": "code"
      },
      "source": "models=['Decision Tree','Random Forest','Random Forest Cross Validated','N Bayes', 'N Bayes Cross Validated', 'K-Nearest Neighbors','Support Vectro Machine', 'AdaBoost', 'ANN']\naccuracy=[accdectree,acc_rmfor,accuracies_cross_val_randomforest,acc_naive,accuracies_cross_val_naive, acc_knn, accsvm,acc_adaboost,acc_ann]\naccuracy\nd = {'Models': models, 'accuracy': accuracy}\nacc_frame = pd.DataFrame(data=d)\n# boxplot algorithm comparison\nfig = plt.figure()\nax = fig.add_axes([0,0,1,1])\nacc_frame.loc[acc_frame['accuracy']<1,'accuracy']=acc_frame['accuracy']*100\nacc_frame=acc_frame.sort_values(by=['accuracy'])\n\n#drow bar plot\nax.bar(acc_frame['Models'],acc_frame['accuracy'],color=['C0', 'C1', 'C2', 'C3', 'C4','C5','C6','C7','C8'])\nplt.gcf().set_size_inches(20, 5)\nplt.xticks(fontsize = 15,rotation=50)\nplt.yticks(fontsize = 15,rotation=50)#acc_frame\n\nfor index, value in enumerate(acc_frame['accuracy']):\n    plt.text(index -0.3,value, str(round(value,5)),fontsize=20)\nplt.show()",
      "outputs": [
        {
          "data": {
            "text/plain": "<Figure size 1440x360 with 1 Axes>",
            "image/png": "[encoded data removed]"
          },
          "metadata": {},
          "output_type": "display_data"
        }
      ],
      "execution_count": null
    },
    {
      "cell_type": "code",
      "metadata": {
        "tags": [],
        "cell_id": "00052-e0ce69c5-285c-4230-87e5-6e49f022b7e6",
        "output_cleared": false,
        "source_hash": "b623e53d",
        "execution_millis": 2,
        "deepnote_to_be_reexecuted": false,
        "execution_start": 1618902865106,
        "deepnote_cell_type": "code"
      },
      "source": "",
      "outputs": [],
      "execution_count": null
    },
    {
      "cell_type": "code",
      "metadata": {
        "tags": [],
        "cell_id": "00055-c618bdad-bced-4244-84a9-0fbd7fba5baf",
        "output_cleared": false,
        "source_hash": "60940c7c",
        "execution_millis": 0,
        "deepnote_to_be_reexecuted": false,
        "execution_start": 1618902865112,
        "deepnote_cell_type": "code"
      },
      "source": "from sklearn.model_selection import cross_val_score",
      "outputs": [],
      "execution_count": null
    },
    {
      "cell_type": "code",
      "metadata": {
        "tags": [],
        "cell_id": "00056-701fe2ef-4502-41d6-ad08-9c5dc2436da8",
        "output_cleared": false,
        "source_hash": "d1618162",
        "execution_millis": 340,
        "deepnote_to_be_reexecuted": false,
        "execution_start": 1618902865116,
        "deepnote_cell_type": "code"
      },
      "source": "accuracies=cross_val_score(estimator=knn, X=xtrain, y=ytrain, cv=10)\nprint(accuracies)\nprint(\"Accuracy: {:2f} %\".format(accuracies.mean()*100)) #fa la media delle accuacies calcolate prima\nprint(\"Standard deviation: {:2f} %\".format(accuracies.std()*100)) #fa la media delle accuacies calcolate prima\n",
      "outputs": [
        {
          "name": "stdout",
          "text": "[0.76790831 0.80802292 0.77363897 0.75071633 0.77936963 0.74498567\n 0.78223496 0.75644699 0.79083095 0.77077364]\nAccuracy: 77.249284 %\nStandard deviation: 1.804020 %\n",
          "output_type": "stream"
        }
      ],
      "execution_count": null
    },
    {
      "cell_type": "code",
      "metadata": {
        "tags": [],
        "cell_id": "00058-3a992741-14ae-4914-bc48-2b1fc8193661",
        "output_cleared": false,
        "source_hash": "d3f2c8b0",
        "execution_millis": 3399,
        "deepnote_to_be_reexecuted": false,
        "execution_start": 1618902865445,
        "deepnote_cell_type": "code"
      },
      "source": "pip install scikit-plot\n",
      "outputs": [
        {
          "name": "stdout",
          "text": "Collecting scikit-plot\n  Downloading scikit_plot-0.3.7-py3-none-any.whl (33 kB)\nRequirement already satisfied: joblib>=0.10 in /shared-libs/python3.7/py/lib/python3.7/site-packages (from scikit-plot) (1.0.1)\nRequirement already satisfied: scikit-learn>=0.18 in /shared-libs/python3.7/py/lib/python3.7/site-packages (from scikit-plot) (0.24.1)\nRequirement already satisfied: matplotlib>=1.4.0 in /shared-libs/python3.7/py/lib/python3.7/site-packages (from scikit-plot) (3.4.1)\nRequirement already satisfied: scipy>=0.9 in /shared-libs/python3.7/py/lib/python3.7/site-packages (from scikit-plot) (1.6.2)\nRequirement already satisfied: cycler>=0.10 in /shared-libs/python3.7/py/lib/python3.7/site-packages (from matplotlib>=1.4.0->scikit-plot) (0.10.0)\nRequirement already satisfied: numpy>=1.16 in /shared-libs/python3.7/py/lib/python3.7/site-packages (from matplotlib>=1.4.0->scikit-plot) (1.19.5)\nRequirement already satisfied: kiwisolver>=1.0.1 in /shared-libs/python3.7/py/lib/python3.7/site-packages (from matplotlib>=1.4.0->scikit-plot) (1.3.1)\nRequirement already satisfied: pyparsing>=2.2.1 in /shared-libs/python3.7/py-core/lib/python3.7/site-packages (from matplotlib>=1.4.0->scikit-plot) (2.4.7)\nRequirement already satisfied: python-dateutil>=2.7 in /shared-libs/python3.7/py-core/lib/python3.7/site-packages (from matplotlib>=1.4.0->scikit-plot) (2.8.1)\nRequirement already satisfied: pillow>=6.2.0 in /shared-libs/python3.7/py/lib/python3.7/site-packages (from matplotlib>=1.4.0->scikit-plot) (8.2.0)\nRequirement already satisfied: six in /shared-libs/python3.7/py-core/lib/python3.7/site-packages (from cycler>=0.10->matplotlib>=1.4.0->scikit-plot) (1.15.0)\nRequirement already satisfied: threadpoolctl>=2.0.0 in /shared-libs/python3.7/py/lib/python3.7/site-packages (from scikit-learn>=0.18->scikit-plot) (2.1.0)\nInstalling collected packages: scikit-plot\nSuccessfully installed scikit-plot-0.3.7\nNote: you may need to restart the kernel to use updated packages.\n",
          "output_type": "stream"
        }
      ],
      "execution_count": null
    },
    {
      "cell_type": "code",
      "metadata": {
        "tags": [],
        "cell_id": "00059-a03cad4d-b4fc-43f4-af07-720171071343",
        "output_cleared": false,
        "source_hash": "e7241813",
        "execution_millis": 16,
        "deepnote_to_be_reexecuted": false,
        "execution_start": 1618902868849,
        "deepnote_cell_type": "code"
      },
      "source": "y_probas = np.array(classifier.predict_proba(xtest))\nprint(y_probas[::,0])",
      "outputs": [
        {
          "name": "stdout",
          "text": "[0.99921532 0.27579666 0.92868516 ... 0.99775834 0.99764989 0.99944982]\n",
          "output_type": "stream"
        }
      ],
      "execution_count": null
    },
    {
      "cell_type": "code",
      "metadata": {
        "tags": [],
        "cell_id": "00057-50d0abd9-496d-4e0e-b87c-d4a5a4e768f2",
        "output_cleared": false,
        "source_hash": "d7b91368",
        "execution_millis": 6332,
        "deepnote_to_be_reexecuted": false,
        "execution_start": 1618902868866,
        "deepnote_cell_type": "code"
      },
      "source": "pip install metrics",
      "outputs": [
        {
          "name": "stdout",
          "text": "Collecting metrics\n  Downloading metrics-0.3.3.tar.gz (18 kB)\nCollecting Pygments==2.2.0\n  Downloading Pygments-2.2.0-py2.py3-none-any.whl (841 kB)\n\u001b[K     |████████████████████████████████| 841 kB 38.8 MB/s \n\u001b[?25hCollecting pathspec==0.5.5\n  Downloading pathspec-0.5.5.tar.gz (21 kB)\nCollecting pathlib2>=2.3.0\n  Downloading pathlib2-2.3.5-py2.py3-none-any.whl (18 kB)\nRequirement already satisfied: six in /shared-libs/python3.7/py-core/lib/python3.7/site-packages (from pathlib2>=2.3.0->metrics) (1.15.0)\nBuilding wheels for collected packages: metrics, pathspec\n  Building wheel for metrics (setup.py) ... \u001b[?25ldone\n\u001b[?25h  Created wheel for metrics: filename=metrics-0.3.3-py2.py3-none-any.whl size=17814 sha256=bfe5910743231290199f417369b67e9ef4255115350ce8eb48045e81b143e717\n  Stored in directory: /root/.cache/pip/wheels/54/98/67/aa136e6754d2105b31e0f43c72a208c94d812c9e1d9f18d971\n  Building wheel for pathspec (setup.py) ... \u001b[?25ldone\n\u001b[?25h  Created wheel for pathspec: filename=pathspec-0.5.5-py3-none-any.whl size=24228 sha256=4e5edc85c1a983e62576b3add5c532a8c42e1b1865b10e770351f32458dad173\n  Stored in directory: /root/.cache/pip/wheels/09/97/ce/98234adaab0cf5b2c3a1b6610ada24e6f7ab3675fff4e0b8b2\nSuccessfully built metrics pathspec\nInstalling collected packages: Pygments, pathspec, pathlib2, metrics\n  Attempting uninstall: Pygments\n    Found existing installation: Pygments 2.8.1\n    Uninstalling Pygments-2.8.1:\n\u001b[31mERROR: Could not install packages due to an OSError: [Errno 30] Read-only file system: '/shared-libs/python3.7/py-core/bin/pygmentize'\n\u001b[0m\nNote: you may need to restart the kernel to use updated packages.\n",
          "output_type": "stream"
        }
      ],
      "execution_count": null
    },
    {
      "cell_type": "code",
      "metadata": {
        "tags": [],
        "cell_id": "00058-9d7bae2e-1a21-4ba8-9dde-d039900d4641",
        "output_cleared": false,
        "source_hash": "a3bcaf87",
        "execution_millis": 0,
        "deepnote_to_be_reexecuted": false,
        "execution_start": 1618902875205,
        "deepnote_cell_type": "code"
      },
      "source": "from sklearn.metrics import roc_auc_score\nfrom sklearn import metrics",
      "outputs": [],
      "execution_count": null
    },
    {
      "cell_type": "code",
      "metadata": {
        "tags": [],
        "cell_id": "00061-a0f6f495-e8e3-4aa9-9f6b-f91995bb74c9",
        "output_cleared": false,
        "source_hash": "5f44320c",
        "execution_millis": 410,
        "deepnote_to_be_reexecuted": false,
        "execution_start": 1618902875217,
        "deepnote_cell_type": "code"
      },
      "source": "#y_true = # ground truth labels\n#ypred_clf = # predicted probabilities generated by sklearn classifier\n\n\ny_probas_nb= np.array(classifier.predict_proba(xtest))\nfpr, tpr, thresholds = metrics.roc_curve(np.array(ytest), y_probas_nb[::,0], pos_label=0)\n\ny_probasknn = np.array(knn.predict_proba(xtest))\nfpr_knn, tpr_knn, thresholds_knn = metrics.roc_curve(np.array(ytest), y_probasknn[::,0], pos_label=0)\n\ny_pred_ann\nfpr_ann, tpr_ann, thresholds_ann = metrics.roc_curve(np.array(ytest), y_pred_ann[::,0], pos_label=0)\n\ny_proba_clf=clf.predict_proba(xtest)\nfpr_clf, tpr_clf, thresholds_clf = metrics.roc_curve(np.array(ytest), y_proba_clf[::,0], pos_label=0)\n\n#y_proba_svm=svm.predict_proba(xtest)\n#fpr_svm, tpr_svm, thresholds_svm = metrics.roc_curve(np.array(ytest), y_proba_svm[::,0], pos_label=0)\n\n\nauc_nb= metrics.roc_auc_score(ytest, y_probas[::,1])\nauc_knn = metrics.roc_auc_score(ytest, y_probasknn[::,1])\nauc_ann = metrics.roc_auc_score(ytest, y_pred_ann[::,1])\nauc_clf=  metrics.roc_auc_score(ytest, y_proba_clf[::,1])\n#auc_svm=  metrics.roc_auc_score(ytest, y_proba_svm[::,1])\n\nplt.plot(fpr,tpr,label=\"Auc Naive Bayes=\"+str(auc_nb),linewidth=5)\nplt.plot(fpr_knn,tpr_knn,label=\"Auc Knn=\"+str(auc_knn), linewidth=5)\nplt.plot(fpr_ann,tpr_ann,label=\"Auc Ann=\"+str(auc_ann), linewidth=5)\nplt.plot(fpr_clf, tpr_clf,label=\"Auc Decision tree classifier=\"+str(auc_clf), linewidth=5)\n#plt.plot(fpr_svm, tpr_svm,label=\"Auc SVM=\"+str(auc_svm), linewidth=10)\n\n\nplt.xlabel('1-Specificity(False Positive Rate)',fontsize=15)\nplt.ylabel('Sensitivity(True Positive Rate)', fontsize=15)\nplt.title('Receiver Operating Characteristic - ROC',fontsize=15)\nplt.legend(loc=\"lower right\", fontsize=10)\nplt.gcf().set_size_inches(10, 10)\nplt.xticks(fontsize = 15,rotation=50)\nplt.yticks(fontsize = 15,rotation=50)#acc_frame\nplt.show()\n",
      "outputs": [
        {
          "data": {
            "text/plain": "<Figure size 720x720 with 1 Axes>",
            "image/png": "[encoded data removed]"
          },
          "metadata": {},
          "output_type": "display_data"
        }
      ],
      "execution_count": null
    },
    {
      "cell_type": "code",
      "metadata": {
        "tags": [],
        "cell_id": "00061-ca811ced-24d2-40ab-8d19-348acda4d39c",
        "output_cleared": false,
        "source_hash": "b623e53d",
        "execution_millis": 0,
        "deepnote_to_be_reexecuted": false,
        "execution_start": 1618902875606,
        "deepnote_cell_type": "code"
      },
      "source": "",
      "outputs": [],
      "execution_count": null
    },
    {
      "cell_type": "code",
      "metadata": {
        "tags": [],
        "cell_id": "00060-42381db5-d366-4e71-8e43-18c18e237bb2",
        "output_cleared": false,
        "source_hash": "b623e53d",
        "execution_millis": 5,
        "deepnote_to_be_reexecuted": false,
        "execution_start": 1618902875607,
        "deepnote_cell_type": "code"
      },
      "source": "",
      "outputs": [],
      "execution_count": null
    },
    {
      "cell_type": "code",
      "metadata": {
        "tags": [],
        "cell_id": "00061-d5b91814-553f-4319-8b8f-0ec01850ccd0",
        "output_cleared": false,
        "source_hash": "b623e53d",
        "execution_millis": 3,
        "deepnote_to_be_reexecuted": false,
        "execution_start": 1618902875616,
        "deepnote_cell_type": "code"
      },
      "source": "",
      "outputs": [],
      "execution_count": null
    },
    {
      "cell_type": "markdown",
      "source": "<a style='text-decoration:none;line-height:16px;display:flex;color:#5B5B62;padding:10px;justify-content:end;' href='https://deepnote.com?utm_source=created-in-deepnote-cell&projectId=0dc3793f-35f9-4859-a7e1-3ba4252e3bfe' target=\"_blank\">\n<img alt='Created in deepnote.com' style='display:inline;max-height:16px;margin:0px;margin-right:7.5px;' src='data:image/svg+xml;base64,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' > </img>\nCreated in <span style='font-weight:600;margin-left:4px;'>Deepnote</span></a>",
      "metadata": {
        "tags": [],
        "created_in_deepnote_cell": true,
        "deepnote_cell_type": "markdown"
      }
    }
  ],
  "nbformat": 4,
  "nbformat_minor": 2,
  "metadata": {
    "orig_nbformat": 2,
    "deepnote_notebook_id": "421c3c0d-0e01-42f8-8e7d-7eb2e085ed57",
    "deepnote_execution_queue": [],
    "deepnote": {}
  }
}